{
 "cells": [
  {
   "cell_type": "code",
   "execution_count": 1,
   "metadata": {},
   "outputs": [],
   "source": [
    "import qnexus as qnx"
   ]
  },
  {
   "cell_type": "code",
   "execution_count": 2,
   "metadata": {},
   "outputs": [
    {
     "data": {
      "text/html": [
       "<div>\n",
       "<style scoped>\n",
       "    .dataframe tbody tr th:only-of-type {\n",
       "        vertical-align: middle;\n",
       "    }\n",
       "\n",
       "    .dataframe tbody tr th {\n",
       "        vertical-align: top;\n",
       "    }\n",
       "\n",
       "    .dataframe thead th {\n",
       "        text-align: right;\n",
       "    }\n",
       "</style>\n",
       "<table border=\"1\" class=\"dataframe\">\n",
       "  <thead>\n",
       "    <tr style=\"text-align: right;\">\n",
       "      <th></th>\n",
       "      <th>name</th>\n",
       "      <th>description</th>\n",
       "      <th>permissions</th>\n",
       "      <th>id</th>\n",
       "    </tr>\n",
       "  </thead>\n",
       "  <tbody>\n",
       "    <tr>\n",
       "      <th>0</th>\n",
       "      <td>Administrator</td>\n",
       "      <td>Can delete, create, update and view a resource...</td>\n",
       "      <td>['ASSIGN', 'DELETE', 'WRITE', 'READ']</td>\n",
       "      <td>0aac6c63-d130-49bb-ad34-f08005403cc5</td>\n",
       "    </tr>\n",
       "    <tr>\n",
       "      <th>1</th>\n",
       "      <td>Contributor</td>\n",
       "      <td>Can create, update and view a resource or reso...</td>\n",
       "      <td>['WRITE', 'READ']</td>\n",
       "      <td>5963c1c4-85cd-46c0-8d45-a74a4fd32e80</td>\n",
       "    </tr>\n",
       "    <tr>\n",
       "      <th>2</th>\n",
       "      <td>Reader</td>\n",
       "      <td>Can view a resource or resources within a proj...</td>\n",
       "      <td>['READ']</td>\n",
       "      <td>d8b48a66-37b7-4ef9-9487-34e007ed9080</td>\n",
       "    </tr>\n",
       "    <tr>\n",
       "      <th>3</th>\n",
       "      <td>Maintainer</td>\n",
       "      <td>Can delete, create, update and view a resource...</td>\n",
       "      <td>['DELETE', 'WRITE', 'READ']</td>\n",
       "      <td>983cc6c6-c4f7-4540-906e-a0aaed813cd8</td>\n",
       "    </tr>\n",
       "  </tbody>\n",
       "</table>\n",
       "</div>"
      ],
      "text/plain": [
       "            name                                        description  \\\n",
       "0  Administrator  Can delete, create, update and view a resource...   \n",
       "1    Contributor  Can create, update and view a resource or reso...   \n",
       "2         Reader  Can view a resource or resources within a proj...   \n",
       "3     Maintainer  Can delete, create, update and view a resource...   \n",
       "\n",
       "                             permissions                                    id  \n",
       "0  ['ASSIGN', 'DELETE', 'WRITE', 'READ']  0aac6c63-d130-49bb-ad34-f08005403cc5  \n",
       "1                      ['WRITE', 'READ']  5963c1c4-85cd-46c0-8d45-a74a4fd32e80  \n",
       "2                               ['READ']  d8b48a66-37b7-4ef9-9487-34e007ed9080  \n",
       "3            ['DELETE', 'WRITE', 'READ']  983cc6c6-c4f7-4540-906e-a0aaed813cd8  "
      ]
     },
     "execution_count": 2,
     "metadata": {},
     "output_type": "execute_result"
    }
   ],
   "source": [
    "# Get all roles\n",
    "\n",
    "roles = qnx.assignment.get()\n",
    "\n",
    "roles.df()"
   ]
  },
  {
   "cell_type": "code",
   "execution_count": 7,
   "metadata": {},
   "outputs": [
    {
     "data": {
      "text/html": [
       "<div>\n",
       "<style scoped>\n",
       "    .dataframe tbody tr th:only-of-type {\n",
       "        vertical-align: middle;\n",
       "    }\n",
       "\n",
       "    .dataframe tbody tr th {\n",
       "        vertical-align: top;\n",
       "    }\n",
       "\n",
       "    .dataframe thead th {\n",
       "        text-align: right;\n",
       "    }\n",
       "</style>\n",
       "<table border=\"1\" class=\"dataframe\">\n",
       "  <thead>\n",
       "    <tr style=\"text-align: right;\">\n",
       "      <th></th>\n",
       "      <th>name</th>\n",
       "      <th>description</th>\n",
       "      <th>created</th>\n",
       "      <th>modified</th>\n",
       "      <th>contents_modified</th>\n",
       "      <th>id</th>\n",
       "    </tr>\n",
       "  </thead>\n",
       "  <tbody>\n",
       "    <tr>\n",
       "      <th>0</th>\n",
       "      <td>VanyaTest</td>\n",
       "      <td></td>\n",
       "      <td>2024-01-29 13:38:27.351099+00:00</td>\n",
       "      <td>2024-01-29 13:38:27.351099+00:00</td>\n",
       "      <td>2024-05-20 14:46:51.104662+00:00</td>\n",
       "      <td>6ed750a5-de0c-4879-a771-2c1f3f746d18</td>\n",
       "    </tr>\n",
       "  </tbody>\n",
       "</table>\n",
       "</div>"
      ],
      "text/plain": [
       "        name description                          created  \\\n",
       "0  VanyaTest             2024-01-29 13:38:27.351099+00:00   \n",
       "\n",
       "                          modified                contents_modified  \\\n",
       "0 2024-01-29 13:38:27.351099+00:00 2024-05-20 14:46:51.104662+00:00   \n",
       "\n",
       "                                     id  \n",
       "0  6ed750a5-de0c-4879-a771-2c1f3f746d18  "
      ]
     },
     "execution_count": 7,
     "metadata": {},
     "output_type": "execute_result"
    }
   ],
   "source": [
    "# Fetch a project\n",
    "\n",
    "project_ref = qnx.project.get_only(name_like=\"VanyaTest\")\n",
    "\n",
    "project_ref.df()\n"
   ]
  },
  {
   "cell_type": "code",
   "execution_count": 5,
   "metadata": {},
   "outputs": [
    {
     "data": {
      "text/html": [
       "<div>\n",
       "<style scoped>\n",
       "    .dataframe tbody tr th:only-of-type {\n",
       "        vertical-align: middle;\n",
       "    }\n",
       "\n",
       "    .dataframe tbody tr th {\n",
       "        vertical-align: top;\n",
       "    }\n",
       "\n",
       "    .dataframe thead th {\n",
       "        text-align: right;\n",
       "    }\n",
       "</style>\n",
       "<table border=\"1\" class=\"dataframe\">\n",
       "  <thead>\n",
       "    <tr style=\"text-align: right;\">\n",
       "      <th></th>\n",
       "      <th>name</th>\n",
       "      <th>description</th>\n",
       "      <th>id</th>\n",
       "    </tr>\n",
       "  </thead>\n",
       "  <tbody>\n",
       "    <tr>\n",
       "      <th>0</th>\n",
       "      <td>test</td>\n",
       "      <td>Test</td>\n",
       "      <td>3e4dd432-a22b-4636-b00e-38149b22f230</td>\n",
       "    </tr>\n",
       "  </tbody>\n",
       "</table>\n",
       "</div>"
      ],
      "text/plain": [
       "   name description                                    id\n",
       "0  test        Test  3e4dd432-a22b-4636-b00e-38149b22f230"
      ]
     },
     "execution_count": 5,
     "metadata": {},
     "output_type": "execute_result"
    }
   ],
   "source": [
    "# Fetch a team\n",
    "\n",
    "team_ref = qnx.team.get_only(name=\"test\")\n",
    "\n",
    "team_ref.df()\n"
   ]
  },
  {
   "cell_type": "code",
   "execution_count": 8,
   "metadata": {},
   "outputs": [
    {
     "ename": "ResourceUpdateFailed",
     "evalue": "Failed to update resource with status code: 409, message: {'message': 'Conflict - Resource Already Exists'}",
     "output_type": "error",
     "traceback": [
      "\u001b[0;31m---------------------------------------------------------------------------\u001b[0m",
      "\u001b[0;31mResourceUpdateFailed\u001b[0m                      Traceback (most recent call last)",
      "Cell \u001b[0;32mIn[8], line 3\u001b[0m\n\u001b[1;32m      1\u001b[0m \u001b[38;5;66;03m# Assign a team as a contributor on a project\u001b[39;00m\n\u001b[0;32m----> 3\u001b[0m \u001b[43mqnx\u001b[49m\u001b[38;5;241;43m.\u001b[39;49m\u001b[43massignment\u001b[49m\u001b[38;5;241;43m.\u001b[39;49m\u001b[43massign_team_role\u001b[49m\u001b[43m(\u001b[49m\n\u001b[1;32m      4\u001b[0m \u001b[43m    \u001b[49m\u001b[43mresource_ref\u001b[49m\u001b[38;5;241;43m=\u001b[39;49m\u001b[43mproject_ref\u001b[49m\u001b[43m,\u001b[49m\n\u001b[1;32m      5\u001b[0m \u001b[43m    \u001b[49m\u001b[43mteam\u001b[49m\u001b[38;5;241;43m=\u001b[39;49m\u001b[43mteam_ref\u001b[49m\u001b[43m,\u001b[49m\n\u001b[1;32m      6\u001b[0m \u001b[43m    \u001b[49m\u001b[43mrole\u001b[49m\u001b[38;5;241;43m=\u001b[39;49m\u001b[38;5;124;43m\"\u001b[39;49m\u001b[38;5;124;43mContributor\u001b[39;49m\u001b[38;5;124;43m\"\u001b[39;49m\n\u001b[1;32m      7\u001b[0m \u001b[43m)\u001b[49m\n",
      "File \u001b[0;32m~/CQC/qnexus/qnexus/client/assignment.py:74\u001b[0m, in \u001b[0;36massign_team_role\u001b[0;34m(resource_ref, team, role)\u001b[0m\n\u001b[1;32m     68\u001b[0m res \u001b[38;5;241m=\u001b[39m nexus_client\u001b[38;5;241m.\u001b[39mpost(\n\u001b[1;32m     69\u001b[0m     \u001b[38;5;124m\"\u001b[39m\u001b[38;5;124m/api/assignments/v1beta/team\u001b[39m\u001b[38;5;124m\"\u001b[39m,\n\u001b[1;32m     70\u001b[0m     json\u001b[38;5;241m=\u001b[39mreq_dict,\n\u001b[1;32m     71\u001b[0m )\n\u001b[1;32m     73\u001b[0m \u001b[38;5;28;01mif\u001b[39;00m res\u001b[38;5;241m.\u001b[39mstatus_code \u001b[38;5;241m!=\u001b[39m \u001b[38;5;241m201\u001b[39m:\n\u001b[0;32m---> 74\u001b[0m     \u001b[38;5;28;01mraise\u001b[39;00m qnx_exc\u001b[38;5;241m.\u001b[39mResourceUpdateFailed(\n\u001b[1;32m     75\u001b[0m         message\u001b[38;5;241m=\u001b[39mres\u001b[38;5;241m.\u001b[39mjson(), status_code\u001b[38;5;241m=\u001b[39mres\u001b[38;5;241m.\u001b[39mstatus_code\n\u001b[1;32m     76\u001b[0m     )\n",
      "\u001b[0;31mResourceUpdateFailed\u001b[0m: Failed to update resource with status code: 409, message: {'message': 'Conflict - Resource Already Exists'}"
     ]
    }
   ],
   "source": [
    "# Assign a team as a contributor on a project\n",
    "\n",
    "qnx.assignment.assign_team_role(\n",
    "    resource_ref=project_ref,\n",
    "    team=team_ref,\n",
    "    role=\"Contributor\"\n",
    ")"
   ]
  },
  {
   "cell_type": "code",
   "execution_count": null,
   "metadata": {},
   "outputs": [],
   "source": [
    "qnx.assignment.assign_user_role(\n",
    "    resource_ref=project_ref,\n",
    "    user_email=\"vanya.eccles@quantinuum.com\",\n",
    "    role=\"Maintainer\"\n",
    ")"
   ]
  },
  {
   "cell_type": "markdown",
   "metadata": {},
   "source": [
    "## Checking Quotas"
   ]
  },
  {
   "cell_type": "code",
   "execution_count": 9,
   "metadata": {},
   "outputs": [],
   "source": [
    "quota_list = qnx.quota.get()"
   ]
  },
  {
   "cell_type": "code",
   "execution_count": 10,
   "metadata": {},
   "outputs": [
    {
     "name": "stderr",
     "output_type": "stream",
     "text": [
      "/Users/vanyaeccles/CQC/qnexus/qnexus/references.py:44: FutureWarning: The behavior of DataFrame concatenation with empty or all-NA entries is deprecated. In a future version, this will no longer exclude empty or all-NA columns when determining the result dtypes. To retain the old behavior, exclude the relevant entries before the concat operation.\n",
      "  return pd.concat([item.df() for item in self], ignore_index=True)\n"
     ]
    },
    {
     "data": {
      "text/html": [
       "<div>\n",
       "<style scoped>\n",
       "    .dataframe tbody tr th:only-of-type {\n",
       "        vertical-align: middle;\n",
       "    }\n",
       "\n",
       "    .dataframe tbody tr th {\n",
       "        vertical-align: top;\n",
       "    }\n",
       "\n",
       "    .dataframe thead th {\n",
       "        text-align: right;\n",
       "    }\n",
       "</style>\n",
       "<table border=\"1\" class=\"dataframe\">\n",
       "  <thead>\n",
       "    <tr style=\"text-align: right;\">\n",
       "      <th></th>\n",
       "      <th>name</th>\n",
       "      <th>description</th>\n",
       "      <th>usage</th>\n",
       "      <th>quota</th>\n",
       "    </tr>\n",
       "  </thead>\n",
       "  <tbody>\n",
       "    <tr>\n",
       "      <th>0</th>\n",
       "      <td>database_usage</td>\n",
       "      <td>Total megabytes used to store scientific data.</td>\n",
       "      <td>13.107318</td>\n",
       "      <td>1000.5</td>\n",
       "    </tr>\n",
       "    <tr>\n",
       "      <th>1</th>\n",
       "      <td>simulation</td>\n",
       "      <td>Total CPU running time, in seconds.</td>\n",
       "      <td>1248.923300</td>\n",
       "      <td>NaN</td>\n",
       "    </tr>\n",
       "    <tr>\n",
       "      <th>2</th>\n",
       "      <td>jupyterhub</td>\n",
       "      <td>Total Jupyterhub notebook server running time,...</td>\n",
       "      <td>37660.000000</td>\n",
       "      <td>NaN</td>\n",
       "    </tr>\n",
       "    <tr>\n",
       "      <th>3</th>\n",
       "      <td>compilation</td>\n",
       "      <td>Total CPU running time, in seconds.</td>\n",
       "      <td>5.002350</td>\n",
       "      <td>NaN</td>\n",
       "    </tr>\n",
       "  </tbody>\n",
       "</table>\n",
       "</div>"
      ],
      "text/plain": [
       "             name                                        description  \\\n",
       "0  database_usage     Total megabytes used to store scientific data.   \n",
       "1      simulation                Total CPU running time, in seconds.   \n",
       "2      jupyterhub  Total Jupyterhub notebook server running time,...   \n",
       "3     compilation                Total CPU running time, in seconds.   \n",
       "\n",
       "          usage   quota  \n",
       "0     13.107318  1000.5  \n",
       "1   1248.923300     NaN  \n",
       "2  37660.000000     NaN  \n",
       "3      5.002350     NaN  "
      ]
     },
     "execution_count": 10,
     "metadata": {},
     "output_type": "execute_result"
    }
   ],
   "source": [
    "quota_list.df()"
   ]
  },
  {
   "cell_type": "markdown",
   "metadata": {},
   "source": []
  },
  {
   "cell_type": "code",
   "execution_count": 11,
   "metadata": {},
   "outputs": [
    {
     "data": {
      "text/plain": [
       "True"
      ]
     },
     "execution_count": 11,
     "metadata": {},
     "output_type": "execute_result"
    }
   ],
   "source": [
    "qnx.quota.check_quota(\"compilation\")"
   ]
  },
  {
   "cell_type": "code",
   "execution_count": null,
   "metadata": {},
   "outputs": [],
   "source": []
  }
 ],
 "metadata": {
  "kernelspec": {
   "display_name": "qnexus-Rou6F43i-py3.11",
   "language": "python",
   "name": "python3"
  },
  "language_info": {
   "codemirror_mode": {
    "name": "ipython",
    "version": 3
   },
   "file_extension": ".py",
   "mimetype": "text/x-python",
   "name": "python",
   "nbconvert_exporter": "python",
   "pygments_lexer": "ipython3",
   "version": "3.11.6"
  }
 },
 "nbformat": 4,
 "nbformat_minor": 2
}
