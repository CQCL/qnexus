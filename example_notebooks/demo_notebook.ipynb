{
 "cells": [
  {
   "cell_type": "code",
   "execution_count": 1,
   "metadata": {},
   "outputs": [],
   "source": [
    "from datetime import datetime\n",
    "\n",
    "from pytket import Circuit\n",
    "\n",
    "import qnexus as qnx\n",
    "\n",
    "from qnexus import AerConfig\n"
   ]
  },
  {
   "cell_type": "code",
   "execution_count": 7,
   "metadata": {},
   "outputs": [
    {
     "name": "stdout",
     "output_type": "stream",
     "text": [
      "🌐 Browser login initiated.\n"
     ]
    },
    {
     "data": {
      "text/html": [
       "<pre style=\"white-space:pre;overflow-x:auto;line-height:normal;font-family:Menlo,'DejaVu Sans Mono',consolas,'Courier New',monospace\">╭────────────────────────────────────────────────────────────────────────────────────────╮\n",
       "│                                                                                        │\n",
       "│         Confirm that the browser shows the following code and click 'allow device':    │\n",
       "│                                                                                        │\n",
       "│                                      s6Jkov                                            │\n",
       "│                                                                                        │\n",
       "╰────────────────────────────────────────────────────────────────────────────────────────╯\n",
       "</pre>\n"
      ],
      "text/plain": [
       "╭────────────────────────────────────────────────────────────────────────────────────────╮\n",
       "│                                                                                        │\n",
       "│         Confirm that the browser shows the following code and click 'allow device':    │\n",
       "│                                                                                        │\n",
       "│                                      s6Jkov                                            │\n",
       "│                                                                                        │\n",
       "╰────────────────────────────────────────────────────────────────────────────────────────╯\n"
      ]
     },
     "metadata": {},
     "output_type": "display_data"
    },
    {
     "name": "stdout",
     "output_type": "stream",
     "text": [
      "Browser didn't open automatically? Use this link: \u001b[34mhttps://staging.myqos.com/auth/device/browser?otp=s6JkovMgHYCuYeFOF-sq7BwLpDfsSJxI1xdusxR8tqhjwwXd_fFbsFN85NADCXVCjimZlfthvH70fY11u5wxXQ\n",
      "✅ Successfully logged in as vanya.eccles@quantinuum.com using the browser.\n"
     ]
    }
   ],
   "source": [
    "qnx.auth.login()"
   ]
  },
  {
   "cell_type": "code",
   "execution_count": 2,
   "metadata": {},
   "outputs": [],
   "source": [
    "first_project = qnx.project.get_only(id=\"6ed750a5-de0c-4879-a771-2c1f3f746d18\")\n",
    "\n",
    "second_project = qnx.project.get_only(id=\"ee9464fc-8e50-4394-8c05-d05d8974a464\")"
   ]
  },
  {
   "cell_type": "code",
   "execution_count": 9,
   "metadata": {},
   "outputs": [],
   "source": [
    "c = Circuit(2,2).H(0).CX(0,1).measure_all()\n",
    "\n",
    "\n",
    "my_c = qnx.circuit.upload(circuit=c, project=first_project, name=\"My super special circuit\")"
   ]
  },
  {
   "cell_type": "code",
   "execution_count": 10,
   "metadata": {},
   "outputs": [],
   "source": [
    "with qnx.context.using_project(second_project):\n",
    "    compile_job  = qnx.compile(\n",
    "        name=\"my_compile_job\",\n",
    "        circuits=[my_c],\n",
    "        target=AerConfig(),\n",
    "        optimisation_level=1\n",
    "    )"
   ]
  },
  {
   "cell_type": "code",
   "execution_count": 11,
   "metadata": {},
   "outputs": [
    {
     "ename": "TimeoutError",
     "evalue": "",
     "output_type": "error",
     "traceback": [
      "\u001b[0;31m---------------------------------------------------------------------------\u001b[0m",
      "\u001b[0;31mCancelledError\u001b[0m                            Traceback (most recent call last)",
      "File \u001b[0;32m/nix/store/z0nnwdh4p692yvf3qgwgj3bn78w99q6y-python3-3.11.6/lib/python3.11/asyncio/tasks.py:500\u001b[0m, in \u001b[0;36mwait_for\u001b[0;34m(fut, timeout)\u001b[0m\n\u001b[1;32m    499\u001b[0m \u001b[38;5;28;01mtry\u001b[39;00m:\n\u001b[0;32m--> 500\u001b[0m     \u001b[38;5;28;01mreturn\u001b[39;00m \u001b[43mfut\u001b[49m\u001b[38;5;241;43m.\u001b[39;49m\u001b[43mresult\u001b[49m\u001b[43m(\u001b[49m\u001b[43m)\u001b[49m\n\u001b[1;32m    501\u001b[0m \u001b[38;5;28;01mexcept\u001b[39;00m exceptions\u001b[38;5;241m.\u001b[39mCancelledError \u001b[38;5;28;01mas\u001b[39;00m exc:\n",
      "File \u001b[0;32m/nix/store/z0nnwdh4p692yvf3qgwgj3bn78w99q6y-python3-3.11.6/lib/python3.11/asyncio/futures.py:198\u001b[0m, in \u001b[0;36mFuture.result\u001b[0;34m(self)\u001b[0m\n\u001b[1;32m    197\u001b[0m     exc \u001b[38;5;241m=\u001b[39m \u001b[38;5;28mself\u001b[39m\u001b[38;5;241m.\u001b[39m_make_cancelled_error()\n\u001b[0;32m--> 198\u001b[0m     \u001b[38;5;28;01mraise\u001b[39;00m exc\n\u001b[1;32m    199\u001b[0m \u001b[38;5;28;01mif\u001b[39;00m \u001b[38;5;28mself\u001b[39m\u001b[38;5;241m.\u001b[39m_state \u001b[38;5;241m!=\u001b[39m _FINISHED:\n",
      "File \u001b[0;32m/nix/store/z0nnwdh4p692yvf3qgwgj3bn78w99q6y-python3-3.11.6/lib/python3.11/asyncio/tasks.py:277\u001b[0m, in \u001b[0;36mTask.__step\u001b[0;34m(***failed resolving arguments***)\u001b[0m\n\u001b[1;32m    274\u001b[0m \u001b[38;5;28;01mif\u001b[39;00m exc \u001b[38;5;129;01mis\u001b[39;00m \u001b[38;5;28;01mNone\u001b[39;00m:\n\u001b[1;32m    275\u001b[0m     \u001b[38;5;66;03m# We use the `send` method directly, because coroutines\u001b[39;00m\n\u001b[1;32m    276\u001b[0m     \u001b[38;5;66;03m# don't have `__iter__` and `__next__` methods.\u001b[39;00m\n\u001b[0;32m--> 277\u001b[0m     result \u001b[38;5;241m=\u001b[39m coro\u001b[38;5;241m.\u001b[39msend(\u001b[38;5;28;01mNone\u001b[39;00m)\n\u001b[1;32m    278\u001b[0m \u001b[38;5;28;01melse\u001b[39;00m:\n",
      "File \u001b[0;32m~/CQC/qnexus/qnexus/client/job/__init__.py:223\u001b[0m, in \u001b[0;36mlisten_job_status\u001b[0;34m(job, wait_for_status)\u001b[0m\n\u001b[1;32m    222\u001b[0m \u001b[38;5;28;01mtry\u001b[39;00m:\n\u001b[0;32m--> 223\u001b[0m     \u001b[38;5;28;01masync\u001b[39;00m \u001b[38;5;28;01mfor\u001b[39;00m status_json \u001b[38;5;129;01min\u001b[39;00m websocket:\n\u001b[1;32m    224\u001b[0m         \u001b[38;5;66;03m# logger.debug(\"New status: %s\", status_json)\u001b[39;00m\n\u001b[1;32m    225\u001b[0m         job_status \u001b[38;5;241m=\u001b[39m JobStatus\u001b[38;5;241m.\u001b[39mfrom_dict(json\u001b[38;5;241m.\u001b[39mloads(status_json))\n",
      "File \u001b[0;32m~/Library/Caches/pypoetry/virtualenvs/qnexus-Rou6F43i-py3.11/lib/python3.11/site-packages/websockets/legacy/protocol.py:498\u001b[0m, in \u001b[0;36mWebSocketCommonProtocol.__aiter__\u001b[0;34m(self)\u001b[0m\n\u001b[1;32m    497\u001b[0m     \u001b[38;5;28;01mwhile\u001b[39;00m \u001b[38;5;28;01mTrue\u001b[39;00m:\n\u001b[0;32m--> 498\u001b[0m         \u001b[38;5;28;01myield\u001b[39;00m \u001b[38;5;28;01mawait\u001b[39;00m \u001b[38;5;28mself\u001b[39m\u001b[38;5;241m.\u001b[39mrecv()\n\u001b[1;32m    499\u001b[0m \u001b[38;5;28;01mexcept\u001b[39;00m ConnectionClosedOK:\n",
      "File \u001b[0;32m~/Library/Caches/pypoetry/virtualenvs/qnexus-Rou6F43i-py3.11/lib/python3.11/site-packages/websockets/legacy/protocol.py:552\u001b[0m, in \u001b[0;36mWebSocketCommonProtocol.recv\u001b[0;34m(self)\u001b[0m\n\u001b[1;32m    549\u001b[0m \u001b[38;5;28;01mtry\u001b[39;00m:\n\u001b[1;32m    550\u001b[0m     \u001b[38;5;66;03m# If asyncio.wait() is canceled, it doesn't cancel\u001b[39;00m\n\u001b[1;32m    551\u001b[0m     \u001b[38;5;66;03m# pop_message_waiter and self.transfer_data_task.\u001b[39;00m\n\u001b[0;32m--> 552\u001b[0m     \u001b[38;5;28;01mawait\u001b[39;00m asyncio\u001b[38;5;241m.\u001b[39mwait(\n\u001b[1;32m    553\u001b[0m         [pop_message_waiter, \u001b[38;5;28mself\u001b[39m\u001b[38;5;241m.\u001b[39mtransfer_data_task],\n\u001b[1;32m    554\u001b[0m         return_when\u001b[38;5;241m=\u001b[39masyncio\u001b[38;5;241m.\u001b[39mFIRST_COMPLETED,\n\u001b[1;32m    555\u001b[0m     )\n\u001b[1;32m    556\u001b[0m \u001b[38;5;28;01mfinally\u001b[39;00m:\n",
      "File \u001b[0;32m/nix/store/z0nnwdh4p692yvf3qgwgj3bn78w99q6y-python3-3.11.6/lib/python3.11/asyncio/tasks.py:428\u001b[0m, in \u001b[0;36mwait\u001b[0;34m(fs, timeout, return_when)\u001b[0m\n\u001b[1;32m    427\u001b[0m loop \u001b[38;5;241m=\u001b[39m events\u001b[38;5;241m.\u001b[39mget_running_loop()\n\u001b[0;32m--> 428\u001b[0m \u001b[38;5;28;01mreturn\u001b[39;00m \u001b[38;5;28;01mawait\u001b[39;00m _wait(fs, timeout, return_when, loop)\n",
      "File \u001b[0;32m/nix/store/z0nnwdh4p692yvf3qgwgj3bn78w99q6y-python3-3.11.6/lib/python3.11/asyncio/tasks.py:535\u001b[0m, in \u001b[0;36m_wait\u001b[0;34m(fs, timeout, return_when, loop)\u001b[0m\n\u001b[1;32m    534\u001b[0m \u001b[38;5;28;01mtry\u001b[39;00m:\n\u001b[0;32m--> 535\u001b[0m     \u001b[38;5;28;01mawait\u001b[39;00m waiter\n\u001b[1;32m    536\u001b[0m \u001b[38;5;28;01mfinally\u001b[39;00m:\n",
      "File \u001b[0;32m/nix/store/z0nnwdh4p692yvf3qgwgj3bn78w99q6y-python3-3.11.6/lib/python3.11/asyncio/futures.py:287\u001b[0m, in \u001b[0;36mFuture.__await__\u001b[0;34m(self)\u001b[0m\n\u001b[1;32m    286\u001b[0m     \u001b[38;5;28mself\u001b[39m\u001b[38;5;241m.\u001b[39m_asyncio_future_blocking \u001b[38;5;241m=\u001b[39m \u001b[38;5;28;01mTrue\u001b[39;00m\n\u001b[0;32m--> 287\u001b[0m     \u001b[38;5;28;01myield\u001b[39;00m \u001b[38;5;28mself\u001b[39m  \u001b[38;5;66;03m# This tells Task to wait for completion.\u001b[39;00m\n\u001b[1;32m    288\u001b[0m \u001b[38;5;28;01mif\u001b[39;00m \u001b[38;5;129;01mnot\u001b[39;00m \u001b[38;5;28mself\u001b[39m\u001b[38;5;241m.\u001b[39mdone():\n",
      "File \u001b[0;32m/nix/store/z0nnwdh4p692yvf3qgwgj3bn78w99q6y-python3-3.11.6/lib/python3.11/asyncio/tasks.py:349\u001b[0m, in \u001b[0;36mTask.__wakeup\u001b[0;34m(self, future)\u001b[0m\n\u001b[1;32m    348\u001b[0m \u001b[38;5;28;01mtry\u001b[39;00m:\n\u001b[0;32m--> 349\u001b[0m     \u001b[43mfuture\u001b[49m\u001b[38;5;241;43m.\u001b[39;49m\u001b[43mresult\u001b[49m\u001b[43m(\u001b[49m\u001b[43m)\u001b[49m\n\u001b[1;32m    350\u001b[0m \u001b[38;5;28;01mexcept\u001b[39;00m \u001b[38;5;167;01mBaseException\u001b[39;00m \u001b[38;5;28;01mas\u001b[39;00m exc:\n\u001b[1;32m    351\u001b[0m     \u001b[38;5;66;03m# This may also be a cancellation.\u001b[39;00m\n",
      "File \u001b[0;32m/nix/store/z0nnwdh4p692yvf3qgwgj3bn78w99q6y-python3-3.11.6/lib/python3.11/asyncio/futures.py:198\u001b[0m, in \u001b[0;36mFuture.result\u001b[0;34m(self)\u001b[0m\n\u001b[1;32m    197\u001b[0m     exc \u001b[38;5;241m=\u001b[39m \u001b[38;5;28mself\u001b[39m\u001b[38;5;241m.\u001b[39m_make_cancelled_error()\n\u001b[0;32m--> 198\u001b[0m     \u001b[38;5;28;01mraise\u001b[39;00m exc\n\u001b[1;32m    199\u001b[0m \u001b[38;5;28;01mif\u001b[39;00m \u001b[38;5;28mself\u001b[39m\u001b[38;5;241m.\u001b[39m_state \u001b[38;5;241m!=\u001b[39m _FINISHED:\n",
      "\u001b[0;31mCancelledError\u001b[0m: ",
      "\nThe above exception was the direct cause of the following exception:\n",
      "\u001b[0;31mTimeoutError\u001b[0m                              Traceback (most recent call last)",
      "Cell \u001b[0;32mIn[11], line 1\u001b[0m\n\u001b[0;32m----> 1\u001b[0m \u001b[43mqnx\u001b[49m\u001b[38;5;241;43m.\u001b[39;49m\u001b[43mjob\u001b[49m\u001b[38;5;241;43m.\u001b[39;49m\u001b[43mwait_for\u001b[49m\u001b[43m(\u001b[49m\u001b[43mcompile_job\u001b[49m\u001b[43m)\u001b[49m\n",
      "File \u001b[0;32m~/CQC/qnexus/qnexus/client/job/__init__.py:170\u001b[0m, in \u001b[0;36mwait_for\u001b[0;34m(job, wait_for_status, timeout)\u001b[0m\n\u001b[1;32m    164\u001b[0m \u001b[38;5;28;01mdef\u001b[39;00m \u001b[38;5;21mwait_for\u001b[39m(\n\u001b[1;32m    165\u001b[0m     job: JobRef,\n\u001b[1;32m    166\u001b[0m     wait_for_status: StatusEnum \u001b[38;5;241m=\u001b[39m StatusEnum\u001b[38;5;241m.\u001b[39mCOMPLETED,\n\u001b[1;32m    167\u001b[0m     timeout: \u001b[38;5;28mfloat\u001b[39m \u001b[38;5;241m|\u001b[39m \u001b[38;5;28;01mNone\u001b[39;00m \u001b[38;5;241m=\u001b[39m \u001b[38;5;241m300.0\u001b[39m,\n\u001b[1;32m    168\u001b[0m ) \u001b[38;5;241m-\u001b[39m\u001b[38;5;241m>\u001b[39m JobStatus:\n\u001b[1;32m    169\u001b[0m \u001b[38;5;250m    \u001b[39m\u001b[38;5;124;03m\"\"\"Check job status until the job is complete (or a specified status).\"\"\"\u001b[39;00m\n\u001b[0;32m--> 170\u001b[0m     job_status \u001b[38;5;241m=\u001b[39m \u001b[43masyncio\u001b[49m\u001b[38;5;241;43m.\u001b[39;49m\u001b[43mrun\u001b[49m\u001b[43m(\u001b[49m\n\u001b[1;32m    171\u001b[0m \u001b[43m        \u001b[49m\u001b[43masyncio\u001b[49m\u001b[38;5;241;43m.\u001b[39;49m\u001b[43mwait_for\u001b[49m\u001b[43m(\u001b[49m\n\u001b[1;32m    172\u001b[0m \u001b[43m            \u001b[49m\u001b[43mlisten_job_status\u001b[49m\u001b[43m(\u001b[49m\u001b[43mjob\u001b[49m\u001b[38;5;241;43m=\u001b[39;49m\u001b[43mjob\u001b[49m\u001b[43m,\u001b[49m\u001b[43m \u001b[49m\u001b[43mwait_for_status\u001b[49m\u001b[38;5;241;43m=\u001b[39;49m\u001b[43mwait_for_status\u001b[49m\u001b[43m)\u001b[49m\u001b[43m,\u001b[49m\n\u001b[1;32m    173\u001b[0m \u001b[43m            \u001b[49m\u001b[43mtimeout\u001b[49m\u001b[38;5;241;43m=\u001b[39;49m\u001b[43mtimeout\u001b[49m\u001b[43m,\u001b[49m\n\u001b[1;32m    174\u001b[0m \u001b[43m        \u001b[49m\u001b[43m)\u001b[49m\n\u001b[1;32m    175\u001b[0m \u001b[43m    \u001b[49m\u001b[43m)\u001b[49m\n\u001b[1;32m    177\u001b[0m     \u001b[38;5;28;01mif\u001b[39;00m job_status\u001b[38;5;241m.\u001b[39mstatus \u001b[38;5;241m==\u001b[39m StatusEnum\u001b[38;5;241m.\u001b[39mERROR:\n\u001b[1;32m    178\u001b[0m         \u001b[38;5;28;01mraise\u001b[39;00m qnx_exc\u001b[38;5;241m.\u001b[39mJobError(\u001b[38;5;124mf\u001b[39m\u001b[38;5;124m\"\u001b[39m\u001b[38;5;124mJob errored with detail: \u001b[39m\u001b[38;5;132;01m{\u001b[39;00mjob_status\u001b[38;5;241m.\u001b[39merror_detail\u001b[38;5;132;01m}\u001b[39;00m\u001b[38;5;124m\"\u001b[39m)\n",
      "File \u001b[0;32m~/Library/Caches/pypoetry/virtualenvs/qnexus-Rou6F43i-py3.11/lib/python3.11/site-packages/nest_asyncio.py:30\u001b[0m, in \u001b[0;36m_patch_asyncio.<locals>.run\u001b[0;34m(main, debug)\u001b[0m\n\u001b[1;32m     28\u001b[0m task \u001b[38;5;241m=\u001b[39m asyncio\u001b[38;5;241m.\u001b[39mensure_future(main)\n\u001b[1;32m     29\u001b[0m \u001b[38;5;28;01mtry\u001b[39;00m:\n\u001b[0;32m---> 30\u001b[0m     \u001b[38;5;28;01mreturn\u001b[39;00m \u001b[43mloop\u001b[49m\u001b[38;5;241;43m.\u001b[39;49m\u001b[43mrun_until_complete\u001b[49m\u001b[43m(\u001b[49m\u001b[43mtask\u001b[49m\u001b[43m)\u001b[49m\n\u001b[1;32m     31\u001b[0m \u001b[38;5;28;01mfinally\u001b[39;00m:\n\u001b[1;32m     32\u001b[0m     \u001b[38;5;28;01mif\u001b[39;00m \u001b[38;5;129;01mnot\u001b[39;00m task\u001b[38;5;241m.\u001b[39mdone():\n",
      "File \u001b[0;32m~/Library/Caches/pypoetry/virtualenvs/qnexus-Rou6F43i-py3.11/lib/python3.11/site-packages/nest_asyncio.py:98\u001b[0m, in \u001b[0;36m_patch_loop.<locals>.run_until_complete\u001b[0;34m(self, future)\u001b[0m\n\u001b[1;32m     95\u001b[0m \u001b[38;5;28;01mif\u001b[39;00m \u001b[38;5;129;01mnot\u001b[39;00m f\u001b[38;5;241m.\u001b[39mdone():\n\u001b[1;32m     96\u001b[0m     \u001b[38;5;28;01mraise\u001b[39;00m \u001b[38;5;167;01mRuntimeError\u001b[39;00m(\n\u001b[1;32m     97\u001b[0m         \u001b[38;5;124m'\u001b[39m\u001b[38;5;124mEvent loop stopped before Future completed.\u001b[39m\u001b[38;5;124m'\u001b[39m)\n\u001b[0;32m---> 98\u001b[0m \u001b[38;5;28;01mreturn\u001b[39;00m \u001b[43mf\u001b[49m\u001b[38;5;241;43m.\u001b[39;49m\u001b[43mresult\u001b[49m\u001b[43m(\u001b[49m\u001b[43m)\u001b[49m\n",
      "File \u001b[0;32m/nix/store/z0nnwdh4p692yvf3qgwgj3bn78w99q6y-python3-3.11.6/lib/python3.11/asyncio/futures.py:203\u001b[0m, in \u001b[0;36mFuture.result\u001b[0;34m(self)\u001b[0m\n\u001b[1;32m    201\u001b[0m \u001b[38;5;28mself\u001b[39m\u001b[38;5;241m.\u001b[39m__log_traceback \u001b[38;5;241m=\u001b[39m \u001b[38;5;28;01mFalse\u001b[39;00m\n\u001b[1;32m    202\u001b[0m \u001b[38;5;28;01mif\u001b[39;00m \u001b[38;5;28mself\u001b[39m\u001b[38;5;241m.\u001b[39m_exception \u001b[38;5;129;01mis\u001b[39;00m \u001b[38;5;129;01mnot\u001b[39;00m \u001b[38;5;28;01mNone\u001b[39;00m:\n\u001b[0;32m--> 203\u001b[0m     \u001b[38;5;28;01mraise\u001b[39;00m \u001b[38;5;28mself\u001b[39m\u001b[38;5;241m.\u001b[39m_exception\u001b[38;5;241m.\u001b[39mwith_traceback(\u001b[38;5;28mself\u001b[39m\u001b[38;5;241m.\u001b[39m_exception_tb)\n\u001b[1;32m    204\u001b[0m \u001b[38;5;28;01mreturn\u001b[39;00m \u001b[38;5;28mself\u001b[39m\u001b[38;5;241m.\u001b[39m_result\n",
      "File \u001b[0;32m/nix/store/z0nnwdh4p692yvf3qgwgj3bn78w99q6y-python3-3.11.6/lib/python3.11/asyncio/tasks.py:277\u001b[0m, in \u001b[0;36mTask.__step\u001b[0;34m(***failed resolving arguments***)\u001b[0m\n\u001b[1;32m    273\u001b[0m \u001b[38;5;28;01mtry\u001b[39;00m:\n\u001b[1;32m    274\u001b[0m     \u001b[38;5;28;01mif\u001b[39;00m exc \u001b[38;5;129;01mis\u001b[39;00m \u001b[38;5;28;01mNone\u001b[39;00m:\n\u001b[1;32m    275\u001b[0m         \u001b[38;5;66;03m# We use the `send` method directly, because coroutines\u001b[39;00m\n\u001b[1;32m    276\u001b[0m         \u001b[38;5;66;03m# don't have `__iter__` and `__next__` methods.\u001b[39;00m\n\u001b[0;32m--> 277\u001b[0m         result \u001b[38;5;241m=\u001b[39m coro\u001b[38;5;241m.\u001b[39msend(\u001b[38;5;28;01mNone\u001b[39;00m)\n\u001b[1;32m    278\u001b[0m     \u001b[38;5;28;01melse\u001b[39;00m:\n\u001b[1;32m    279\u001b[0m         result \u001b[38;5;241m=\u001b[39m coro\u001b[38;5;241m.\u001b[39mthrow(exc)\n",
      "File \u001b[0;32m/nix/store/z0nnwdh4p692yvf3qgwgj3bn78w99q6y-python3-3.11.6/lib/python3.11/asyncio/tasks.py:502\u001b[0m, in \u001b[0;36mwait_for\u001b[0;34m(fut, timeout)\u001b[0m\n\u001b[1;32m    500\u001b[0m             \u001b[38;5;28;01mreturn\u001b[39;00m fut\u001b[38;5;241m.\u001b[39mresult()\n\u001b[1;32m    501\u001b[0m         \u001b[38;5;28;01mexcept\u001b[39;00m exceptions\u001b[38;5;241m.\u001b[39mCancelledError \u001b[38;5;28;01mas\u001b[39;00m exc:\n\u001b[0;32m--> 502\u001b[0m             \u001b[38;5;28;01mraise\u001b[39;00m exceptions\u001b[38;5;241m.\u001b[39mTimeoutError() \u001b[38;5;28;01mfrom\u001b[39;00m \u001b[38;5;21;01mexc\u001b[39;00m\n\u001b[1;32m    503\u001b[0m \u001b[38;5;28;01mfinally\u001b[39;00m:\n\u001b[1;32m    504\u001b[0m     timeout_handle\u001b[38;5;241m.\u001b[39mcancel()\n",
      "\u001b[0;31mTimeoutError\u001b[0m: "
     ]
    }
   ],
   "source": [
    "qnx.job.wait_for(compile_job)"
   ]
  },
  {
   "cell_type": "code",
   "execution_count": null,
   "metadata": {},
   "outputs": [],
   "source": []
  },
  {
   "cell_type": "code",
   "execution_count": null,
   "metadata": {},
   "outputs": [],
   "source": []
  },
  {
   "cell_type": "code",
   "execution_count": 2,
   "metadata": {},
   "outputs": [],
   "source": [
    "proj_ref = qnx.project.get_only(name=\"VanyaTest\")"
   ]
  },
  {
   "cell_type": "code",
   "execution_count": 3,
   "metadata": {},
   "outputs": [],
   "source": [
    "circ_iterator= qnx.circuit.get(name=\"Aer\", project_ref=proj_ref)"
   ]
  },
  {
   "cell_type": "code",
   "execution_count": 4,
   "metadata": {},
   "outputs": [
    {
     "data": {
      "text/html": [
       "<div>\n",
       "<style scoped>\n",
       "    .dataframe tbody tr th:only-of-type {\n",
       "        vertical-align: middle;\n",
       "    }\n",
       "\n",
       "    .dataframe tbody tr th {\n",
       "        vertical-align: top;\n",
       "    }\n",
       "\n",
       "    .dataframe thead th {\n",
       "        text-align: right;\n",
       "    }\n",
       "</style>\n",
       "<table border=\"1\" class=\"dataframe\">\n",
       "  <thead>\n",
       "    <tr style=\"text-align: right;\">\n",
       "      <th></th>\n",
       "      <th>name</th>\n",
       "      <th>description</th>\n",
       "      <th>project</th>\n",
       "      <th>id</th>\n",
       "    </tr>\n",
       "  </thead>\n",
       "  <tbody>\n",
       "    <tr>\n",
       "      <th>0</th>\n",
       "      <td>3-qubit Circuit-AerBackend-final</td>\n",
       "      <td>None</td>\n",
       "      <td>VanyaTest</td>\n",
       "      <td>cda8a6e8-b758-4337-b5ff-46b4c7c70e81</td>\n",
       "    </tr>\n",
       "    <tr>\n",
       "      <th>1</th>\n",
       "      <td>3-qubit Circuit-AerBackend-final</td>\n",
       "      <td>None</td>\n",
       "      <td>VanyaTest</td>\n",
       "      <td>82380d42-13b3-4aca-a2bb-821d0dd47aa3</td>\n",
       "    </tr>\n",
       "    <tr>\n",
       "      <th>2</th>\n",
       "      <td>3-qubit Circuit-AerBackend-final</td>\n",
       "      <td>None</td>\n",
       "      <td>VanyaTest</td>\n",
       "      <td>29144ea2-b121-46a3-8dde-31d54c25163f</td>\n",
       "    </tr>\n",
       "    <tr>\n",
       "      <th>3</th>\n",
       "      <td>3-qubit Circuit-AerBackend-final</td>\n",
       "      <td>None</td>\n",
       "      <td>VanyaTest</td>\n",
       "      <td>3b2defe7-13d4-4110-b9e7-12ed0cd077df</td>\n",
       "    </tr>\n",
       "    <tr>\n",
       "      <th>4</th>\n",
       "      <td>3-qubit Circuit-AerBackend-final</td>\n",
       "      <td>None</td>\n",
       "      <td>VanyaTest</td>\n",
       "      <td>9612d4f6-d803-412b-aa86-c7bfaa0b192b</td>\n",
       "    </tr>\n",
       "    <tr>\n",
       "      <th>5</th>\n",
       "      <td>1-qubit Circuit-AerBackend-final</td>\n",
       "      <td>None</td>\n",
       "      <td>VanyaTest</td>\n",
       "      <td>e0067b51-94c3-4997-8ab3-3149223701e6</td>\n",
       "    </tr>\n",
       "  </tbody>\n",
       "</table>\n",
       "</div>"
      ],
      "text/plain": [
       "                               name description    project  \\\n",
       "0  3-qubit Circuit-AerBackend-final        None  VanyaTest   \n",
       "1  3-qubit Circuit-AerBackend-final        None  VanyaTest   \n",
       "2  3-qubit Circuit-AerBackend-final        None  VanyaTest   \n",
       "3  3-qubit Circuit-AerBackend-final        None  VanyaTest   \n",
       "4  3-qubit Circuit-AerBackend-final        None  VanyaTest   \n",
       "5  1-qubit Circuit-AerBackend-final        None  VanyaTest   \n",
       "\n",
       "                                     id  \n",
       "0  cda8a6e8-b758-4337-b5ff-46b4c7c70e81  \n",
       "1  82380d42-13b3-4aca-a2bb-821d0dd47aa3  \n",
       "2  29144ea2-b121-46a3-8dde-31d54c25163f  \n",
       "3  3b2defe7-13d4-4110-b9e7-12ed0cd077df  \n",
       "4  9612d4f6-d803-412b-aa86-c7bfaa0b192b  \n",
       "5  e0067b51-94c3-4997-8ab3-3149223701e6  "
      ]
     },
     "execution_count": 4,
     "metadata": {},
     "output_type": "execute_result"
    }
   ],
   "source": [
    "circ_iterator.list().summarize()"
   ]
  },
  {
   "cell_type": "code",
   "execution_count": 5,
   "metadata": {},
   "outputs": [],
   "source": [
    "my_circuit = circ_iterator.list()[0]"
   ]
  },
  {
   "cell_type": "code",
   "execution_count": 12,
   "metadata": {},
   "outputs": [
    {
     "data": {
      "text/plain": [
       "[TK1(0.5, 0.5, 0.5) q[0]; TK1(0, 0, 1) q[2]; CX q[0], q[1]; Measure q[0] --> c[0]; TK1(0.5, 0.5, 0.5) q[1]; CX q[2], q[1]; Measure q[2] --> c[2]; TK1(0.5, 0.5, 0.5) q[1]; Measure q[1] --> c[1]; ]"
      ]
     },
     "execution_count": 12,
     "metadata": {},
     "output_type": "execute_result"
    }
   ],
   "source": [
    "my_circuit._circuit"
   ]
  },
  {
   "cell_type": "code",
   "execution_count": 10,
   "metadata": {},
   "outputs": [
    {
     "data": {
      "text/plain": [
       "[TK1(0.5, 0.5, 0.5) q[0]; TK1(0, 0, 1) q[2]; CX q[0], q[1]; Measure q[0] --> c[0]; TK1(0.5, 0.5, 0.5) q[1]; H q[0]; CX q[2], q[1]; Measure q[2] --> c[2]; TK1(0.5, 0.5, 0.5) q[1]; Measure q[1] --> c[1]; ]"
      ]
     },
     "execution_count": 10,
     "metadata": {},
     "output_type": "execute_result"
    }
   ],
   "source": [
    "my_c = my_circuit.get_circuit()\n",
    "\n",
    "my_c.H(0)"
   ]
  },
  {
   "cell_type": "code",
   "execution_count": 5,
   "metadata": {},
   "outputs": [],
   "source": [
    "c = Circuit(2,2).H(0).CX(0,1).measure_all()"
   ]
  },
  {
   "cell_type": "code",
   "execution_count": 6,
   "metadata": {},
   "outputs": [
    {
     "ename": "ResourceCreateFailed",
     "evalue": "Failed to create resource with status code: 422, message: {'detail': [{'type': 'missing', 'loc': ['body', 'data', 'attributes', 'name'], 'msg': 'Field required', 'input': {'bits': [['c', [0]], ['c', [1]]], 'commands': [{'args': [['q', [0]]], 'op': {'type': 'H'}}, {'args': [['q', [0]], ['q', [1]]], 'op': {'type': 'CX'}}, {'args': [['q', [0]], ['c', [0]]], 'op': {'type': 'Measure'}}, {'args': [['q', [1]], ['c', [1]]], 'op': {'type': 'Measure'}}], 'created_qubits': [], 'discarded_qubits': [], 'implicit_permutation': [[['q', [0]], ['q', [0]]], [['q', [1]], ['q', [1]]]], 'phase': '0.0', 'qubits': [['q', [0]], ['q', [1]]], 'properties': {}}, 'url': 'https://errors.pydantic.dev/2.5/v/missing'}]}",
     "output_type": "error",
     "traceback": [
      "\u001b[0;31m---------------------------------------------------------------------------\u001b[0m",
      "\u001b[0;31mResourceCreateFailed\u001b[0m                      Traceback (most recent call last)",
      "Cell \u001b[0;32mIn[6], line 1\u001b[0m\n\u001b[0;32m----> 1\u001b[0m my_circuit_ref \u001b[38;5;241m=\u001b[39m \u001b[43mqnx\u001b[49m\u001b[38;5;241;43m.\u001b[39;49m\u001b[43mcircuits\u001b[49m\u001b[38;5;241;43m.\u001b[39;49m\u001b[43mcreate\u001b[49m\u001b[43m(\u001b[49m\n\u001b[1;32m      2\u001b[0m \u001b[43m    \u001b[49m\u001b[43mcircuit\u001b[49m\u001b[38;5;241;43m=\u001b[39;49m\u001b[43mc\u001b[49m\u001b[43m,\u001b[49m\u001b[43m \u001b[49m\n\u001b[1;32m      3\u001b[0m \u001b[43m    \u001b[49m\u001b[43mproject\u001b[49m\u001b[38;5;241;43m=\u001b[39;49m\u001b[43mproject_ref\u001b[49m\u001b[43m,\u001b[49m\n\u001b[1;32m      4\u001b[0m \u001b[43m    \u001b[49m\u001b[38;5;66;43;03m#name=\"My circuit\",\u001b[39;49;00m\n\u001b[1;32m      5\u001b[0m \u001b[43m    \u001b[49m\u001b[38;5;66;43;03m#description=\"A new circuit\",\u001b[39;49;00m\n\u001b[1;32m      6\u001b[0m \u001b[43m    \u001b[49m\u001b[38;5;66;43;03m#properties={\"Parameter_1\": 0.1}\u001b[39;49;00m\n\u001b[1;32m      7\u001b[0m \u001b[43m)\u001b[49m\n",
      "File \u001b[0;32m~/CQC/qnexus/qnexus/client/circuits.py:151\u001b[0m, in \u001b[0;36mcreate\u001b[0;34m(circuit, project, **kwargs)\u001b[0m\n\u001b[1;32m    149\u001b[0m \u001b[38;5;66;03m# https://cqc.atlassian.net/browse/MUS-3054\u001b[39;00m\n\u001b[1;32m    150\u001b[0m \u001b[38;5;28;01mif\u001b[39;00m res\u001b[38;5;241m.\u001b[39mstatus_code \u001b[38;5;241m!=\u001b[39m \u001b[38;5;241m201\u001b[39m:\n\u001b[0;32m--> 151\u001b[0m     \u001b[38;5;28;01mraise\u001b[39;00m qnx_exc\u001b[38;5;241m.\u001b[39mResourceCreateFailed(message\u001b[38;5;241m=\u001b[39mres\u001b[38;5;241m.\u001b[39mjson(), status_code\u001b[38;5;241m=\u001b[39mres\u001b[38;5;241m.\u001b[39mstatus_code)\n\u001b[1;32m    153\u001b[0m res_data_dict \u001b[38;5;241m=\u001b[39m res\u001b[38;5;241m.\u001b[39mjson()[\u001b[38;5;124m\"\u001b[39m\u001b[38;5;124mdata\u001b[39m\u001b[38;5;124m\"\u001b[39m]\n\u001b[1;32m    155\u001b[0m \u001b[38;5;28;01mreturn\u001b[39;00m CircuitRef(\n\u001b[1;32m    156\u001b[0m     \u001b[38;5;28mid\u001b[39m\u001b[38;5;241m=\u001b[39mUUID(res_data_dict[\u001b[38;5;124m\"\u001b[39m\u001b[38;5;124mid\u001b[39m\u001b[38;5;124m\"\u001b[39m]), annotations\u001b[38;5;241m=\u001b[39mannotations, project\u001b[38;5;241m=\u001b[39mproject\n\u001b[1;32m    157\u001b[0m )\n",
      "\u001b[0;31mResourceCreateFailed\u001b[0m: Failed to create resource with status code: 422, message: {'detail': [{'type': 'missing', 'loc': ['body', 'data', 'attributes', 'name'], 'msg': 'Field required', 'input': {'bits': [['c', [0]], ['c', [1]]], 'commands': [{'args': [['q', [0]]], 'op': {'type': 'H'}}, {'args': [['q', [0]], ['q', [1]]], 'op': {'type': 'CX'}}, {'args': [['q', [0]], ['c', [0]]], 'op': {'type': 'Measure'}}, {'args': [['q', [1]], ['c', [1]]], 'op': {'type': 'Measure'}}], 'created_qubits': [], 'discarded_qubits': [], 'implicit_permutation': [[['q', [0]], ['q', [0]]], [['q', [1]], ['q', [1]]]], 'phase': '0.0', 'qubits': [['q', [0]], ['q', [1]]], 'properties': {}}, 'url': 'https://errors.pydantic.dev/2.5/v/missing'}]}"
     ]
    }
   ],
   "source": [
    "my_circuit_ref = qnx.circuit.create(\n",
    "    circuit=c, \n",
    "    project=project_ref,\n",
    "    name=\"My circuit\",\n",
    "    #description=\"A new circuit\",\n",
    "    #properties={\"Parameter_1\": 0.1}\n",
    ")"
   ]
  },
  {
   "cell_type": "code",
   "execution_count": 8,
   "metadata": {},
   "outputs": [
    {
     "data": {
      "text/html": [
       "<div>\n",
       "<style scoped>\n",
       "    .dataframe tbody tr th:only-of-type {\n",
       "        vertical-align: middle;\n",
       "    }\n",
       "\n",
       "    .dataframe tbody tr th {\n",
       "        vertical-align: top;\n",
       "    }\n",
       "\n",
       "    .dataframe thead th {\n",
       "        text-align: right;\n",
       "    }\n",
       "</style>\n",
       "<table border=\"1\" class=\"dataframe\">\n",
       "  <thead>\n",
       "    <tr style=\"text-align: right;\">\n",
       "      <th></th>\n",
       "      <th>name</th>\n",
       "      <th>decription</th>\n",
       "      <th>Parameter_1</th>\n",
       "      <th>project</th>\n",
       "      <th>id</th>\n",
       "    </tr>\n",
       "  </thead>\n",
       "  <tbody>\n",
       "    <tr>\n",
       "      <th>0</th>\n",
       "      <td>My circuit</td>\n",
       "      <td>A new circuit</td>\n",
       "      <td>0.1</td>\n",
       "      <td>demo_2024-04-22 15:22:57.323512</td>\n",
       "      <td>7452e87e-58dd-46d8-8de5-5fb2594bc4c1</td>\n",
       "    </tr>\n",
       "  </tbody>\n",
       "</table>\n",
       "</div>"
      ],
      "text/plain": [
       "         name     decription  Parameter_1                          project  \\\n",
       "0  My circuit  A new circuit          0.1  demo_2024-04-22 15:22:57.323512   \n",
       "\n",
       "                                     id  \n",
       "0  7452e87e-58dd-46d8-8de5-5fb2594bc4c1  "
      ]
     },
     "execution_count": 8,
     "metadata": {},
     "output_type": "execute_result"
    }
   ],
   "source": [
    "my_circuit_ref.summarize()"
   ]
  },
  {
   "cell_type": "code",
   "execution_count": 9,
   "metadata": {},
   "outputs": [],
   "source": [
    "compile_job_ref = qnx.job.compile.run(\n",
    "    name=f\"compile_job_{str(datetime.now())}\",\n",
    "    circuits=my_circuit_ref,\n",
    "    optimisation_level=1,\n",
    "    project=project_ref,\n",
    "    target=AerConfig()\n",
    ")"
   ]
  },
  {
   "cell_type": "code",
   "execution_count": 10,
   "metadata": {},
   "outputs": [
    {
     "data": {
      "text/html": [
       "<div>\n",
       "<style scoped>\n",
       "    .dataframe tbody tr th:only-of-type {\n",
       "        vertical-align: middle;\n",
       "    }\n",
       "\n",
       "    .dataframe tbody tr th {\n",
       "        vertical-align: top;\n",
       "    }\n",
       "\n",
       "    .dataframe thead th {\n",
       "        text-align: right;\n",
       "    }\n",
       "</style>\n",
       "<table border=\"1\" class=\"dataframe\">\n",
       "  <thead>\n",
       "    <tr style=\"text-align: right;\">\n",
       "      <th></th>\n",
       "      <th>name</th>\n",
       "      <th>decription</th>\n",
       "      <th>job_type</th>\n",
       "      <th>last_status</th>\n",
       "      <th>project</th>\n",
       "      <th>id</th>\n",
       "    </tr>\n",
       "  </thead>\n",
       "  <tbody>\n",
       "    <tr>\n",
       "      <th>0</th>\n",
       "      <td>compile-job-infundibuliform-terracotta-twinkli...</td>\n",
       "      <td>None</td>\n",
       "      <td>JobType.Compile</td>\n",
       "      <td>StatusEnum.COMPLETED</td>\n",
       "      <td>placeholder</td>\n",
       "      <td>5b636943-cb08-4168-ba94-a6eaa5ff6ebc</td>\n",
       "    </tr>\n",
       "    <tr>\n",
       "      <th>1</th>\n",
       "      <td>compile-job-adnate-death-reserved-hypothejus</td>\n",
       "      <td>None</td>\n",
       "      <td>JobType.Execute</td>\n",
       "      <td>StatusEnum.COMPLETED</td>\n",
       "      <td>placeholder</td>\n",
       "      <td>fc709079-9ea0-49c8-96c2-1e5acdd2d0dc</td>\n",
       "    </tr>\n",
       "    <tr>\n",
       "      <th>2</th>\n",
       "      <td>compile-job-irregular-st-inflated-alboviolaceus</td>\n",
       "      <td>None</td>\n",
       "      <td>JobType.Compile</td>\n",
       "      <td>StatusEnum.ERROR</td>\n",
       "      <td>placeholder</td>\n",
       "      <td>0acf01f6-15ae-4fc3-b78c-437c2ec7c2c8</td>\n",
       "    </tr>\n",
       "    <tr>\n",
       "      <th>3</th>\n",
       "      <td>compile-job-irregular-green-mischievous-vernum</td>\n",
       "      <td>None</td>\n",
       "      <td>JobType.Compile</td>\n",
       "      <td>StatusEnum.ERROR</td>\n",
       "      <td>placeholder</td>\n",
       "      <td>546d82dd-a7c1-4321-8145-6fb458a87225</td>\n",
       "    </tr>\n",
       "    <tr>\n",
       "      <th>4</th>\n",
       "      <td>compile-job-offset-sulphur-scampering-lacera</td>\n",
       "      <td>None</td>\n",
       "      <td>JobType.Compile</td>\n",
       "      <td>StatusEnum.ERROR</td>\n",
       "      <td>placeholder</td>\n",
       "      <td>03691cb7-6be5-4933-90da-1fde22f44bb4</td>\n",
       "    </tr>\n",
       "    <tr>\n",
       "      <th>...</th>\n",
       "      <td>...</td>\n",
       "      <td>...</td>\n",
       "      <td>...</td>\n",
       "      <td>...</td>\n",
       "      <td>...</td>\n",
       "      <td>...</td>\n",
       "    </tr>\n",
       "    <tr>\n",
       "      <th>198</th>\n",
       "      <td>bingo_compile</td>\n",
       "      <td>None</td>\n",
       "      <td>JobType.Compile</td>\n",
       "      <td>StatusEnum.COMPLETED</td>\n",
       "      <td>placeholder</td>\n",
       "      <td>bcf75689-bdee-47fd-8a6d-8120148f5e22</td>\n",
       "    </tr>\n",
       "    <tr>\n",
       "      <th>199</th>\n",
       "      <td>compile_job_VQE_2024-04-22 15:11:19.260246_0</td>\n",
       "      <td>None</td>\n",
       "      <td>JobType.Compile</td>\n",
       "      <td>StatusEnum.COMPLETED</td>\n",
       "      <td>placeholder</td>\n",
       "      <td>09724c70-eb37-4b85-b265-00af50a16d62</td>\n",
       "    </tr>\n",
       "    <tr>\n",
       "      <th>200</th>\n",
       "      <td>compile_job_VQE_2024-04-22 15:16:45.664260_0</td>\n",
       "      <td>None</td>\n",
       "      <td>JobType.Compile</td>\n",
       "      <td>StatusEnum.COMPLETED</td>\n",
       "      <td>placeholder</td>\n",
       "      <td>1250f41c-7c85-4ba4-afff-a56d73ef9842</td>\n",
       "    </tr>\n",
       "    <tr>\n",
       "      <th>201</th>\n",
       "      <td>compile_job_2024-04-22 15:20:25.850489</td>\n",
       "      <td>None</td>\n",
       "      <td>JobType.Compile</td>\n",
       "      <td>StatusEnum.COMPLETED</td>\n",
       "      <td>placeholder</td>\n",
       "      <td>978f4cff-8f48-474d-9501-cc676178d423</td>\n",
       "    </tr>\n",
       "    <tr>\n",
       "      <th>202</th>\n",
       "      <td>compile_job_2024-04-22 15:23:02.654220</td>\n",
       "      <td>None</td>\n",
       "      <td>JobType.Compile</td>\n",
       "      <td>StatusEnum.COMPLETED</td>\n",
       "      <td>placeholder</td>\n",
       "      <td>d6a89d26-a607-4784-99be-4d77e3001975</td>\n",
       "    </tr>\n",
       "  </tbody>\n",
       "</table>\n",
       "<p>203 rows × 6 columns</p>\n",
       "</div>"
      ],
      "text/plain": [
       "                                                  name decription  \\\n",
       "0    compile-job-infundibuliform-terracotta-twinkli...       None   \n",
       "1         compile-job-adnate-death-reserved-hypothejus       None   \n",
       "2      compile-job-irregular-st-inflated-alboviolaceus       None   \n",
       "3       compile-job-irregular-green-mischievous-vernum       None   \n",
       "4         compile-job-offset-sulphur-scampering-lacera       None   \n",
       "..                                                 ...        ...   \n",
       "198                                      bingo_compile       None   \n",
       "199       compile_job_VQE_2024-04-22 15:11:19.260246_0       None   \n",
       "200       compile_job_VQE_2024-04-22 15:16:45.664260_0       None   \n",
       "201             compile_job_2024-04-22 15:20:25.850489       None   \n",
       "202             compile_job_2024-04-22 15:23:02.654220       None   \n",
       "\n",
       "            job_type           last_status      project  \\\n",
       "0    JobType.Compile  StatusEnum.COMPLETED  placeholder   \n",
       "1    JobType.Execute  StatusEnum.COMPLETED  placeholder   \n",
       "2    JobType.Compile      StatusEnum.ERROR  placeholder   \n",
       "3    JobType.Compile      StatusEnum.ERROR  placeholder   \n",
       "4    JobType.Compile      StatusEnum.ERROR  placeholder   \n",
       "..               ...                   ...          ...   \n",
       "198  JobType.Compile  StatusEnum.COMPLETED  placeholder   \n",
       "199  JobType.Compile  StatusEnum.COMPLETED  placeholder   \n",
       "200  JobType.Compile  StatusEnum.COMPLETED  placeholder   \n",
       "201  JobType.Compile  StatusEnum.COMPLETED  placeholder   \n",
       "202  JobType.Compile  StatusEnum.COMPLETED  placeholder   \n",
       "\n",
       "                                       id  \n",
       "0    5b636943-cb08-4168-ba94-a6eaa5ff6ebc  \n",
       "1    fc709079-9ea0-49c8-96c2-1e5acdd2d0dc  \n",
       "2    0acf01f6-15ae-4fc3-b78c-437c2ec7c2c8  \n",
       "3    546d82dd-a7c1-4321-8145-6fb458a87225  \n",
       "4    03691cb7-6be5-4933-90da-1fde22f44bb4  \n",
       "..                                    ...  \n",
       "198  bcf75689-bdee-47fd-8a6d-8120148f5e22  \n",
       "199  09724c70-eb37-4b85-b265-00af50a16d62  \n",
       "200  1250f41c-7c85-4ba4-afff-a56d73ef9842  \n",
       "201  978f4cff-8f48-474d-9501-cc676178d423  \n",
       "202  d6a89d26-a607-4784-99be-4d77e3001975  \n",
       "\n",
       "[203 rows x 6 columns]"
      ]
     },
     "execution_count": 10,
     "metadata": {},
     "output_type": "execute_result"
    }
   ],
   "source": [
    "qnx.job.filter(name=\"compile\", project_id=project_ref.id).all().summarize()"
   ]
  },
  {
   "cell_type": "code",
   "execution_count": 11,
   "metadata": {},
   "outputs": [
    {
     "data": {
      "text/plain": [
       "JobStatus(status=<StatusEnum.COMPLETED: 'Circuit has completed. Results are ready.'>, message='The job is completed.', error_detail=None, completed_time=datetime.datetime(2024, 4, 22, 14, 23, 3, 547019, tzinfo=datetime.timezone.utc), queued_time=None, submitted_time=datetime.datetime(2024, 4, 22, 14, 23, 2, 859796, tzinfo=datetime.timezone.utc), running_time=None, cancelled_time=None, error_time=None, queue_position=None)"
      ]
     },
     "execution_count": 11,
     "metadata": {},
     "output_type": "execute_result"
    }
   ],
   "source": [
    "qnx.job.wait_for(compile_job_ref)"
   ]
  },
  {
   "cell_type": "code",
   "execution_count": 12,
   "metadata": {},
   "outputs": [
    {
     "data": {
      "text/plain": [
       "CircuitRef(id=UUID('85b5cbe9-3f46-45c1-a119-fad6c548ac19'), annotations=Annotations(name='My circuit-AerBackend-final', description=None, properties={}), project=ProjectRef(id=UUID('f3601338-f4e2-4745-9c5b-425ca9f3e2ac'), annotations=Annotations(name='demo_2024-04-22 15:22:57.323512', description='a demo project', properties={})))"
      ]
     },
     "execution_count": 12,
     "metadata": {},
     "output_type": "execute_result"
    }
   ],
   "source": [
    "compiled_circuit_refs = qnx.job.compile._results(compile_job_ref)\n",
    "\n",
    "compiled_circuit_refs[0].compiled_circuit"
   ]
  },
  {
   "cell_type": "code",
   "execution_count": 13,
   "metadata": {},
   "outputs": [],
   "source": [
    "execute_ref = qnx.job.execute.run(\n",
    "    name=\"My Execute Job\",\n",
    "    circuits=[item.compiled_circuit for item in compiled_circuit_refs],\n",
    "    project=project_ref,\n",
    "    n_shots=[10],\n",
    "    target=AerConfig()\n",
    ")"
   ]
  },
  {
   "cell_type": "code",
   "execution_count": 14,
   "metadata": {},
   "outputs": [
    {
     "data": {
      "text/plain": [
       "JobStatus(status=<StatusEnum.COMPLETED: 'Circuit has completed. Results are ready.'>, message='The job is completed.', error_detail=None, completed_time=datetime.datetime(2024, 4, 22, 14, 23, 19, 395924, tzinfo=datetime.timezone.utc), queued_time=None, submitted_time=datetime.datetime(2024, 4, 22, 14, 23, 18, 973084, tzinfo=datetime.timezone.utc), running_time=None, cancelled_time=None, error_time=None, queue_position=None)"
      ]
     },
     "execution_count": 14,
     "metadata": {},
     "output_type": "execute_result"
    }
   ],
   "source": [
    "await qnx.job.listen_job_status(execute_ref)"
   ]
  },
  {
   "cell_type": "code",
   "execution_count": 15,
   "metadata": {},
   "outputs": [],
   "source": [
    "my_results = [item.backend_result for item in qnx.job.execute._results(execute_ref)]"
   ]
  },
  {
   "cell_type": "code",
   "execution_count": null,
   "metadata": {},
   "outputs": [],
   "source": []
  },
  {
   "cell_type": "code",
   "execution_count": null,
   "metadata": {},
   "outputs": [],
   "source": []
  },
  {
   "cell_type": "code",
   "execution_count": 3,
   "metadata": {},
   "outputs": [],
   "source": [
    "compile_jobs = qnx.job.get(name_like=\"execute\", project_ref=first_project)"
   ]
  },
  {
   "cell_type": "code",
   "execution_count": 4,
   "metadata": {},
   "outputs": [
    {
     "data": {
      "text/html": [
       "<div>\n",
       "<style scoped>\n",
       "    .dataframe tbody tr th:only-of-type {\n",
       "        vertical-align: middle;\n",
       "    }\n",
       "\n",
       "    .dataframe tbody tr th {\n",
       "        vertical-align: top;\n",
       "    }\n",
       "\n",
       "    .dataframe thead th {\n",
       "        text-align: right;\n",
       "    }\n",
       "</style>\n",
       "<table border=\"1\" class=\"dataframe\">\n",
       "  <thead>\n",
       "    <tr style=\"text-align: right;\">\n",
       "      <th></th>\n",
       "      <th>resource</th>\n",
       "      <th>total_count</th>\n",
       "    </tr>\n",
       "  </thead>\n",
       "  <tbody>\n",
       "    <tr>\n",
       "      <th>0</th>\n",
       "      <td>Job</td>\n",
       "      <td>23</td>\n",
       "    </tr>\n",
       "  </tbody>\n",
       "</table>\n",
       "</div>"
      ],
      "text/plain": [
       "  resource  total_count\n",
       "0      Job           23"
      ]
     },
     "execution_count": 4,
     "metadata": {},
     "output_type": "execute_result"
    }
   ],
   "source": [
    "compile_jobs.summarize()"
   ]
  },
  {
   "cell_type": "code",
   "execution_count": 5,
   "metadata": {},
   "outputs": [],
   "source": [
    "cjs = compile_jobs.list()"
   ]
  },
  {
   "cell_type": "code",
   "execution_count": 6,
   "metadata": {},
   "outputs": [],
   "source": [
    "job = qnx.job.execute._results(cjs[20])"
   ]
  },
  {
   "cell_type": "code",
   "execution_count": 10,
   "metadata": {},
   "outputs": [
    {
     "data": {
      "text/plain": [
       "BackendResult(q_bits={},c_bits={c[0]: 0, c[1]: 1},counts=None,shots=[[0]\n",
       " [0]\n",
       " [0]\n",
       " [0]\n",
       " [0]\n",
       " [0]\n",
       " [0]\n",
       " [0]\n",
       " [0]\n",
       " [0]\n",
       " [0]\n",
       " [0]\n",
       " [0]\n",
       " [0]\n",
       " [0]\n",
       " [0]\n",
       " [0]\n",
       " [0]\n",
       " [0]\n",
       " [0]\n",
       " [0]\n",
       " [0]\n",
       " [0]\n",
       " [0]\n",
       " [0]\n",
       " [0]\n",
       " [0]\n",
       " [0]\n",
       " [0]\n",
       " [0]\n",
       " [0]\n",
       " [0]\n",
       " [0]\n",
       " [0]\n",
       " [0]\n",
       " [0]\n",
       " [0]\n",
       " [0]\n",
       " [0]\n",
       " [0]\n",
       " [0]\n",
       " [0]\n",
       " [0]\n",
       " [0]\n",
       " [0]\n",
       " [0]\n",
       " [0]\n",
       " [0]\n",
       " [0]\n",
       " [0]\n",
       " [0]\n",
       " [0]\n",
       " [0]\n",
       " [0]\n",
       " [0]\n",
       " [0]\n",
       " [0]\n",
       " [0]\n",
       " [0]\n",
       " [0]\n",
       " [0]\n",
       " [0]\n",
       " [0]\n",
       " [0]\n",
       " [0]\n",
       " [0]\n",
       " [0]\n",
       " [0]\n",
       " [0]\n",
       " [0]\n",
       " [0]\n",
       " [0]\n",
       " [0]\n",
       " [0]\n",
       " [0]\n",
       " [0]\n",
       " [0]\n",
       " [0]\n",
       " [0]\n",
       " [0]\n",
       " [0]\n",
       " [0]\n",
       " [0]\n",
       " [0]\n",
       " [0]\n",
       " [0]\n",
       " [0]\n",
       " [0]\n",
       " [0]\n",
       " [0]\n",
       " [0]\n",
       " [0]\n",
       " [0]\n",
       " [0]\n",
       " [0]\n",
       " [0]\n",
       " [0]\n",
       " [0]\n",
       " [0]\n",
       " [0]],state=None,unitary=None,density_matrix=None)"
      ]
     },
     "execution_count": 10,
     "metadata": {},
     "output_type": "execute_result"
    }
   ],
   "source": [
    "job[0].download_result()"
   ]
  },
  {
   "cell_type": "code",
   "execution_count": 9,
   "metadata": {},
   "outputs": [],
   "source": [
    "from pprint import pprint\n",
    "\n",
    "x ={'data': {'id': '39639fd0-bfaa-4274-914b-1874d6364ff3', 'attributes': {'qubits': [], 'bits': [['c', [0]], ['c', [1]]], 'counts': [], 'shots': {'width': 2, 'array': [[0], [0], [0], [0], [0], [0], [0], [0], [0], [0], [0], [0], [0], [0], [0], [0], [0], [0], [0], [0], [0], [0], [0], [0], [0], [0], [0], [0], [0], [0], [0], [0], [0], [0], [0], [0], [0], [0], [0], [0], [0], [0], [0], [0], [0], [0], [0], [0], [0], [0], [0], [0], [0], [0], [0], [0], [0], [0], [0], [0], [0], [0], [0], [0], [0], [0], [0], [0], [0], [0], [0], [0], [0], [0], [0], [0], [0], [0], [0], [0], [0], [0], [0], [0], [0], [0], [0], [0], [0], [0], [0], [0], [0], [0], [0], [0], [0], [0], [0], [0]]}, 'timestamps': {'created': '2024-05-13T13:19:36.205959Z', 'modified': '2024-05-13T13:19:36.205959Z'}, 'name': 'QuantinuumBackend Execution Result', 'properties': {}, 'counts_formatted': [{'bitstring': '00', 'count': 100}]}, 'relationships': {'creator': {'links': {'self': 'https://nexus.quantinuum.com/api/users/v1beta/55b996eb-122e-41ca-8789-3e3964a161d6'}, 'data': {'id': '55b996eb-122e-41ca-8789-3e3964a161d6', 'type': 'user'}}, 'project': {'links': {'self': 'https://nexus.quantinuum.com/api/projects/v1beta/6ed750a5-de0c-4879-a771-2c1f3f746d18'}, 'data': {'id': '6ed750a5-de0c-4879-a771-2c1f3f746d18', 'type': 'project'}}, 'circuit': {'links': {'self': 'https://nexus.quantinuum.com/api/circuits/v1beta/530128ed-83f5-43c1-a076-0abc6a8bb7c4'}, 'data': {'id': '530128ed-83f5-43c1-a076-0abc6a8bb7c4', 'type': 'circuit'}}, 'backend_snapshot': {'links': {'self': 'https://nexus.quantinuum.com/api/backend_snapshots/v1beta/5b31150b-cd32-46e6-b9a5-bc6f59d1139d'}, 'data': {'id': '5b31150b-cd32-46e6-b9a5-bc6f59d1139d', 'type': 'backend_snapshot'}}}, 'links': {'self': 'https://nexus.quantinuum.com/api/results/v1beta/39639fd0-bfaa-4274-914b-1874d6364ff3'}, 'type': 'result'}, 'links': {'self': 'https://nexus.quantinuum.com/api/results/v1beta/39639fd0-bfaa-4274-914b-1874d6364ff3'}, 'included': [{'id': '6ed750a5-de0c-4879-a771-2c1f3f746d18', 'attributes': {'timestamps': {'created': '2024-01-29T13:38:27.351099Z', 'modified': '2024-01-29T13:38:27.351099Z'}, 'name': 'VanyaTest', 'description': '', 'properties': {}, 'archived': False, 'contents_modified': '2024-05-14T09:34:02.261104Z'}, 'relationships': {'creator': {'links': {'self': 'https://nexus.quantinuum.com/api/users/v1beta/55b996eb-122e-41ca-8789-3e3964a161d6'}, 'data': {'id': '55b996eb-122e-41ca-8789-3e3964a161d6', 'type': 'user'}}}, 'links': {'self': 'https://nexus.quantinuum.com/api/projects/v1beta/6ed750a5-de0c-4879-a771-2c1f3f746d18'}, 'type': 'project'}, {'id': '55b996eb-122e-41ca-8789-3e3964a161d6', 'attributes': {'email': 'vanya.eccles@quantinuum.com', 'display_name': 'vanya-staging'}, 'relationships': {}, 'links': {'self': 'https://nexus.quantinuum.com/api/users/v1beta/55b996eb-122e-41ca-8789-3e3964a161d6'}, 'type': 'user'}, {'id': '530128ed-83f5-43c1-a076-0abc6a8bb7c4', 'attributes': {'name': 'A circuit 10 May-QuantinuumBackend-final', 'phase': '0.75', 'qubits': [['q', [0]], ['q', [1]]], 'bits': [['c', [0]], ['c', [1]]], 'commands': [{'op': {'type': 'PhasedX', 'params': ['-0.5', '-1.5']}, 'args': [['q', [0]]]}, {'op': {'type': 'PhasedX', 'params': ['0.5', '-1.5']}, 'args': [['q', [1]]]}, {'op': {'type': 'ZZPhase', 'params': ['0.5']}, 'args': [['q', [0]], ['q', [1]]]}, {'op': {'type': 'Measure'}, 'args': [['q', [0]], ['c', [0]]]}, {'op': {'type': 'PhasedX', 'params': ['1/2', '0']}, 'args': [['q', [1]]]}, {'op': {'type': 'Measure'}, 'args': [['q', [1]], ['c', [1]]]}], 'created_qubits': [], 'discarded_qubits': [], 'implicit_permutation': [[['q', [0]], ['q', [0]]], [['q', [1]], ['q', [1]]]], 'timestamps': {'created': '2024-05-13T13:06:22.000705Z', 'modified': '2024-05-13T13:06:22.000705Z'}, 'properties': {}, 'digest': '9852d99c43ccc8d429381728ba572f8cc916f65df2b4629b7b82b169db33efed5fb0f6cae76a8798e2fa112fc93b6d8243049be95901c6941fa158b8d8a32b18'}, 'relationships': {'creator': {'links': {'self': 'https://nexus.quantinuum.com/api/users/v1beta/55b996eb-122e-41ca-8789-3e3964a161d6'}, 'data': {'id': '55b996eb-122e-41ca-8789-3e3964a161d6', 'type': 'user'}}, 'project': {'links': {'self': 'https://nexus.quantinuum.com/api/projects/v1beta/6ed750a5-de0c-4879-a771-2c1f3f746d18'}, 'data': {'id': '6ed750a5-de0c-4879-a771-2c1f3f746d18', 'type': 'project'}}}, 'links': {'self': 'https://nexus.quantinuum.com/api/circuits/v1beta/530128ed-83f5-43c1-a076-0abc6a8bb7c4'}, 'type': 'circuit'}, {'id': '5b31150b-cd32-46e6-b9a5-bc6f59d1139d', 'attributes': {'name': 'QuantinuumBackend snapshot', 'device_name': 'H1-1SC', 'version': '0.33.0', 'device': {'nodes': [], 'edges': [], 'n_nodes': 20, 'fully_connected': True}, 'gate_set': ['Measure', 'Reset', 'Rz', 'PhasedX', 'Barrier', 'ZZMax', 'ClassicalExpBox', 'ZZPhase', 'TK2', 'WASM', 'SetBits', 'CopyBits', 'RangePredicate', 'ExplicitPredicate', 'ExplicitModifier', 'MultiBit'], 'n_cl_reg': 0, 'supports_fast_feedforward': True, 'supports_reset': True, 'supports_midcircuit_measurement': True, 'misc': {'cl_reg_width': 32, 'max_n_shots': 10000, 'options': {}, 'system_type': 'syntax checker', 'wasm': True}, 'timestamps': {'created': '2024-05-13T13:19:34.415534Z', 'modified': '2024-05-13T13:19:34.415534Z'}, 'properties': {}}, 'relationships': {'creator': {'links': {'self': 'https://nexus.quantinuum.com/api/users/v1beta/55b996eb-122e-41ca-8789-3e3964a161d6'}, 'data': {'id': '55b996eb-122e-41ca-8789-3e3964a161d6', 'type': 'user'}}, 'project': {'links': {'self': 'https://nexus.quantinuum.com/api/projects/v1beta/6ed750a5-de0c-4879-a771-2c1f3f746d18'}, 'data': {'id': '6ed750a5-de0c-4879-a771-2c1f3f746d18', 'type': 'project'}}}, 'links': {'self': 'https://nexus.quantinuum.com/api/backend_snapshots/v1beta/5b31150b-cd32-46e6-b9a5-bc6f59d1139d'}, 'type': 'backend_snapshot'}]}\n",
    "\n"
   ]
  },
  {
   "cell_type": "code",
   "execution_count": 12,
   "metadata": {},
   "outputs": [
    {
     "data": {
      "text/plain": [
       "{'creator': {'links': {'self': 'https://nexus.quantinuum.com/api/users/v1beta/55b996eb-122e-41ca-8789-3e3964a161d6'},\n",
       "  'data': {'id': '55b996eb-122e-41ca-8789-3e3964a161d6', 'type': 'user'}},\n",
       " 'project': {'links': {'self': 'https://nexus.quantinuum.com/api/projects/v1beta/6ed750a5-de0c-4879-a771-2c1f3f746d18'},\n",
       "  'data': {'id': '6ed750a5-de0c-4879-a771-2c1f3f746d18', 'type': 'project'}},\n",
       " 'circuit': {'links': {'self': 'https://nexus.quantinuum.com/api/circuits/v1beta/530128ed-83f5-43c1-a076-0abc6a8bb7c4'},\n",
       "  'data': {'id': '530128ed-83f5-43c1-a076-0abc6a8bb7c4', 'type': 'circuit'}},\n",
       " 'backend_snapshot': {'links': {'self': 'https://nexus.quantinuum.com/api/backend_snapshots/v1beta/5b31150b-cd32-46e6-b9a5-bc6f59d1139d'},\n",
       "  'data': {'id': '5b31150b-cd32-46e6-b9a5-bc6f59d1139d',\n",
       "   'type': 'backend_snapshot'}}}"
      ]
     },
     "execution_count": 12,
     "metadata": {},
     "output_type": "execute_result"
    }
   ],
   "source": [
    "x[\"data\"][\"relationships\"]"
   ]
  },
  {
   "cell_type": "code",
   "execution_count": null,
   "metadata": {},
   "outputs": [],
   "source": []
  }
 ],
 "metadata": {
  "kernelspec": {
   "display_name": "qnexus-Rou6F43i-py3.10",
   "language": "python",
   "name": "python3"
  },
  "language_info": {
   "codemirror_mode": {
    "name": "ipython",
    "version": 3
   },
   "file_extension": ".py",
   "mimetype": "text/x-python",
   "name": "python",
   "nbconvert_exporter": "python",
   "pygments_lexer": "ipython3",
   "version": "3.11.6"
  }
 },
 "nbformat": 4,
 "nbformat_minor": 2
}
