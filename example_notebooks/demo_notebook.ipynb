{
 "cells": [
  {
   "cell_type": "code",
   "execution_count": 1,
   "metadata": {},
   "outputs": [],
   "source": [
    "from pytket import Circuit\n",
    "\n",
    "from qnexus.client import circuits, projects, compile_jobs\n"
   ]
  },
  {
   "cell_type": "code",
   "execution_count": 2,
   "metadata": {},
   "outputs": [
    {
     "name": "stdout",
     "output_type": "stream",
     "text": [
      "/Users/vanyaeccles/.zshenv:.:1: no such file or directory: /Users/vanyaeccles/.cargo/env\n",
      "🌐 Browser login initiated.\n",
      "╭──────────────────────────────────────────────────────────────────────────────╮\n",
      "│                                                                              │\n",
      "│         Confirm that the browser shows the following code and click 'allow   │\n",
      "│ device':                                                                     │\n",
      "│                                                                              │\n",
      "│                                      r9JMxN                                  │\n",
      "│                                                                              │\n",
      "╰──────────────────────────────────────────────────────────────────────────────╯\n",
      "Browser didn't open automatically? Use this link: https://nexus.quantinuum.com/auth/device/browser?otp=r9JMxNK3NWy0oV-4jLfmyEKThuuqQ8TBaDNqWK8ITiqXNFzBPiPask90U6XlpVhsgmGZm6PBumG0p3_bAWz1Qg\n",
      "\u001b[?25h.   Waiting for user to log in via browser.....  Waiting for user to log in via browser...... Waiting for user to log in via browser... .. Waiting for user to log in via browser...  . Waiting for user to log in via browser...    Waiting for user to log in via browser....   Waiting for user to log in via browser.....  Waiting for user to log in via browser...... Waiting for user to log in via browser... .. Waiting for user to log in via browser...  . Waiting for user to log in via browser...    Waiting for user to log in via browser....   Waiting for user to log in via browser.....  Waiting for user to log in via browser...... Waiting for user to log in via browser... .. Waiting for user to log in via browser...  . Waiting for user to log in via browser...    Waiting for user to log in via browser....   Waiting for user to log in via browser.....  Waiting for user to log in via browser...... Waiting for user to log in via browser... .. Waiting for user to log in via browser...  . Waiting for user to log in via browser...    Waiting for user to log in via browser....   Waiting for user to log in via browser.....  Waiting for user to log in via browser...... Waiting for user to log in via browser... .. Waiting for user to log in via browser...  . Waiting for user to log in via browser...✅ Successfully logged in as vanya.eccles@quantinuum.com using the browser.\n",
      "\n",
      "\u001b[?25h"
     ]
    }
   ],
   "source": [
    "!qnx login"
   ]
  },
  {
   "cell_type": "code",
   "execution_count": 3,
   "metadata": {},
   "outputs": [],
   "source": [
    "my_proj = projects.submit(name=\"demo_21_11_23_5\", description=\"a demo project\", properties={\"Test Prop\": 1})"
   ]
  },
  {
   "cell_type": "code",
   "execution_count": 5,
   "metadata": {},
   "outputs": [],
   "source": [
    "from qnexus.client.projects import ProjectHandle, Annotations\n",
    "from uuid import UUID\n",
    "\n",
    "my_proj = ProjectHandle(id=UUID(\"53a1bd2d-1ee0-4548-bff3-f019e7b67aa1\"), annotations=Annotations(name='demo_21_11_23_5', description='a demo project', properties={'Test Prop': 1}))"
   ]
  },
  {
   "cell_type": "code",
   "execution_count": 6,
   "metadata": {},
   "outputs": [],
   "source": [
    "c = Circuit(2,2).H(0).CX(0,1).measure_all()"
   ]
  },
  {
   "cell_type": "code",
   "execution_count": 7,
   "metadata": {},
   "outputs": [],
   "source": [
    "my_circuit_handle = circuits.submit(\n",
    "    circuit=c, \n",
    "    project=my_proj,\n",
    "    name=\"My circuit\",\n",
    "    description=\"A new circuit\",\n",
    "    properties={}\n",
    ")"
   ]
  },
  {
   "cell_type": "code",
   "execution_count": 8,
   "metadata": {},
   "outputs": [
    {
     "data": {
      "text/plain": [
       "[H q[0]; CX q[0], q[1]; Measure q[0] --> c[0]; Measure q[1] --> c[1]; ]"
      ]
     },
     "execution_count": 8,
     "metadata": {},
     "output_type": "execute_result"
    }
   ],
   "source": [
    "# Retrieve the circuit\n",
    "circuits.describe(my_circuit_handle)"
   ]
  },
  {
   "cell_type": "code",
   "execution_count": 9,
   "metadata": {},
   "outputs": [],
   "source": [
    "compile_job_handle = compile_jobs.submit(\n",
    "    name=\"compile_job_123\",\n",
    "    circuits=my_circuit_handle,\n",
    "    optimisation_level=1,\n",
    "    project=my_proj\n",
    ")"
   ]
  },
  {
   "cell_type": "code",
   "execution_count": 10,
   "metadata": {},
   "outputs": [
    {
     "data": {
      "text/plain": [
       "JobHandle(id=UUID('a38fc739-bfaa-44e7-a950-b04ebfea91bb'), item_ids=[847307], annotations=Annotations(name='compile_job_123', description=None, properties={}), job_type=<JobType.Compile: 'COMPILE'>, last_status=<StatusEnum.SUBMITTED: 'Circuit has been submitted.'>, last_message='', project=ProjectHandle(id=UUID('53a1bd2d-1ee0-4548-bff3-f019e7b67aa1'), annotations=Annotations(name='demo_21_11_23_5', description='a demo project', properties={'Test Prop': 1})))"
      ]
     },
     "execution_count": 10,
     "metadata": {},
     "output_type": "execute_result"
    }
   ],
   "source": [
    "compile_job_handle"
   ]
  },
  {
   "cell_type": "code",
   "execution_count": 12,
   "metadata": {},
   "outputs": [
    {
     "data": {
      "text/plain": [
       "[[TK1(0.5, 0.5, 0.5) q[0]; CX q[0], q[1]; Measure q[0] --> c[0]; Measure q[1] --> c[1]; ]]"
      ]
     },
     "execution_count": 12,
     "metadata": {},
     "output_type": "execute_result"
    }
   ],
   "source": [
    "compile_jobs.compilation_results(compile_job_handle)"
   ]
  },
  {
   "cell_type": "code",
   "execution_count": null,
   "metadata": {},
   "outputs": [],
   "source": []
  }
 ],
 "metadata": {
  "kernelspec": {
   "display_name": "qnexus-Rou6F43i-py3.10",
   "language": "python",
   "name": "python3"
  },
  "language_info": {
   "codemirror_mode": {
    "name": "ipython",
    "version": 3
   },
   "file_extension": ".py",
   "mimetype": "text/x-python",
   "name": "python",
   "nbconvert_exporter": "python",
   "pygments_lexer": "ipython3",
   "version": "3.10.6"
  }
 },
 "nbformat": 4,
 "nbformat_minor": 2
}
