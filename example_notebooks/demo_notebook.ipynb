{
 "cells": [
  {
   "cell_type": "code",
   "execution_count": 1,
   "metadata": {},
   "outputs": [
    {
     "ename": "ImportError",
     "evalue": "cannot import name 'nexus_client' from partially initialized module 'qnexus.client' (most likely due to a circular import) (/Users/vanyaeccles/CQC/qnexus/qnexus/client/__init__.py)",
     "output_type": "error",
     "traceback": [
      "\u001b[0;31m---------------------------------------------------------------------------\u001b[0m",
      "\u001b[0;31mImportError\u001b[0m                               Traceback (most recent call last)",
      "Cell \u001b[0;32mIn[1], line 5\u001b[0m\n\u001b[1;32m      1\u001b[0m \u001b[38;5;28;01mfrom\u001b[39;00m \u001b[38;5;21;01mdatetime\u001b[39;00m \u001b[38;5;28;01mimport\u001b[39;00m datetime\n\u001b[1;32m      3\u001b[0m \u001b[38;5;28;01mfrom\u001b[39;00m \u001b[38;5;21;01mpytket\u001b[39;00m \u001b[38;5;28;01mimport\u001b[39;00m Circuit\n\u001b[0;32m----> 5\u001b[0m \u001b[38;5;28;01mimport\u001b[39;00m \u001b[38;5;21;01mqnexus\u001b[39;00m \u001b[38;5;28;01mas\u001b[39;00m \u001b[38;5;21;01mqnx\u001b[39;00m\n\u001b[1;32m      7\u001b[0m \u001b[38;5;28;01mfrom\u001b[39;00m \u001b[38;5;21;01mnexus_dataclasses\u001b[39;00m\u001b[38;5;21;01m.\u001b[39;00m\u001b[38;5;21;01mbackend_config\u001b[39;00m \u001b[38;5;28;01mimport\u001b[39;00m AerConfig\n",
      "File \u001b[0;32m~/CQC/qnexus/qnexus/__init__.py:6\u001b[0m\n\u001b[1;32m      2\u001b[0m \u001b[38;5;66;03m# pylint: disable=useless-import-alias\u001b[39;00m\n\u001b[1;32m      4\u001b[0m \u001b[38;5;28;01mimport\u001b[39;00m \u001b[38;5;21;01mnest_asyncio\u001b[39;00m\n\u001b[0;32m----> 6\u001b[0m \u001b[38;5;28;01mfrom\u001b[39;00m \u001b[38;5;21;01mqnexus\u001b[39;00m \u001b[38;5;28;01mimport\u001b[39;00m context\n\u001b[1;32m      7\u001b[0m \u001b[38;5;28;01mfrom\u001b[39;00m \u001b[38;5;21;01mqnexus\u001b[39;00m\u001b[38;5;21;01m.\u001b[39;00m\u001b[38;5;21;01mclient\u001b[39;00m \u001b[38;5;28;01mimport\u001b[39;00m assignment\n\u001b[1;32m      8\u001b[0m \u001b[38;5;28;01mfrom\u001b[39;00m \u001b[38;5;21;01mqnexus\u001b[39;00m\u001b[38;5;21;01m.\u001b[39;00m\u001b[38;5;21;01mclient\u001b[39;00m \u001b[38;5;28;01mimport\u001b[39;00m auth\n",
      "File \u001b[0;32m~/CQC/qnexus/qnexus/context.py:8\u001b[0m\n\u001b[1;32m      5\u001b[0m \u001b[38;5;28;01mfrom\u001b[39;00m \u001b[38;5;21;01mcontextvars\u001b[39;00m \u001b[38;5;28;01mimport\u001b[39;00m ContextVar, Token\n\u001b[1;32m      6\u001b[0m \u001b[38;5;28;01mfrom\u001b[39;00m \u001b[38;5;21;01mtyping\u001b[39;00m \u001b[38;5;28;01mimport\u001b[39;00m Callable\n\u001b[0;32m----> 8\u001b[0m \u001b[38;5;28;01mfrom\u001b[39;00m \u001b[38;5;21;01mqnexus\u001b[39;00m\u001b[38;5;21;01m.\u001b[39;00m\u001b[38;5;21;01mclient\u001b[39;00m\u001b[38;5;21;01m.\u001b[39;00m\u001b[38;5;21;01mmodels\u001b[39;00m\u001b[38;5;21;01m.\u001b[39;00m\u001b[38;5;21;01mannotations\u001b[39;00m \u001b[38;5;28;01mimport\u001b[39;00m PropertiesDict\n\u001b[1;32m      9\u001b[0m \u001b[38;5;28;01mfrom\u001b[39;00m \u001b[38;5;21;01mqnexus\u001b[39;00m\u001b[38;5;21;01m.\u001b[39;00m\u001b[38;5;21;01mreferences\u001b[39;00m \u001b[38;5;28;01mimport\u001b[39;00m ProjectRef\n\u001b[1;32m     11\u001b[0m logger \u001b[38;5;241m=\u001b[39m logging\u001b[38;5;241m.\u001b[39mgetLogger(\u001b[38;5;18m__name__\u001b[39m)\n",
      "File \u001b[0;32m~/CQC/qnexus/qnexus/client/__init__.py:6\u001b[0m\n\u001b[1;32m      2\u001b[0m \u001b[38;5;28;01mimport\u001b[39;00m \u001b[38;5;21;01mtyping\u001b[39;00m\n\u001b[1;32m      4\u001b[0m \u001b[38;5;28;01mimport\u001b[39;00m \u001b[38;5;21;01mhttpx\u001b[39;00m\n\u001b[0;32m----> 6\u001b[0m \u001b[38;5;28;01mfrom\u001b[39;00m \u001b[38;5;21;01mqnexus\u001b[39;00m\u001b[38;5;21;01m.\u001b[39;00m\u001b[38;5;21;01mclient\u001b[39;00m\u001b[38;5;21;01m.\u001b[39;00m\u001b[38;5;21;01mutils\u001b[39;00m \u001b[38;5;28;01mimport\u001b[39;00m read_token, write_token\n\u001b[1;32m      7\u001b[0m \u001b[38;5;28;01mfrom\u001b[39;00m \u001b[38;5;21;01mqnexus\u001b[39;00m\u001b[38;5;21;01m.\u001b[39;00m\u001b[38;5;21;01mconfig\u001b[39;00m \u001b[38;5;28;01mimport\u001b[39;00m get_config\n\u001b[1;32m      8\u001b[0m \u001b[38;5;28;01mfrom\u001b[39;00m \u001b[38;5;21;01mqnexus\u001b[39;00m\u001b[38;5;21;01m.\u001b[39;00m\u001b[38;5;21;01mexceptions\u001b[39;00m \u001b[38;5;28;01mimport\u001b[39;00m AuthenticationError\n",
      "File \u001b[0;32m~/CQC/qnexus/qnexus/client/utils.py:9\u001b[0m\n\u001b[1;32m      5\u001b[0m \u001b[38;5;28;01mfrom\u001b[39;00m \u001b[38;5;21;01mtyping\u001b[39;00m \u001b[38;5;28;01mimport\u001b[39;00m Any, Dict, Literal, TypeVar\n\u001b[1;32m      7\u001b[0m \u001b[38;5;28;01mfrom\u001b[39;00m \u001b[38;5;21;01mhttpx\u001b[39;00m \u001b[38;5;28;01mimport\u001b[39;00m Response\n\u001b[0;32m----> 9\u001b[0m \u001b[38;5;28;01mfrom\u001b[39;00m \u001b[38;5;21;01mqnexus\u001b[39;00m\u001b[38;5;21;01m.\u001b[39;00m\u001b[38;5;21;01mclient\u001b[39;00m\u001b[38;5;21;01m.\u001b[39;00m\u001b[38;5;21;01mdatabase_iterator\u001b[39;00m \u001b[38;5;28;01mimport\u001b[39;00m DatabaseIterator\n\u001b[1;32m     10\u001b[0m \u001b[38;5;28;01mfrom\u001b[39;00m \u001b[38;5;21;01mqnexus\u001b[39;00m\u001b[38;5;21;01m.\u001b[39;00m\u001b[38;5;21;01mconsts\u001b[39;00m \u001b[38;5;28;01mimport\u001b[39;00m STORE_TOKENS, TOKEN_FILE_PATH\n\u001b[1;32m     11\u001b[0m \u001b[38;5;28;01mimport\u001b[39;00m \u001b[38;5;21;01mqnexus\u001b[39;00m\u001b[38;5;21;01m.\u001b[39;00m\u001b[38;5;21;01mexceptions\u001b[39;00m \u001b[38;5;28;01mas\u001b[39;00m \u001b[38;5;21;01mqnx_exc\u001b[39;00m\n",
      "File \u001b[0;32m~/CQC/qnexus/qnexus/client/database_iterator.py:11\u001b[0m\n\u001b[1;32m      8\u001b[0m \u001b[38;5;28;01mimport\u001b[39;00m \u001b[38;5;21;01mhttpx\u001b[39;00m\n\u001b[1;32m      9\u001b[0m \u001b[38;5;28;01mimport\u001b[39;00m \u001b[38;5;21;01mpandas\u001b[39;00m \u001b[38;5;28;01mas\u001b[39;00m \u001b[38;5;21;01mpd\u001b[39;00m\n\u001b[0;32m---> 11\u001b[0m \u001b[38;5;28;01mfrom\u001b[39;00m \u001b[38;5;21;01mqnexus\u001b[39;00m\u001b[38;5;21;01m.\u001b[39;00m\u001b[38;5;21;01mclient\u001b[39;00m \u001b[38;5;28;01mimport\u001b[39;00m nexus_client\n\u001b[1;32m     12\u001b[0m \u001b[38;5;28;01mfrom\u001b[39;00m \u001b[38;5;21;01mqnexus\u001b[39;00m\u001b[38;5;21;01m.\u001b[39;00m\u001b[38;5;21;01mexceptions\u001b[39;00m \u001b[38;5;28;01mimport\u001b[39;00m ResourceFetchFailed\n\u001b[1;32m     13\u001b[0m \u001b[38;5;28;01mfrom\u001b[39;00m \u001b[38;5;21;01mqnexus\u001b[39;00m\u001b[38;5;21;01m.\u001b[39;00m\u001b[38;5;21;01mreferences\u001b[39;00m \u001b[38;5;28;01mimport\u001b[39;00m Dataframable, DataframableList\n",
      "\u001b[0;31mImportError\u001b[0m: cannot import name 'nexus_client' from partially initialized module 'qnexus.client' (most likely due to a circular import) (/Users/vanyaeccles/CQC/qnexus/qnexus/client/__init__.py)"
     ]
    }
   ],
   "source": [
    "from datetime import datetime\n",
    "\n",
    "from pytket import Circuit\n",
    "\n",
    "import qnexus as qnx\n",
    "\n",
    "from nexus_dataclasses.backend_config import AerConfig\n"
   ]
  },
  {
   "cell_type": "code",
   "execution_count": 21,
   "metadata": {},
   "outputs": [],
   "source": [
    "#qnx.auth.login()"
   ]
  },
  {
   "cell_type": "code",
   "execution_count": null,
   "metadata": {},
   "outputs": [],
   "source": []
  },
  {
   "cell_type": "code",
   "execution_count": 2,
   "metadata": {},
   "outputs": [],
   "source": [
    "project_ref = qnx.project.create(\n",
    "    name=f\"demo_{str(datetime.now())}\",\n",
    "    description=\"a demo project\",\n",
    ")"
   ]
  },
  {
   "cell_type": "code",
   "execution_count": 4,
   "metadata": {},
   "outputs": [
    {
     "data": {
      "text/html": [
       "<div>\n",
       "<style scoped>\n",
       "    .dataframe tbody tr th:only-of-type {\n",
       "        vertical-align: middle;\n",
       "    }\n",
       "\n",
       "    .dataframe tbody tr th {\n",
       "        vertical-align: top;\n",
       "    }\n",
       "\n",
       "    .dataframe thead th {\n",
       "        text-align: right;\n",
       "    }\n",
       "</style>\n",
       "<table border=\"1\" class=\"dataframe\">\n",
       "  <thead>\n",
       "    <tr style=\"text-align: right;\">\n",
       "      <th></th>\n",
       "      <th>name</th>\n",
       "      <th>description</th>\n",
       "      <th>id</th>\n",
       "    </tr>\n",
       "  </thead>\n",
       "  <tbody>\n",
       "    <tr>\n",
       "      <th>0</th>\n",
       "      <td>demo_2024-04-23 17:15:23.138128</td>\n",
       "      <td>a demo project</td>\n",
       "      <td>b218fbec-0a78-4414-be5b-669cdc868bfd</td>\n",
       "    </tr>\n",
       "  </tbody>\n",
       "</table>\n",
       "</div>"
      ],
      "text/plain": [
       "                              name     description  \\\n",
       "0  demo_2024-04-23 17:15:23.138128  a demo project   \n",
       "\n",
       "                                     id  \n",
       "0  b218fbec-0a78-4414-be5b-669cdc868bfd  "
      ]
     },
     "execution_count": 4,
     "metadata": {},
     "output_type": "execute_result"
    }
   ],
   "source": [
    "project_ref.summarize()"
   ]
  },
  {
   "cell_type": "code",
   "execution_count": 4,
   "metadata": {},
   "outputs": [
    {
     "data": {
      "text/html": [
       "<div>\n",
       "<style scoped>\n",
       "    .dataframe tbody tr th:only-of-type {\n",
       "        vertical-align: middle;\n",
       "    }\n",
       "\n",
       "    .dataframe tbody tr th {\n",
       "        vertical-align: top;\n",
       "    }\n",
       "\n",
       "    .dataframe thead th {\n",
       "        text-align: right;\n",
       "    }\n",
       "</style>\n",
       "<table border=\"1\" class=\"dataframe\">\n",
       "  <thead>\n",
       "    <tr style=\"text-align: right;\">\n",
       "      <th></th>\n",
       "      <th>name</th>\n",
       "      <th>decription</th>\n",
       "      <th>id</th>\n",
       "    </tr>\n",
       "  </thead>\n",
       "  <tbody>\n",
       "    <tr>\n",
       "      <th>0</th>\n",
       "      <td>demo_2024-04-22 15:22:57.323512</td>\n",
       "      <td>a demo project</td>\n",
       "      <td>f3601338-f4e2-4745-9c5b-425ca9f3e2ac</td>\n",
       "    </tr>\n",
       "  </tbody>\n",
       "</table>\n",
       "</div>"
      ],
      "text/plain": [
       "                              name      decription  \\\n",
       "0  demo_2024-04-22 15:22:57.323512  a demo project   \n",
       "\n",
       "                                     id  \n",
       "0  f3601338-f4e2-4745-9c5b-425ca9f3e2ac  "
      ]
     },
     "execution_count": 4,
     "metadata": {},
     "output_type": "execute_result"
    }
   ],
   "source": [
    "project_ref.summarize()"
   ]
  },
  {
   "cell_type": "code",
   "execution_count": 5,
   "metadata": {},
   "outputs": [],
   "source": [
    "qnx.project.add_property(\n",
    "    name=\"Parameter_1\",\n",
    "    property_type=\"float\",\n",
    "    project=project_ref,\n",
    "    description=\"Parameter for my iterative algorithm\",\n",
    "    required=False\n",
    ")"
   ]
  },
  {
   "cell_type": "code",
   "execution_count": 2,
   "metadata": {},
   "outputs": [],
   "source": [
    "proj_ref = qnx.project.get_only(name=\"VanyaTest\")"
   ]
  },
  {
   "cell_type": "code",
   "execution_count": 3,
   "metadata": {},
   "outputs": [],
   "source": [
    "circ_iterator= qnx.circuit.get(name=\"Aer\", project_ref=proj_ref)"
   ]
  },
  {
   "cell_type": "code",
   "execution_count": 4,
   "metadata": {},
   "outputs": [
    {
     "data": {
      "text/html": [
       "<div>\n",
       "<style scoped>\n",
       "    .dataframe tbody tr th:only-of-type {\n",
       "        vertical-align: middle;\n",
       "    }\n",
       "\n",
       "    .dataframe tbody tr th {\n",
       "        vertical-align: top;\n",
       "    }\n",
       "\n",
       "    .dataframe thead th {\n",
       "        text-align: right;\n",
       "    }\n",
       "</style>\n",
       "<table border=\"1\" class=\"dataframe\">\n",
       "  <thead>\n",
       "    <tr style=\"text-align: right;\">\n",
       "      <th></th>\n",
       "      <th>name</th>\n",
       "      <th>description</th>\n",
       "      <th>project</th>\n",
       "      <th>id</th>\n",
       "    </tr>\n",
       "  </thead>\n",
       "  <tbody>\n",
       "    <tr>\n",
       "      <th>0</th>\n",
       "      <td>3-qubit Circuit-AerBackend-final</td>\n",
       "      <td>None</td>\n",
       "      <td>VanyaTest</td>\n",
       "      <td>cda8a6e8-b758-4337-b5ff-46b4c7c70e81</td>\n",
       "    </tr>\n",
       "    <tr>\n",
       "      <th>1</th>\n",
       "      <td>3-qubit Circuit-AerBackend-final</td>\n",
       "      <td>None</td>\n",
       "      <td>VanyaTest</td>\n",
       "      <td>82380d42-13b3-4aca-a2bb-821d0dd47aa3</td>\n",
       "    </tr>\n",
       "    <tr>\n",
       "      <th>2</th>\n",
       "      <td>3-qubit Circuit-AerBackend-final</td>\n",
       "      <td>None</td>\n",
       "      <td>VanyaTest</td>\n",
       "      <td>29144ea2-b121-46a3-8dde-31d54c25163f</td>\n",
       "    </tr>\n",
       "    <tr>\n",
       "      <th>3</th>\n",
       "      <td>3-qubit Circuit-AerBackend-final</td>\n",
       "      <td>None</td>\n",
       "      <td>VanyaTest</td>\n",
       "      <td>3b2defe7-13d4-4110-b9e7-12ed0cd077df</td>\n",
       "    </tr>\n",
       "    <tr>\n",
       "      <th>4</th>\n",
       "      <td>3-qubit Circuit-AerBackend-final</td>\n",
       "      <td>None</td>\n",
       "      <td>VanyaTest</td>\n",
       "      <td>9612d4f6-d803-412b-aa86-c7bfaa0b192b</td>\n",
       "    </tr>\n",
       "    <tr>\n",
       "      <th>5</th>\n",
       "      <td>1-qubit Circuit-AerBackend-final</td>\n",
       "      <td>None</td>\n",
       "      <td>VanyaTest</td>\n",
       "      <td>e0067b51-94c3-4997-8ab3-3149223701e6</td>\n",
       "    </tr>\n",
       "  </tbody>\n",
       "</table>\n",
       "</div>"
      ],
      "text/plain": [
       "                               name description    project  \\\n",
       "0  3-qubit Circuit-AerBackend-final        None  VanyaTest   \n",
       "1  3-qubit Circuit-AerBackend-final        None  VanyaTest   \n",
       "2  3-qubit Circuit-AerBackend-final        None  VanyaTest   \n",
       "3  3-qubit Circuit-AerBackend-final        None  VanyaTest   \n",
       "4  3-qubit Circuit-AerBackend-final        None  VanyaTest   \n",
       "5  1-qubit Circuit-AerBackend-final        None  VanyaTest   \n",
       "\n",
       "                                     id  \n",
       "0  cda8a6e8-b758-4337-b5ff-46b4c7c70e81  \n",
       "1  82380d42-13b3-4aca-a2bb-821d0dd47aa3  \n",
       "2  29144ea2-b121-46a3-8dde-31d54c25163f  \n",
       "3  3b2defe7-13d4-4110-b9e7-12ed0cd077df  \n",
       "4  9612d4f6-d803-412b-aa86-c7bfaa0b192b  \n",
       "5  e0067b51-94c3-4997-8ab3-3149223701e6  "
      ]
     },
     "execution_count": 4,
     "metadata": {},
     "output_type": "execute_result"
    }
   ],
   "source": [
    "circ_iterator.list().summarize()"
   ]
  },
  {
   "cell_type": "code",
   "execution_count": 5,
   "metadata": {},
   "outputs": [],
   "source": [
    "my_circuit = circ_iterator.list()[0]"
   ]
  },
  {
   "cell_type": "code",
   "execution_count": 12,
   "metadata": {},
   "outputs": [
    {
     "data": {
      "text/plain": [
       "[TK1(0.5, 0.5, 0.5) q[0]; TK1(0, 0, 1) q[2]; CX q[0], q[1]; Measure q[0] --> c[0]; TK1(0.5, 0.5, 0.5) q[1]; CX q[2], q[1]; Measure q[2] --> c[2]; TK1(0.5, 0.5, 0.5) q[1]; Measure q[1] --> c[1]; ]"
      ]
     },
     "execution_count": 12,
     "metadata": {},
     "output_type": "execute_result"
    }
   ],
   "source": [
    "my_circuit._circuit"
   ]
  },
  {
   "cell_type": "code",
   "execution_count": 10,
   "metadata": {},
   "outputs": [
    {
     "data": {
      "text/plain": [
       "[TK1(0.5, 0.5, 0.5) q[0]; TK1(0, 0, 1) q[2]; CX q[0], q[1]; Measure q[0] --> c[0]; TK1(0.5, 0.5, 0.5) q[1]; H q[0]; CX q[2], q[1]; Measure q[2] --> c[2]; TK1(0.5, 0.5, 0.5) q[1]; Measure q[1] --> c[1]; ]"
      ]
     },
     "execution_count": 10,
     "metadata": {},
     "output_type": "execute_result"
    }
   ],
   "source": [
    "my_c = my_circuit.get_circuit()\n",
    "\n",
    "my_c.H(0)"
   ]
  },
  {
   "cell_type": "code",
   "execution_count": 5,
   "metadata": {},
   "outputs": [],
   "source": [
    "c = Circuit(2,2).H(0).CX(0,1).measure_all()"
   ]
  },
  {
   "cell_type": "code",
   "execution_count": 6,
   "metadata": {},
   "outputs": [
    {
     "ename": "ResourceCreateFailed",
     "evalue": "Failed to create resource with status code: 422, message: {'detail': [{'type': 'missing', 'loc': ['body', 'data', 'attributes', 'name'], 'msg': 'Field required', 'input': {'bits': [['c', [0]], ['c', [1]]], 'commands': [{'args': [['q', [0]]], 'op': {'type': 'H'}}, {'args': [['q', [0]], ['q', [1]]], 'op': {'type': 'CX'}}, {'args': [['q', [0]], ['c', [0]]], 'op': {'type': 'Measure'}}, {'args': [['q', [1]], ['c', [1]]], 'op': {'type': 'Measure'}}], 'created_qubits': [], 'discarded_qubits': [], 'implicit_permutation': [[['q', [0]], ['q', [0]]], [['q', [1]], ['q', [1]]]], 'phase': '0.0', 'qubits': [['q', [0]], ['q', [1]]], 'properties': {}}, 'url': 'https://errors.pydantic.dev/2.5/v/missing'}]}",
     "output_type": "error",
     "traceback": [
      "\u001b[0;31m---------------------------------------------------------------------------\u001b[0m",
      "\u001b[0;31mResourceCreateFailed\u001b[0m                      Traceback (most recent call last)",
      "Cell \u001b[0;32mIn[6], line 1\u001b[0m\n\u001b[0;32m----> 1\u001b[0m my_circuit_ref \u001b[38;5;241m=\u001b[39m \u001b[43mqnx\u001b[49m\u001b[38;5;241;43m.\u001b[39;49m\u001b[43mcircuits\u001b[49m\u001b[38;5;241;43m.\u001b[39;49m\u001b[43mcreate\u001b[49m\u001b[43m(\u001b[49m\n\u001b[1;32m      2\u001b[0m \u001b[43m    \u001b[49m\u001b[43mcircuit\u001b[49m\u001b[38;5;241;43m=\u001b[39;49m\u001b[43mc\u001b[49m\u001b[43m,\u001b[49m\u001b[43m \u001b[49m\n\u001b[1;32m      3\u001b[0m \u001b[43m    \u001b[49m\u001b[43mproject\u001b[49m\u001b[38;5;241;43m=\u001b[39;49m\u001b[43mproject_ref\u001b[49m\u001b[43m,\u001b[49m\n\u001b[1;32m      4\u001b[0m \u001b[43m    \u001b[49m\u001b[38;5;66;43;03m#name=\"My circuit\",\u001b[39;49;00m\n\u001b[1;32m      5\u001b[0m \u001b[43m    \u001b[49m\u001b[38;5;66;43;03m#description=\"A new circuit\",\u001b[39;49;00m\n\u001b[1;32m      6\u001b[0m \u001b[43m    \u001b[49m\u001b[38;5;66;43;03m#properties={\"Parameter_1\": 0.1}\u001b[39;49;00m\n\u001b[1;32m      7\u001b[0m \u001b[43m)\u001b[49m\n",
      "File \u001b[0;32m~/CQC/qnexus/qnexus/client/circuits.py:151\u001b[0m, in \u001b[0;36mcreate\u001b[0;34m(circuit, project, **kwargs)\u001b[0m\n\u001b[1;32m    149\u001b[0m \u001b[38;5;66;03m# https://cqc.atlassian.net/browse/MUS-3054\u001b[39;00m\n\u001b[1;32m    150\u001b[0m \u001b[38;5;28;01mif\u001b[39;00m res\u001b[38;5;241m.\u001b[39mstatus_code \u001b[38;5;241m!=\u001b[39m \u001b[38;5;241m201\u001b[39m:\n\u001b[0;32m--> 151\u001b[0m     \u001b[38;5;28;01mraise\u001b[39;00m qnx_exc\u001b[38;5;241m.\u001b[39mResourceCreateFailed(message\u001b[38;5;241m=\u001b[39mres\u001b[38;5;241m.\u001b[39mjson(), status_code\u001b[38;5;241m=\u001b[39mres\u001b[38;5;241m.\u001b[39mstatus_code)\n\u001b[1;32m    153\u001b[0m res_data_dict \u001b[38;5;241m=\u001b[39m res\u001b[38;5;241m.\u001b[39mjson()[\u001b[38;5;124m\"\u001b[39m\u001b[38;5;124mdata\u001b[39m\u001b[38;5;124m\"\u001b[39m]\n\u001b[1;32m    155\u001b[0m \u001b[38;5;28;01mreturn\u001b[39;00m CircuitRef(\n\u001b[1;32m    156\u001b[0m     \u001b[38;5;28mid\u001b[39m\u001b[38;5;241m=\u001b[39mUUID(res_data_dict[\u001b[38;5;124m\"\u001b[39m\u001b[38;5;124mid\u001b[39m\u001b[38;5;124m\"\u001b[39m]), annotations\u001b[38;5;241m=\u001b[39mannotations, project\u001b[38;5;241m=\u001b[39mproject\n\u001b[1;32m    157\u001b[0m )\n",
      "\u001b[0;31mResourceCreateFailed\u001b[0m: Failed to create resource with status code: 422, message: {'detail': [{'type': 'missing', 'loc': ['body', 'data', 'attributes', 'name'], 'msg': 'Field required', 'input': {'bits': [['c', [0]], ['c', [1]]], 'commands': [{'args': [['q', [0]]], 'op': {'type': 'H'}}, {'args': [['q', [0]], ['q', [1]]], 'op': {'type': 'CX'}}, {'args': [['q', [0]], ['c', [0]]], 'op': {'type': 'Measure'}}, {'args': [['q', [1]], ['c', [1]]], 'op': {'type': 'Measure'}}], 'created_qubits': [], 'discarded_qubits': [], 'implicit_permutation': [[['q', [0]], ['q', [0]]], [['q', [1]], ['q', [1]]]], 'phase': '0.0', 'qubits': [['q', [0]], ['q', [1]]], 'properties': {}}, 'url': 'https://errors.pydantic.dev/2.5/v/missing'}]}"
     ]
    }
   ],
   "source": [
    "my_circuit_ref = qnx.circuit.create(\n",
    "    circuit=c, \n",
    "    project=project_ref,\n",
    "    name=\"My circuit\",\n",
    "    #description=\"A new circuit\",\n",
    "    #properties={\"Parameter_1\": 0.1}\n",
    ")"
   ]
  },
  {
   "cell_type": "code",
   "execution_count": 8,
   "metadata": {},
   "outputs": [
    {
     "data": {
      "text/html": [
       "<div>\n",
       "<style scoped>\n",
       "    .dataframe tbody tr th:only-of-type {\n",
       "        vertical-align: middle;\n",
       "    }\n",
       "\n",
       "    .dataframe tbody tr th {\n",
       "        vertical-align: top;\n",
       "    }\n",
       "\n",
       "    .dataframe thead th {\n",
       "        text-align: right;\n",
       "    }\n",
       "</style>\n",
       "<table border=\"1\" class=\"dataframe\">\n",
       "  <thead>\n",
       "    <tr style=\"text-align: right;\">\n",
       "      <th></th>\n",
       "      <th>name</th>\n",
       "      <th>decription</th>\n",
       "      <th>Parameter_1</th>\n",
       "      <th>project</th>\n",
       "      <th>id</th>\n",
       "    </tr>\n",
       "  </thead>\n",
       "  <tbody>\n",
       "    <tr>\n",
       "      <th>0</th>\n",
       "      <td>My circuit</td>\n",
       "      <td>A new circuit</td>\n",
       "      <td>0.1</td>\n",
       "      <td>demo_2024-04-22 15:22:57.323512</td>\n",
       "      <td>7452e87e-58dd-46d8-8de5-5fb2594bc4c1</td>\n",
       "    </tr>\n",
       "  </tbody>\n",
       "</table>\n",
       "</div>"
      ],
      "text/plain": [
       "         name     decription  Parameter_1                          project  \\\n",
       "0  My circuit  A new circuit          0.1  demo_2024-04-22 15:22:57.323512   \n",
       "\n",
       "                                     id  \n",
       "0  7452e87e-58dd-46d8-8de5-5fb2594bc4c1  "
      ]
     },
     "execution_count": 8,
     "metadata": {},
     "output_type": "execute_result"
    }
   ],
   "source": [
    "my_circuit_ref.summarize()"
   ]
  },
  {
   "cell_type": "code",
   "execution_count": 9,
   "metadata": {},
   "outputs": [],
   "source": [
    "compile_job_ref = qnx.job.compile.run(\n",
    "    name=f\"compile_job_{str(datetime.now())}\",\n",
    "    circuits=my_circuit_ref,\n",
    "    optimisation_level=1,\n",
    "    project=project_ref,\n",
    "    target=AerConfig()\n",
    ")"
   ]
  },
  {
   "cell_type": "code",
   "execution_count": 10,
   "metadata": {},
   "outputs": [
    {
     "data": {
      "text/html": [
       "<div>\n",
       "<style scoped>\n",
       "    .dataframe tbody tr th:only-of-type {\n",
       "        vertical-align: middle;\n",
       "    }\n",
       "\n",
       "    .dataframe tbody tr th {\n",
       "        vertical-align: top;\n",
       "    }\n",
       "\n",
       "    .dataframe thead th {\n",
       "        text-align: right;\n",
       "    }\n",
       "</style>\n",
       "<table border=\"1\" class=\"dataframe\">\n",
       "  <thead>\n",
       "    <tr style=\"text-align: right;\">\n",
       "      <th></th>\n",
       "      <th>name</th>\n",
       "      <th>decription</th>\n",
       "      <th>job_type</th>\n",
       "      <th>last_status</th>\n",
       "      <th>project</th>\n",
       "      <th>id</th>\n",
       "    </tr>\n",
       "  </thead>\n",
       "  <tbody>\n",
       "    <tr>\n",
       "      <th>0</th>\n",
       "      <td>compile-job-infundibuliform-terracotta-twinkli...</td>\n",
       "      <td>None</td>\n",
       "      <td>JobType.Compile</td>\n",
       "      <td>StatusEnum.COMPLETED</td>\n",
       "      <td>placeholder</td>\n",
       "      <td>5b636943-cb08-4168-ba94-a6eaa5ff6ebc</td>\n",
       "    </tr>\n",
       "    <tr>\n",
       "      <th>1</th>\n",
       "      <td>compile-job-adnate-death-reserved-hypothejus</td>\n",
       "      <td>None</td>\n",
       "      <td>JobType.Execute</td>\n",
       "      <td>StatusEnum.COMPLETED</td>\n",
       "      <td>placeholder</td>\n",
       "      <td>fc709079-9ea0-49c8-96c2-1e5acdd2d0dc</td>\n",
       "    </tr>\n",
       "    <tr>\n",
       "      <th>2</th>\n",
       "      <td>compile-job-irregular-st-inflated-alboviolaceus</td>\n",
       "      <td>None</td>\n",
       "      <td>JobType.Compile</td>\n",
       "      <td>StatusEnum.ERROR</td>\n",
       "      <td>placeholder</td>\n",
       "      <td>0acf01f6-15ae-4fc3-b78c-437c2ec7c2c8</td>\n",
       "    </tr>\n",
       "    <tr>\n",
       "      <th>3</th>\n",
       "      <td>compile-job-irregular-green-mischievous-vernum</td>\n",
       "      <td>None</td>\n",
       "      <td>JobType.Compile</td>\n",
       "      <td>StatusEnum.ERROR</td>\n",
       "      <td>placeholder</td>\n",
       "      <td>546d82dd-a7c1-4321-8145-6fb458a87225</td>\n",
       "    </tr>\n",
       "    <tr>\n",
       "      <th>4</th>\n",
       "      <td>compile-job-offset-sulphur-scampering-lacera</td>\n",
       "      <td>None</td>\n",
       "      <td>JobType.Compile</td>\n",
       "      <td>StatusEnum.ERROR</td>\n",
       "      <td>placeholder</td>\n",
       "      <td>03691cb7-6be5-4933-90da-1fde22f44bb4</td>\n",
       "    </tr>\n",
       "    <tr>\n",
       "      <th>...</th>\n",
       "      <td>...</td>\n",
       "      <td>...</td>\n",
       "      <td>...</td>\n",
       "      <td>...</td>\n",
       "      <td>...</td>\n",
       "      <td>...</td>\n",
       "    </tr>\n",
       "    <tr>\n",
       "      <th>198</th>\n",
       "      <td>bingo_compile</td>\n",
       "      <td>None</td>\n",
       "      <td>JobType.Compile</td>\n",
       "      <td>StatusEnum.COMPLETED</td>\n",
       "      <td>placeholder</td>\n",
       "      <td>bcf75689-bdee-47fd-8a6d-8120148f5e22</td>\n",
       "    </tr>\n",
       "    <tr>\n",
       "      <th>199</th>\n",
       "      <td>compile_job_VQE_2024-04-22 15:11:19.260246_0</td>\n",
       "      <td>None</td>\n",
       "      <td>JobType.Compile</td>\n",
       "      <td>StatusEnum.COMPLETED</td>\n",
       "      <td>placeholder</td>\n",
       "      <td>09724c70-eb37-4b85-b265-00af50a16d62</td>\n",
       "    </tr>\n",
       "    <tr>\n",
       "      <th>200</th>\n",
       "      <td>compile_job_VQE_2024-04-22 15:16:45.664260_0</td>\n",
       "      <td>None</td>\n",
       "      <td>JobType.Compile</td>\n",
       "      <td>StatusEnum.COMPLETED</td>\n",
       "      <td>placeholder</td>\n",
       "      <td>1250f41c-7c85-4ba4-afff-a56d73ef9842</td>\n",
       "    </tr>\n",
       "    <tr>\n",
       "      <th>201</th>\n",
       "      <td>compile_job_2024-04-22 15:20:25.850489</td>\n",
       "      <td>None</td>\n",
       "      <td>JobType.Compile</td>\n",
       "      <td>StatusEnum.COMPLETED</td>\n",
       "      <td>placeholder</td>\n",
       "      <td>978f4cff-8f48-474d-9501-cc676178d423</td>\n",
       "    </tr>\n",
       "    <tr>\n",
       "      <th>202</th>\n",
       "      <td>compile_job_2024-04-22 15:23:02.654220</td>\n",
       "      <td>None</td>\n",
       "      <td>JobType.Compile</td>\n",
       "      <td>StatusEnum.COMPLETED</td>\n",
       "      <td>placeholder</td>\n",
       "      <td>d6a89d26-a607-4784-99be-4d77e3001975</td>\n",
       "    </tr>\n",
       "  </tbody>\n",
       "</table>\n",
       "<p>203 rows × 6 columns</p>\n",
       "</div>"
      ],
      "text/plain": [
       "                                                  name decription  \\\n",
       "0    compile-job-infundibuliform-terracotta-twinkli...       None   \n",
       "1         compile-job-adnate-death-reserved-hypothejus       None   \n",
       "2      compile-job-irregular-st-inflated-alboviolaceus       None   \n",
       "3       compile-job-irregular-green-mischievous-vernum       None   \n",
       "4         compile-job-offset-sulphur-scampering-lacera       None   \n",
       "..                                                 ...        ...   \n",
       "198                                      bingo_compile       None   \n",
       "199       compile_job_VQE_2024-04-22 15:11:19.260246_0       None   \n",
       "200       compile_job_VQE_2024-04-22 15:16:45.664260_0       None   \n",
       "201             compile_job_2024-04-22 15:20:25.850489       None   \n",
       "202             compile_job_2024-04-22 15:23:02.654220       None   \n",
       "\n",
       "            job_type           last_status      project  \\\n",
       "0    JobType.Compile  StatusEnum.COMPLETED  placeholder   \n",
       "1    JobType.Execute  StatusEnum.COMPLETED  placeholder   \n",
       "2    JobType.Compile      StatusEnum.ERROR  placeholder   \n",
       "3    JobType.Compile      StatusEnum.ERROR  placeholder   \n",
       "4    JobType.Compile      StatusEnum.ERROR  placeholder   \n",
       "..               ...                   ...          ...   \n",
       "198  JobType.Compile  StatusEnum.COMPLETED  placeholder   \n",
       "199  JobType.Compile  StatusEnum.COMPLETED  placeholder   \n",
       "200  JobType.Compile  StatusEnum.COMPLETED  placeholder   \n",
       "201  JobType.Compile  StatusEnum.COMPLETED  placeholder   \n",
       "202  JobType.Compile  StatusEnum.COMPLETED  placeholder   \n",
       "\n",
       "                                       id  \n",
       "0    5b636943-cb08-4168-ba94-a6eaa5ff6ebc  \n",
       "1    fc709079-9ea0-49c8-96c2-1e5acdd2d0dc  \n",
       "2    0acf01f6-15ae-4fc3-b78c-437c2ec7c2c8  \n",
       "3    546d82dd-a7c1-4321-8145-6fb458a87225  \n",
       "4    03691cb7-6be5-4933-90da-1fde22f44bb4  \n",
       "..                                    ...  \n",
       "198  bcf75689-bdee-47fd-8a6d-8120148f5e22  \n",
       "199  09724c70-eb37-4b85-b265-00af50a16d62  \n",
       "200  1250f41c-7c85-4ba4-afff-a56d73ef9842  \n",
       "201  978f4cff-8f48-474d-9501-cc676178d423  \n",
       "202  d6a89d26-a607-4784-99be-4d77e3001975  \n",
       "\n",
       "[203 rows x 6 columns]"
      ]
     },
     "execution_count": 10,
     "metadata": {},
     "output_type": "execute_result"
    }
   ],
   "source": [
    "qnx.job.filter(name=\"compile\", project_id=project_ref.id).all().summarize()"
   ]
  },
  {
   "cell_type": "code",
   "execution_count": 11,
   "metadata": {},
   "outputs": [
    {
     "data": {
      "text/plain": [
       "JobStatus(status=<StatusEnum.COMPLETED: 'Circuit has completed. Results are ready.'>, message='The job is completed.', error_detail=None, completed_time=datetime.datetime(2024, 4, 22, 14, 23, 3, 547019, tzinfo=datetime.timezone.utc), queued_time=None, submitted_time=datetime.datetime(2024, 4, 22, 14, 23, 2, 859796, tzinfo=datetime.timezone.utc), running_time=None, cancelled_time=None, error_time=None, queue_position=None)"
      ]
     },
     "execution_count": 11,
     "metadata": {},
     "output_type": "execute_result"
    }
   ],
   "source": [
    "qnx.job.wait_for(compile_job_ref)"
   ]
  },
  {
   "cell_type": "code",
   "execution_count": 12,
   "metadata": {},
   "outputs": [
    {
     "data": {
      "text/plain": [
       "CircuitRef(id=UUID('85b5cbe9-3f46-45c1-a119-fad6c548ac19'), annotations=Annotations(name='My circuit-AerBackend-final', description=None, properties={}), project=ProjectRef(id=UUID('f3601338-f4e2-4745-9c5b-425ca9f3e2ac'), annotations=Annotations(name='demo_2024-04-22 15:22:57.323512', description='a demo project', properties={})))"
      ]
     },
     "execution_count": 12,
     "metadata": {},
     "output_type": "execute_result"
    }
   ],
   "source": [
    "compiled_circuit_refs = qnx.job.compile.results(compile_job_ref)\n",
    "\n",
    "compiled_circuit_refs[0].compiled_circuit"
   ]
  },
  {
   "cell_type": "code",
   "execution_count": 13,
   "metadata": {},
   "outputs": [],
   "source": [
    "execute_ref = qnx.job.execute.run(\n",
    "    name=\"My Execute Job\",\n",
    "    circuits=[item.compiled_circuit for item in compiled_circuit_refs],\n",
    "    project=project_ref,\n",
    "    n_shots=[10],\n",
    "    target=AerConfig()\n",
    ")"
   ]
  },
  {
   "cell_type": "code",
   "execution_count": 14,
   "metadata": {},
   "outputs": [
    {
     "data": {
      "text/plain": [
       "JobStatus(status=<StatusEnum.COMPLETED: 'Circuit has completed. Results are ready.'>, message='The job is completed.', error_detail=None, completed_time=datetime.datetime(2024, 4, 22, 14, 23, 19, 395924, tzinfo=datetime.timezone.utc), queued_time=None, submitted_time=datetime.datetime(2024, 4, 22, 14, 23, 18, 973084, tzinfo=datetime.timezone.utc), running_time=None, cancelled_time=None, error_time=None, queue_position=None)"
      ]
     },
     "execution_count": 14,
     "metadata": {},
     "output_type": "execute_result"
    }
   ],
   "source": [
    "await qnx.job.listen_job_status(execute_ref)"
   ]
  },
  {
   "cell_type": "code",
   "execution_count": 15,
   "metadata": {},
   "outputs": [],
   "source": [
    "my_results = [item.backend_result for item in qnx.job.execute.results(execute_ref)]"
   ]
  }
 ],
 "metadata": {
  "kernelspec": {
   "display_name": "qnexus-Rou6F43i-py3.10",
   "language": "python",
   "name": "python3"
  },
  "language_info": {
   "codemirror_mode": {
    "name": "ipython",
    "version": 3
   },
   "file_extension": ".py",
   "mimetype": "text/x-python",
   "name": "python",
   "nbconvert_exporter": "python",
   "pygments_lexer": "ipython3",
   "version": "3.11.6"
  }
 },
 "nbformat": 4,
 "nbformat_minor": 2
}
