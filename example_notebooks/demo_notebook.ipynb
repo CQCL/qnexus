{
 "cells": [
  {
   "cell_type": "code",
   "execution_count": 12,
   "metadata": {},
   "outputs": [],
   "source": [
    "from pytket import Circuit\n",
    "\n",
    "from qnexus.client import auth, circuits, projects\n"
   ]
  },
  {
   "cell_type": "code",
   "execution_count": 14,
   "metadata": {},
   "outputs": [
    {
     "name": "stdout",
     "output_type": "stream",
     "text": [
      "/Users/vanyaeccles/.zshenv:.:1: no such file or directory: /Users/vanyaeccles/.cargo/env\n",
      "🌐 Browser login initiated.\n",
      "╭──────────────────────────────────────────────────────────────────────────────╮\n",
      "│                                                                              │\n",
      "│         Confirm that the browser shows the following code and click 'allow   │\n",
      "│ device':                                                                     │\n",
      "│                                                                              │\n",
      "│                                      2TxWA5                                  │\n",
      "│                                                                              │\n",
      "╰──────────────────────────────────────────────────────────────────────────────╯\n",
      "Browser didn't open automatically? Use this link: https://nexus.quantinuum.com/auth/device/browser?otp=2TxWA5LMbKhUciWcDpSedrrGsjKTaocug82xWDblac-pionx0jPFV4bVTNGPkN5XVNmtM70B7VzYHpdK9ve4ww\n",
      "\u001b[?25h.   Waiting for user to log in via browser.....  Waiting for user to log in via browser...... Waiting for user to log in via browser... .. Waiting for user to log in via browser...  . Waiting for user to log in via browser...    Waiting for user to log in via browser....   Waiting for user to log in via browser.....  Waiting for user to log in via browser...... Waiting for user to log in via browser... .. Waiting for user to log in via browser...  . Waiting for user to log in via browser...    Waiting for user to log in via browser....   Waiting for user to log in via browser.....  Waiting for user to log in via browser...... Waiting for user to log in via browser... .. Waiting for user to log in via browser...  . Waiting for user to log in via browser...    Waiting for user to log in via browser....   Waiting for user to log in via browser.....  Waiting for user to log in via browser...... Waiting for user to log in via browser... .. Waiting for user to log in via browser...  . Waiting for user to log in via browser...    Waiting for user to log in via browser....   Waiting for user to log in via browser.....  Waiting for user to log in via browser...... Waiting for user to log in via browser... .. Waiting for user to log in via browser...  . Waiting for user to log in via browser...    Waiting for user to log in via browser....   Waiting for user to log in via browser.....  Waiting for user to log in via browser...... Waiting for user to log in via browser... .. Waiting for user to log in via browser...  . Waiting for user to log in via browser...    Waiting for user to log in via browser....   Waiting for user to log in via browser.....  Waiting for user to log in via browser...... Waiting for user to log in via browser... .. Waiting for user to log in via browser...  . Waiting for user to log in via browser...    Waiting for user to log in via browser....   Waiting for user to log in via browser.....  Waiting for user to log in via browser...... Waiting for user to log in via browser... .. Waiting for user to log in via browser...  . Waiting for user to log in via browser...    Waiting for user to log in via browser....   Waiting for user to log in via browser.....  Waiting for user to log in via browser...... Waiting for user to log in via browser... .. Waiting for user to log in via browser...  . Waiting for user to log in via browser...    Waiting for user to log in via browser....   Waiting for user to log in via browser.....  Waiting for user to log in via browser...✅ Successfully logged in as vanya.eccles@quantinuum.com using the browser.\n",
      "\n",
      "\u001b[?25hError in callback <function Halo.__init__.<locals>.clean_up at 0x11e9481f0> (for post_run_cell), with arguments args (<ExecutionResult object at 11e449f00, execution_count=14 error_before_exec=None error_in_exec=None info=<ExecutionInfo object at 11e44af50, raw_cell=\"!qnx login\" store_history=True silent=False shell_futures=True cell_id=vscode-notebook-cell:/Users/vanyaeccles/CQC/qnexus/test_notebook.ipynb#W4sZmlsZQ%3D%3D> result=None>,),kwargs {}:\n"
     ]
    },
    {
     "ename": "TypeError",
     "evalue": "Halo.__init__.<locals>.clean_up() takes 0 positional arguments but 1 was given",
     "output_type": "error",
     "traceback": [
      "\u001b[0;31m---------------------------------------------------------------------------\u001b[0m",
      "\u001b[0;31mTypeError\u001b[0m                                 Traceback (most recent call last)",
      "\u001b[0;31mTypeError\u001b[0m: Halo.__init__.<locals>.clean_up() takes 0 positional arguments but 1 was given"
     ]
    }
   ],
   "source": [
    "!qnx login"
   ]
  },
  {
   "cell_type": "code",
   "execution_count": 3,
   "metadata": {},
   "outputs": [],
   "source": [
    "my_proj = projects.submit(name=\"My New Project\", description=\"a demo project\", properties={\"Test Prop\": 1})"
   ]
  },
  {
   "cell_type": "code",
   "execution_count": 6,
   "metadata": {},
   "outputs": [],
   "source": [
    "c = Circuit(2,2).H(0).CX(0,1).measure_all()"
   ]
  },
  {
   "cell_type": "code",
   "execution_count": 8,
   "metadata": {},
   "outputs": [],
   "source": [
    "my_circuit_handle = circuits.submit(\n",
    "    circuit=c, \n",
    "    project=my_proj,\n",
    "    name=\"My circuit\",\n",
    "    description=\"\",\n",
    "    properties={},\n",
    ")"
   ]
  },
  {
   "cell_type": "code",
   "execution_count": 10,
   "metadata": {},
   "outputs": [
    {
     "data": {
      "text/plain": [
       "[H q[0]; CX q[0], q[1]; Measure q[0] --> c[0]; Measure q[1] --> c[1]; ]"
      ]
     },
     "execution_count": 10,
     "metadata": {},
     "output_type": "execute_result"
    }
   ],
   "source": [
    "# Retrieve the circuit\n",
    "circuits.describe(my_circuit_handle)"
   ]
  },
  {
   "cell_type": "code",
   "execution_count": null,
   "metadata": {},
   "outputs": [],
   "source": []
  }
 ],
 "metadata": {
  "kernelspec": {
   "display_name": "qnexus-Rou6F43i-py3.10",
   "language": "python",
   "name": "python3"
  },
  "language_info": {
   "codemirror_mode": {
    "name": "ipython",
    "version": 3
   },
   "file_extension": ".py",
   "mimetype": "text/x-python",
   "name": "python",
   "nbconvert_exporter": "python",
   "pygments_lexer": "ipython3",
   "version": "3.10.6"
  }
 },
 "nbformat": 4,
 "nbformat_minor": 2
}
