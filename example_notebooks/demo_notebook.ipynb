{
 "cells": [
  {
   "cell_type": "code",
   "execution_count": 1,
   "metadata": {},
   "outputs": [],
   "source": [
    "from datetime import datetime\n",
    "\n",
    "from pytket import Circuit\n",
    "\n",
    "from qnexus.client import auth, circuits, projects, jobs\n"
   ]
  },
  {
   "cell_type": "code",
   "execution_count": 2,
   "metadata": {},
   "outputs": [
    {
     "name": "stdout",
     "output_type": "stream",
     "text": [
      "🌐 Browser login initiated.\n"
     ]
    },
    {
     "data": {
      "text/html": [
       "<pre style=\"white-space:pre;overflow-x:auto;line-height:normal;font-family:Menlo,'DejaVu Sans Mono',consolas,'Courier New',monospace\">╭────────────────────────────────────────────────────────────────────────────────────────╮\n",
       "│                                                                                        │\n",
       "│         Confirm that the browser shows the following code and click 'allow device':    │\n",
       "│                                                                                        │\n",
       "│                                      vlNi4K                                            │\n",
       "│                                                                                        │\n",
       "╰────────────────────────────────────────────────────────────────────────────────────────╯\n",
       "</pre>\n"
      ],
      "text/plain": [
       "╭────────────────────────────────────────────────────────────────────────────────────────╮\n",
       "│                                                                                        │\n",
       "│         Confirm that the browser shows the following code and click 'allow device':    │\n",
       "│                                                                                        │\n",
       "│                                      vlNi4K                                            │\n",
       "│                                                                                        │\n",
       "╰────────────────────────────────────────────────────────────────────────────────────────╯\n"
      ]
     },
     "metadata": {},
     "output_type": "display_data"
    },
    {
     "name": "stdout",
     "output_type": "stream",
     "text": [
      "Browser didn't open automatically? Use this link: \u001b[34mhttps://staging.myqos.com/auth/device/browser?otp=vlNi4Ko4L0am6OqsfNRzJzLL1ysp0DFJg4IZKCoLxO3egOyLb9BSIVLklWEryetM1vnOZkWTQsVwHduQYtaKig\n",
      "✅ Successfully logged in as vanya.eccles@quantinuum.com using the browser.\n"
     ]
    }
   ],
   "source": [
    "auth.login()"
   ]
  },
  {
   "cell_type": "code",
   "execution_count": 2,
   "metadata": {},
   "outputs": [],
   "source": [
    "project_ref = projects.submit(\n",
    "    name=f\"demo_{str(datetime.now())}\", \n",
    "    description=\"a demo project\", \n",
    "    properties={}\n",
    ")"
   ]
  },
  {
   "cell_type": "code",
   "execution_count": null,
   "metadata": {},
   "outputs": [],
   "source": [
    "projects.add_property(\n",
    "    project_ref, \n",
    "    name=\"Parameter_1\", \n",
    "    property_type=\"float\", \n",
    "    description=\"Parameter for my iterative algorithm\", \n",
    "    required=False\n",
    ")"
   ]
  },
  {
   "cell_type": "code",
   "execution_count": 3,
   "metadata": {},
   "outputs": [],
   "source": [
    "c = Circuit(2,2).H(0).CX(0,1).measure_all()"
   ]
  },
  {
   "cell_type": "code",
   "execution_count": 4,
   "metadata": {},
   "outputs": [],
   "source": [
    "my_circuit_ref = circuits.submit(\n",
    "    circuit=c, \n",
    "    project=project_ref,\n",
    "    name=\"My circuit\",\n",
    "    description=\"A new circuit\",\n",
    "    properties={\"Parameter_1\": 0.1}\n",
    ")"
   ]
  },
  {
   "cell_type": "code",
   "execution_count": 5,
   "metadata": {},
   "outputs": [
    {
     "data": {
      "text/plain": [
       "[H q[0]; CX q[0], q[1]; Measure q[0] --> c[0]; Measure q[1] --> c[1]; ]"
      ]
     },
     "execution_count": 5,
     "metadata": {},
     "output_type": "execute_result"
    }
   ],
   "source": [
    "# Examine the circuit\n",
    "my_circuit_ref.get_circuit()"
   ]
  },
  {
   "cell_type": "code",
   "execution_count": 6,
   "metadata": {},
   "outputs": [],
   "source": [
    "compile_job_ref = jobs.submit_compile_job(\n",
    "    name=f\"compile_job_{str(datetime.now())}\",\n",
    "    circuits=my_circuit_ref,\n",
    "    optimisation_level=1,\n",
    "    project=project_ref\n",
    ")"
   ]
  },
  {
   "cell_type": "code",
   "execution_count": 7,
   "metadata": {},
   "outputs": [],
   "source": [
    "compiled_circuit_refs = jobs.compilation_results(compile_job_ref)\n",
    "\n",
    "compiled_circuit_refs[0].get_circuit()"
   ]
  },
  {
   "cell_type": "code",
   "execution_count": 9,
   "metadata": {},
   "outputs": [],
   "source": [
    "execute_ref =jobs.submit_execute_job(\n",
    "    name=\"My Execute Job\",\n",
    "    circuits=compiled_circuit_refs,\n",
    "    project=project_ref,\n",
    "    n_shots=[10]\n",
    ")"
   ]
  },
  {
   "cell_type": "code",
   "execution_count": 10,
   "metadata": {},
   "outputs": [
    {
     "data": {
      "text/plain": [
       "JobRef(id=UUID('56229a62-2913-4432-a383-0168a3eab8ca'), annotations=Annotations(name='My Execute Job', description=None, properties={}), job_type=<JobType.Execute: 'PROCESS'>, last_status=<StatusEnum.SUBMITTED: 'Circuit has been submitted.'>, last_message='', project=ProjectRef(id=UUID('28851f04-6476-4041-a29c-141f7a1d623e'), annotations=Annotations(name='demo_2023-12-08 11:58:37.543074', description='a demo project', properties={'Test Prop': 1})))"
      ]
     },
     "execution_count": 10,
     "metadata": {},
     "output_type": "execute_result"
    }
   ],
   "source": [
    "# TODO check on job status"
   ]
  },
  {
   "cell_type": "code",
   "execution_count": 11,
   "metadata": {},
   "outputs": [],
   "source": [
    "my_results = jobs.execution_results(execute_ref)"
   ]
  },
  {
   "cell_type": "code",
   "execution_count": 14,
   "metadata": {},
   "outputs": [
    {
     "data": {
      "text/plain": [
       "BackendResult(q_bits={},c_bits={c[0]: 0, c[1]: 1},counts=None,shots=[[192]\n",
       " [  0]\n",
       " [  0]\n",
       " ...\n",
       " [  0]\n",
       " [192]\n",
       " [192]],state=None,unitary=None,density_matrix=None)"
      ]
     },
     "execution_count": 14,
     "metadata": {},
     "output_type": "execute_result"
    }
   ],
   "source": [
    "my_results[0].get_result()"
   ]
  },
  {
   "cell_type": "code",
   "execution_count": null,
   "metadata": {},
   "outputs": [],
   "source": []
  }
 ],
 "metadata": {
  "kernelspec": {
   "display_name": "qnexus-Rou6F43i-py3.10",
   "language": "python",
   "name": "python3"
  },
  "language_info": {
   "codemirror_mode": {
    "name": "ipython",
    "version": 3
   },
   "file_extension": ".py",
   "mimetype": "text/x-python",
   "name": "python",
   "nbconvert_exporter": "python",
   "pygments_lexer": "ipython3",
   "version": "3.10.6"
  }
 },
 "nbformat": 4,
 "nbformat_minor": 2
}
