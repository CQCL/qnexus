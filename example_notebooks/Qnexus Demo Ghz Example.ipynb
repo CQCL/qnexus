{
 "cells": [
  {
   "cell_type": "markdown",
   "id": "6a65cfc5-96a7-4def-aeb7-85abdd034072",
   "metadata": {},
   "source": [
    "## QNexus Client Demonstration\n",
    "\n",
    "A short demonstration of the Nexus programming environment and our upcoming qnexus client."
   ]
  },
  {
   "cell_type": "code",
   "execution_count": 3,
   "id": "9fa485fd-a5e8-4515-acd5-0350d7a76ba0",
   "metadata": {},
   "outputs": [],
   "source": [
    "import qnexus as qnx"
   ]
  },
  {
   "cell_type": "markdown",
   "id": "70f1e8e4-a983-47ca-a63f-a72ee74ab1d8",
   "metadata": {},
   "source": [
    "### Projects\n",
    "\n",
    "Projects allow us to group remote resources together to be organized and shared with others."
   ]
  },
  {
   "cell_type": "code",
   "execution_count": 2,
   "id": "564418b5-6788-4d31-8230-a6b3f4f09d24",
   "metadata": {},
   "outputs": [],
   "source": [
    "ghz_project = qnx.project.create(\n",
    "    name=\"GHZ state quickstart\",\n",
    "    description=\"A Demonstration of Nexus features\",\n",
    ")"
   ]
  },
  {
   "cell_type": "markdown",
   "id": "3a327a80-d15b-4ce6-a8c1-b183f03182f4",
   "metadata": {},
   "source": [
    "### Pandas integration\n",
    "\n",
    "We provide a `.df()` method on many constructs to display them in a pandas data frame."
   ]
  },
  {
   "cell_type": "code",
   "execution_count": 3,
   "id": "63eaa603-9105-4356-b978-1021e259b9cd",
   "metadata": {},
   "outputs": [
    {
     "data": {
      "text/html": [
       "<div>\n",
       "<style scoped>\n",
       "    .dataframe tbody tr th:only-of-type {\n",
       "        vertical-align: middle;\n",
       "    }\n",
       "\n",
       "    .dataframe tbody tr th {\n",
       "        vertical-align: top;\n",
       "    }\n",
       "\n",
       "    .dataframe thead th {\n",
       "        text-align: right;\n",
       "    }\n",
       "</style>\n",
       "<table border=\"1\" class=\"dataframe\">\n",
       "  <thead>\n",
       "    <tr style=\"text-align: right;\">\n",
       "      <th></th>\n",
       "      <th>name</th>\n",
       "      <th>description</th>\n",
       "      <th>created</th>\n",
       "      <th>modified</th>\n",
       "      <th>contents_modified</th>\n",
       "      <th>id</th>\n",
       "    </tr>\n",
       "  </thead>\n",
       "  <tbody>\n",
       "    <tr>\n",
       "      <th>0</th>\n",
       "      <td>GHZ state quickstart</td>\n",
       "      <td>A Demonstration of Nexus features</td>\n",
       "      <td>2024-05-27 05:46:05.941473+00:00</td>\n",
       "      <td>2024-05-27 05:46:05.941473+00:00</td>\n",
       "      <td>2024-05-27 05:46:05.946637+00:00</td>\n",
       "      <td>1d13e2fa-3e41-4cd1-b271-c76743bf1836</td>\n",
       "    </tr>\n",
       "  </tbody>\n",
       "</table>\n",
       "</div>"
      ],
      "text/plain": [
       "                   name                        description  \\\n",
       "0  GHZ state quickstart  A Demonstration of Nexus features   \n",
       "\n",
       "                           created                         modified  \\\n",
       "0 2024-05-27 05:46:05.941473+00:00 2024-05-27 05:46:05.941473+00:00   \n",
       "\n",
       "                 contents_modified                                    id  \n",
       "0 2024-05-27 05:46:05.946637+00:00  1d13e2fa-3e41-4cd1-b271-c76743bf1836  "
      ]
     },
     "execution_count": 3,
     "metadata": {},
     "output_type": "execute_result"
    }
   ],
   "source": [
    "ghz_project.df()"
   ]
  },
  {
   "cell_type": "markdown",
   "id": "5175ed35-0af1-46e8-9eac-6946f8afe224",
   "metadata": {},
   "source": [
    "### Contexts\n",
    "\n",
    "When working in a project, we can set it as the active context."
   ]
  },
  {
   "cell_type": "code",
   "execution_count": 4,
   "id": "d25266aa-8010-4569-8aec-e179651e47e4",
   "metadata": {},
   "outputs": [
    {
     "data": {
      "text/plain": [
       "<Token var=<ContextVar name='qnexus_project' default=None at 0x7f54fe5ddee0> at 0x7f54fbd4cdc0>"
      ]
     },
     "execution_count": 4,
     "metadata": {},
     "output_type": "execute_result"
    }
   ],
   "source": [
    "qnx.context.set_active_project(ghz_project)"
   ]
  },
  {
   "cell_type": "markdown",
   "id": "8fb6a509-4a3c-42a5-b3b3-2f23bbd23d25",
   "metadata": {},
   "source": [
    "### Pytket\n",
    "\n",
    "The pytket programming environment is included and well supported in Nexus.\n",
    "\n",
    "Here we use it to build a circuit that prepares a GHZ state."
   ]
  },
  {
   "cell_type": "code",
   "execution_count": 2,
   "id": "affb9d5b-8bcc-48e7-b3b6-469039d37f8e",
   "metadata": {},
   "outputs": [],
   "source": [
    "from pytket import Circuit\n",
    "\n",
    "ghz_circuit = Circuit(3, 3).H(0).CX(0,1).CX(1,2)"
   ]
  },
  {
   "cell_type": "code",
   "execution_count": 6,
   "id": "41d2af1a-c8ee-45fd-952f-172632ffcbaf",
   "metadata": {},
   "outputs": [
    {
     "data": {
      "text/html": [
       "\n",
       "\n",
       "\n",
       "\n",
       "\n",
       "\n",
       "<div style=\"resize: vertical; overflow: auto; height: 400px; display: block\">\n",
       "    <iframe srcdoc=\"\n",
       "&lt;!DOCTYPE html&gt;\n",
       "&lt;html lang=&#34;en&#34;&gt;\n",
       "&lt;head&gt;\n",
       "    &lt;meta charset=&#34;UTF-8&#34;&gt;\n",
       "    &lt;!-- Download Vue 3--&gt;\n",
       "&lt;script type=&#34;application/javascript&#34; src=&#34;https://cdn.jsdelivr.net/npm/vue@3&#34;&gt;&lt;/script&gt;\n",
       "&lt;!-- Download Circuit Renderer with styles --&gt;\n",
       "&lt;script type=&#34;application/javascript&#34; src=&#34;https://unpkg.com/pytket-circuit-renderer@0.8/dist/pytket-circuit-renderer.umd.js&#34;&gt;&lt;/script&gt;\n",
       "&lt;link rel=&#34;stylesheet&#34; href=&#34;https://unpkg.com/pytket-circuit-renderer@0.8/dist/pytket-circuit-renderer.css&#34;&gt;\n",
       "&lt;/head&gt;\n",
       "&lt;body&gt;\n",
       "\n",
       "\n",
       "\n",
       "    &lt;div id=&#34;circuit-display-vue-container-81f63938-b9df-4b47-ab55-ab84065cbd2d&#34; class=&#34;pytket-circuit-display-container&#34;&gt;\n",
       "        &lt;div style=&#34;display: none&#34;&gt;\n",
       "            &lt;div id=&#34;circuit-json-to-display&#34;&gt;{&#34;bits&#34;: [[&#34;c&#34;, [0]], [&#34;c&#34;, [1]], [&#34;c&#34;, [2]]], &#34;commands&#34;: [{&#34;args&#34;: [[&#34;q&#34;, [0]]], &#34;op&#34;: {&#34;type&#34;: &#34;H&#34;}}, {&#34;args&#34;: [[&#34;q&#34;, [0]], [&#34;q&#34;, [1]]], &#34;op&#34;: {&#34;type&#34;: &#34;CX&#34;}}, {&#34;args&#34;: [[&#34;q&#34;, [1]], [&#34;q&#34;, [2]]], &#34;op&#34;: {&#34;type&#34;: &#34;CX&#34;}}], &#34;created_qubits&#34;: [], &#34;discarded_qubits&#34;: [], &#34;implicit_permutation&#34;: [[[&#34;q&#34;, [0]], [&#34;q&#34;, [0]]], [[&#34;q&#34;, [1]], [&#34;q&#34;, [1]]], [[&#34;q&#34;, [2]], [&#34;q&#34;, [2]]]], &#34;phase&#34;: &#34;0.0&#34;, &#34;qubits&#34;: [[&#34;q&#34;, [0]], [&#34;q&#34;, [1]], [&#34;q&#34;, [2]]]}&lt;/div&gt;\n",
       "        &lt;/div&gt;\n",
       "        &lt;circuit-display-container\n",
       "                :circuit-element-str=&#34;&#39;#circuit-json-to-display&#39;&#34;\n",
       "                :init-render-options=&#34;initRenderOptions&#34;\n",
       "        &gt;&lt;/circuit-display-container&gt;\n",
       "    &lt;/div&gt;\n",
       "    &lt;script type=&#34;application/javascript&#34;&gt;\n",
       "      const circuitRendererUid = &#34;81f63938-b9df-4b47-ab55-ab84065cbd2d&#34;;\n",
       "      const displayOptions = JSON.parse(&#39;{}&#39;);\n",
       "\n",
       "      // Script to initialise the circuit renderer app\n",
       "\n",
       "const { createApp } = Vue;\n",
       "const circuitDisplayContainer = window[&#34;pytket-circuit-renderer&#34;].default;\n",
       "// Init variables to be shared between circuit display instances\n",
       "if (typeof window.pytketCircuitDisplays === &#34;undefined&#34;) {\n",
       "    window.pytketCircuitDisplays = {};\n",
       "}\n",
       "// Create the root Vue component\n",
       "const app = createApp({\n",
       "    delimiters: [&#39;[[#&#39;, &#39;#]]&#39;],\n",
       "    components: { circuitDisplayContainer },\n",
       "    data () {\n",
       "      return {\n",
       "        initRenderOptions: displayOptions,\n",
       "      }\n",
       "    }\n",
       "})\n",
       "app.config.unwrapInjectedRef = true;\n",
       "app.mount(&#34;#circuit-display-vue-container-&#34;+circuitRendererUid);\n",
       "window.pytketCircuitDisplays[circuitRendererUid] = app;\n",
       "    &lt;/script&gt;\n",
       "\n",
       "\n",
       "\n",
       "&lt;/body&gt;\n",
       "&lt;/html&gt;\n",
       "\"\n",
       "            width=\"100%\" height=\"100%\"\n",
       "            style=\"border: none; outline: none; overflow: auto\"></iframe>\n",
       "</div>\n",
       "\n"
      ],
      "text/plain": [
       "<IPython.core.display.HTML object>"
      ]
     },
     "metadata": {},
     "output_type": "display_data"
    }
   ],
   "source": [
    "from pytket.circuit.display import render_circuit_jupyter as draw\n",
    "\n",
    "draw(ghz_circuit)"
   ]
  },
  {
   "cell_type": "markdown",
   "id": "3602cc01-2e02-4273-95c3-4960c0d5e00d",
   "metadata": {},
   "source": [
    "### Querying and uploading\n",
    "\n",
    "We provide many utilities for working with cloud based resources without handles.\n",
    "\n",
    "By giving names to resources we can avoid duplication and restart notebooks easily."
   ]
  },
  {
   "cell_type": "code",
   "execution_count": 7,
   "id": "6dd01ce9-7250-4c90-8a0e-bbde534056ee",
   "metadata": {},
   "outputs": [],
   "source": [
    "ghz_ref = qnx.circuit.upload(\n",
    "    circuit=ghz_circuit,\n",
    "    name=\"ghz_circuit\",\n",
    "    description=\"A prepared GHZ state\",\n",
    ")"
   ]
  },
  {
   "cell_type": "code",
   "execution_count": 8,
   "id": "b5cb0e72-70e6-4e73-9d96-70dfc7b532c3",
   "metadata": {},
   "outputs": [
    {
     "data": {
      "text/html": [
       "<div>\n",
       "<style scoped>\n",
       "    .dataframe tbody tr th:only-of-type {\n",
       "        vertical-align: middle;\n",
       "    }\n",
       "\n",
       "    .dataframe tbody tr th {\n",
       "        vertical-align: top;\n",
       "    }\n",
       "\n",
       "    .dataframe thead th {\n",
       "        text-align: right;\n",
       "    }\n",
       "</style>\n",
       "<table border=\"1\" class=\"dataframe\">\n",
       "  <thead>\n",
       "    <tr style=\"text-align: right;\">\n",
       "      <th></th>\n",
       "      <th>name</th>\n",
       "      <th>description</th>\n",
       "      <th>created</th>\n",
       "      <th>modified</th>\n",
       "      <th>project</th>\n",
       "      <th>id</th>\n",
       "    </tr>\n",
       "  </thead>\n",
       "  <tbody>\n",
       "    <tr>\n",
       "      <th>0</th>\n",
       "      <td>ghz_circuit</td>\n",
       "      <td>A prepared GHZ state</td>\n",
       "      <td>2024-05-27 05:49:01.184334+00:00</td>\n",
       "      <td>2024-05-27 05:49:01.184334+00:00</td>\n",
       "      <td>GHZ state quickstart</td>\n",
       "      <td>c58a5013-77f5-4067-943d-cd0d8963f28e</td>\n",
       "    </tr>\n",
       "  </tbody>\n",
       "</table>\n",
       "</div>"
      ],
      "text/plain": [
       "          name           description                          created  \\\n",
       "0  ghz_circuit  A prepared GHZ state 2024-05-27 05:49:01.184334+00:00   \n",
       "\n",
       "                          modified               project  \\\n",
       "0 2024-05-27 05:49:01.184334+00:00  GHZ state quickstart   \n",
       "\n",
       "                                     id  \n",
       "0  c58a5013-77f5-4067-943d-cd0d8963f28e  "
      ]
     },
     "execution_count": 8,
     "metadata": {},
     "output_type": "execute_result"
    }
   ],
   "source": [
    "ghz_ref.df()"
   ]
  },
  {
   "cell_type": "markdown",
   "id": "6a9f81f6-2831-4d52-ba8f-51df5cb1daad",
   "metadata": {},
   "source": [
    "### State Vector Simulator\n",
    "\n",
    "As a sanity check, let's compile and run our circuit on a state vector simulator."
   ]
  },
  {
   "cell_type": "code",
   "execution_count": 9,
   "id": "3cdd2de8-999f-4e15-b12c-32b5acac32d7",
   "metadata": {},
   "outputs": [],
   "source": [
    "state_vec_target = qnx.QulacsConfig()"
   ]
  },
  {
   "cell_type": "code",
   "execution_count": 10,
   "id": "f9e2f637-e24b-43a8-8ef5-4e873c2a91fc",
   "metadata": {},
   "outputs": [],
   "source": [
    "ghz_compile_job_ref = qnx.start_compile_job(\n",
    "    circuits=[ghz_ref],\n",
    "    name=\"compile_ghz\",\n",
    "    backend_config=state_vec_target,\n",
    ")"
   ]
  },
  {
   "cell_type": "code",
   "execution_count": 18,
   "id": "14a42f9f-3b95-4a67-85a6-191d583902ea",
   "metadata": {},
   "outputs": [
    {
     "data": {
      "text/plain": [
       "CompileJobRef(id=UUID('4aec06cd-cdb2-4de8-95c2-69b11b8cbbd2'), annotations=Annotations(name='compile_ghz', description=None, properties=OrderedDict(), created=None, modified=None), job_type=<JobType.COMPILE: 'COMPILE'>, last_status=<StatusEnum.SUBMITTED: 'Circuit has been submitted.'>, last_message='', project=ProjectRef(id=UUID('1d13e2fa-3e41-4cd1-b271-c76743bf1836'), annotations=Annotations(name='GHZ state quickstart', description='A Demonstration of Nexus features', properties=OrderedDict(), created=datetime.datetime(2024, 5, 27, 5, 46, 5, 941473, tzinfo=TzInfo(UTC)), modified=datetime.datetime(2024, 5, 27, 5, 46, 5, 941473, tzinfo=TzInfo(UTC))), contents_modified=datetime.datetime(2024, 5, 27, 5, 46, 5, 946637, tzinfo=TzInfo(UTC))))"
      ]
     },
     "execution_count": 18,
     "metadata": {},
     "output_type": "execute_result"
    }
   ],
   "source": [
    "ghz_compile_job_ref"
   ]
  },
  {
   "cell_type": "code",
   "execution_count": 11,
   "id": "5ccf06fe-ce70-4963-b3c9-ffe11f93d3d5",
   "metadata": {},
   "outputs": [
    {
     "data": {
      "text/plain": [
       "JobStatus(status=<StatusEnum.COMPLETED: 'Circuit has completed. Results are ready.'>, message='The job is completed.', error_detail=None, completed_time=datetime.datetime(2024, 5, 27, 5, 50, 12, 831141, tzinfo=datetime.timezone.utc), queued_time=None, submitted_time=datetime.datetime(2024, 5, 27, 5, 50, 4, 629322, tzinfo=datetime.timezone.utc), running_time=datetime.datetime(2024, 5, 27, 5, 50, 4, 682531, tzinfo=datetime.timezone.utc), cancelled_time=None, error_time=None, queue_position=None)"
      ]
     },
     "execution_count": 11,
     "metadata": {},
     "output_type": "execute_result"
    }
   ],
   "source": [
    "qnx.job.wait_for(ghz_compile_job_ref)"
   ]
  },
  {
   "cell_type": "code",
   "execution_count": 12,
   "id": "187029bb-a7b2-4dc6-853d-2738ba008364",
   "metadata": {},
   "outputs": [
    {
     "data": {
      "text/html": [
       "<div>\n",
       "<style scoped>\n",
       "    .dataframe tbody tr th:only-of-type {\n",
       "        vertical-align: middle;\n",
       "    }\n",
       "\n",
       "    .dataframe tbody tr th {\n",
       "        vertical-align: top;\n",
       "    }\n",
       "\n",
       "    .dataframe thead th {\n",
       "        text-align: right;\n",
       "    }\n",
       "</style>\n",
       "<table border=\"1\" class=\"dataframe\">\n",
       "  <thead>\n",
       "    <tr style=\"text-align: right;\">\n",
       "      <th></th>\n",
       "      <th>name</th>\n",
       "      <th>description</th>\n",
       "      <th>created</th>\n",
       "      <th>modified</th>\n",
       "      <th>job_type</th>\n",
       "      <th>last_status</th>\n",
       "      <th>project</th>\n",
       "      <th>id</th>\n",
       "    </tr>\n",
       "  </thead>\n",
       "  <tbody>\n",
       "    <tr>\n",
       "      <th>0</th>\n",
       "      <td>compile_ghz</td>\n",
       "      <td>None</td>\n",
       "      <td>1970-01-01 00:00:00+00:00</td>\n",
       "      <td>1970-01-01 00:00:00+00:00</td>\n",
       "      <td>JobType.COMPILE</td>\n",
       "      <td>StatusEnum.COMPLETED</td>\n",
       "      <td>unimplemented</td>\n",
       "      <td>4aec06cd-cdb2-4de8-95c2-69b11b8cbbd2</td>\n",
       "    </tr>\n",
       "  </tbody>\n",
       "</table>\n",
       "</div>"
      ],
      "text/plain": [
       "          name description                   created  \\\n",
       "0  compile_ghz        None 1970-01-01 00:00:00+00:00   \n",
       "\n",
       "                   modified         job_type           last_status  \\\n",
       "0 1970-01-01 00:00:00+00:00  JobType.COMPILE  StatusEnum.COMPLETED   \n",
       "\n",
       "         project                                    id  \n",
       "0  unimplemented  4aec06cd-cdb2-4de8-95c2-69b11b8cbbd2  "
      ]
     },
     "execution_count": 12,
     "metadata": {},
     "output_type": "execute_result"
    }
   ],
   "source": [
    "qnx.job.get().df()"
   ]
  },
  {
   "cell_type": "code",
   "execution_count": 13,
   "id": "80298207-5821-4951-a67d-5960477afbed",
   "metadata": {},
   "outputs": [
    {
     "data": {
      "text/html": [
       "<div>\n",
       "<style scoped>\n",
       "    .dataframe tbody tr th:only-of-type {\n",
       "        vertical-align: middle;\n",
       "    }\n",
       "\n",
       "    .dataframe tbody tr th {\n",
       "        vertical-align: top;\n",
       "    }\n",
       "\n",
       "    .dataframe thead th {\n",
       "        text-align: right;\n",
       "    }\n",
       "</style>\n",
       "<table border=\"1\" class=\"dataframe\">\n",
       "  <thead>\n",
       "    <tr style=\"text-align: right;\">\n",
       "      <th></th>\n",
       "      <th>name</th>\n",
       "      <th>description</th>\n",
       "      <th>created</th>\n",
       "      <th>modified</th>\n",
       "      <th>project</th>\n",
       "      <th>id</th>\n",
       "    </tr>\n",
       "  </thead>\n",
       "  <tbody>\n",
       "    <tr>\n",
       "      <th>0</th>\n",
       "      <td>ghz_circuit-compilation</td>\n",
       "      <td></td>\n",
       "      <td>2024-05-27 05:50:12.685242+00:00</td>\n",
       "      <td>2024-05-27 05:50:12.685242+00:00</td>\n",
       "      <td>GHZ state quickstart</td>\n",
       "      <td>9dbe1c13-c730-411c-97b4-de3158e68863</td>\n",
       "    </tr>\n",
       "  </tbody>\n",
       "</table>\n",
       "</div>"
      ],
      "text/plain": [
       "                      name description                          created  \\\n",
       "0  ghz_circuit-compilation             2024-05-27 05:50:12.685242+00:00   \n",
       "\n",
       "                          modified               project  \\\n",
       "0 2024-05-27 05:50:12.685242+00:00  GHZ state quickstart   \n",
       "\n",
       "                                     id  \n",
       "0  9dbe1c13-c730-411c-97b4-de3158e68863  "
      ]
     },
     "execution_count": 13,
     "metadata": {},
     "output_type": "execute_result"
    }
   ],
   "source": [
    "qnx.job.results(ghz_compile_job_ref).df()"
   ]
  },
  {
   "cell_type": "code",
   "execution_count": 14,
   "id": "a3d3fd5e-0bf5-48ef-a722-f266cda49957",
   "metadata": {},
   "outputs": [],
   "source": [
    "compile_job_results = qnx.job.results(ghz_compile_job_ref)\n",
    "\n",
    "first_job_result = compile_job_results[0]"
   ]
  },
  {
   "cell_type": "code",
   "execution_count": 15,
   "id": "a43df854-0279-4144-86b7-a44ed11535bd",
   "metadata": {},
   "outputs": [
    {
     "data": {
      "text/html": [
       "\n",
       "\n",
       "\n",
       "\n",
       "\n",
       "\n",
       "<div style=\"resize: vertical; overflow: auto; height: 400px; display: block\">\n",
       "    <iframe srcdoc=\"\n",
       "&lt;!DOCTYPE html&gt;\n",
       "&lt;html lang=&#34;en&#34;&gt;\n",
       "&lt;head&gt;\n",
       "    &lt;meta charset=&#34;UTF-8&#34;&gt;\n",
       "    &lt;!-- Download Vue 3--&gt;\n",
       "&lt;script type=&#34;application/javascript&#34; src=&#34;https://cdn.jsdelivr.net/npm/vue@3&#34;&gt;&lt;/script&gt;\n",
       "&lt;!-- Download Circuit Renderer with styles --&gt;\n",
       "&lt;script type=&#34;application/javascript&#34; src=&#34;https://unpkg.com/pytket-circuit-renderer@0.8/dist/pytket-circuit-renderer.umd.js&#34;&gt;&lt;/script&gt;\n",
       "&lt;link rel=&#34;stylesheet&#34; href=&#34;https://unpkg.com/pytket-circuit-renderer@0.8/dist/pytket-circuit-renderer.css&#34;&gt;\n",
       "&lt;/head&gt;\n",
       "&lt;body&gt;\n",
       "\n",
       "\n",
       "\n",
       "    &lt;div id=&#34;circuit-display-vue-container-9eb4d3ee-c760-4f43-8287-2023f242c242&#34; class=&#34;pytket-circuit-display-container&#34;&gt;\n",
       "        &lt;div style=&#34;display: none&#34;&gt;\n",
       "            &lt;div id=&#34;circuit-json-to-display&#34;&gt;{&#34;bits&#34;: [[&#34;c&#34;, [0]], [&#34;c&#34;, [1]], [&#34;c&#34;, [2]]], &#34;commands&#34;: [{&#34;args&#34;: [[&#34;q&#34;, [0]]], &#34;op&#34;: {&#34;type&#34;: &#34;H&#34;}}, {&#34;args&#34;: [[&#34;q&#34;, [0]], [&#34;q&#34;, [1]]], &#34;op&#34;: {&#34;type&#34;: &#34;CX&#34;}}, {&#34;args&#34;: [[&#34;q&#34;, [1]], [&#34;q&#34;, [2]]], &#34;op&#34;: {&#34;type&#34;: &#34;CX&#34;}}], &#34;created_qubits&#34;: [], &#34;discarded_qubits&#34;: [], &#34;implicit_permutation&#34;: [[[&#34;q&#34;, [0]], [&#34;q&#34;, [0]]], [[&#34;q&#34;, [1]], [&#34;q&#34;, [1]]], [[&#34;q&#34;, [2]], [&#34;q&#34;, [2]]]], &#34;name&#34;: &#34;ghz_circuit&#34;, &#34;phase&#34;: &#34;0.0&#34;, &#34;qubits&#34;: [[&#34;q&#34;, [0]], [&#34;q&#34;, [1]], [&#34;q&#34;, [2]]]}&lt;/div&gt;\n",
       "        &lt;/div&gt;\n",
       "        &lt;circuit-display-container\n",
       "                :circuit-element-str=&#34;&#39;#circuit-json-to-display&#39;&#34;\n",
       "                :init-render-options=&#34;initRenderOptions&#34;\n",
       "        &gt;&lt;/circuit-display-container&gt;\n",
       "    &lt;/div&gt;\n",
       "    &lt;script type=&#34;application/javascript&#34;&gt;\n",
       "      const circuitRendererUid = &#34;9eb4d3ee-c760-4f43-8287-2023f242c242&#34;;\n",
       "      const displayOptions = JSON.parse(&#39;{}&#39;);\n",
       "\n",
       "      // Script to initialise the circuit renderer app\n",
       "\n",
       "const { createApp } = Vue;\n",
       "const circuitDisplayContainer = window[&#34;pytket-circuit-renderer&#34;].default;\n",
       "// Init variables to be shared between circuit display instances\n",
       "if (typeof window.pytketCircuitDisplays === &#34;undefined&#34;) {\n",
       "    window.pytketCircuitDisplays = {};\n",
       "}\n",
       "// Create the root Vue component\n",
       "const app = createApp({\n",
       "    delimiters: [&#39;[[#&#39;, &#39;#]]&#39;],\n",
       "    components: { circuitDisplayContainer },\n",
       "    data () {\n",
       "      return {\n",
       "        initRenderOptions: displayOptions,\n",
       "      }\n",
       "    }\n",
       "})\n",
       "app.config.unwrapInjectedRef = true;\n",
       "app.mount(&#34;#circuit-display-vue-container-&#34;+circuitRendererUid);\n",
       "window.pytketCircuitDisplays[circuitRendererUid] = app;\n",
       "    &lt;/script&gt;\n",
       "\n",
       "\n",
       "\n",
       "&lt;/body&gt;\n",
       "&lt;/html&gt;\n",
       "\"\n",
       "            width=\"100%\" height=\"100%\"\n",
       "            style=\"border: none; outline: none; overflow: auto\"></iframe>\n",
       "</div>\n",
       "\n"
      ],
      "text/plain": [
       "<IPython.core.display.HTML object>"
      ]
     },
     "metadata": {},
     "output_type": "display_data"
    }
   ],
   "source": [
    "input_circuit_ref = first_job_result.get_input()\n",
    "\n",
    "input_circuit = input_circuit_ref.download_circuit()\n",
    "\n",
    "draw(input_circuit)"
   ]
  },
  {
   "cell_type": "markdown",
   "id": "246995a2-6b67-4fb4-84b2-dee0f4588d89",
   "metadata": {},
   "source": [
    "### Compilation output\n",
    "\n",
    "We can examine the circuits in the web UI, or download them into our session."
   ]
  },
  {
   "cell_type": "code",
   "execution_count": 16,
   "id": "52fcaf4c-9a37-4b16-abaf-1fbd1fbc634a",
   "metadata": {},
   "outputs": [
    {
     "data": {
      "text/html": [
       "\n",
       "\n",
       "\n",
       "\n",
       "\n",
       "\n",
       "<div style=\"resize: vertical; overflow: auto; height: 400px; display: block\">\n",
       "    <iframe srcdoc=\"\n",
       "&lt;!DOCTYPE html&gt;\n",
       "&lt;html lang=&#34;en&#34;&gt;\n",
       "&lt;head&gt;\n",
       "    &lt;meta charset=&#34;UTF-8&#34;&gt;\n",
       "    &lt;!-- Download Vue 3--&gt;\n",
       "&lt;script type=&#34;application/javascript&#34; src=&#34;https://cdn.jsdelivr.net/npm/vue@3&#34;&gt;&lt;/script&gt;\n",
       "&lt;!-- Download Circuit Renderer with styles --&gt;\n",
       "&lt;script type=&#34;application/javascript&#34; src=&#34;https://unpkg.com/pytket-circuit-renderer@0.8/dist/pytket-circuit-renderer.umd.js&#34;&gt;&lt;/script&gt;\n",
       "&lt;link rel=&#34;stylesheet&#34; href=&#34;https://unpkg.com/pytket-circuit-renderer@0.8/dist/pytket-circuit-renderer.css&#34;&gt;\n",
       "&lt;/head&gt;\n",
       "&lt;body&gt;\n",
       "\n",
       "\n",
       "\n",
       "    &lt;div id=&#34;circuit-display-vue-container-b72b7488-1d97-49b9-bbec-a5fc05820db4&#34; class=&#34;pytket-circuit-display-container&#34;&gt;\n",
       "        &lt;div style=&#34;display: none&#34;&gt;\n",
       "            &lt;div id=&#34;circuit-json-to-display&#34;&gt;{&#34;bits&#34;: [[&#34;c&#34;, [0]], [&#34;c&#34;, [1]], [&#34;c&#34;, [2]]], &#34;commands&#34;: [{&#34;args&#34;: [[&#34;q&#34;, [0]]], &#34;op&#34;: {&#34;params&#34;: [&#34;1/2&#34;], &#34;type&#34;: &#34;Rz&#34;}}, {&#34;args&#34;: [[&#34;q&#34;, [0]]], &#34;op&#34;: {&#34;params&#34;: [&#34;1/2&#34;], &#34;type&#34;: &#34;Rx&#34;}}, {&#34;args&#34;: [[&#34;q&#34;, [0]]], &#34;op&#34;: {&#34;params&#34;: [&#34;1/2&#34;], &#34;type&#34;: &#34;Rz&#34;}}, {&#34;args&#34;: [[&#34;q&#34;, [0]], [&#34;q&#34;, [1]]], &#34;op&#34;: {&#34;type&#34;: &#34;CX&#34;}}, {&#34;args&#34;: [[&#34;q&#34;, [1]], [&#34;q&#34;, [2]]], &#34;op&#34;: {&#34;type&#34;: &#34;CX&#34;}}], &#34;created_qubits&#34;: [], &#34;discarded_qubits&#34;: [], &#34;implicit_permutation&#34;: [[[&#34;q&#34;, [0]], [&#34;q&#34;, [0]]], [[&#34;q&#34;, [1]], [&#34;q&#34;, [1]]], [[&#34;q&#34;, [2]], [&#34;q&#34;, [2]]]], &#34;name&#34;: &#34;ghz_circuit-QulacsBackend-final&#34;, &#34;phase&#34;: &#34;0.5&#34;, &#34;qubits&#34;: [[&#34;q&#34;, [0]], [&#34;q&#34;, [1]], [&#34;q&#34;, [2]]]}&lt;/div&gt;\n",
       "        &lt;/div&gt;\n",
       "        &lt;circuit-display-container\n",
       "                :circuit-element-str=&#34;&#39;#circuit-json-to-display&#39;&#34;\n",
       "                :init-render-options=&#34;initRenderOptions&#34;\n",
       "        &gt;&lt;/circuit-display-container&gt;\n",
       "    &lt;/div&gt;\n",
       "    &lt;script type=&#34;application/javascript&#34;&gt;\n",
       "      const circuitRendererUid = &#34;b72b7488-1d97-49b9-bbec-a5fc05820db4&#34;;\n",
       "      const displayOptions = JSON.parse(&#39;{}&#39;);\n",
       "\n",
       "      // Script to initialise the circuit renderer app\n",
       "\n",
       "const { createApp } = Vue;\n",
       "const circuitDisplayContainer = window[&#34;pytket-circuit-renderer&#34;].default;\n",
       "// Init variables to be shared between circuit display instances\n",
       "if (typeof window.pytketCircuitDisplays === &#34;undefined&#34;) {\n",
       "    window.pytketCircuitDisplays = {};\n",
       "}\n",
       "// Create the root Vue component\n",
       "const app = createApp({\n",
       "    delimiters: [&#39;[[#&#39;, &#39;#]]&#39;],\n",
       "    components: { circuitDisplayContainer },\n",
       "    data () {\n",
       "      return {\n",
       "        initRenderOptions: displayOptions,\n",
       "      }\n",
       "    }\n",
       "})\n",
       "app.config.unwrapInjectedRef = true;\n",
       "app.mount(&#34;#circuit-display-vue-container-&#34;+circuitRendererUid);\n",
       "window.pytketCircuitDisplays[circuitRendererUid] = app;\n",
       "    &lt;/script&gt;\n",
       "\n",
       "\n",
       "\n",
       "&lt;/body&gt;\n",
       "&lt;/html&gt;\n",
       "\"\n",
       "            width=\"100%\" height=\"100%\"\n",
       "            style=\"border: none; outline: none; overflow: auto\"></iframe>\n",
       "</div>\n",
       "\n"
      ],
      "text/plain": [
       "<IPython.core.display.HTML object>"
      ]
     },
     "metadata": {},
     "output_type": "display_data"
    }
   ],
   "source": [
    "compiled_circuit_ref = first_job_result.get_output()\n",
    "\n",
    "compiled_circuit = compiled_circuit_ref.download_circuit()\n",
    "\n",
    "draw(compiled_circuit)\n"
   ]
  },
  {
   "cell_type": "markdown",
   "id": "4e98c5dd-d2ef-47b7-b9f7-1fa3538b1b4a",
   "metadata": {},
   "source": [
    "### Execution\n",
    "\n",
    "We can then execute a circuit on a target device without needing to re-upload it."
   ]
  },
  {
   "cell_type": "code",
   "execution_count": 19,
   "id": "f78aab8d-22a4-431d-bca8-7827253cd20e",
   "metadata": {},
   "outputs": [],
   "source": [
    "ghz_execute_job_ref = qnx.start_execute_job(\n",
    "    circuits=[compiled_circuit_ref], # <- Don't have to download, can just use the reference.\n",
    "    name=\"execute_ghz\",\n",
    "    backend_config=state_vec_target,\n",
    "    n_shots=[None],\n",
    ")"
   ]
  },
  {
   "cell_type": "code",
   "execution_count": 20,
   "id": "56729e81-f409-45c9-b7a7-ff15b9e803ff",
   "metadata": {},
   "outputs": [
    {
     "data": {
      "text/html": [
       "<div>\n",
       "<style scoped>\n",
       "    .dataframe tbody tr th:only-of-type {\n",
       "        vertical-align: middle;\n",
       "    }\n",
       "\n",
       "    .dataframe tbody tr th {\n",
       "        vertical-align: top;\n",
       "    }\n",
       "\n",
       "    .dataframe thead th {\n",
       "        text-align: right;\n",
       "    }\n",
       "</style>\n",
       "<table border=\"1\" class=\"dataframe\">\n",
       "  <thead>\n",
       "    <tr style=\"text-align: right;\">\n",
       "      <th></th>\n",
       "      <th>name</th>\n",
       "      <th>description</th>\n",
       "      <th>created</th>\n",
       "      <th>modified</th>\n",
       "      <th>job_type</th>\n",
       "      <th>last_status</th>\n",
       "      <th>project</th>\n",
       "      <th>id</th>\n",
       "    </tr>\n",
       "  </thead>\n",
       "  <tbody>\n",
       "    <tr>\n",
       "      <th>0</th>\n",
       "      <td>compile_ghz</td>\n",
       "      <td>None</td>\n",
       "      <td>1970-01-01 00:00:00+00:00</td>\n",
       "      <td>1970-01-01 00:00:00+00:00</td>\n",
       "      <td>JobType.COMPILE</td>\n",
       "      <td>StatusEnum.COMPLETED</td>\n",
       "      <td>unimplemented</td>\n",
       "      <td>4aec06cd-cdb2-4de8-95c2-69b11b8cbbd2</td>\n",
       "    </tr>\n",
       "    <tr>\n",
       "      <th>1</th>\n",
       "      <td>execute_ghz</td>\n",
       "      <td>None</td>\n",
       "      <td>1970-01-01 00:00:00+00:00</td>\n",
       "      <td>1970-01-01 00:00:00+00:00</td>\n",
       "      <td>JobType.EXECUTE</td>\n",
       "      <td>StatusEnum.COMPLETED</td>\n",
       "      <td>unimplemented</td>\n",
       "      <td>8e4df623-0162-48b4-a6dc-9133aea8287f</td>\n",
       "    </tr>\n",
       "  </tbody>\n",
       "</table>\n",
       "</div>"
      ],
      "text/plain": [
       "          name description                   created  \\\n",
       "0  compile_ghz        None 1970-01-01 00:00:00+00:00   \n",
       "1  execute_ghz        None 1970-01-01 00:00:00+00:00   \n",
       "\n",
       "                   modified         job_type           last_status  \\\n",
       "0 1970-01-01 00:00:00+00:00  JobType.COMPILE  StatusEnum.COMPLETED   \n",
       "1 1970-01-01 00:00:00+00:00  JobType.EXECUTE  StatusEnum.COMPLETED   \n",
       "\n",
       "         project                                    id  \n",
       "0  unimplemented  4aec06cd-cdb2-4de8-95c2-69b11b8cbbd2  \n",
       "1  unimplemented  8e4df623-0162-48b4-a6dc-9133aea8287f  "
      ]
     },
     "execution_count": 20,
     "metadata": {},
     "output_type": "execute_result"
    }
   ],
   "source": [
    "qnx.job.get().df()"
   ]
  },
  {
   "cell_type": "code",
   "execution_count": 21,
   "id": "738af2e1-6f15-40d2-b70d-16b0c98b6ad3",
   "metadata": {},
   "outputs": [
    {
     "data": {
      "text/plain": [
       "JobStatus(status=<StatusEnum.COMPLETED: 'Circuit has completed. Results are ready.'>, message='The job is completed.', error_detail=None, completed_time=datetime.datetime(2024, 5, 27, 5, 55, 19, 561858, tzinfo=datetime.timezone.utc), queued_time=None, submitted_time=datetime.datetime(2024, 5, 27, 5, 55, 16, 475116, tzinfo=datetime.timezone.utc), running_time=datetime.datetime(2024, 5, 27, 5, 55, 16, 720920, tzinfo=datetime.timezone.utc), cancelled_time=None, error_time=None, queue_position=None)"
      ]
     },
     "execution_count": 21,
     "metadata": {},
     "output_type": "execute_result"
    }
   ],
   "source": [
    "qnx.job.wait_for(ghz_execute_job_ref)"
   ]
  },
  {
   "cell_type": "code",
   "execution_count": 22,
   "id": "99bd639e-78a9-4642-a47f-116f93331586",
   "metadata": {},
   "outputs": [],
   "source": [
    "execute_job_result = qnx.job.results(ghz_execute_job_ref)\n",
    "\n",
    "first_execution_result = execute_job_result[0]\n",
    "\n",
    "backend_result = first_execution_result.download_result()"
   ]
  },
  {
   "cell_type": "markdown",
   "id": "680bfb1c-2795-491e-892a-af46e268bd20",
   "metadata": {},
   "source": [
    "### Results\n",
    "\n",
    "We can see that we do get our expected outcome of a superposition of `|000>` and `|111>`"
   ]
  },
  {
   "cell_type": "code",
   "execution_count": 23,
   "id": "fe19950e-b59c-4f66-b723-338728317a9a",
   "metadata": {},
   "outputs": [
    {
     "data": {
      "text/plain": [
       "array([0.70710678+6.77244997e-17j, 0.        +0.00000000e+00j,\n",
       "       0.        +0.00000000e+00j, 0.        +0.00000000e+00j,\n",
       "       0.        +0.00000000e+00j, 0.        +0.00000000e+00j,\n",
       "       0.        +0.00000000e+00j, 0.70710678-4.32978028e-17j])"
      ]
     },
     "execution_count": 23,
     "metadata": {},
     "output_type": "execute_result"
    }
   ],
   "source": [
    "backend_result.get_state()"
   ]
  },
  {
   "cell_type": "markdown",
   "id": "b8479b95-55f6-4b91-b5e3-e2081ba61b3e",
   "metadata": {},
   "source": [
    "### Measurements\n",
    "\n",
    "We should expect that if we perform a measurement in the X basis on the third qubit, that we will produce one of two bell states depending on the outcome."
   ]
  },
  {
   "cell_type": "code",
   "execution_count": 24,
   "id": "2bb88c7d-3b97-49c1-b7c2-5c94718227fa",
   "metadata": {},
   "outputs": [
    {
     "data": {
      "text/plain": [
       "[H q[0]; CX q[0], q[1]; CX q[1], q[2]; H q[2]; Measure q[2] --> c[0]; Barrier q[0], q[1], q[2]; Measure q[0] --> c[1]; Measure q[1] --> c[2]; ]"
      ]
     },
     "execution_count": 24,
     "metadata": {},
     "output_type": "execute_result"
    }
   ],
   "source": [
    "ghz_measure_circuit = ghz_ref.download_circuit()\n",
    "\n",
    "# Measurement in the X basis to register 0.\n",
    "ghz_measure_circuit.H(2).Measure(2, 0)\n",
    "\n",
    "# Measurements in the Z basis of the remaining qubits into registers 1 and 2.\n",
    "ghz_measure_circuit.add_barrier([0,1,2]).Measure(0, 1).Measure(1, 2)"
   ]
  },
  {
   "cell_type": "code",
   "execution_count": 25,
   "id": "2805bbcb-9d21-437c-afd4-695aa5e471f7",
   "metadata": {},
   "outputs": [
    {
     "data": {
      "text/html": [
       "\n",
       "\n",
       "\n",
       "\n",
       "\n",
       "\n",
       "<div style=\"resize: vertical; overflow: auto; height: 400px; display: block\">\n",
       "    <iframe srcdoc=\"\n",
       "&lt;!DOCTYPE html&gt;\n",
       "&lt;html lang=&#34;en&#34;&gt;\n",
       "&lt;head&gt;\n",
       "    &lt;meta charset=&#34;UTF-8&#34;&gt;\n",
       "    &lt;!-- Download Vue 3--&gt;\n",
       "&lt;script type=&#34;application/javascript&#34; src=&#34;https://cdn.jsdelivr.net/npm/vue@3&#34;&gt;&lt;/script&gt;\n",
       "&lt;!-- Download Circuit Renderer with styles --&gt;\n",
       "&lt;script type=&#34;application/javascript&#34; src=&#34;https://unpkg.com/pytket-circuit-renderer@0.8/dist/pytket-circuit-renderer.umd.js&#34;&gt;&lt;/script&gt;\n",
       "&lt;link rel=&#34;stylesheet&#34; href=&#34;https://unpkg.com/pytket-circuit-renderer@0.8/dist/pytket-circuit-renderer.css&#34;&gt;\n",
       "&lt;/head&gt;\n",
       "&lt;body&gt;\n",
       "\n",
       "\n",
       "\n",
       "    &lt;div id=&#34;circuit-display-vue-container-c1073ebe-5f03-4cb0-a43e-5dc675fc3325&#34; class=&#34;pytket-circuit-display-container&#34;&gt;\n",
       "        &lt;div style=&#34;display: none&#34;&gt;\n",
       "            &lt;div id=&#34;circuit-json-to-display&#34;&gt;{&#34;bits&#34;: [[&#34;c&#34;, [0]], [&#34;c&#34;, [1]], [&#34;c&#34;, [2]]], &#34;commands&#34;: [{&#34;args&#34;: [[&#34;q&#34;, [0]]], &#34;op&#34;: {&#34;type&#34;: &#34;H&#34;}}, {&#34;args&#34;: [[&#34;q&#34;, [0]], [&#34;q&#34;, [1]]], &#34;op&#34;: {&#34;type&#34;: &#34;CX&#34;}}, {&#34;args&#34;: [[&#34;q&#34;, [1]], [&#34;q&#34;, [2]]], &#34;op&#34;: {&#34;type&#34;: &#34;CX&#34;}}, {&#34;args&#34;: [[&#34;q&#34;, [2]]], &#34;op&#34;: {&#34;type&#34;: &#34;H&#34;}}, {&#34;args&#34;: [[&#34;q&#34;, [2]], [&#34;c&#34;, [0]]], &#34;op&#34;: {&#34;type&#34;: &#34;Measure&#34;}}, {&#34;args&#34;: [[&#34;q&#34;, [0]], [&#34;q&#34;, [1]], [&#34;q&#34;, [2]]], &#34;op&#34;: {&#34;data&#34;: &#34;&#34;, &#34;signature&#34;: [&#34;Q&#34;, &#34;Q&#34;, &#34;Q&#34;], &#34;type&#34;: &#34;Barrier&#34;}}, {&#34;args&#34;: [[&#34;q&#34;, [0]], [&#34;c&#34;, [1]]], &#34;op&#34;: {&#34;type&#34;: &#34;Measure&#34;}}, {&#34;args&#34;: [[&#34;q&#34;, [1]], [&#34;c&#34;, [2]]], &#34;op&#34;: {&#34;type&#34;: &#34;Measure&#34;}}], &#34;created_qubits&#34;: [], &#34;discarded_qubits&#34;: [], &#34;implicit_permutation&#34;: [[[&#34;q&#34;, [0]], [&#34;q&#34;, [0]]], [[&#34;q&#34;, [1]], [&#34;q&#34;, [1]]], [[&#34;q&#34;, [2]], [&#34;q&#34;, [2]]]], &#34;name&#34;: &#34;ghz_circuit&#34;, &#34;phase&#34;: &#34;0.0&#34;, &#34;qubits&#34;: [[&#34;q&#34;, [0]], [&#34;q&#34;, [1]], [&#34;q&#34;, [2]]]}&lt;/div&gt;\n",
       "        &lt;/div&gt;\n",
       "        &lt;circuit-display-container\n",
       "                :circuit-element-str=&#34;&#39;#circuit-json-to-display&#39;&#34;\n",
       "                :init-render-options=&#34;initRenderOptions&#34;\n",
       "        &gt;&lt;/circuit-display-container&gt;\n",
       "    &lt;/div&gt;\n",
       "    &lt;script type=&#34;application/javascript&#34;&gt;\n",
       "      const circuitRendererUid = &#34;c1073ebe-5f03-4cb0-a43e-5dc675fc3325&#34;;\n",
       "      const displayOptions = JSON.parse(&#39;{}&#39;);\n",
       "\n",
       "      // Script to initialise the circuit renderer app\n",
       "\n",
       "const { createApp } = Vue;\n",
       "const circuitDisplayContainer = window[&#34;pytket-circuit-renderer&#34;].default;\n",
       "// Init variables to be shared between circuit display instances\n",
       "if (typeof window.pytketCircuitDisplays === &#34;undefined&#34;) {\n",
       "    window.pytketCircuitDisplays = {};\n",
       "}\n",
       "// Create the root Vue component\n",
       "const app = createApp({\n",
       "    delimiters: [&#39;[[#&#39;, &#39;#]]&#39;],\n",
       "    components: { circuitDisplayContainer },\n",
       "    data () {\n",
       "      return {\n",
       "        initRenderOptions: displayOptions,\n",
       "      }\n",
       "    }\n",
       "})\n",
       "app.config.unwrapInjectedRef = true;\n",
       "app.mount(&#34;#circuit-display-vue-container-&#34;+circuitRendererUid);\n",
       "window.pytketCircuitDisplays[circuitRendererUid] = app;\n",
       "    &lt;/script&gt;\n",
       "\n",
       "\n",
       "\n",
       "&lt;/body&gt;\n",
       "&lt;/html&gt;\n",
       "\"\n",
       "            width=\"100%\" height=\"100%\"\n",
       "            style=\"border: none; outline: none; overflow: auto\"></iframe>\n",
       "</div>\n",
       "\n"
      ],
      "text/plain": [
       "<IPython.core.display.HTML object>"
      ]
     },
     "metadata": {},
     "output_type": "display_data"
    }
   ],
   "source": [
    "draw(ghz_measure_circuit)"
   ]
  },
  {
   "cell_type": "code",
   "execution_count": 28,
   "id": "cd1bc0b2-9efb-46e8-ae20-736a0abfc337",
   "metadata": {},
   "outputs": [],
   "source": [
    "def compile_and_execute(circuit_ref: qnx.circuit.CircuitRef):\n",
    "    \"\"\"Compile and execute a circuit on the H1-Emulator.\"\"\"\n",
    "\n",
    "    counts_target = qnx.QuantinuumConfig(device_name=\"H1-Emulator\")\n",
    "    compiled_circuit= qnx.compile(\n",
    "        circuits=[circuit_ref],\n",
    "        name=f\"compile_{circuit_ref.annotations.name}\",\n",
    "        backend_config=counts_target,\n",
    "    )[0]\n",
    "\n",
    "    result = qnx.execute(\n",
    "        circuits=[compiled_circuit_ref],\n",
    "        name=f\"execute_{circuit_ref.annotations.name}\",\n",
    "        backend_config=counts_target,\n",
    "        n_shots=[1024],\n",
    "    )[0]\n",
    "\n",
    "    return result"
   ]
  },
  {
   "cell_type": "code",
   "execution_count": 26,
   "id": "918533c6-f8f8-4e7c-aa7c-6bce0d499e95",
   "metadata": {},
   "outputs": [],
   "source": [
    "measure_ghz_ref = qnx.circuit.upload(\n",
    "    circuit=ghz_measure_circuit,\n",
    "    name=\"measure_ghz_circuit\",\n",
    "    description=\"A GHZ state with a measurement on the 3rd qubit then the other qubits\",\n",
    ")"
   ]
  },
  {
   "cell_type": "code",
   "execution_count": 29,
   "id": "8cf806c4-daa3-4e45-8cad-81a39d7dffe1",
   "metadata": {},
   "outputs": [],
   "source": [
    "backend_result = compile_and_execute(measure_ghz_ref)"
   ]
  },
  {
   "cell_type": "markdown",
   "id": "ff4899ab-da69-42ee-9cca-a1a57bf7008c",
   "metadata": {},
   "source": [
    "### Results\n",
    "\n",
    "We can see that we do get two bell states depending on the first measurement."
   ]
  },
  {
   "cell_type": "code",
   "execution_count": 30,
   "id": "a0ad3452-9dbb-426e-b308-d1dd822d5e1b",
   "metadata": {},
   "outputs": [
    {
     "data": {
      "text/plain": [
       "Counter({(1, 0, 0): 285,\n",
       "         (0, 0, 0): 249,\n",
       "         (1, 1, 1): 244,\n",
       "         (0, 1, 1): 243,\n",
       "         (1, 0, 1): 2,\n",
       "         (1, 1, 0): 1})"
      ]
     },
     "execution_count": 30,
     "metadata": {},
     "output_type": "execute_result"
    }
   ],
   "source": [
    "backend_result.get_counts()"
   ]
  }
 ],
 "metadata": {
  "kernelspec": {
   "display_name": "Python 3 (ipykernel)",
   "language": "python",
   "name": "python3"
  },
  "language_info": {
   "codemirror_mode": {
    "name": "ipython",
    "version": 3
   },
   "file_extension": ".py",
   "mimetype": "text/x-python",
   "name": "python",
   "nbconvert_exporter": "python",
   "pygments_lexer": "ipython3",
   "version": "3.11.6"
  }
 },
 "nbformat": 4,
 "nbformat_minor": 5
}
