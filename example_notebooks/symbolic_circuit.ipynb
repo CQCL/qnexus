{
 "cells": [
  {
   "cell_type": "code",
   "execution_count": 5,
   "metadata": {},
   "outputs": [],
   "source": [
    "import copy\n",
    "from datetime import datetime\n",
    "\n",
    "from qnexus.client import auth, circuits, projects, jobs\n",
    "\n",
    "\n",
    "from pytket import Circuit, OpType\n",
    "from sympy import Symbol\n",
    "\n"
   ]
  },
  {
   "cell_type": "code",
   "execution_count": 6,
   "metadata": {},
   "outputs": [
    {
     "name": "stdout",
     "output_type": "stream",
     "text": [
      "[Rx(alpha) q[0];, Rx(-2*alpha) q[1];, CX q[0], q[1];, YYPhase(beta) q[0], q[1];]\n"
     ]
    }
   ],
   "source": [
    "a = Symbol(\"alpha\")\n",
    "b = Symbol(\"beta\")\n",
    "circ = Circuit(2)\n",
    "circ.Rx(a, 0)\n",
    "circ.Rx(-2*a, 1)\n",
    "circ.CX(0, 1)\n",
    "circ.add_gate(OpType.YYPhase, b, [0, 1])\n",
    "print(circ.get_commands())\n",
    "\n"
   ]
  },
  {
   "cell_type": "code",
   "execution_count": 3,
   "metadata": {},
   "outputs": [
    {
     "data": {
      "text/plain": [
       "[Rx(alpha) q[0]; Rx(-2*alpha) q[1]; CX q[0], q[1]; YYPhase(beta) q[0], q[1]; ]"
      ]
     },
     "execution_count": 3,
     "metadata": {},
     "output_type": "execute_result"
    }
   ],
   "source": [
    "circ"
   ]
  },
  {
   "cell_type": "code",
   "execution_count": 7,
   "metadata": {},
   "outputs": [],
   "source": [
    "project_ref = projects.submit(\n",
    "    name=f\"demo_{str(datetime.now())}\", \n",
    "    description=\"a demo project\", \n",
    "    properties={}\n",
    ")"
   ]
  },
  {
   "cell_type": "code",
   "execution_count": 8,
   "metadata": {},
   "outputs": [],
   "source": [
    "my_circuit_ref = circuits.submit(\n",
    "    circuit=circ, \n",
    "    project=project_ref,\n",
    "    name=\"My symbolic circuit\",\n",
    "    description=\"A new circuit\",\n",
    "    properties={}\n",
    ")"
   ]
  },
  {
   "cell_type": "code",
   "execution_count": 19,
   "metadata": {},
   "outputs": [],
   "source": [
    "symbolic_circuit = my_circuit_ref.get_circuit()"
   ]
  },
  {
   "cell_type": "code",
   "execution_count": 20,
   "metadata": {},
   "outputs": [
    {
     "data": {
      "text/plain": [
       "[Rx(alpha) q[0]; Rx(-2*alpha) q[1]; CX q[0], q[1]; YYPhase(beta) q[0], q[1]; ]"
      ]
     },
     "execution_count": 20,
     "metadata": {},
     "output_type": "execute_result"
    }
   ],
   "source": [
    "parametrized_circuit = symbolic_circuit"
   ]
  },
  {
   "cell_type": "code",
   "execution_count": 13,
   "metadata": {},
   "outputs": [
    {
     "name": "stdout",
     "output_type": "stream",
     "text": [
      "[Rx(0.3) q[0];, Rx(3.4) q[1];, CX q[0], q[1];, YYPhase(1.25) q[0], q[1];]\n"
     ]
    }
   ],
   "source": [
    "\n",
    "\n",
    "s_map = {a: 0.3, b:1.25}\n",
    "symbolic_circuit.symbol_substitution(s_map)\n",
    "print(symbolic_circuit.get_commands())"
   ]
  },
  {
   "cell_type": "code",
   "execution_count": null,
   "metadata": {},
   "outputs": [],
   "source": []
  }
 ],
 "metadata": {
  "kernelspec": {
   "display_name": "qnexus-Rou6F43i-py3.10",
   "language": "python",
   "name": "python3"
  },
  "language_info": {
   "codemirror_mode": {
    "name": "ipython",
    "version": 3
   },
   "file_extension": ".py",
   "mimetype": "text/x-python",
   "name": "python",
   "nbconvert_exporter": "python",
   "pygments_lexer": "ipython3",
   "version": "3.10.6"
  }
 },
 "nbformat": 4,
 "nbformat_minor": 2
}
