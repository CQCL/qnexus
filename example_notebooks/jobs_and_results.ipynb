{
 "cells": [
  {
   "cell_type": "code",
   "execution_count": 1,
   "metadata": {},
   "outputs": [],
   "source": [
    "from datetime import datetime\n",
    "\n",
    "import qnexus as qnx\n",
    "\n",
    "from pytket import Circuit\n",
    "\n",
    "from qnexus.client.models.nexus_dataclasses import QuantinuumConfig\n",
    "\n"
   ]
  },
  {
   "cell_type": "code",
   "execution_count": 2,
   "metadata": {},
   "outputs": [],
   "source": [
    "my_project = qnx.project.get_only(name=\"VanyaTest\")\n",
    "\n",
    "qnx.context.set_active_project(my_project)\n",
    "\n",
    "my_job_name_prefix = datetime.now()"
   ]
  },
  {
   "cell_type": "markdown",
   "metadata": {},
   "source": [
    "## Compile Jobs"
   ]
  },
  {
   "cell_type": "code",
   "execution_count": 3,
   "metadata": {},
   "outputs": [],
   "source": [
    "c = Circuit(2,2).H(0).CX(0,1).measure_all()\n",
    "\n",
    "my_circuit_ref = qnx.circuit.upload(\n",
    "    circuit=c,\n",
    "    name=\"A circuit\",\n",
    ")"
   ]
  },
  {
   "cell_type": "code",
   "execution_count": 4,
   "metadata": {},
   "outputs": [],
   "source": [
    "compile_job_ref = qnx.compile(\n",
    "    circuits=[my_circuit_ref],\n",
    "    name=f\"{my_job_name_prefix}_compile\",\n",
    "    optimisation_level=1,\n",
    "    target=QuantinuumConfig(device_name=\"H1-1SC\")\n",
    ")"
   ]
  },
  {
   "cell_type": "code",
   "execution_count": 5,
   "metadata": {},
   "outputs": [
    {
     "data": {
      "text/plain": [
       "JobStatus(status=<StatusEnum.COMPLETED: 'Circuit has completed. Results are ready.'>, message='The job is completed.', error_detail=None, completed_time=datetime.datetime(2024, 5, 3, 13, 27, 14, 950389, tzinfo=datetime.timezone.utc), queued_time=None, submitted_time=datetime.datetime(2024, 5, 3, 13, 27, 5, 632261, tzinfo=datetime.timezone.utc), running_time=None, cancelled_time=None, error_time=None, queue_position=None)"
      ]
     },
     "execution_count": 5,
     "metadata": {},
     "output_type": "execute_result"
    }
   ],
   "source": [
    "qnx.job.wait_for(compile_job_ref)"
   ]
  },
  {
   "cell_type": "code",
   "execution_count": 6,
   "metadata": {},
   "outputs": [
    {
     "data": {
      "text/html": [
       "<div>\n",
       "<style scoped>\n",
       "    .dataframe tbody tr th:only-of-type {\n",
       "        vertical-align: middle;\n",
       "    }\n",
       "\n",
       "    .dataframe tbody tr th {\n",
       "        vertical-align: top;\n",
       "    }\n",
       "\n",
       "    .dataframe thead th {\n",
       "        text-align: right;\n",
       "    }\n",
       "</style>\n",
       "<table border=\"1\" class=\"dataframe\">\n",
       "  <thead>\n",
       "    <tr style=\"text-align: right;\">\n",
       "      <th></th>\n",
       "      <th>name</th>\n",
       "      <th>description</th>\n",
       "      <th>project</th>\n",
       "      <th>id</th>\n",
       "    </tr>\n",
       "  </thead>\n",
       "  <tbody>\n",
       "    <tr>\n",
       "      <th>0</th>\n",
       "      <td>A circuit-compilation</td>\n",
       "      <td></td>\n",
       "      <td>VanyaTest</td>\n",
       "      <td>9b6e0ec8-bf4e-4ddb-97ec-7ffd03cf2ed5</td>\n",
       "    </tr>\n",
       "  </tbody>\n",
       "</table>\n",
       "</div>"
      ],
      "text/plain": [
       "                    name description    project  \\\n",
       "0  A circuit-compilation              VanyaTest   \n",
       "\n",
       "                                     id  \n",
       "0  9b6e0ec8-bf4e-4ddb-97ec-7ffd03cf2ed5  "
      ]
     },
     "execution_count": 6,
     "metadata": {},
     "output_type": "execute_result"
    }
   ],
   "source": [
    "compile_results = qnx.job.compile.results(compile_job_ref)\n",
    "\n",
    "compile_results.df()"
   ]
  },
  {
   "cell_type": "code",
   "execution_count": 8,
   "metadata": {},
   "outputs": [
    {
     "data": {
      "text/plain": [
       "CircuitRef(id=UUID('1302210f-2767-48b3-b8e7-ed7c348afbb2'), annotations=Annotations(name='A circuit-QuantinuumBackend-final', description=None, properties=OrderedDict()), project=ProjectRef(id=UUID('6ed750a5-de0c-4879-a771-2c1f3f746d18'), annotations=Annotations(name='VanyaTest', description='', properties=OrderedDict())))"
      ]
     },
     "execution_count": 8,
     "metadata": {},
     "output_type": "execute_result"
    }
   ],
   "source": [
    "compile_results[0].get_compiled_circuit_ref()"
   ]
  },
  {
   "cell_type": "code",
   "execution_count": 9,
   "metadata": {},
   "outputs": [
    {
     "data": {
      "text/plain": [
       "[CompilationPassRef(id=UUID('c4c81177-7d99-4918-ab16-7afd70c8355b'), pass_name='DecomposeBoxes', circuit=CircuitRef(id=UUID('c372b6c1-ca4e-4201-a132-de2c2d36e795'), annotations=Annotations(name='A circuit', description=None, properties=OrderedDict()), project=ProjectRef(id=UUID('6ed750a5-de0c-4879-a771-2c1f3f746d18'), annotations=Annotations(name='VanyaTest', description='', properties=OrderedDict())))),\n",
       " CompilationPassRef(id=UUID('fed3278b-e317-40e3-a794-795dba59886c'), pass_name='CustomPass', circuit=CircuitRef(id=UUID('c372b6c1-ca4e-4201-a132-de2c2d36e795'), annotations=Annotations(name='A circuit', description=None, properties=OrderedDict()), project=ProjectRef(id=UUID('6ed750a5-de0c-4879-a771-2c1f3f746d18'), annotations=Annotations(name='VanyaTest', description='', properties=OrderedDict())))),\n",
       " CompilationPassRef(id=UUID('f9c00e17-58f8-4efa-b8ed-814725ac5e40'), pass_name='SynthesiseTK', circuit=CircuitRef(id=UUID('658fb3c5-5703-4b53-ac67-5a3aad116ca5'), annotations=Annotations(name='A circuit-QuantinuumBackend-2', description=None, properties=OrderedDict()), project=ProjectRef(id=UUID('6ed750a5-de0c-4879-a771-2c1f3f746d18'), annotations=Annotations(name='VanyaTest', description='', properties=OrderedDict())))),\n",
       " CompilationPassRef(id=UUID('254b9617-8216-4377-9295-af48676051dc'), pass_name='NormaliseTK2', circuit=CircuitRef(id=UUID('658fb3c5-5703-4b53-ac67-5a3aad116ca5'), annotations=Annotations(name='A circuit-QuantinuumBackend-2', description=None, properties=OrderedDict()), project=ProjectRef(id=UUID('6ed750a5-de0c-4879-a771-2c1f3f746d18'), annotations=Annotations(name='VanyaTest', description='', properties=OrderedDict())))),\n",
       " CompilationPassRef(id=UUID('790a5593-5bc5-4365-b3f4-5b238db57f99'), pass_name='DecomposeTK2', circuit=CircuitRef(id=UUID('c904ec9b-4ad2-4281-ae03-fe65099bd4bd'), annotations=Annotations(name='A circuit-QuantinuumBackend-3', description=None, properties=OrderedDict()), project=ProjectRef(id=UUID('6ed750a5-de0c-4879-a771-2c1f3f746d18'), annotations=Annotations(name='VanyaTest', description='', properties=OrderedDict())))),\n",
       " CompilationPassRef(id=UUID('fa6c1a44-506e-4719-9b99-a26720821945'), pass_name='RebaseCustomViaTK2', circuit=CircuitRef(id=UUID('fb00bada-ea90-4040-bc6a-5bb66fa3b171'), annotations=Annotations(name='A circuit-QuantinuumBackend-4', description=None, properties=OrderedDict()), project=ProjectRef(id=UUID('6ed750a5-de0c-4879-a771-2c1f3f746d18'), annotations=Annotations(name='VanyaTest', description='', properties=OrderedDict())))),\n",
       " CompilationPassRef(id=UUID('df2d523b-f4a4-4d84-bb1c-d8f604e8e7e4'), pass_name='ZZPhaseToRz', circuit=CircuitRef(id=UUID('fb00bada-ea90-4040-bc6a-5bb66fa3b171'), annotations=Annotations(name='A circuit-QuantinuumBackend-4', description=None, properties=OrderedDict()), project=ProjectRef(id=UUID('6ed750a5-de0c-4879-a771-2c1f3f746d18'), annotations=Annotations(name='VanyaTest', description='', properties=OrderedDict())))),\n",
       " CompilationPassRef(id=UUID('b15c5b65-9b25-44c7-aad9-9c7ed063171a'), pass_name='RemoveRedundancies', circuit=CircuitRef(id=UUID('fb00bada-ea90-4040-bc6a-5bb66fa3b171'), annotations=Annotations(name='A circuit-QuantinuumBackend-4', description=None, properties=OrderedDict()), project=ProjectRef(id=UUID('6ed750a5-de0c-4879-a771-2c1f3f746d18'), annotations=Annotations(name='VanyaTest', description='', properties=OrderedDict())))),\n",
       " CompilationPassRef(id=UUID('ec8f1be4-f6c5-4c17-85b1-5277dd24b852'), pass_name='SquashRzPhasedX', circuit=CircuitRef(id=UUID('e2e2bd58-5d64-4ee7-a860-a1100baedc23'), annotations=Annotations(name='A circuit-QuantinuumBackend-5', description=None, properties=OrderedDict()), project=ProjectRef(id=UUID('6ed750a5-de0c-4879-a771-2c1f3f746d18'), annotations=Annotations(name='VanyaTest', description='', properties=OrderedDict())))),\n",
       " CompilationPassRef(id=UUID('2e340201-3a9c-4af8-a9cf-c11404d692cf'), pass_name='RemoveRedundancies', circuit=CircuitRef(id=UUID('1302210f-2767-48b3-b8e7-ed7c348afbb2'), annotations=Annotations(name='A circuit-QuantinuumBackend-final', description=None, properties=OrderedDict()), project=ProjectRef(id=UUID('6ed750a5-de0c-4879-a771-2c1f3f746d18'), annotations=Annotations(name='VanyaTest', description='', properties=OrderedDict())))),\n",
       " CompilationPassRef(id=UUID('650af1b9-3f6d-45d7-942e-e78eece720d8'), pass_name='FlattenRelabelRegistersPass', circuit=CircuitRef(id=UUID('1302210f-2767-48b3-b8e7-ed7c348afbb2'), annotations=Annotations(name='A circuit-QuantinuumBackend-final', description=None, properties=OrderedDict()), project=ProjectRef(id=UUID('6ed750a5-de0c-4879-a771-2c1f3f746d18'), annotations=Annotations(name='VanyaTest', description='', properties=OrderedDict()))))]"
      ]
     },
     "execution_count": 9,
     "metadata": {},
     "output_type": "execute_result"
    }
   ],
   "source": [
    "compile_results[0].get_compilation_pass_refs()"
   ]
  },
  {
   "cell_type": "markdown",
   "metadata": {},
   "source": [
    "## Execute Jobs"
   ]
  },
  {
   "cell_type": "code",
   "execution_count": 10,
   "metadata": {},
   "outputs": [],
   "source": [
    "compiled_circuits = [item.get_compiled_circuit_ref() for item in compile_results]"
   ]
  },
  {
   "cell_type": "code",
   "execution_count": 11,
   "metadata": {},
   "outputs": [],
   "source": [
    "execute_job_ref = qnx.execute(\n",
    "    circuits=compiled_circuits,\n",
    "    name=f\"{my_job_name_prefix}1_execute\",\n",
    "    n_shots=[100]* len(compiled_circuits),\n",
    "    target=QuantinuumConfig(device_name=\"H1-1SC\"),\n",
    ")"
   ]
  },
  {
   "cell_type": "code",
   "execution_count": 12,
   "metadata": {},
   "outputs": [
    {
     "data": {
      "text/plain": [
       "JobStatus(status=<StatusEnum.COMPLETED: 'Circuit has completed. Results are ready.'>, message='The job is completed.', error_detail=None, completed_time=datetime.datetime(2024, 5, 3, 13, 30, 11, 414953, tzinfo=datetime.timezone.utc), queued_time=None, submitted_time=datetime.datetime(2024, 5, 3, 13, 29, 42, 627697, tzinfo=datetime.timezone.utc), running_time=None, cancelled_time=None, error_time=None, queue_position=None)"
      ]
     },
     "execution_count": 12,
     "metadata": {},
     "output_type": "execute_result"
    }
   ],
   "source": [
    "qnx.job.wait_for(execute_job_ref)"
   ]
  },
  {
   "cell_type": "code",
   "execution_count": 13,
   "metadata": {},
   "outputs": [
    {
     "data": {
      "text/html": [
       "<div>\n",
       "<style scoped>\n",
       "    .dataframe tbody tr th:only-of-type {\n",
       "        vertical-align: middle;\n",
       "    }\n",
       "\n",
       "    .dataframe tbody tr th {\n",
       "        vertical-align: top;\n",
       "    }\n",
       "\n",
       "    .dataframe thead th {\n",
       "        text-align: right;\n",
       "    }\n",
       "</style>\n",
       "<table border=\"1\" class=\"dataframe\">\n",
       "  <thead>\n",
       "    <tr style=\"text-align: right;\">\n",
       "      <th></th>\n",
       "      <th>name</th>\n",
       "      <th>description</th>\n",
       "      <th>project</th>\n",
       "      <th>id</th>\n",
       "    </tr>\n",
       "  </thead>\n",
       "  <tbody>\n",
       "    <tr>\n",
       "      <th>0</th>\n",
       "      <td>2024-05-03 14:26:59.7578781_execute</td>\n",
       "      <td>None</td>\n",
       "      <td>VanyaTest</td>\n",
       "      <td>a533a562-6300-48be-8ee5-d4f14bd3cc6d</td>\n",
       "    </tr>\n",
       "  </tbody>\n",
       "</table>\n",
       "</div>"
      ],
      "text/plain": [
       "                                  name description    project  \\\n",
       "0  2024-05-03 14:26:59.7578781_execute        None  VanyaTest   \n",
       "\n",
       "                                     id  \n",
       "0  a533a562-6300-48be-8ee5-d4f14bd3cc6d  "
      ]
     },
     "execution_count": 13,
     "metadata": {},
     "output_type": "execute_result"
    }
   ],
   "source": [
    "execute_results = qnx.job.execute.results(execute_job_ref)\n",
    "\n",
    "execute_results.df()"
   ]
  },
  {
   "cell_type": "code",
   "execution_count": 14,
   "metadata": {},
   "outputs": [
    {
     "data": {
      "text/plain": [
       "BackendInfo(name='QuantinuumBackend', device_name='H1-1SC', version='0.33.0', architecture=<tket::FullyConnected, nodes=20>, gate_set={<OpType.Measure: 66>, <OpType.Reset: 68>, <OpType.Rz: 36>, <OpType.PhasedX: 71>, <OpType.Barrier: 8>, <OpType.ZZMax: 73>, <OpType.ClassicalExpBox: 107>, <OpType.ZZPhase: 76>, <OpType.TK2: 44>, <OpType.WASM: 14>, <OpType.SetBits: 15>, <OpType.CopyBits: 16>, <OpType.RangePredicate: 17>, <OpType.ExplicitPredicate: 18>, <OpType.ExplicitModifier: 19>, <OpType.MultiBit: 20>}, n_cl_reg=0, supports_fast_feedforward=True, supports_reset=True, supports_midcircuit_measurement=True, all_node_gate_errors=None, all_edge_gate_errors=None, all_readout_errors=None, averaged_node_gate_errors=None, averaged_edge_gate_errors=None, averaged_readout_errors=None, misc={'cl_reg_width': 32, 'max_n_shots': 10000, 'options': {}, 'system_type': 'syntax checker', 'wasm': True})"
      ]
     },
     "execution_count": 14,
     "metadata": {},
     "output_type": "execute_result"
    }
   ],
   "source": [
    "execute_results[0].get_backend_info()"
   ]
  },
  {
   "cell_type": "code",
   "execution_count": 15,
   "metadata": {},
   "outputs": [
    {
     "data": {
      "text/plain": [
       "BackendResult(q_bits={},c_bits={c[0]: 0, c[1]: 1},counts=None,shots=[[0]\n",
       " [0]\n",
       " [0]\n",
       " [0]\n",
       " [0]\n",
       " [0]\n",
       " [0]\n",
       " [0]\n",
       " [0]\n",
       " [0]\n",
       " [0]\n",
       " [0]\n",
       " [0]\n",
       " [0]\n",
       " [0]\n",
       " [0]\n",
       " [0]\n",
       " [0]\n",
       " [0]\n",
       " [0]\n",
       " [0]\n",
       " [0]\n",
       " [0]\n",
       " [0]\n",
       " [0]\n",
       " [0]\n",
       " [0]\n",
       " [0]\n",
       " [0]\n",
       " [0]\n",
       " [0]\n",
       " [0]\n",
       " [0]\n",
       " [0]\n",
       " [0]\n",
       " [0]\n",
       " [0]\n",
       " [0]\n",
       " [0]\n",
       " [0]\n",
       " [0]\n",
       " [0]\n",
       " [0]\n",
       " [0]\n",
       " [0]\n",
       " [0]\n",
       " [0]\n",
       " [0]\n",
       " [0]\n",
       " [0]\n",
       " [0]\n",
       " [0]\n",
       " [0]\n",
       " [0]\n",
       " [0]\n",
       " [0]\n",
       " [0]\n",
       " [0]\n",
       " [0]\n",
       " [0]\n",
       " [0]\n",
       " [0]\n",
       " [0]\n",
       " [0]\n",
       " [0]\n",
       " [0]\n",
       " [0]\n",
       " [0]\n",
       " [0]\n",
       " [0]\n",
       " [0]\n",
       " [0]\n",
       " [0]\n",
       " [0]\n",
       " [0]\n",
       " [0]\n",
       " [0]\n",
       " [0]\n",
       " [0]\n",
       " [0]\n",
       " [0]\n",
       " [0]\n",
       " [0]\n",
       " [0]\n",
       " [0]\n",
       " [0]\n",
       " [0]\n",
       " [0]\n",
       " [0]\n",
       " [0]\n",
       " [0]\n",
       " [0]\n",
       " [0]\n",
       " [0]\n",
       " [0]\n",
       " [0]\n",
       " [0]\n",
       " [0]\n",
       " [0]\n",
       " [0]],state=None,unitary=None,density_matrix=None)"
      ]
     },
     "execution_count": 15,
     "metadata": {},
     "output_type": "execute_result"
    }
   ],
   "source": [
    "execute_results[0].get_backend_result()"
   ]
  },
  {
   "cell_type": "code",
   "execution_count": null,
   "metadata": {},
   "outputs": [],
   "source": [
    "# Example of a job erroring"
   ]
  },
  {
   "cell_type": "code",
   "execution_count": 35,
   "metadata": {},
   "outputs": [],
   "source": [
    "execute_job_ref = qnx.execute(\n",
    "    circuits=[my_circuit_ref],\n",
    "    name=f\"error_execute_{datetime.now()}\",\n",
    "    n_shots=[100],\n",
    "    target=QuantinuumConfig(device_name=\"H1-1LE\")\n",
    ")"
   ]
  },
  {
   "cell_type": "code",
   "execution_count": 36,
   "metadata": {},
   "outputs": [
    {
     "ename": "JobError",
     "evalue": "Job errored with detail: <class 'pytket.backends.backend_exceptions.CircuitNotValidError'>: Circuit with index 0 in submitted does not satisfy GateSetPredicate:{ ExplicitPredicate CopyBits WASM TK2 ClassicalExpBox ZZMax ZZPhase Barrier MultiBit PhasedX ExplicitModifier Rz RangePredicate Reset SetBits Measure } (try compiling with backend.get_compiled_circuits first).",
     "output_type": "error",
     "traceback": [
      "\u001b[0;31m---------------------------------------------------------------------------\u001b[0m",
      "\u001b[0;31mJobError\u001b[0m                                  Traceback (most recent call last)",
      "Cell \u001b[0;32mIn[36], line 1\u001b[0m\n\u001b[0;32m----> 1\u001b[0m \u001b[43mqnx\u001b[49m\u001b[38;5;241;43m.\u001b[39;49m\u001b[43mjobs\u001b[49m\u001b[38;5;241;43m.\u001b[39;49m\u001b[43mwait_for\u001b[49m\u001b[43m(\u001b[49m\u001b[43mexecute_job_ref\u001b[49m\u001b[43m)\u001b[49m\n",
      "File \u001b[0;32m~/CQC/qnexus/qnexus/client/jobs/__init__.py:201\u001b[0m, in \u001b[0;36mwait_for\u001b[0;34m(job, wait_for_status, timeout)\u001b[0m\n\u001b[1;32m    191\u001b[0m job_status \u001b[38;5;241m=\u001b[39m asyncio\u001b[38;5;241m.\u001b[39mrun(\n\u001b[1;32m    192\u001b[0m     asyncio\u001b[38;5;241m.\u001b[39mwait_for(\n\u001b[1;32m    193\u001b[0m         listen_job_status(\n\u001b[0;32m   (...)\u001b[0m\n\u001b[1;32m    197\u001b[0m     )\n\u001b[1;32m    198\u001b[0m )\n\u001b[1;32m    200\u001b[0m \u001b[38;5;28;01mif\u001b[39;00m job_status\u001b[38;5;241m.\u001b[39mstatus \u001b[38;5;241m==\u001b[39m StatusEnum\u001b[38;5;241m.\u001b[39mERROR:\n\u001b[0;32m--> 201\u001b[0m     \u001b[38;5;28;01mraise\u001b[39;00m qnx_exc\u001b[38;5;241m.\u001b[39mJobError(\u001b[38;5;124mf\u001b[39m\u001b[38;5;124m\"\u001b[39m\u001b[38;5;124mJob errored with detail: \u001b[39m\u001b[38;5;132;01m{\u001b[39;00mjob_status\u001b[38;5;241m.\u001b[39merror_detail\u001b[38;5;132;01m}\u001b[39;00m\u001b[38;5;124m\"\u001b[39m)\n\u001b[1;32m    202\u001b[0m \u001b[38;5;28;01mreturn\u001b[39;00m job_status\n",
      "\u001b[0;31mJobError\u001b[0m: Job errored with detail: <class 'pytket.backends.backend_exceptions.CircuitNotValidError'>: Circuit with index 0 in submitted does not satisfy GateSetPredicate:{ ExplicitPredicate CopyBits WASM TK2 ClassicalExpBox ZZMax ZZPhase Barrier MultiBit PhasedX ExplicitModifier Rz RangePredicate Reset SetBits Measure } (try compiling with backend.get_compiled_circuits first)."
     ]
    }
   ],
   "source": [
    "qnx.job.wait_for(execute_job_ref)"
   ]
  },
  {
   "cell_type": "code",
   "execution_count": null,
   "metadata": {},
   "outputs": [],
   "source": []
  }
 ],
 "metadata": {
  "kernelspec": {
   "display_name": "qnexus-Rou6F43i-py3.11",
   "language": "python",
   "name": "python3"
  },
  "language_info": {
   "codemirror_mode": {
    "name": "ipython",
    "version": 3
   },
   "file_extension": ".py",
   "mimetype": "text/x-python",
   "name": "python",
   "nbconvert_exporter": "python",
   "pygments_lexer": "ipython3",
   "version": "3.11.6"
  }
 },
 "nbformat": 4,
 "nbformat_minor": 2
}
