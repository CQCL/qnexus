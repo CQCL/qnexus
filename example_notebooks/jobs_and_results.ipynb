{
 "cells": [
  {
   "cell_type": "code",
   "execution_count": 15,
   "metadata": {},
   "outputs": [],
   "source": [
    "from datetime import datetime\n",
    "\n",
    "import qnexus as qnx\n",
    "\n",
    "from pytket import Circuit\n",
    "\n",
    "from nexus_dataclasses.backend_config import QuantinuumConfig"
   ]
  },
  {
   "cell_type": "code",
   "execution_count": 16,
   "metadata": {},
   "outputs": [],
   "source": [
    "my_project = qnx.projects.get(name=\"VanyaTest\")\n",
    "\n",
    "qnx.context.set_active_project(my_project)\n",
    "\n",
    "my_job_name_prefix = datetime.now()"
   ]
  },
  {
   "cell_type": "markdown",
   "metadata": {},
   "source": [
    "## Compile Jobs"
   ]
  },
  {
   "cell_type": "code",
   "execution_count": 17,
   "metadata": {},
   "outputs": [],
   "source": [
    "c = Circuit(2,2).H(0).CX(0,1).measure_all()\n",
    "\n",
    "my_circuit_ref = qnx.circuits.create(\n",
    "    circuit=c,\n",
    "    name=\"A circuit\",\n",
    ")"
   ]
  },
  {
   "cell_type": "code",
   "execution_count": 18,
   "metadata": {},
   "outputs": [],
   "source": [
    "compile_job_ref = qnx.jobs.compile.run(\n",
    "    circuits=[my_circuit_ref],\n",
    "    name=f\"{my_job_name_prefix}_compile\",\n",
    "    optimisation_level=1,\n",
    "    target=QuantinuumConfig(device_name=\"H1-1LE\")\n",
    ")"
   ]
  },
  {
   "cell_type": "code",
   "execution_count": 19,
   "metadata": {},
   "outputs": [
    {
     "data": {
      "text/plain": [
       "JobStatus(status=<StatusEnum.COMPLETED: 'Circuit has completed. Results are ready.'>, message='The job is completed.', error_detail=None, completed_time=datetime.datetime(2024, 4, 24, 9, 39, 39, 284036, tzinfo=datetime.timezone.utc), queued_time=None, submitted_time=datetime.datetime(2024, 4, 24, 9, 39, 29, 574408, tzinfo=datetime.timezone.utc), running_time=None, cancelled_time=None, error_time=None, queue_position=None)"
      ]
     },
     "execution_count": 19,
     "metadata": {},
     "output_type": "execute_result"
    }
   ],
   "source": [
    "qnx.jobs.wait_for(compile_job_ref)"
   ]
  },
  {
   "cell_type": "code",
   "execution_count": 20,
   "metadata": {},
   "outputs": [
    {
     "data": {
      "text/html": [
       "<div>\n",
       "<style scoped>\n",
       "    .dataframe tbody tr th:only-of-type {\n",
       "        vertical-align: middle;\n",
       "    }\n",
       "\n",
       "    .dataframe tbody tr th {\n",
       "        vertical-align: top;\n",
       "    }\n",
       "\n",
       "    .dataframe thead th {\n",
       "        text-align: right;\n",
       "    }\n",
       "</style>\n",
       "<table border=\"1\" class=\"dataframe\">\n",
       "  <thead>\n",
       "    <tr style=\"text-align: right;\">\n",
       "      <th></th>\n",
       "      <th>name</th>\n",
       "      <th>description</th>\n",
       "      <th>project</th>\n",
       "      <th>id</th>\n",
       "    </tr>\n",
       "  </thead>\n",
       "  <tbody>\n",
       "    <tr>\n",
       "      <th>0</th>\n",
       "      <td>A circuit-compilation</td>\n",
       "      <td></td>\n",
       "      <td>VanyaTest</td>\n",
       "      <td>1082baf4-0807-4494-a150-aa950625d25e</td>\n",
       "    </tr>\n",
       "  </tbody>\n",
       "</table>\n",
       "</div>"
      ],
      "text/plain": [
       "                    name description    project  \\\n",
       "0  A circuit-compilation              VanyaTest   \n",
       "\n",
       "                                     id  \n",
       "0  1082baf4-0807-4494-a150-aa950625d25e  "
      ]
     },
     "execution_count": 20,
     "metadata": {},
     "output_type": "execute_result"
    }
   ],
   "source": [
    "compile_results = qnx.jobs.compile.results(compile_job_ref)\n",
    "\n",
    "compile_results.summarize()"
   ]
  },
  {
   "cell_type": "code",
   "execution_count": 23,
   "metadata": {},
   "outputs": [
    {
     "data": {
      "text/plain": [
       "[PhasedX(3.5, 0.5) q[0]; PhasedX(0.5, 0.5) q[1]; ZZPhase(0.5) q[0], q[1]; Measure q[0] --> c[0]; PhasedX(0.5, 0) q[1]; Measure q[1] --> c[1]; ]"
      ]
     },
     "execution_count": 23,
     "metadata": {},
     "output_type": "execute_result"
    }
   ],
   "source": [
    "compile_results[0].compiled_circuit"
   ]
  },
  {
   "cell_type": "code",
   "execution_count": 24,
   "metadata": {},
   "outputs": [
    {
     "data": {
      "text/plain": [
       "[('DecomposeBoxes',\n",
       "  CircuitRef(annotations=Annotations(name='A circuit', description=None, properties=OrderedDict()), project=ProjectRef(annotations=Annotations(name='VanyaTest', description='', properties=OrderedDict()), id=UUID('6ed750a5-de0c-4879-a771-2c1f3f746d18')), id=UUID('a814de23-1ce5-4dba-8026-b82af751df04'))),\n",
       " ('CustomPass',\n",
       "  CircuitRef(annotations=Annotations(name='A circuit', description=None, properties=OrderedDict()), project=ProjectRef(annotations=Annotations(name='VanyaTest', description='', properties=OrderedDict()), id=UUID('6ed750a5-de0c-4879-a771-2c1f3f746d18')), id=UUID('a814de23-1ce5-4dba-8026-b82af751df04'))),\n",
       " ('SynthesiseTK',\n",
       "  CircuitRef(annotations=Annotations(name='A circuit-QuantinuumBackend-2', description=None, properties=OrderedDict()), project=ProjectRef(annotations=Annotations(name='VanyaTest', description='', properties=OrderedDict()), id=UUID('6ed750a5-de0c-4879-a771-2c1f3f746d18')), id=UUID('5ab1efd3-8a8c-4f66-b954-2680305879e0'))),\n",
       " ('NormaliseTK2',\n",
       "  CircuitRef(annotations=Annotations(name='A circuit-QuantinuumBackend-2', description=None, properties=OrderedDict()), project=ProjectRef(annotations=Annotations(name='VanyaTest', description='', properties=OrderedDict()), id=UUID('6ed750a5-de0c-4879-a771-2c1f3f746d18')), id=UUID('5ab1efd3-8a8c-4f66-b954-2680305879e0'))),\n",
       " ('DecomposeTK2',\n",
       "  CircuitRef(annotations=Annotations(name='A circuit-QuantinuumBackend-3', description=None, properties=OrderedDict()), project=ProjectRef(annotations=Annotations(name='VanyaTest', description='', properties=OrderedDict()), id=UUID('6ed750a5-de0c-4879-a771-2c1f3f746d18')), id=UUID('a421af22-9dfa-4ecd-ac67-1b67fbfe0fbe'))),\n",
       " ('RebaseCustomViaTK2',\n",
       "  CircuitRef(annotations=Annotations(name='A circuit-QuantinuumBackend-4', description=None, properties=OrderedDict()), project=ProjectRef(annotations=Annotations(name='VanyaTest', description='', properties=OrderedDict()), id=UUID('6ed750a5-de0c-4879-a771-2c1f3f746d18')), id=UUID('5c6e55bb-1293-4a9e-a2de-095b063ea8f7'))),\n",
       " ('ZZPhaseToRz',\n",
       "  CircuitRef(annotations=Annotations(name='A circuit-QuantinuumBackend-4', description=None, properties=OrderedDict()), project=ProjectRef(annotations=Annotations(name='VanyaTest', description='', properties=OrderedDict()), id=UUID('6ed750a5-de0c-4879-a771-2c1f3f746d18')), id=UUID('5c6e55bb-1293-4a9e-a2de-095b063ea8f7'))),\n",
       " ('RemoveRedundancies',\n",
       "  CircuitRef(annotations=Annotations(name='A circuit-QuantinuumBackend-4', description=None, properties=OrderedDict()), project=ProjectRef(annotations=Annotations(name='VanyaTest', description='', properties=OrderedDict()), id=UUID('6ed750a5-de0c-4879-a771-2c1f3f746d18')), id=UUID('5c6e55bb-1293-4a9e-a2de-095b063ea8f7'))),\n",
       " ('SquashRzPhasedX',\n",
       "  CircuitRef(annotations=Annotations(name='A circuit-QuantinuumBackend-5', description=None, properties=OrderedDict()), project=ProjectRef(annotations=Annotations(name='VanyaTest', description='', properties=OrderedDict()), id=UUID('6ed750a5-de0c-4879-a771-2c1f3f746d18')), id=UUID('066af32b-f63f-4d65-b2cf-facbd1608080'))),\n",
       " ('RemoveRedundancies',\n",
       "  CircuitRef(annotations=Annotations(name='A circuit-QuantinuumBackend-final', description=None, properties=OrderedDict()), project=ProjectRef(annotations=Annotations(name='VanyaTest', description='', properties=OrderedDict()), id=UUID('6ed750a5-de0c-4879-a771-2c1f3f746d18')), id=UUID('76980129-db5b-4387-a4ac-83cc7bab807f'))),\n",
       " ('FlattenRelabelRegistersPass',\n",
       "  CircuitRef(annotations=Annotations(name='A circuit-QuantinuumBackend-final', description=None, properties=OrderedDict()), project=ProjectRef(annotations=Annotations(name='VanyaTest', description='', properties=OrderedDict()), id=UUID('6ed750a5-de0c-4879-a771-2c1f3f746d18')), id=UUID('76980129-db5b-4387-a4ac-83cc7bab807f')))]"
      ]
     },
     "execution_count": 24,
     "metadata": {},
     "output_type": "execute_result"
    }
   ],
   "source": [
    "compile_results[0].compilation_passes"
   ]
  },
  {
   "cell_type": "markdown",
   "metadata": {},
   "source": [
    "## Execute Jobs"
   ]
  },
  {
   "cell_type": "code",
   "execution_count": 25,
   "metadata": {},
   "outputs": [],
   "source": [
    "compiled_circuits = [item.compiled_circuit for item in compile_results]"
   ]
  },
  {
   "cell_type": "code",
   "execution_count": 10,
   "metadata": {},
   "outputs": [],
   "source": [
    "execute_job_ref = qnx.jobs.execute.run(\n",
    "    circuits=compiled_circuits,\n",
    "    name=f\"{my_job_name_prefix}_execute\",\n",
    "    n_shots=[100]* len(compiled_circuits),\n",
    "    target=QuantinuumConfig(device_name=\"H1-1LE\")\n",
    ")"
   ]
  },
  {
   "cell_type": "code",
   "execution_count": 26,
   "metadata": {},
   "outputs": [
    {
     "data": {
      "text/plain": [
       "JobStatus(status=<StatusEnum.COMPLETED: 'Circuit has completed. Results are ready.'>, message='The job is completed.', error_detail=None, completed_time=datetime.datetime(2024, 4, 24, 9, 16, 3, 144258, tzinfo=datetime.timezone.utc), queued_time=None, submitted_time=datetime.datetime(2024, 4, 24, 9, 16, 2, 394188, tzinfo=datetime.timezone.utc), running_time=None, cancelled_time=None, error_time=None, queue_position=None)"
      ]
     },
     "execution_count": 26,
     "metadata": {},
     "output_type": "execute_result"
    }
   ],
   "source": [
    "qnx.jobs.wait_for(execute_job_ref)"
   ]
  },
  {
   "cell_type": "code",
   "execution_count": 27,
   "metadata": {},
   "outputs": [
    {
     "data": {
      "text/html": [
       "<div>\n",
       "<style scoped>\n",
       "    .dataframe tbody tr th:only-of-type {\n",
       "        vertical-align: middle;\n",
       "    }\n",
       "\n",
       "    .dataframe tbody tr th {\n",
       "        vertical-align: top;\n",
       "    }\n",
       "\n",
       "    .dataframe thead th {\n",
       "        text-align: right;\n",
       "    }\n",
       "</style>\n",
       "<table border=\"1\" class=\"dataframe\">\n",
       "  <thead>\n",
       "    <tr style=\"text-align: right;\">\n",
       "      <th></th>\n",
       "      <th>name</th>\n",
       "      <th>description</th>\n",
       "      <th>project</th>\n",
       "      <th>id</th>\n",
       "    </tr>\n",
       "  </thead>\n",
       "  <tbody>\n",
       "    <tr>\n",
       "      <th>0</th>\n",
       "      <td>2024-04-24 10:15:48.817164_execute</td>\n",
       "      <td>None</td>\n",
       "      <td>VanyaTest</td>\n",
       "      <td>0a22d5e9-75b9-4ae7-bb99-7e057067dd0c</td>\n",
       "    </tr>\n",
       "  </tbody>\n",
       "</table>\n",
       "</div>"
      ],
      "text/plain": [
       "                                 name description    project  \\\n",
       "0  2024-04-24 10:15:48.817164_execute        None  VanyaTest   \n",
       "\n",
       "                                     id  \n",
       "0  0a22d5e9-75b9-4ae7-bb99-7e057067dd0c  "
      ]
     },
     "execution_count": 27,
     "metadata": {},
     "output_type": "execute_result"
    }
   ],
   "source": [
    "execute_results = qnx.jobs.execute.results(execute_job_ref)\n",
    "\n",
    "execute_results.summarize()"
   ]
  },
  {
   "cell_type": "code",
   "execution_count": 28,
   "metadata": {},
   "outputs": [
    {
     "data": {
      "text/plain": [
       "BackendInfo(name='QuantinuumBackend', device_name='H1-1LE', version='0.32.0', architecture=<tket::FullyConnected, nodes=20>, gate_set={<OpType.Reset: 65>, <OpType.Rz: 36>, <OpType.PhasedX: 68>, <OpType.ZZMax: 70>, <OpType.ClassicalExpBox: 103>, <OpType.Barrier: 8>, <OpType.ZZPhase: 73>, <OpType.TK2: 41>, <OpType.WASM: 14>, <OpType.SetBits: 15>, <OpType.CopyBits: 16>, <OpType.RangePredicate: 17>, <OpType.ExplicitPredicate: 18>, <OpType.ExplicitModifier: 19>, <OpType.MultiBit: 20>, <OpType.Measure: 63>}, n_cl_reg=0, supports_fast_feedforward=True, supports_reset=True, supports_midcircuit_measurement=True, all_node_gate_errors=None, all_edge_gate_errors=None, all_readout_errors=None, averaged_node_gate_errors=None, averaged_edge_gate_errors=None, averaged_readout_errors=None, misc={'batching': False, 'cl_reg_width': 32, 'n_shots': 10000, 'options': {}, 'syntax_checker': 'H1-1SC', 'system_type': 'local_emulator', 'wasm': True})"
      ]
     },
     "execution_count": 28,
     "metadata": {},
     "output_type": "execute_result"
    }
   ],
   "source": [
    "execute_results[0].backend_info"
   ]
  },
  {
   "cell_type": "code",
   "execution_count": 34,
   "metadata": {},
   "outputs": [
    {
     "data": {
      "text/plain": [
       "BackendResult(q_bits={},c_bits={c[0]: 0, c[1]: 1},counts=None,shots=[[  0]\n",
       " [  0]\n",
       " [  0]\n",
       " [192]\n",
       " [192]\n",
       " [  0]\n",
       " [192]\n",
       " [192]\n",
       " [  0]\n",
       " [192]\n",
       " [  0]\n",
       " [  0]\n",
       " [192]\n",
       " [192]\n",
       " [192]\n",
       " [192]\n",
       " [192]\n",
       " [192]\n",
       " [192]\n",
       " [192]\n",
       " [192]\n",
       " [  0]\n",
       " [192]\n",
       " [192]\n",
       " [192]\n",
       " [  0]\n",
       " [192]\n",
       " [192]\n",
       " [  0]\n",
       " [  0]\n",
       " [192]\n",
       " [  0]\n",
       " [  0]\n",
       " [192]\n",
       " [192]\n",
       " [192]\n",
       " [  0]\n",
       " [192]\n",
       " [  0]\n",
       " [  0]\n",
       " [  0]\n",
       " [  0]\n",
       " [192]\n",
       " [192]\n",
       " [  0]\n",
       " [192]\n",
       " [192]\n",
       " [192]\n",
       " [192]\n",
       " [192]\n",
       " [  0]\n",
       " [192]\n",
       " [192]\n",
       " [  0]\n",
       " [  0]\n",
       " [192]\n",
       " [192]\n",
       " [  0]\n",
       " [192]\n",
       " [192]\n",
       " [192]\n",
       " [192]\n",
       " [192]\n",
       " [  0]\n",
       " [192]\n",
       " [  0]\n",
       " [192]\n",
       " [  0]\n",
       " [192]\n",
       " [192]\n",
       " [192]\n",
       " [  0]\n",
       " [  0]\n",
       " [  0]\n",
       " [192]\n",
       " [  0]\n",
       " [192]\n",
       " [  0]\n",
       " [  0]\n",
       " [  0]\n",
       " [192]\n",
       " [192]\n",
       " [192]\n",
       " [192]\n",
       " [192]\n",
       " [192]\n",
       " [192]\n",
       " [192]\n",
       " [  0]\n",
       " [192]\n",
       " [192]\n",
       " [  0]\n",
       " [  0]\n",
       " [192]\n",
       " [  0]\n",
       " [  0]\n",
       " [192]\n",
       " [192]\n",
       " [  0]\n",
       " [  0]],state=None,unitary=None,density_matrix=None)"
      ]
     },
     "execution_count": 34,
     "metadata": {},
     "output_type": "execute_result"
    }
   ],
   "source": [
    "execute_results[0].backend_result"
   ]
  },
  {
   "cell_type": "code",
   "execution_count": null,
   "metadata": {},
   "outputs": [],
   "source": [
    "# Example of a job erroring"
   ]
  },
  {
   "cell_type": "code",
   "execution_count": 35,
   "metadata": {},
   "outputs": [],
   "source": [
    "execute_job_ref = qnx.jobs.execute.run(\n",
    "    circuits=[my_circuit_ref],\n",
    "    name=f\"error_execute_{datetime.now()}\",\n",
    "    n_shots=[100],\n",
    "    target=QuantinuumConfig(device_name=\"H1-1LE\")\n",
    ")"
   ]
  },
  {
   "cell_type": "code",
   "execution_count": 36,
   "metadata": {},
   "outputs": [
    {
     "ename": "JobError",
     "evalue": "Job errored with detail: <class 'pytket.backends.backend_exceptions.CircuitNotValidError'>: Circuit with index 0 in submitted does not satisfy GateSetPredicate:{ ExplicitPredicate CopyBits WASM TK2 ClassicalExpBox ZZMax ZZPhase Barrier MultiBit PhasedX ExplicitModifier Rz RangePredicate Reset SetBits Measure } (try compiling with backend.get_compiled_circuits first).",
     "output_type": "error",
     "traceback": [
      "\u001b[0;31m---------------------------------------------------------------------------\u001b[0m",
      "\u001b[0;31mJobError\u001b[0m                                  Traceback (most recent call last)",
      "Cell \u001b[0;32mIn[36], line 1\u001b[0m\n\u001b[0;32m----> 1\u001b[0m \u001b[43mqnx\u001b[49m\u001b[38;5;241;43m.\u001b[39;49m\u001b[43mjobs\u001b[49m\u001b[38;5;241;43m.\u001b[39;49m\u001b[43mwait_for\u001b[49m\u001b[43m(\u001b[49m\u001b[43mexecute_job_ref\u001b[49m\u001b[43m)\u001b[49m\n",
      "File \u001b[0;32m~/CQC/qnexus/qnexus/client/jobs/__init__.py:201\u001b[0m, in \u001b[0;36mwait_for\u001b[0;34m(job, wait_for_status, timeout)\u001b[0m\n\u001b[1;32m    191\u001b[0m job_status \u001b[38;5;241m=\u001b[39m asyncio\u001b[38;5;241m.\u001b[39mrun(\n\u001b[1;32m    192\u001b[0m     asyncio\u001b[38;5;241m.\u001b[39mwait_for(\n\u001b[1;32m    193\u001b[0m         listen_job_status(\n\u001b[0;32m   (...)\u001b[0m\n\u001b[1;32m    197\u001b[0m     )\n\u001b[1;32m    198\u001b[0m )\n\u001b[1;32m    200\u001b[0m \u001b[38;5;28;01mif\u001b[39;00m job_status\u001b[38;5;241m.\u001b[39mstatus \u001b[38;5;241m==\u001b[39m StatusEnum\u001b[38;5;241m.\u001b[39mERROR:\n\u001b[0;32m--> 201\u001b[0m     \u001b[38;5;28;01mraise\u001b[39;00m qnx_exc\u001b[38;5;241m.\u001b[39mJobError(\u001b[38;5;124mf\u001b[39m\u001b[38;5;124m\"\u001b[39m\u001b[38;5;124mJob errored with detail: \u001b[39m\u001b[38;5;132;01m{\u001b[39;00mjob_status\u001b[38;5;241m.\u001b[39merror_detail\u001b[38;5;132;01m}\u001b[39;00m\u001b[38;5;124m\"\u001b[39m)\n\u001b[1;32m    202\u001b[0m \u001b[38;5;28;01mreturn\u001b[39;00m job_status\n",
      "\u001b[0;31mJobError\u001b[0m: Job errored with detail: <class 'pytket.backends.backend_exceptions.CircuitNotValidError'>: Circuit with index 0 in submitted does not satisfy GateSetPredicate:{ ExplicitPredicate CopyBits WASM TK2 ClassicalExpBox ZZMax ZZPhase Barrier MultiBit PhasedX ExplicitModifier Rz RangePredicate Reset SetBits Measure } (try compiling with backend.get_compiled_circuits first)."
     ]
    }
   ],
   "source": [
    "qnx.jobs.wait_for(execute_job_ref)"
   ]
  },
  {
   "cell_type": "code",
   "execution_count": null,
   "metadata": {},
   "outputs": [],
   "source": []
  }
 ],
 "metadata": {
  "kernelspec": {
   "display_name": "qnexus-Rou6F43i-py3.11",
   "language": "python",
   "name": "python3"
  },
  "language_info": {
   "codemirror_mode": {
    "name": "ipython",
    "version": 3
   },
   "file_extension": ".py",
   "mimetype": "text/x-python",
   "name": "python",
   "nbconvert_exporter": "python",
   "pygments_lexer": "ipython3",
   "version": "3.11.6"
  }
 },
 "nbformat": 4,
 "nbformat_minor": 2
}
