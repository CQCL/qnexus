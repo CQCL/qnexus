{
 "cells": [
  {
   "cell_type": "code",
   "execution_count": 1,
   "metadata": {},
   "outputs": [],
   "source": [
    "from datetime import datetime\n",
    "\n",
    "import qnexus as qnx\n",
    "\n",
    "from pytket import Circuit\n",
    "\n"
   ]
  },
  {
   "cell_type": "code",
   "execution_count": 2,
   "metadata": {},
   "outputs": [],
   "source": [
    "my_project = qnx.project.get_only(name_like=\"VanyaTest\")\n",
    "\n",
    "qnx.context.set_active_project(my_project)\n",
    "\n",
    "my_job_name_prefix = datetime.now()"
   ]
  },
  {
   "cell_type": "markdown",
   "metadata": {},
   "source": [
    "## Compile Jobs"
   ]
  },
  {
   "cell_type": "code",
   "execution_count": 4,
   "metadata": {},
   "outputs": [],
   "source": [
    "c = Circuit(2,2).H(0).CX(0,1).measure_all()\n",
    "\n",
    "my_circuit_ref = qnx.circuit.upload(\n",
    "    circuit=c,\n",
    "    name=\"A circuit 17 May\",\n",
    ")"
   ]
  },
  {
   "cell_type": "code",
   "execution_count": 5,
   "metadata": {},
   "outputs": [
    {
     "data": {
      "text/html": [
       "<div>\n",
       "<style scoped>\n",
       "    .dataframe tbody tr th:only-of-type {\n",
       "        vertical-align: middle;\n",
       "    }\n",
       "\n",
       "    .dataframe tbody tr th {\n",
       "        vertical-align: top;\n",
       "    }\n",
       "\n",
       "    .dataframe thead th {\n",
       "        text-align: right;\n",
       "    }\n",
       "</style>\n",
       "<table border=\"1\" class=\"dataframe\">\n",
       "  <thead>\n",
       "    <tr style=\"text-align: right;\">\n",
       "      <th></th>\n",
       "      <th>name</th>\n",
       "      <th>description</th>\n",
       "      <th>created</th>\n",
       "      <th>modified</th>\n",
       "      <th>project</th>\n",
       "      <th>id</th>\n",
       "    </tr>\n",
       "  </thead>\n",
       "  <tbody>\n",
       "    <tr>\n",
       "      <th>0</th>\n",
       "      <td>A circuit 17 May</td>\n",
       "      <td>None</td>\n",
       "      <td>2024-05-20 13:29:03.859905+00:00</td>\n",
       "      <td>2024-05-20 13:29:03.859905+00:00</td>\n",
       "      <td>VanyaTest</td>\n",
       "      <td>9a0216ec-fc88-4f09-8282-d2cbeb7b2bb5</td>\n",
       "    </tr>\n",
       "  </tbody>\n",
       "</table>\n",
       "</div>"
      ],
      "text/plain": [
       "               name description                          created  \\\n",
       "0  A circuit 17 May        None 2024-05-20 13:29:03.859905+00:00   \n",
       "\n",
       "                          modified    project  \\\n",
       "0 2024-05-20 13:29:03.859905+00:00  VanyaTest   \n",
       "\n",
       "                                     id  \n",
       "0  9a0216ec-fc88-4f09-8282-d2cbeb7b2bb5  "
      ]
     },
     "execution_count": 5,
     "metadata": {},
     "output_type": "execute_result"
    }
   ],
   "source": [
    "my_circuit_ref.df()"
   ]
  },
  {
   "cell_type": "code",
   "execution_count": 6,
   "metadata": {},
   "outputs": [],
   "source": [
    "compile_job_ref = qnx.compile(\n",
    "    circuits=[my_circuit_ref],\n",
    "    name=f\"{my_job_name_prefix}_compile\",\n",
    "    optimisation_level=1,\n",
    "    target=qnx.QuantinuumConfig(device_name=\"H1-1SC\")\n",
    ")"
   ]
  },
  {
   "cell_type": "code",
   "execution_count": 11,
   "metadata": {},
   "outputs": [],
   "source": [
    "compile_results = qnx.job.results(compile_job_ref)"
   ]
  },
  {
   "cell_type": "code",
   "execution_count": 6,
   "metadata": {},
   "outputs": [
    {
     "data": {
      "text/plain": [
       "JobStatus(status=<StatusEnum.COMPLETED: 'Circuit has completed. Results are ready.'>, message='The job is completed.', error_detail=None, completed_time=datetime.datetime(2024, 5, 20, 13, 16, 45, 809847, tzinfo=datetime.timezone.utc), queued_time=None, submitted_time=datetime.datetime(2024, 5, 20, 13, 16, 36, 381994, tzinfo=datetime.timezone.utc), running_time=datetime.datetime(2024, 5, 20, 13, 16, 36, 443329, tzinfo=datetime.timezone.utc), cancelled_time=None, error_time=None, queue_position=None)"
      ]
     },
     "execution_count": 6,
     "metadata": {},
     "output_type": "execute_result"
    }
   ],
   "source": [
    "qnx.job.wait_for(compile_job_ref)"
   ]
  },
  {
   "cell_type": "code",
   "execution_count": 7,
   "metadata": {},
   "outputs": [
    {
     "data": {
      "text/html": [
       "<div>\n",
       "<style scoped>\n",
       "    .dataframe tbody tr th:only-of-type {\n",
       "        vertical-align: middle;\n",
       "    }\n",
       "\n",
       "    .dataframe tbody tr th {\n",
       "        vertical-align: top;\n",
       "    }\n",
       "\n",
       "    .dataframe thead th {\n",
       "        text-align: right;\n",
       "    }\n",
       "</style>\n",
       "<table border=\"1\" class=\"dataframe\">\n",
       "  <thead>\n",
       "    <tr style=\"text-align: right;\">\n",
       "      <th></th>\n",
       "      <th>name</th>\n",
       "      <th>description</th>\n",
       "      <th>created</th>\n",
       "      <th>modified</th>\n",
       "      <th>job_type</th>\n",
       "      <th>last_status</th>\n",
       "      <th>project</th>\n",
       "      <th>id</th>\n",
       "    </tr>\n",
       "  </thead>\n",
       "  <tbody>\n",
       "    <tr>\n",
       "      <th>0</th>\n",
       "      <td>2024-05-20 14:16:33.258027_compile</td>\n",
       "      <td>None</td>\n",
       "      <td>1970-01-01 00:00:00+00:00</td>\n",
       "      <td>1970-01-01 00:00:00+00:00</td>\n",
       "      <td>JobType.COMPILE</td>\n",
       "      <td>StatusEnum.COMPLETED</td>\n",
       "      <td>unimplemented</td>\n",
       "      <td>0c443704-425e-454d-a949-7689719b4a07</td>\n",
       "    </tr>\n",
       "  </tbody>\n",
       "</table>\n",
       "</div>"
      ],
      "text/plain": [
       "                                 name description                   created  \\\n",
       "0  2024-05-20 14:16:33.258027_compile        None 1970-01-01 00:00:00+00:00   \n",
       "\n",
       "                   modified         job_type           last_status  \\\n",
       "0 1970-01-01 00:00:00+00:00  JobType.COMPILE  StatusEnum.COMPLETED   \n",
       "\n",
       "         project                                    id  \n",
       "0  unimplemented  0c443704-425e-454d-a949-7689719b4a07  "
      ]
     },
     "execution_count": 7,
     "metadata": {},
     "output_type": "execute_result"
    }
   ],
   "source": [
    "# Pretending we lost the compile_job_ref variable, we can retrieve it using filters\n",
    "\n",
    "job_matches = qnx.job.get(name_like=f\"{my_job_name_prefix}_compile\")\n",
    "\n",
    "my_job = job_matches.list()[0]\n",
    "\n",
    "my_job.df()"
   ]
  },
  {
   "cell_type": "code",
   "execution_count": 11,
   "metadata": {},
   "outputs": [
    {
     "data": {
      "text/html": [
       "<div>\n",
       "<style scoped>\n",
       "    .dataframe tbody tr th:only-of-type {\n",
       "        vertical-align: middle;\n",
       "    }\n",
       "\n",
       "    .dataframe tbody tr th {\n",
       "        vertical-align: top;\n",
       "    }\n",
       "\n",
       "    .dataframe thead th {\n",
       "        text-align: right;\n",
       "    }\n",
       "</style>\n",
       "<table border=\"1\" class=\"dataframe\">\n",
       "  <thead>\n",
       "    <tr style=\"text-align: right;\">\n",
       "      <th></th>\n",
       "      <th>name</th>\n",
       "      <th>description</th>\n",
       "      <th>created</th>\n",
       "      <th>modified</th>\n",
       "      <th>project</th>\n",
       "      <th>id</th>\n",
       "    </tr>\n",
       "  </thead>\n",
       "  <tbody>\n",
       "    <tr>\n",
       "      <th>0</th>\n",
       "      <td>A circuit 17 May-compilation</td>\n",
       "      <td></td>\n",
       "      <td>2024-05-20 13:16:45.521845+00:00</td>\n",
       "      <td>2024-05-20 13:16:45.521845+00:00</td>\n",
       "      <td>VanyaTest</td>\n",
       "      <td>e20e63cb-e463-48b6-b14c-519e1ee47cef</td>\n",
       "    </tr>\n",
       "  </tbody>\n",
       "</table>\n",
       "</div>"
      ],
      "text/plain": [
       "                           name description                          created  \\\n",
       "0  A circuit 17 May-compilation             2024-05-20 13:16:45.521845+00:00   \n",
       "\n",
       "                          modified    project  \\\n",
       "0 2024-05-20 13:16:45.521845+00:00  VanyaTest   \n",
       "\n",
       "                                     id  \n",
       "0  e20e63cb-e463-48b6-b14c-519e1ee47cef  "
      ]
     },
     "execution_count": 11,
     "metadata": {},
     "output_type": "execute_result"
    }
   ],
   "source": [
    "# get results\n",
    "compile_results = qnx.job.results(compile_job_ref)\n",
    "\n",
    "compile_results.df()"
   ]
  },
  {
   "cell_type": "code",
   "execution_count": 12,
   "metadata": {},
   "outputs": [
    {
     "data": {
      "text/html": [
       "<div>\n",
       "<style scoped>\n",
       "    .dataframe tbody tr th:only-of-type {\n",
       "        vertical-align: middle;\n",
       "    }\n",
       "\n",
       "    .dataframe tbody tr th {\n",
       "        vertical-align: top;\n",
       "    }\n",
       "\n",
       "    .dataframe thead th {\n",
       "        text-align: right;\n",
       "    }\n",
       "</style>\n",
       "<table border=\"1\" class=\"dataframe\">\n",
       "  <thead>\n",
       "    <tr style=\"text-align: right;\">\n",
       "      <th></th>\n",
       "      <th>name</th>\n",
       "      <th>description</th>\n",
       "      <th>created</th>\n",
       "      <th>modified</th>\n",
       "      <th>project</th>\n",
       "      <th>id</th>\n",
       "    </tr>\n",
       "  </thead>\n",
       "  <tbody>\n",
       "    <tr>\n",
       "      <th>0</th>\n",
       "      <td>A circuit 17 May-compilation</td>\n",
       "      <td></td>\n",
       "      <td>2024-05-20 13:16:45.521845+00:00</td>\n",
       "      <td>2024-05-20 13:16:45.521845+00:00</td>\n",
       "      <td>VanyaTest</td>\n",
       "      <td>e20e63cb-e463-48b6-b14c-519e1ee47cef</td>\n",
       "    </tr>\n",
       "  </tbody>\n",
       "</table>\n",
       "</div>"
      ],
      "text/plain": [
       "                           name description                          created  \\\n",
       "0  A circuit 17 May-compilation             2024-05-20 13:16:45.521845+00:00   \n",
       "\n",
       "                          modified    project  \\\n",
       "0 2024-05-20 13:16:45.521845+00:00  VanyaTest   \n",
       "\n",
       "                                     id  \n",
       "0  e20e63cb-e463-48b6-b14c-519e1ee47cef  "
      ]
     },
     "execution_count": 12,
     "metadata": {},
     "output_type": "execute_result"
    }
   ],
   "source": [
    "compile_results[0].df()"
   ]
  },
  {
   "cell_type": "code",
   "execution_count": 13,
   "metadata": {},
   "outputs": [
    {
     "data": {
      "text/html": [
       "<div>\n",
       "<style scoped>\n",
       "    .dataframe tbody tr th:only-of-type {\n",
       "        vertical-align: middle;\n",
       "    }\n",
       "\n",
       "    .dataframe tbody tr th {\n",
       "        vertical-align: top;\n",
       "    }\n",
       "\n",
       "    .dataframe thead th {\n",
       "        text-align: right;\n",
       "    }\n",
       "</style>\n",
       "<table border=\"1\" class=\"dataframe\">\n",
       "  <thead>\n",
       "    <tr style=\"text-align: right;\">\n",
       "      <th></th>\n",
       "      <th>pass name</th>\n",
       "      <th>input</th>\n",
       "      <th>output</th>\n",
       "      <th>id</th>\n",
       "    </tr>\n",
       "  </thead>\n",
       "  <tbody>\n",
       "    <tr>\n",
       "      <th>0</th>\n",
       "      <td>DecomposeBoxes</td>\n",
       "      <td>A circuit 17 May</td>\n",
       "      <td>A circuit 17 May</td>\n",
       "      <td>a1ec7fe2-6913-434d-a79b-d40a2a6c6800</td>\n",
       "    </tr>\n",
       "    <tr>\n",
       "      <th>1</th>\n",
       "      <td>CustomPass</td>\n",
       "      <td>A circuit 17 May</td>\n",
       "      <td>A circuit 17 May</td>\n",
       "      <td>1c945435-684f-4640-b0c2-e5ccfdac88e5</td>\n",
       "    </tr>\n",
       "    <tr>\n",
       "      <th>2</th>\n",
       "      <td>SynthesiseTK</td>\n",
       "      <td>A circuit 17 May</td>\n",
       "      <td>A circuit 17 May-QuantinuumBackend-2</td>\n",
       "      <td>45e7cbb3-2ffb-41c8-8ed4-115948817ad8</td>\n",
       "    </tr>\n",
       "    <tr>\n",
       "      <th>3</th>\n",
       "      <td>NormaliseTK2</td>\n",
       "      <td>A circuit 17 May-QuantinuumBackend-2</td>\n",
       "      <td>A circuit 17 May-QuantinuumBackend-2</td>\n",
       "      <td>f8b67d1f-3a5e-406f-8dec-8da5df38e0eb</td>\n",
       "    </tr>\n",
       "    <tr>\n",
       "      <th>4</th>\n",
       "      <td>DecomposeTK2</td>\n",
       "      <td>A circuit 17 May-QuantinuumBackend-2</td>\n",
       "      <td>A circuit 17 May-QuantinuumBackend-3</td>\n",
       "      <td>11f1df6a-ced5-4d98-8014-9bbf5415824e</td>\n",
       "    </tr>\n",
       "    <tr>\n",
       "      <th>5</th>\n",
       "      <td>RebaseCustomViaTK2</td>\n",
       "      <td>A circuit 17 May-QuantinuumBackend-3</td>\n",
       "      <td>A circuit 17 May-QuantinuumBackend-4</td>\n",
       "      <td>c4aaf031-ce0e-46fa-9d44-f36120801e67</td>\n",
       "    </tr>\n",
       "    <tr>\n",
       "      <th>6</th>\n",
       "      <td>ZZPhaseToRz</td>\n",
       "      <td>A circuit 17 May-QuantinuumBackend-4</td>\n",
       "      <td>A circuit 17 May-QuantinuumBackend-4</td>\n",
       "      <td>6f5dfc29-065b-4b7d-a65a-261b3b7e86cc</td>\n",
       "    </tr>\n",
       "    <tr>\n",
       "      <th>7</th>\n",
       "      <td>RemoveRedundancies</td>\n",
       "      <td>A circuit 17 May-QuantinuumBackend-4</td>\n",
       "      <td>A circuit 17 May-QuantinuumBackend-4</td>\n",
       "      <td>8afceb5a-a450-428b-9f27-93a121fd780d</td>\n",
       "    </tr>\n",
       "    <tr>\n",
       "      <th>8</th>\n",
       "      <td>SquashRzPhasedX</td>\n",
       "      <td>A circuit 17 May-QuantinuumBackend-4</td>\n",
       "      <td>A circuit 17 May-QuantinuumBackend-5</td>\n",
       "      <td>b5ad36ff-8639-4a11-a564-3bb315cf531d</td>\n",
       "    </tr>\n",
       "    <tr>\n",
       "      <th>9</th>\n",
       "      <td>RemoveRedundancies</td>\n",
       "      <td>A circuit 17 May-QuantinuumBackend-5</td>\n",
       "      <td>A circuit 17 May-QuantinuumBackend-final</td>\n",
       "      <td>c0d430ad-2bdd-402a-84de-e08728f3e9bc</td>\n",
       "    </tr>\n",
       "    <tr>\n",
       "      <th>10</th>\n",
       "      <td>FlattenRelabelRegistersPass</td>\n",
       "      <td>A circuit 17 May-QuantinuumBackend-final</td>\n",
       "      <td>A circuit 17 May-QuantinuumBackend-final</td>\n",
       "      <td>3a57a2b8-d798-4517-b21c-01dab2c75f21</td>\n",
       "    </tr>\n",
       "  </tbody>\n",
       "</table>\n",
       "</div>"
      ],
      "text/plain": [
       "                      pass name                                     input  \\\n",
       "0                DecomposeBoxes                          A circuit 17 May   \n",
       "1                    CustomPass                          A circuit 17 May   \n",
       "2                  SynthesiseTK                          A circuit 17 May   \n",
       "3                  NormaliseTK2      A circuit 17 May-QuantinuumBackend-2   \n",
       "4                  DecomposeTK2      A circuit 17 May-QuantinuumBackend-2   \n",
       "5            RebaseCustomViaTK2      A circuit 17 May-QuantinuumBackend-3   \n",
       "6                   ZZPhaseToRz      A circuit 17 May-QuantinuumBackend-4   \n",
       "7            RemoveRedundancies      A circuit 17 May-QuantinuumBackend-4   \n",
       "8               SquashRzPhasedX      A circuit 17 May-QuantinuumBackend-4   \n",
       "9            RemoveRedundancies      A circuit 17 May-QuantinuumBackend-5   \n",
       "10  FlattenRelabelRegistersPass  A circuit 17 May-QuantinuumBackend-final   \n",
       "\n",
       "                                      output  \\\n",
       "0                           A circuit 17 May   \n",
       "1                           A circuit 17 May   \n",
       "2       A circuit 17 May-QuantinuumBackend-2   \n",
       "3       A circuit 17 May-QuantinuumBackend-2   \n",
       "4       A circuit 17 May-QuantinuumBackend-3   \n",
       "5       A circuit 17 May-QuantinuumBackend-4   \n",
       "6       A circuit 17 May-QuantinuumBackend-4   \n",
       "7       A circuit 17 May-QuantinuumBackend-4   \n",
       "8       A circuit 17 May-QuantinuumBackend-5   \n",
       "9   A circuit 17 May-QuantinuumBackend-final   \n",
       "10  A circuit 17 May-QuantinuumBackend-final   \n",
       "\n",
       "                                      id  \n",
       "0   a1ec7fe2-6913-434d-a79b-d40a2a6c6800  \n",
       "1   1c945435-684f-4640-b0c2-e5ccfdac88e5  \n",
       "2   45e7cbb3-2ffb-41c8-8ed4-115948817ad8  \n",
       "3   f8b67d1f-3a5e-406f-8dec-8da5df38e0eb  \n",
       "4   11f1df6a-ced5-4d98-8014-9bbf5415824e  \n",
       "5   c4aaf031-ce0e-46fa-9d44-f36120801e67  \n",
       "6   6f5dfc29-065b-4b7d-a65a-261b3b7e86cc  \n",
       "7   8afceb5a-a450-428b-9f27-93a121fd780d  \n",
       "8   b5ad36ff-8639-4a11-a564-3bb315cf531d  \n",
       "9   c0d430ad-2bdd-402a-84de-e08728f3e9bc  \n",
       "10  3a57a2b8-d798-4517-b21c-01dab2c75f21  "
      ]
     },
     "execution_count": 13,
     "metadata": {},
     "output_type": "execute_result"
    }
   ],
   "source": [
    "compile_results[0].get_passes().df()"
   ]
  },
  {
   "cell_type": "code",
   "execution_count": 14,
   "metadata": {},
   "outputs": [
    {
     "data": {
      "text/plain": [
       "[PhasedX(3.5, 0.5) q[0]; PhasedX(0.5, 0.5) q[1]; ZZPhase(0.5) q[0], q[1]; Measure q[0] --> c[0]; PhasedX(0.5, 0) q[1]; Measure q[1] --> c[1]; ]"
      ]
     },
     "execution_count": 14,
     "metadata": {},
     "output_type": "execute_result"
    }
   ],
   "source": [
    "compile_results[0].get_output().download_circuit()"
   ]
  },
  {
   "cell_type": "code",
   "execution_count": 15,
   "metadata": {},
   "outputs": [
    {
     "data": {
      "text/html": [
       "<div>\n",
       "<style scoped>\n",
       "    .dataframe tbody tr th:only-of-type {\n",
       "        vertical-align: middle;\n",
       "    }\n",
       "\n",
       "    .dataframe tbody tr th {\n",
       "        vertical-align: top;\n",
       "    }\n",
       "\n",
       "    .dataframe thead th {\n",
       "        text-align: right;\n",
       "    }\n",
       "</style>\n",
       "<table border=\"1\" class=\"dataframe\">\n",
       "  <thead>\n",
       "    <tr style=\"text-align: right;\">\n",
       "      <th></th>\n",
       "      <th>pass name</th>\n",
       "      <th>input</th>\n",
       "      <th>output</th>\n",
       "      <th>id</th>\n",
       "    </tr>\n",
       "  </thead>\n",
       "  <tbody>\n",
       "    <tr>\n",
       "      <th>0</th>\n",
       "      <td>DecomposeBoxes</td>\n",
       "      <td>A circuit 17 May</td>\n",
       "      <td>A circuit 17 May</td>\n",
       "      <td>a1ec7fe2-6913-434d-a79b-d40a2a6c6800</td>\n",
       "    </tr>\n",
       "    <tr>\n",
       "      <th>1</th>\n",
       "      <td>CustomPass</td>\n",
       "      <td>A circuit 17 May</td>\n",
       "      <td>A circuit 17 May</td>\n",
       "      <td>1c945435-684f-4640-b0c2-e5ccfdac88e5</td>\n",
       "    </tr>\n",
       "    <tr>\n",
       "      <th>2</th>\n",
       "      <td>SynthesiseTK</td>\n",
       "      <td>A circuit 17 May</td>\n",
       "      <td>A circuit 17 May-QuantinuumBackend-2</td>\n",
       "      <td>45e7cbb3-2ffb-41c8-8ed4-115948817ad8</td>\n",
       "    </tr>\n",
       "    <tr>\n",
       "      <th>3</th>\n",
       "      <td>NormaliseTK2</td>\n",
       "      <td>A circuit 17 May-QuantinuumBackend-2</td>\n",
       "      <td>A circuit 17 May-QuantinuumBackend-2</td>\n",
       "      <td>f8b67d1f-3a5e-406f-8dec-8da5df38e0eb</td>\n",
       "    </tr>\n",
       "    <tr>\n",
       "      <th>4</th>\n",
       "      <td>DecomposeTK2</td>\n",
       "      <td>A circuit 17 May-QuantinuumBackend-2</td>\n",
       "      <td>A circuit 17 May-QuantinuumBackend-3</td>\n",
       "      <td>11f1df6a-ced5-4d98-8014-9bbf5415824e</td>\n",
       "    </tr>\n",
       "    <tr>\n",
       "      <th>5</th>\n",
       "      <td>RebaseCustomViaTK2</td>\n",
       "      <td>A circuit 17 May-QuantinuumBackend-3</td>\n",
       "      <td>A circuit 17 May-QuantinuumBackend-4</td>\n",
       "      <td>c4aaf031-ce0e-46fa-9d44-f36120801e67</td>\n",
       "    </tr>\n",
       "    <tr>\n",
       "      <th>6</th>\n",
       "      <td>ZZPhaseToRz</td>\n",
       "      <td>A circuit 17 May-QuantinuumBackend-4</td>\n",
       "      <td>A circuit 17 May-QuantinuumBackend-4</td>\n",
       "      <td>6f5dfc29-065b-4b7d-a65a-261b3b7e86cc</td>\n",
       "    </tr>\n",
       "    <tr>\n",
       "      <th>7</th>\n",
       "      <td>RemoveRedundancies</td>\n",
       "      <td>A circuit 17 May-QuantinuumBackend-4</td>\n",
       "      <td>A circuit 17 May-QuantinuumBackend-4</td>\n",
       "      <td>8afceb5a-a450-428b-9f27-93a121fd780d</td>\n",
       "    </tr>\n",
       "    <tr>\n",
       "      <th>8</th>\n",
       "      <td>SquashRzPhasedX</td>\n",
       "      <td>A circuit 17 May-QuantinuumBackend-4</td>\n",
       "      <td>A circuit 17 May-QuantinuumBackend-5</td>\n",
       "      <td>b5ad36ff-8639-4a11-a564-3bb315cf531d</td>\n",
       "    </tr>\n",
       "    <tr>\n",
       "      <th>9</th>\n",
       "      <td>RemoveRedundancies</td>\n",
       "      <td>A circuit 17 May-QuantinuumBackend-5</td>\n",
       "      <td>A circuit 17 May-QuantinuumBackend-final</td>\n",
       "      <td>c0d430ad-2bdd-402a-84de-e08728f3e9bc</td>\n",
       "    </tr>\n",
       "    <tr>\n",
       "      <th>10</th>\n",
       "      <td>FlattenRelabelRegistersPass</td>\n",
       "      <td>A circuit 17 May-QuantinuumBackend-final</td>\n",
       "      <td>A circuit 17 May-QuantinuumBackend-final</td>\n",
       "      <td>3a57a2b8-d798-4517-b21c-01dab2c75f21</td>\n",
       "    </tr>\n",
       "  </tbody>\n",
       "</table>\n",
       "</div>"
      ],
      "text/plain": [
       "                      pass name                                     input  \\\n",
       "0                DecomposeBoxes                          A circuit 17 May   \n",
       "1                    CustomPass                          A circuit 17 May   \n",
       "2                  SynthesiseTK                          A circuit 17 May   \n",
       "3                  NormaliseTK2      A circuit 17 May-QuantinuumBackend-2   \n",
       "4                  DecomposeTK2      A circuit 17 May-QuantinuumBackend-2   \n",
       "5            RebaseCustomViaTK2      A circuit 17 May-QuantinuumBackend-3   \n",
       "6                   ZZPhaseToRz      A circuit 17 May-QuantinuumBackend-4   \n",
       "7            RemoveRedundancies      A circuit 17 May-QuantinuumBackend-4   \n",
       "8               SquashRzPhasedX      A circuit 17 May-QuantinuumBackend-4   \n",
       "9            RemoveRedundancies      A circuit 17 May-QuantinuumBackend-5   \n",
       "10  FlattenRelabelRegistersPass  A circuit 17 May-QuantinuumBackend-final   \n",
       "\n",
       "                                      output  \\\n",
       "0                           A circuit 17 May   \n",
       "1                           A circuit 17 May   \n",
       "2       A circuit 17 May-QuantinuumBackend-2   \n",
       "3       A circuit 17 May-QuantinuumBackend-2   \n",
       "4       A circuit 17 May-QuantinuumBackend-3   \n",
       "5       A circuit 17 May-QuantinuumBackend-4   \n",
       "6       A circuit 17 May-QuantinuumBackend-4   \n",
       "7       A circuit 17 May-QuantinuumBackend-4   \n",
       "8       A circuit 17 May-QuantinuumBackend-5   \n",
       "9   A circuit 17 May-QuantinuumBackend-final   \n",
       "10  A circuit 17 May-QuantinuumBackend-final   \n",
       "\n",
       "                                      id  \n",
       "0   a1ec7fe2-6913-434d-a79b-d40a2a6c6800  \n",
       "1   1c945435-684f-4640-b0c2-e5ccfdac88e5  \n",
       "2   45e7cbb3-2ffb-41c8-8ed4-115948817ad8  \n",
       "3   f8b67d1f-3a5e-406f-8dec-8da5df38e0eb  \n",
       "4   11f1df6a-ced5-4d98-8014-9bbf5415824e  \n",
       "5   c4aaf031-ce0e-46fa-9d44-f36120801e67  \n",
       "6   6f5dfc29-065b-4b7d-a65a-261b3b7e86cc  \n",
       "7   8afceb5a-a450-428b-9f27-93a121fd780d  \n",
       "8   b5ad36ff-8639-4a11-a564-3bb315cf531d  \n",
       "9   c0d430ad-2bdd-402a-84de-e08728f3e9bc  \n",
       "10  3a57a2b8-d798-4517-b21c-01dab2c75f21  "
      ]
     },
     "execution_count": 15,
     "metadata": {},
     "output_type": "execute_result"
    }
   ],
   "source": [
    "passes = compile_results[0].get_passes()\n",
    "\n",
    "\n",
    "passes.df()"
   ]
  },
  {
   "cell_type": "markdown",
   "metadata": {},
   "source": [
    "## Execute Jobs"
   ]
  },
  {
   "cell_type": "code",
   "execution_count": 16,
   "metadata": {},
   "outputs": [],
   "source": [
    "compiled_circuits = [item.get_output() for item in compile_results]"
   ]
  },
  {
   "cell_type": "code",
   "execution_count": 17,
   "metadata": {},
   "outputs": [
    {
     "data": {
      "text/plain": [
       "[CircuitRef(id=UUID('4a77c615-5972-4b05-8294-20d4fcd7605e'), annotations=Annotations(name='A circuit 17 May-QuantinuumBackend-final', description=None, properties=OrderedDict(), created=datetime.datetime(2024, 5, 20, 13, 16, 45, 471243, tzinfo=TzInfo(UTC)), modified=datetime.datetime(2024, 5, 20, 13, 16, 45, 471243, tzinfo=TzInfo(UTC))), project=ProjectRef(id=UUID('6ed750a5-de0c-4879-a771-2c1f3f746d18'), annotations=Annotations(name='VanyaTest', description='', properties=OrderedDict(), created=datetime.datetime(2024, 1, 29, 13, 38, 27, 351099, tzinfo=TzInfo(UTC)), modified=datetime.datetime(2024, 1, 29, 13, 38, 27, 351099, tzinfo=TzInfo(UTC))), contents_modified=datetime.datetime(2024, 5, 20, 13, 16, 45, 809847, tzinfo=TzInfo(UTC))))]"
      ]
     },
     "execution_count": 17,
     "metadata": {},
     "output_type": "execute_result"
    }
   ],
   "source": [
    "compiled_circuits"
   ]
  },
  {
   "cell_type": "code",
   "execution_count": 18,
   "metadata": {},
   "outputs": [],
   "source": [
    "execute_job_ref = qnx.execute(\n",
    "    circuits=compiled_circuits,\n",
    "    name=f\"{my_job_name_prefix}1_execute\",\n",
    "    n_shots=[100]* len(compiled_circuits),\n",
    "    target=qnx.QuantinuumConfig(device_name=\"H1-1SC\"),\n",
    ")"
   ]
  },
  {
   "cell_type": "code",
   "execution_count": 19,
   "metadata": {},
   "outputs": [
    {
     "data": {
      "text/plain": [
       "JobStatus(status=<StatusEnum.COMPLETED: 'Circuit has completed. Results are ready.'>, message='The job is completed.', error_detail=None, completed_time=datetime.datetime(2024, 5, 20, 13, 18, 11, 117318, tzinfo=datetime.timezone.utc), queued_time=None, submitted_time=datetime.datetime(2024, 5, 20, 13, 17, 30, 533858, tzinfo=datetime.timezone.utc), running_time=None, cancelled_time=None, error_time=None, queue_position=None)"
      ]
     },
     "execution_count": 19,
     "metadata": {},
     "output_type": "execute_result"
    }
   ],
   "source": [
    "qnx.job.wait_for(execute_job_ref)"
   ]
  },
  {
   "cell_type": "code",
   "execution_count": 20,
   "metadata": {},
   "outputs": [
    {
     "data": {
      "text/html": [
       "<div>\n",
       "<style scoped>\n",
       "    .dataframe tbody tr th:only-of-type {\n",
       "        vertical-align: middle;\n",
       "    }\n",
       "\n",
       "    .dataframe tbody tr th {\n",
       "        vertical-align: top;\n",
       "    }\n",
       "\n",
       "    .dataframe thead th {\n",
       "        text-align: right;\n",
       "    }\n",
       "</style>\n",
       "<table border=\"1\" class=\"dataframe\">\n",
       "  <thead>\n",
       "    <tr style=\"text-align: right;\">\n",
       "      <th></th>\n",
       "      <th>name</th>\n",
       "      <th>description</th>\n",
       "      <th>created</th>\n",
       "      <th>modified</th>\n",
       "      <th>project</th>\n",
       "      <th>id</th>\n",
       "    </tr>\n",
       "  </thead>\n",
       "  <tbody>\n",
       "    <tr>\n",
       "      <th>0</th>\n",
       "      <td>2024-05-20 14:16:33.2580271_execute</td>\n",
       "      <td>None</td>\n",
       "      <td>None</td>\n",
       "      <td>None</td>\n",
       "      <td>VanyaTest</td>\n",
       "      <td>dd11ab28-ef16-4a7c-b1a8-cbc8e3ffaa40</td>\n",
       "    </tr>\n",
       "  </tbody>\n",
       "</table>\n",
       "</div>"
      ],
      "text/plain": [
       "                                  name description created modified  \\\n",
       "0  2024-05-20 14:16:33.2580271_execute        None    None     None   \n",
       "\n",
       "     project                                    id  \n",
       "0  VanyaTest  dd11ab28-ef16-4a7c-b1a8-cbc8e3ffaa40  "
      ]
     },
     "execution_count": 20,
     "metadata": {},
     "output_type": "execute_result"
    }
   ],
   "source": [
    "execute_results = qnx.job.results(execute_job_ref)\n",
    "\n",
    "execute_results.df()"
   ]
  },
  {
   "cell_type": "code",
   "execution_count": 21,
   "metadata": {},
   "outputs": [
    {
     "data": {
      "text/plain": [
       "BackendInfo(name='QuantinuumBackend snapshot', device_name='H1-1SC', version='0.33.0', architecture=<tket::FullyConnected, nodes=20>, gate_set={<OpType.Measure: 66>, <OpType.Reset: 68>, <OpType.Rz: 36>, <OpType.PhasedX: 71>, <OpType.Barrier: 8>, <OpType.ZZMax: 73>, <OpType.ClassicalExpBox: 107>, <OpType.ZZPhase: 76>, <OpType.TK2: 44>, <OpType.WASM: 14>, <OpType.SetBits: 15>, <OpType.CopyBits: 16>, <OpType.RangePredicate: 17>, <OpType.ExplicitPredicate: 18>, <OpType.ExplicitModifier: 19>, <OpType.MultiBit: 20>}, n_cl_reg=0, supports_fast_feedforward=True, supports_reset=True, supports_midcircuit_measurement=True, all_node_gate_errors=None, all_edge_gate_errors=None, all_readout_errors=None, averaged_node_gate_errors=None, averaged_edge_gate_errors=None, averaged_readout_errors=None, misc={'cl_reg_width': 32, 'max_n_shots': 10000, 'options': {}, 'system_type': 'syntax checker', 'wasm': True})"
      ]
     },
     "execution_count": 21,
     "metadata": {},
     "output_type": "execute_result"
    }
   ],
   "source": [
    "execute_results[0].download_backend_info()"
   ]
  },
  {
   "cell_type": "code",
   "execution_count": 22,
   "metadata": {},
   "outputs": [
    {
     "data": {
      "text/plain": [
       "BackendResult(q_bits={},c_bits={c[0]: 0, c[1]: 1},counts=None,shots=[[0]\n",
       " [0]\n",
       " [0]\n",
       " [0]\n",
       " [0]\n",
       " [0]\n",
       " [0]\n",
       " [0]\n",
       " [0]\n",
       " [0]\n",
       " [0]\n",
       " [0]\n",
       " [0]\n",
       " [0]\n",
       " [0]\n",
       " [0]\n",
       " [0]\n",
       " [0]\n",
       " [0]\n",
       " [0]\n",
       " [0]\n",
       " [0]\n",
       " [0]\n",
       " [0]\n",
       " [0]\n",
       " [0]\n",
       " [0]\n",
       " [0]\n",
       " [0]\n",
       " [0]\n",
       " [0]\n",
       " [0]\n",
       " [0]\n",
       " [0]\n",
       " [0]\n",
       " [0]\n",
       " [0]\n",
       " [0]\n",
       " [0]\n",
       " [0]\n",
       " [0]\n",
       " [0]\n",
       " [0]\n",
       " [0]\n",
       " [0]\n",
       " [0]\n",
       " [0]\n",
       " [0]\n",
       " [0]\n",
       " [0]\n",
       " [0]\n",
       " [0]\n",
       " [0]\n",
       " [0]\n",
       " [0]\n",
       " [0]\n",
       " [0]\n",
       " [0]\n",
       " [0]\n",
       " [0]\n",
       " [0]\n",
       " [0]\n",
       " [0]\n",
       " [0]\n",
       " [0]\n",
       " [0]\n",
       " [0]\n",
       " [0]\n",
       " [0]\n",
       " [0]\n",
       " [0]\n",
       " [0]\n",
       " [0]\n",
       " [0]\n",
       " [0]\n",
       " [0]\n",
       " [0]\n",
       " [0]\n",
       " [0]\n",
       " [0]\n",
       " [0]\n",
       " [0]\n",
       " [0]\n",
       " [0]\n",
       " [0]\n",
       " [0]\n",
       " [0]\n",
       " [0]\n",
       " [0]\n",
       " [0]\n",
       " [0]\n",
       " [0]\n",
       " [0]\n",
       " [0]\n",
       " [0]\n",
       " [0]\n",
       " [0]\n",
       " [0]\n",
       " [0]\n",
       " [0]],state=None,unitary=None,density_matrix=None)"
      ]
     },
     "execution_count": 22,
     "metadata": {},
     "output_type": "execute_result"
    }
   ],
   "source": [
    "execute_results[0].download_result()"
   ]
  },
  {
   "cell_type": "code",
   "execution_count": null,
   "metadata": {},
   "outputs": [],
   "source": [
    "\n"
   ]
  },
  {
   "cell_type": "code",
   "execution_count": null,
   "metadata": {},
   "outputs": [],
   "source": [
    "# Example of a job erroring"
   ]
  },
  {
   "cell_type": "code",
   "execution_count": null,
   "metadata": {},
   "outputs": [],
   "source": [
    "execute_job_ref = qnx.execute(\n",
    "    circuits=[my_circuit_ref],\n",
    "    name=f\"error_execute_{datetime.now()}\",\n",
    "    n_shots=[100],\n",
    "    target=qnx.QuantinuumConfig(device_name=\"H1-1LE\")\n",
    ")"
   ]
  },
  {
   "cell_type": "code",
   "execution_count": null,
   "metadata": {},
   "outputs": [],
   "source": [
    "qnx.job.wait_for(execute_job_ref)"
   ]
  },
  {
   "cell_type": "code",
   "execution_count": null,
   "metadata": {},
   "outputs": [],
   "source": []
  },
  {
   "cell_type": "code",
   "execution_count": null,
   "metadata": {},
   "outputs": [],
   "source": []
  },
  {
   "cell_type": "code",
   "execution_count": null,
   "metadata": {},
   "outputs": [],
   "source": []
  }
 ],
 "metadata": {
  "kernelspec": {
   "display_name": "qnexus-Rou6F43i-py3.11",
   "language": "python",
   "name": "python3"
  },
  "language_info": {
   "codemirror_mode": {
    "name": "ipython",
    "version": 3
   },
   "file_extension": ".py",
   "mimetype": "text/x-python",
   "name": "python",
   "nbconvert_exporter": "python",
   "pygments_lexer": "ipython3",
   "version": "3.11.6"
  }
 },
 "nbformat": 4,
 "nbformat_minor": 2
}
