{
 "cells": [
  {
   "cell_type": "code",
   "execution_count": 1,
   "metadata": {},
   "outputs": [],
   "source": [
    "from datetime import datetime\n",
    "\n",
    "import qnexus as qnx\n",
    "\n",
    "from pytket import Circuit\n",
    "\n",
    "from qnexus.client.models.nexus_dataclasses import QuantinuumConfig\n",
    "\n"
   ]
  },
  {
   "cell_type": "code",
   "execution_count": 2,
   "metadata": {},
   "outputs": [],
   "source": [
    "my_project = qnx.project.get_only(name_like=\"VanyaTest\")\n",
    "\n",
    "qnx.context.set_active_project(my_project)\n",
    "\n",
    "my_job_name_prefix = datetime.now()"
   ]
  },
  {
   "cell_type": "markdown",
   "metadata": {},
   "source": [
    "## Compile Jobs"
   ]
  },
  {
   "cell_type": "code",
   "execution_count": 3,
   "metadata": {},
   "outputs": [],
   "source": [
    "c = Circuit(2,2).H(0).CX(0,1).measure_all()\n",
    "\n",
    "my_circuit_ref = qnx.circuit.upload(\n",
    "    circuit=c,\n",
    "    name=\"A circuit 17 May\",\n",
    ")"
   ]
  },
  {
   "cell_type": "code",
   "execution_count": 4,
   "metadata": {},
   "outputs": [],
   "source": [
    "compile_job_ref = qnx.compile(\n",
    "    circuits=[my_circuit_ref],\n",
    "    name=f\"{my_job_name_prefix}_compile\",\n",
    "    optimisation_level=1,\n",
    "    target=QuantinuumConfig(device_name=\"H1-1SC\")\n",
    ")"
   ]
  },
  {
   "cell_type": "code",
   "execution_count": 5,
   "metadata": {},
   "outputs": [
    {
     "data": {
      "text/plain": [
       "JobStatus(status=<StatusEnum.COMPLETED: 'Circuit has completed. Results are ready.'>, message='The job is completed.', error_detail=None, completed_time=datetime.datetime(2024, 5, 17, 13, 42, 15, 845125, tzinfo=datetime.timezone.utc), queued_time=None, submitted_time=datetime.datetime(2024, 5, 17, 13, 42, 1, 298374, tzinfo=datetime.timezone.utc), running_time=datetime.datetime(2024, 5, 17, 13, 42, 1, 445317, tzinfo=datetime.timezone.utc), cancelled_time=None, error_time=None, queue_position=None)"
      ]
     },
     "execution_count": 5,
     "metadata": {},
     "output_type": "execute_result"
    }
   ],
   "source": [
    "qnx.job.wait_for(compile_job_ref)"
   ]
  },
  {
   "cell_type": "code",
   "execution_count": 6,
   "metadata": {},
   "outputs": [],
   "source": [
    "# Pretending we lost the compile_job_ref variable, we can retrieve it using filters\n",
    "\n",
    "job_matches = qnx.job.get(name_like=f\"{my_job_name_prefix}_compile\")\n",
    "\n",
    "my_job = job_matches.list()[0]\n",
    "\n",
    "my_job.df()"
   ]
  },
  {
   "cell_type": "code",
   "execution_count": 6,
   "metadata": {},
   "outputs": [
    {
     "data": {
      "text/html": [
       "<div>\n",
       "<style scoped>\n",
       "    .dataframe tbody tr th:only-of-type {\n",
       "        vertical-align: middle;\n",
       "    }\n",
       "\n",
       "    .dataframe tbody tr th {\n",
       "        vertical-align: top;\n",
       "    }\n",
       "\n",
       "    .dataframe thead th {\n",
       "        text-align: right;\n",
       "    }\n",
       "</style>\n",
       "<table border=\"1\" class=\"dataframe\">\n",
       "  <thead>\n",
       "    <tr style=\"text-align: right;\">\n",
       "      <th></th>\n",
       "      <th>name</th>\n",
       "      <th>description</th>\n",
       "      <th>project</th>\n",
       "      <th>id</th>\n",
       "    </tr>\n",
       "  </thead>\n",
       "  <tbody>\n",
       "    <tr>\n",
       "      <th>0</th>\n",
       "      <td>A circuit 17 May-compilation</td>\n",
       "      <td></td>\n",
       "      <td>VanyaTest</td>\n",
       "      <td>5a59b5c4-57bd-4730-8740-cb8cb5dfce89</td>\n",
       "    </tr>\n",
       "  </tbody>\n",
       "</table>\n",
       "</div>"
      ],
      "text/plain": [
       "                           name description    project  \\\n",
       "0  A circuit 17 May-compilation              VanyaTest   \n",
       "\n",
       "                                     id  \n",
       "0  5a59b5c4-57bd-4730-8740-cb8cb5dfce89  "
      ]
     },
     "execution_count": 6,
     "metadata": {},
     "output_type": "execute_result"
    }
   ],
   "source": [
    "# get results\n",
    "compile_results = qnx.job.results(compile_job_ref)\n",
    "\n",
    "compile_results.df()"
   ]
  },
  {
   "cell_type": "code",
   "execution_count": 7,
   "metadata": {},
   "outputs": [
    {
     "data": {
      "text/html": [
       "<div>\n",
       "<style scoped>\n",
       "    .dataframe tbody tr th:only-of-type {\n",
       "        vertical-align: middle;\n",
       "    }\n",
       "\n",
       "    .dataframe tbody tr th {\n",
       "        vertical-align: top;\n",
       "    }\n",
       "\n",
       "    .dataframe thead th {\n",
       "        text-align: right;\n",
       "    }\n",
       "</style>\n",
       "<table border=\"1\" class=\"dataframe\">\n",
       "  <thead>\n",
       "    <tr style=\"text-align: right;\">\n",
       "      <th></th>\n",
       "      <th>name</th>\n",
       "      <th>description</th>\n",
       "      <th>project</th>\n",
       "      <th>id</th>\n",
       "    </tr>\n",
       "  </thead>\n",
       "  <tbody>\n",
       "    <tr>\n",
       "      <th>0</th>\n",
       "      <td>A circuit 17 May-compilation</td>\n",
       "      <td></td>\n",
       "      <td>VanyaTest</td>\n",
       "      <td>5a59b5c4-57bd-4730-8740-cb8cb5dfce89</td>\n",
       "    </tr>\n",
       "  </tbody>\n",
       "</table>\n",
       "</div>"
      ],
      "text/plain": [
       "                           name description    project  \\\n",
       "0  A circuit 17 May-compilation              VanyaTest   \n",
       "\n",
       "                                     id  \n",
       "0  5a59b5c4-57bd-4730-8740-cb8cb5dfce89  "
      ]
     },
     "execution_count": 7,
     "metadata": {},
     "output_type": "execute_result"
    }
   ],
   "source": [
    "compile_results[0].df()"
   ]
  },
  {
   "cell_type": "code",
   "execution_count": 8,
   "metadata": {},
   "outputs": [],
   "source": [
    "circuit_ref = compile_results[0].get_output()"
   ]
  },
  {
   "cell_type": "code",
   "execution_count": 9,
   "metadata": {},
   "outputs": [
    {
     "data": {
      "text/plain": [
       "[PhasedX(3.5, 0.5) q[0]; PhasedX(0.5, 0.5) q[1]; ZZPhase(0.5) q[0], q[1]; Measure q[0] --> c[0]; PhasedX(0.5, 0) q[1]; Measure q[1] --> c[1]; ]"
      ]
     },
     "execution_count": 9,
     "metadata": {},
     "output_type": "execute_result"
    }
   ],
   "source": [
    "circuit_ref.download_circuit()"
   ]
  },
  {
   "cell_type": "code",
   "execution_count": 10,
   "metadata": {},
   "outputs": [
    {
     "data": {
      "text/html": [
       "<div>\n",
       "<style scoped>\n",
       "    .dataframe tbody tr th:only-of-type {\n",
       "        vertical-align: middle;\n",
       "    }\n",
       "\n",
       "    .dataframe tbody tr th {\n",
       "        vertical-align: top;\n",
       "    }\n",
       "\n",
       "    .dataframe thead th {\n",
       "        text-align: right;\n",
       "    }\n",
       "</style>\n",
       "<table border=\"1\" class=\"dataframe\">\n",
       "  <thead>\n",
       "    <tr style=\"text-align: right;\">\n",
       "      <th></th>\n",
       "      <th>pass name</th>\n",
       "      <th>input</th>\n",
       "      <th>output</th>\n",
       "      <th>id</th>\n",
       "    </tr>\n",
       "  </thead>\n",
       "  <tbody>\n",
       "    <tr>\n",
       "      <th>0</th>\n",
       "      <td>DecomposeBoxes</td>\n",
       "      <td>A circuit 17 May</td>\n",
       "      <td>A circuit 17 May</td>\n",
       "      <td>64224151-ea78-4e52-87ae-6cfe5bd1c805</td>\n",
       "    </tr>\n",
       "    <tr>\n",
       "      <th>1</th>\n",
       "      <td>CustomPass</td>\n",
       "      <td>A circuit 17 May</td>\n",
       "      <td>A circuit 17 May</td>\n",
       "      <td>cb03d314-0878-4f28-ac55-b84ce6ff5566</td>\n",
       "    </tr>\n",
       "    <tr>\n",
       "      <th>2</th>\n",
       "      <td>SynthesiseTK</td>\n",
       "      <td>A circuit 17 May</td>\n",
       "      <td>A circuit 17 May-QuantinuumBackend-2</td>\n",
       "      <td>5fe2b59b-2d01-4935-9c6c-087e78d5b541</td>\n",
       "    </tr>\n",
       "    <tr>\n",
       "      <th>3</th>\n",
       "      <td>NormaliseTK2</td>\n",
       "      <td>A circuit 17 May-QuantinuumBackend-2</td>\n",
       "      <td>A circuit 17 May-QuantinuumBackend-2</td>\n",
       "      <td>f305b55e-83f5-4b98-85aa-f72148f97406</td>\n",
       "    </tr>\n",
       "    <tr>\n",
       "      <th>4</th>\n",
       "      <td>DecomposeTK2</td>\n",
       "      <td>A circuit 17 May-QuantinuumBackend-2</td>\n",
       "      <td>A circuit 17 May-QuantinuumBackend-3</td>\n",
       "      <td>544a1683-934c-4c7b-abdc-929f2f8e3115</td>\n",
       "    </tr>\n",
       "    <tr>\n",
       "      <th>5</th>\n",
       "      <td>RebaseCustomViaTK2</td>\n",
       "      <td>A circuit 17 May-QuantinuumBackend-3</td>\n",
       "      <td>A circuit 17 May-QuantinuumBackend-4</td>\n",
       "      <td>7633cb4b-ed72-4822-ad68-3e3c539d0eca</td>\n",
       "    </tr>\n",
       "    <tr>\n",
       "      <th>6</th>\n",
       "      <td>ZZPhaseToRz</td>\n",
       "      <td>A circuit 17 May-QuantinuumBackend-4</td>\n",
       "      <td>A circuit 17 May-QuantinuumBackend-4</td>\n",
       "      <td>77282ab9-429a-4811-9982-0cec124efcda</td>\n",
       "    </tr>\n",
       "    <tr>\n",
       "      <th>7</th>\n",
       "      <td>RemoveRedundancies</td>\n",
       "      <td>A circuit 17 May-QuantinuumBackend-4</td>\n",
       "      <td>A circuit 17 May-QuantinuumBackend-4</td>\n",
       "      <td>c3e61f95-ec15-4c51-a896-4ba254696ec2</td>\n",
       "    </tr>\n",
       "    <tr>\n",
       "      <th>8</th>\n",
       "      <td>SquashRzPhasedX</td>\n",
       "      <td>A circuit 17 May-QuantinuumBackend-4</td>\n",
       "      <td>A circuit 17 May-QuantinuumBackend-5</td>\n",
       "      <td>31ee90d9-dc74-4d0b-a614-6ef75b164f2d</td>\n",
       "    </tr>\n",
       "    <tr>\n",
       "      <th>9</th>\n",
       "      <td>RemoveRedundancies</td>\n",
       "      <td>A circuit 17 May-QuantinuumBackend-5</td>\n",
       "      <td>A circuit 17 May-QuantinuumBackend-final</td>\n",
       "      <td>140e668b-d840-45f8-a88e-9e4833cdc4f5</td>\n",
       "    </tr>\n",
       "    <tr>\n",
       "      <th>10</th>\n",
       "      <td>FlattenRelabelRegistersPass</td>\n",
       "      <td>A circuit 17 May-QuantinuumBackend-final</td>\n",
       "      <td>A circuit 17 May-QuantinuumBackend-final</td>\n",
       "      <td>748f6b8b-b4f8-4690-8509-90ef21665399</td>\n",
       "    </tr>\n",
       "  </tbody>\n",
       "</table>\n",
       "</div>"
      ],
      "text/plain": [
       "                      pass name                                     input  \\\n",
       "0                DecomposeBoxes                          A circuit 17 May   \n",
       "1                    CustomPass                          A circuit 17 May   \n",
       "2                  SynthesiseTK                          A circuit 17 May   \n",
       "3                  NormaliseTK2      A circuit 17 May-QuantinuumBackend-2   \n",
       "4                  DecomposeTK2      A circuit 17 May-QuantinuumBackend-2   \n",
       "5            RebaseCustomViaTK2      A circuit 17 May-QuantinuumBackend-3   \n",
       "6                   ZZPhaseToRz      A circuit 17 May-QuantinuumBackend-4   \n",
       "7            RemoveRedundancies      A circuit 17 May-QuantinuumBackend-4   \n",
       "8               SquashRzPhasedX      A circuit 17 May-QuantinuumBackend-4   \n",
       "9            RemoveRedundancies      A circuit 17 May-QuantinuumBackend-5   \n",
       "10  FlattenRelabelRegistersPass  A circuit 17 May-QuantinuumBackend-final   \n",
       "\n",
       "                                      output  \\\n",
       "0                           A circuit 17 May   \n",
       "1                           A circuit 17 May   \n",
       "2       A circuit 17 May-QuantinuumBackend-2   \n",
       "3       A circuit 17 May-QuantinuumBackend-2   \n",
       "4       A circuit 17 May-QuantinuumBackend-3   \n",
       "5       A circuit 17 May-QuantinuumBackend-4   \n",
       "6       A circuit 17 May-QuantinuumBackend-4   \n",
       "7       A circuit 17 May-QuantinuumBackend-4   \n",
       "8       A circuit 17 May-QuantinuumBackend-5   \n",
       "9   A circuit 17 May-QuantinuumBackend-final   \n",
       "10  A circuit 17 May-QuantinuumBackend-final   \n",
       "\n",
       "                                      id  \n",
       "0   64224151-ea78-4e52-87ae-6cfe5bd1c805  \n",
       "1   cb03d314-0878-4f28-ac55-b84ce6ff5566  \n",
       "2   5fe2b59b-2d01-4935-9c6c-087e78d5b541  \n",
       "3   f305b55e-83f5-4b98-85aa-f72148f97406  \n",
       "4   544a1683-934c-4c7b-abdc-929f2f8e3115  \n",
       "5   7633cb4b-ed72-4822-ad68-3e3c539d0eca  \n",
       "6   77282ab9-429a-4811-9982-0cec124efcda  \n",
       "7   c3e61f95-ec15-4c51-a896-4ba254696ec2  \n",
       "8   31ee90d9-dc74-4d0b-a614-6ef75b164f2d  \n",
       "9   140e668b-d840-45f8-a88e-9e4833cdc4f5  \n",
       "10  748f6b8b-b4f8-4690-8509-90ef21665399  "
      ]
     },
     "execution_count": 10,
     "metadata": {},
     "output_type": "execute_result"
    }
   ],
   "source": [
    "passes = compile_results[0].get_passes()\n",
    "\n",
    "\n",
    "passes.df()"
   ]
  },
  {
   "cell_type": "markdown",
   "metadata": {},
   "source": [
    "## Execute Jobs"
   ]
  },
  {
   "cell_type": "code",
   "execution_count": 11,
   "metadata": {},
   "outputs": [],
   "source": [
    "compiled_circuits = [item.get_output() for item in compile_results]"
   ]
  },
  {
   "cell_type": "code",
   "execution_count": 12,
   "metadata": {},
   "outputs": [],
   "source": [
    "execute_job_ref = qnx.execute(\n",
    "    circuits=compiled_circuits,\n",
    "    name=f\"{my_job_name_prefix}1_execute\",\n",
    "    n_shots=[100]* len(compiled_circuits),\n",
    "    target=QuantinuumConfig(device_name=\"H1-1SC\"),\n",
    ")"
   ]
  },
  {
   "cell_type": "code",
   "execution_count": 13,
   "metadata": {},
   "outputs": [
    {
     "data": {
      "text/plain": [
       "JobStatus(status=<StatusEnum.COMPLETED: 'Circuit has completed. Results are ready.'>, message='The job is completed.', error_detail=None, completed_time=datetime.datetime(2024, 5, 17, 13, 43, 10, 694090, tzinfo=datetime.timezone.utc), queued_time=None, submitted_time=datetime.datetime(2024, 5, 17, 13, 42, 45, 214305, tzinfo=datetime.timezone.utc), running_time=None, cancelled_time=None, error_time=None, queue_position=None)"
      ]
     },
     "execution_count": 13,
     "metadata": {},
     "output_type": "execute_result"
    }
   ],
   "source": [
    "qnx.job.wait_for(execute_job_ref)"
   ]
  },
  {
   "cell_type": "code",
   "execution_count": 14,
   "metadata": {},
   "outputs": [
    {
     "data": {
      "text/html": [
       "<div>\n",
       "<style scoped>\n",
       "    .dataframe tbody tr th:only-of-type {\n",
       "        vertical-align: middle;\n",
       "    }\n",
       "\n",
       "    .dataframe tbody tr th {\n",
       "        vertical-align: top;\n",
       "    }\n",
       "\n",
       "    .dataframe thead th {\n",
       "        text-align: right;\n",
       "    }\n",
       "</style>\n",
       "<table border=\"1\" class=\"dataframe\">\n",
       "  <thead>\n",
       "    <tr style=\"text-align: right;\">\n",
       "      <th></th>\n",
       "      <th>name</th>\n",
       "      <th>description</th>\n",
       "      <th>project</th>\n",
       "      <th>id</th>\n",
       "    </tr>\n",
       "  </thead>\n",
       "  <tbody>\n",
       "    <tr>\n",
       "      <th>0</th>\n",
       "      <td>2024-05-17 14:42:00.1568051_execute</td>\n",
       "      <td>None</td>\n",
       "      <td>VanyaTest</td>\n",
       "      <td>5192ac12-653f-4c39-95f6-bb90013febb7</td>\n",
       "    </tr>\n",
       "  </tbody>\n",
       "</table>\n",
       "</div>"
      ],
      "text/plain": [
       "                                  name description    project  \\\n",
       "0  2024-05-17 14:42:00.1568051_execute        None  VanyaTest   \n",
       "\n",
       "                                     id  \n",
       "0  5192ac12-653f-4c39-95f6-bb90013febb7  "
      ]
     },
     "execution_count": 14,
     "metadata": {},
     "output_type": "execute_result"
    }
   ],
   "source": [
    "execute_results = qnx.job.results(execute_job_ref)\n",
    "\n",
    "execute_results.df()"
   ]
  },
  {
   "cell_type": "code",
   "execution_count": 15,
   "metadata": {},
   "outputs": [
    {
     "data": {
      "text/plain": [
       "BackendInfo(name='QuantinuumBackend snapshot', device_name='H1-1SC', version='0.33.0', architecture=<tket::FullyConnected, nodes=20>, gate_set={<OpType.Measure: 66>, <OpType.Reset: 68>, <OpType.Rz: 36>, <OpType.PhasedX: 71>, <OpType.Barrier: 8>, <OpType.ZZMax: 73>, <OpType.ClassicalExpBox: 107>, <OpType.ZZPhase: 76>, <OpType.TK2: 44>, <OpType.WASM: 14>, <OpType.SetBits: 15>, <OpType.CopyBits: 16>, <OpType.RangePredicate: 17>, <OpType.ExplicitPredicate: 18>, <OpType.ExplicitModifier: 19>, <OpType.MultiBit: 20>}, n_cl_reg=0, supports_fast_feedforward=True, supports_reset=True, supports_midcircuit_measurement=True, all_node_gate_errors=None, all_edge_gate_errors=None, all_readout_errors=None, averaged_node_gate_errors=None, averaged_edge_gate_errors=None, averaged_readout_errors=None, misc={'cl_reg_width': 32, 'max_n_shots': 10000, 'options': {}, 'system_type': 'syntax checker', 'wasm': True})"
      ]
     },
     "execution_count": 15,
     "metadata": {},
     "output_type": "execute_result"
    }
   ],
   "source": [
    "execute_results[0].download_backend_info()"
   ]
  },
  {
   "cell_type": "code",
   "execution_count": 17,
   "metadata": {},
   "outputs": [
    {
     "data": {
      "text/plain": [
       "BackendResult(q_bits={},c_bits={c[0]: 0, c[1]: 1},counts=None,shots=[[0]\n",
       " [0]\n",
       " [0]\n",
       " [0]\n",
       " [0]\n",
       " [0]\n",
       " [0]\n",
       " [0]\n",
       " [0]\n",
       " [0]\n",
       " [0]\n",
       " [0]\n",
       " [0]\n",
       " [0]\n",
       " [0]\n",
       " [0]\n",
       " [0]\n",
       " [0]\n",
       " [0]\n",
       " [0]\n",
       " [0]\n",
       " [0]\n",
       " [0]\n",
       " [0]\n",
       " [0]\n",
       " [0]\n",
       " [0]\n",
       " [0]\n",
       " [0]\n",
       " [0]\n",
       " [0]\n",
       " [0]\n",
       " [0]\n",
       " [0]\n",
       " [0]\n",
       " [0]\n",
       " [0]\n",
       " [0]\n",
       " [0]\n",
       " [0]\n",
       " [0]\n",
       " [0]\n",
       " [0]\n",
       " [0]\n",
       " [0]\n",
       " [0]\n",
       " [0]\n",
       " [0]\n",
       " [0]\n",
       " [0]\n",
       " [0]\n",
       " [0]\n",
       " [0]\n",
       " [0]\n",
       " [0]\n",
       " [0]\n",
       " [0]\n",
       " [0]\n",
       " [0]\n",
       " [0]\n",
       " [0]\n",
       " [0]\n",
       " [0]\n",
       " [0]\n",
       " [0]\n",
       " [0]\n",
       " [0]\n",
       " [0]\n",
       " [0]\n",
       " [0]\n",
       " [0]\n",
       " [0]\n",
       " [0]\n",
       " [0]\n",
       " [0]\n",
       " [0]\n",
       " [0]\n",
       " [0]\n",
       " [0]\n",
       " [0]\n",
       " [0]\n",
       " [0]\n",
       " [0]\n",
       " [0]\n",
       " [0]\n",
       " [0]\n",
       " [0]\n",
       " [0]\n",
       " [0]\n",
       " [0]\n",
       " [0]\n",
       " [0]\n",
       " [0]\n",
       " [0]\n",
       " [0]\n",
       " [0]\n",
       " [0]\n",
       " [0]\n",
       " [0]\n",
       " [0]],state=None,unitary=None,density_matrix=None)"
      ]
     },
     "execution_count": 17,
     "metadata": {},
     "output_type": "execute_result"
    }
   ],
   "source": [
    "execute_results[0].download_result()"
   ]
  },
  {
   "cell_type": "code",
   "execution_count": null,
   "metadata": {},
   "outputs": [],
   "source": [
    "\n"
   ]
  },
  {
   "cell_type": "code",
   "execution_count": null,
   "metadata": {},
   "outputs": [],
   "source": [
    "# Example of a job erroring"
   ]
  },
  {
   "cell_type": "code",
   "execution_count": null,
   "metadata": {},
   "outputs": [],
   "source": [
    "execute_job_ref = qnx.execute(\n",
    "    circuits=[my_circuit_ref],\n",
    "    name=f\"error_execute_{datetime.now()}\",\n",
    "    n_shots=[100],\n",
    "    target=QuantinuumConfig(device_name=\"H1-1LE\")\n",
    ")"
   ]
  },
  {
   "cell_type": "code",
   "execution_count": null,
   "metadata": {},
   "outputs": [],
   "source": [
    "qnx.job.wait_for(execute_job_ref)"
   ]
  },
  {
   "cell_type": "code",
   "execution_count": null,
   "metadata": {},
   "outputs": [],
   "source": [
    "# Refactor backendconfig purely in the client for now\n",
    "\n",
    "\n",
    "# Config\n",
    "# simplify and improve\n",
    "# talk to pytket about their thoughts going forward\n",
    "\n",
    "# can we combine Aer configs into one?\n",
    "\n",
    "\n",
    "# backendresult is going away "
   ]
  },
  {
   "cell_type": "code",
   "execution_count": null,
   "metadata": {},
   "outputs": [],
   "source": []
  },
  {
   "cell_type": "code",
   "execution_count": null,
   "metadata": {},
   "outputs": [],
   "source": []
  },
  {
   "cell_type": "code",
   "execution_count": null,
   "metadata": {},
   "outputs": [],
   "source": []
  }
 ],
 "metadata": {
  "kernelspec": {
   "display_name": "qnexus-Rou6F43i-py3.11",
   "language": "python",
   "name": "python3"
  },
  "language_info": {
   "codemirror_mode": {
    "name": "ipython",
    "version": 3
   },
   "file_extension": ".py",
   "mimetype": "text/x-python",
   "name": "python",
   "nbconvert_exporter": "python",
   "pygments_lexer": "ipython3",
   "version": "3.11.6"
  }
 },
 "nbformat": 4,
 "nbformat_minor": 2
}
