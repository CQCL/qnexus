{
 "cells": [
  {
   "cell_type": "code",
   "execution_count": 1,
   "metadata": {},
   "outputs": [],
   "source": [
    "from datetime import datetime\n",
    "\n",
    "import qnexus as qnx\n",
    "\n",
    "from pytket import Circuit\n",
    "\n"
   ]
  },
  {
   "cell_type": "code",
   "execution_count": 2,
   "metadata": {},
   "outputs": [],
   "source": [
    "my_project = qnx.project.get_only(name_like=\"VanyaTest\")\n",
    "\n",
    "qnx.context.set_active_project(my_project)\n",
    "\n",
    "my_job_name_prefix = datetime.now()"
   ]
  },
  {
   "cell_type": "markdown",
   "metadata": {},
   "source": [
    "## Compile Jobs"
   ]
  },
  {
   "cell_type": "code",
   "execution_count": 3,
   "metadata": {},
   "outputs": [],
   "source": [
    "c = Circuit(2,2).H(0).CX(0,1).measure_all()\n",
    "\n",
    "my_circuit_ref = qnx.circuit.upload(\n",
    "    circuit=c,\n",
    "    name=\"A circuit 17 May\",\n",
    ")"
   ]
  },
  {
   "cell_type": "code",
   "execution_count": 4,
   "metadata": {},
   "outputs": [
    {
     "data": {
      "text/html": [
       "<div>\n",
       "<style scoped>\n",
       "    .dataframe tbody tr th:only-of-type {\n",
       "        vertical-align: middle;\n",
       "    }\n",
       "\n",
       "    .dataframe tbody tr th {\n",
       "        vertical-align: top;\n",
       "    }\n",
       "\n",
       "    .dataframe thead th {\n",
       "        text-align: right;\n",
       "    }\n",
       "</style>\n",
       "<table border=\"1\" class=\"dataframe\">\n",
       "  <thead>\n",
       "    <tr style=\"text-align: right;\">\n",
       "      <th></th>\n",
       "      <th>name</th>\n",
       "      <th>description</th>\n",
       "      <th>created</th>\n",
       "      <th>modified</th>\n",
       "      <th>project</th>\n",
       "      <th>id</th>\n",
       "    </tr>\n",
       "  </thead>\n",
       "  <tbody>\n",
       "    <tr>\n",
       "      <th>0</th>\n",
       "      <td>A circuit 17 May</td>\n",
       "      <td>None</td>\n",
       "      <td>2024-07-12 13:42:38.422882+00:00</td>\n",
       "      <td>2024-07-12 13:42:38.422882+00:00</td>\n",
       "      <td>VanyaTest</td>\n",
       "      <td>1ee2b0cb-0c57-42eb-a96f-ae50494c0b66</td>\n",
       "    </tr>\n",
       "  </tbody>\n",
       "</table>\n",
       "</div>"
      ],
      "text/plain": [
       "               name description                          created  \\\n",
       "0  A circuit 17 May        None 2024-07-12 13:42:38.422882+00:00   \n",
       "\n",
       "                          modified    project  \\\n",
       "0 2024-07-12 13:42:38.422882+00:00  VanyaTest   \n",
       "\n",
       "                                     id  \n",
       "0  1ee2b0cb-0c57-42eb-a96f-ae50494c0b66  "
      ]
     },
     "execution_count": 4,
     "metadata": {},
     "output_type": "execute_result"
    }
   ],
   "source": [
    "my_circuit_ref.df()"
   ]
  },
  {
   "cell_type": "code",
   "execution_count": 13,
   "metadata": {},
   "outputs": [],
   "source": [
<<<<<<< Updated upstream
    "compile_job_ref = qnx.compile(\n",
=======
    "comp_job = qnx.start_compile_job(\n",
>>>>>>> Stashed changes
    "    circuits=[my_circuit_ref],\n",
    "    name=f\"{my_job_name_prefix}_compile_3\",\n",
    "    optimisation_level=1,\n",
    "    backend_config=qnx.QuantinuumConfig(device_name=\"H1-1SC\")\n",
    ")"
   ]
  },
  {
   "cell_type": "code",
   "execution_count": 14,
   "metadata": {},
   "outputs": [
    {
     "data": {
      "text/plain": [
       "'{\"id\":\"b5463521-d747-4dd0-b8cc-1ea1336b468b\",\"annotations\":{\"name\":\"2024-07-12 14:42:38.267097_compile_3\",\"description\":\"\",\"properties\":{},\"created\":\"2024-07-12 13:48:08.667038+00:00\",\"modified\":\"2024-07-12 13:48:08.667038+00:00\"},\"job_type\":\"compile\",\"last_status\":\"Circuit has been submitted.\",\"last_message\":\"\",\"project\":{\"id\":\"6ed750a5-de0c-4879-a771-2c1f3f746d18\",\"annotations\":{\"name\":\"VanyaTest\",\"description\":\"\",\"properties\":{},\"created\":\"2024-01-29 13:38:27.351099+00:00\",\"modified\":\"2024-01-29 13:38:27.351099+00:00\"},\"contents_modified\":\"2024-07-12 09:10:16.583212+00:00\"}}'"
      ]
     },
     "execution_count": 14,
     "metadata": {},
     "output_type": "execute_result"
    }
   ],
   "source": [
    "comp_job.model_dump_json()"
   ]
  },
  {
   "cell_type": "code",
   "execution_count": null,
   "metadata": {},
   "outputs": [],
   "source": []
  },
  {
   "cell_type": "code",
   "execution_count": 10,
   "metadata": {},
   "outputs": [
    {
     "data": {
      "text/plain": [
       "[CircuitRef(id=UUID('53d03c4e-8d3d-4f09-aa0e-a84f9fe0cca2'), annotations=Annotations(name='A circuit 17 May-QuantinuumBackend-final', description=None, properties=OrderedDict(), created=datetime.datetime(2024, 7, 12, 13, 43, 26, 897249, tzinfo=TzInfo(UTC)), modified=datetime.datetime(2024, 7, 12, 13, 43, 26, 897249, tzinfo=TzInfo(UTC))), project=ProjectRef(id=UUID('6ed750a5-de0c-4879-a771-2c1f3f746d18'), annotations=Annotations(name='VanyaTest', description='', properties=OrderedDict(), created=datetime.datetime(2024, 1, 29, 13, 38, 27, 351099, tzinfo=TzInfo(UTC)), modified=datetime.datetime(2024, 1, 29, 13, 38, 27, 351099, tzinfo=TzInfo(UTC))), contents_modified=datetime.datetime(2024, 7, 12, 13, 43, 27, 302134, tzinfo=TzInfo(UTC))))]"
      ]
     },
     "execution_count": 10,
     "metadata": {},
     "output_type": "execute_result"
    }
   ],
   "source": [
    "compiled_circuit_refs"
   ]
  },
  {
   "cell_type": "code",
   "execution_count": null,
   "metadata": {},
   "outputs": [],
   "source": [
    "# Pretending we lost the compile_job_ref variable, we can retrieve it using filters\n",
    "\n",
    "job_matches = qnx.job.get(name_like=f\"{my_job_name_prefix}_compile\")\n",
    "\n",
    "my_job = job_matches.list()[0]\n",
    "\n",
    "my_job.df()"
   ]
  },
  {
   "cell_type": "code",
   "execution_count": 7,
   "metadata": {},
   "outputs": [
    {
     "data": {
      "text/html": [
       "<div>\n",
       "<style scoped>\n",
       "    .dataframe tbody tr th:only-of-type {\n",
       "        vertical-align: middle;\n",
       "    }\n",
       "\n",
       "    .dataframe tbody tr th {\n",
       "        vertical-align: top;\n",
       "    }\n",
       "\n",
       "    .dataframe thead th {\n",
       "        text-align: right;\n",
       "    }\n",
       "</style>\n",
       "<table border=\"1\" class=\"dataframe\">\n",
       "  <thead>\n",
       "    <tr style=\"text-align: right;\">\n",
       "      <th></th>\n",
       "      <th>name</th>\n",
       "      <th>description</th>\n",
       "      <th>created</th>\n",
       "      <th>modified</th>\n",
       "      <th>project</th>\n",
       "      <th>id</th>\n",
       "    </tr>\n",
       "  </thead>\n",
       "  <tbody>\n",
       "    <tr>\n",
       "      <th>0</th>\n",
       "      <td>A circuit 17 May-compilation</td>\n",
       "      <td></td>\n",
       "      <td>2024-07-12 13:42:51.162870+00:00</td>\n",
       "      <td>2024-07-12 13:42:51.162870+00:00</td>\n",
       "      <td>VanyaTest</td>\n",
       "      <td>fbd01133-862c-42bf-ab76-db2020ae8829</td>\n",
       "    </tr>\n",
       "  </tbody>\n",
       "</table>\n",
       "</div>"
      ],
      "text/plain": [
       "                           name description                          created  \\\n",
       "0  A circuit 17 May-compilation             2024-07-12 13:42:51.162870+00:00   \n",
       "\n",
       "                          modified    project  \\\n",
       "0 2024-07-12 13:42:51.162870+00:00  VanyaTest   \n",
       "\n",
       "                                     id  \n",
       "0  fbd01133-862c-42bf-ab76-db2020ae8829  "
      ]
     },
     "execution_count": 7,
     "metadata": {},
     "output_type": "execute_result"
    }
   ],
   "source": [
    "# get results\n",
    "compile_results = qnx.job.results(compile_job_ref)\n",
    "\n",
    "compile_results.df()"
   ]
  },
  {
   "cell_type": "code",
   "execution_count": null,
   "metadata": {},
   "outputs": [],
   "source": [
    "compile_results[0].df()"
   ]
  },
  {
   "cell_type": "code",
   "execution_count": null,
   "metadata": {},
   "outputs": [],
   "source": [
    "compile_results[0].get_passes().df()"
   ]
  },
  {
   "cell_type": "code",
   "execution_count": null,
   "metadata": {},
   "outputs": [],
   "source": [
    "compile_results[0].get_output().download_circuit()"
   ]
  },
  {
   "cell_type": "code",
   "execution_count": null,
   "metadata": {},
   "outputs": [],
   "source": [
    "passes = compile_results[0].get_passes()\n",
    "\n",
    "\n",
    "passes.df()"
   ]
  },
  {
   "cell_type": "markdown",
   "metadata": {},
   "source": [
    "## Execute Jobs"
   ]
  },
  {
   "cell_type": "code",
   "execution_count": null,
   "metadata": {},
   "outputs": [],
   "source": [
    "compiled_circuits = [item.get_output() for item in compile_results]"
   ]
  },
  {
   "cell_type": "code",
   "execution_count": null,
   "metadata": {},
   "outputs": [],
   "source": [
    "compiled_circuits"
   ]
  },
  {
   "cell_type": "code",
   "execution_count": 11,
   "metadata": {},
   "outputs": [
    {
     "ename": "NameError",
     "evalue": "name 'compiled_circuits' is not defined",
     "output_type": "error",
     "traceback": [
      "\u001b[0;31m---------------------------------------------------------------------------\u001b[0m",
      "\u001b[0;31mNameError\u001b[0m                                 Traceback (most recent call last)",
      "Cell \u001b[0;32mIn[11], line 2\u001b[0m\n\u001b[1;32m      1\u001b[0m execute_job_ref \u001b[38;5;241m=\u001b[39m qnx\u001b[38;5;241m.\u001b[39mstart_execute_job(\n\u001b[0;32m----> 2\u001b[0m     circuits\u001b[38;5;241m=\u001b[39m\u001b[43mcompiled_circuits\u001b[49m,\n\u001b[1;32m      3\u001b[0m     name\u001b[38;5;241m=\u001b[39m\u001b[38;5;124mf\u001b[39m\u001b[38;5;124m\"\u001b[39m\u001b[38;5;132;01m{\u001b[39;00mmy_job_name_prefix\u001b[38;5;132;01m}\u001b[39;00m\u001b[38;5;124m1_execute\u001b[39m\u001b[38;5;124m\"\u001b[39m,\n\u001b[1;32m      4\u001b[0m     n_shots\u001b[38;5;241m=\u001b[39m[\u001b[38;5;241m100\u001b[39m]\u001b[38;5;241m*\u001b[39m \u001b[38;5;28mlen\u001b[39m(compiled_circuits),\n\u001b[1;32m      5\u001b[0m     backend_config\u001b[38;5;241m=\u001b[39mqnx\u001b[38;5;241m.\u001b[39mQuantinuumConfig(device_name\u001b[38;5;241m=\u001b[39m\u001b[38;5;124m\"\u001b[39m\u001b[38;5;124mH1-1SC\u001b[39m\u001b[38;5;124m\"\u001b[39m),\n\u001b[1;32m      6\u001b[0m )\n",
      "\u001b[0;31mNameError\u001b[0m: name 'compiled_circuits' is not defined"
     ]
    }
   ],
   "source": [
<<<<<<< Updated upstream
    "execute_job_ref = qnx.execute(\n",
=======
    "execute_job_ref = qnx.start_execute_job(\n",
>>>>>>> Stashed changes
    "    circuits=compiled_circuits,\n",
    "    name=f\"{my_job_name_prefix}1_execute\",\n",
    "    n_shots=[100]* len(compiled_circuits),\n",
    "    backend_config=qnx.QuantinuumConfig(device_name=\"H1-1SC\"),\n",
    ")"
   ]
  },
  {
   "cell_type": "code",
   "execution_count": null,
   "metadata": {},
   "outputs": [],
   "source": [
    "qnx.job.wait_for(execute_job_ref)"
   ]
  },
  {
   "cell_type": "code",
   "execution_count": null,
   "metadata": {},
   "outputs": [],
   "source": [
    "execute_results = qnx.job.results(execute_job_ref)\n",
    "\n",
    "execute_results.df()"
   ]
  },
  {
   "cell_type": "code",
   "execution_count": null,
   "metadata": {},
   "outputs": [],
   "source": [
    "execute_results[0].download_backend_info()"
   ]
  },
  {
   "cell_type": "code",
   "execution_count": null,
   "metadata": {},
   "outputs": [],
   "source": [
    "execute_results[0].download_result()"
   ]
  },
  {
   "cell_type": "code",
   "execution_count": null,
   "metadata": {},
   "outputs": [],
   "source": [
    "\n"
   ]
  },
  {
   "cell_type": "code",
   "execution_count": null,
   "metadata": {},
   "outputs": [],
   "source": [
    "# Example of a job erroring"
   ]
  },
  {
   "cell_type": "code",
   "execution_count": null,
   "metadata": {},
   "outputs": [],
   "source": [
    "execute_job_ref = qnx.execute(\n",
    "    circuits=[my_circuit_ref],\n",
    "    name=f\"error_execute_{datetime.now()}\",\n",
    "    n_shots=[100],\n",
    "    backend_config=qnx.QuantinuumConfig(device_name=\"H1-1LE\")\n",
    ")"
   ]
  },
  {
   "cell_type": "code",
   "execution_count": null,
   "metadata": {},
   "outputs": [],
   "source": [
    "qnx.job.wait_for(execute_job_ref)"
   ]
  },
  {
   "cell_type": "code",
   "execution_count": null,
   "metadata": {},
   "outputs": [],
   "source": []
  },
  {
   "cell_type": "code",
   "execution_count": null,
   "metadata": {},
   "outputs": [],
   "source": []
  },
  {
   "cell_type": "code",
   "execution_count": null,
   "metadata": {},
   "outputs": [],
   "source": []
  }
 ],
 "metadata": {
  "kernelspec": {
   "display_name": "qnexus-Rou6F43i-py3.11",
   "language": "python",
   "name": "python3"
  },
  "language_info": {
   "codemirror_mode": {
    "name": "ipython",
    "version": 3
   },
   "file_extension": ".py",
   "mimetype": "text/x-python",
   "name": "python",
   "nbconvert_exporter": "python",
   "pygments_lexer": "ipython3",
   "version": "3.11.6"
  }
 },
 "nbformat": 4,
 "nbformat_minor": 2
}
