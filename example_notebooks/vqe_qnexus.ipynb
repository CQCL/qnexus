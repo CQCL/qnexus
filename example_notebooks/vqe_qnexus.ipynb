{
 "cells": [
  {
   "cell_type": "code",
   "execution_count": 5,
   "metadata": {},
   "outputs": [],
   "source": [
    "import copy\n",
    "from datetime import datetime\n",
    "\n",
    "from pytket import Circuit, OpType\n",
    "from sympy import Symbol\n",
    "\n",
    "from qnexus.client import auth, circuits, projects, jobs"
   ]
  },
  {
   "cell_type": "code",
   "execution_count": null,
   "metadata": {},
   "outputs": [],
   "source": [
    "auth.login()"
   ]
  },
  {
   "cell_type": "markdown",
   "metadata": {},
   "source": [
    "## Create a Project with Properties to organize our workflow "
   ]
  },
  {
   "cell_type": "markdown",
   "metadata": {},
   "source": [
    "### Projects are a container, we'll use it here also to set our properties"
   ]
  },
  {
   "cell_type": "code",
   "execution_count": null,
   "metadata": {},
   "outputs": [],
   "source": [
    "project_ref = projects.submit(\n",
    "    name=f\"VQE_example_{str(datetime.now())}\", \n",
    "    description=\"A VQE done with qexus\", \n",
    "    properties={}\n",
    ")"
   ]
  },
  {
   "cell_type": "markdown",
   "metadata": {},
   "source": [
    "### Properties can be used to store parameters for our VQE"
   ]
  },
  {
   "cell_type": "code",
   "execution_count": 3,
   "metadata": {},
   "outputs": [],
   "source": [
    "\n",
    "projects.add_property(\n",
    "    project_ref, \n",
    "    name=\"is_symbolic_circuit\", \n",
    "    property_type=\"bool\", \n",
    "    description=f\"A label for symbolic circuits\", \n",
    "    required=False\n",
    ")\n",
    "\n",
    "vqe_params = [\"alpha\", \"beta\", \"gamma\"]\n",
    "\n",
    "for param_name in vqe_params:\n",
    "    projects.add_property(\n",
    "        project_ref, \n",
    "        name=param_name, \n",
    "        property_type=\"float\", \n",
    "        description=f\"Our VQE {param_name} parameter\", \n",
    "        required=False\n",
    "    )"
   ]
  },
  {
   "cell_type": "markdown",
   "metadata": {},
   "source": [
    "## Prepare the code for our VQE loop"
   ]
  },
  {
   "cell_type": "code",
   "execution_count": null,
   "metadata": {},
   "outputs": [],
   "source": [
    "alpha = Symbol(\"alpha\")\n",
    "beta = Symbol(\"beta\")\n",
    "gamma = Symbol(\"gamma\")\n",
    "\n",
    "symbolic_circ = Circuit(2,2).Rx(alpha, 0).Rx(-2*beta, 1).CX(0, 1).add_gate(OpType.YYPhase, gamma, [0, 1]).measure_all()\n",
    "\n",
    "\n",
    "symbolic_circuit_ref = circuits.submit(\n",
    "    circuit=symbolic_circ, \n",
    "    project=project_ref,\n",
    "    name=\"Original symbolic circuit\",\n",
    "    description=\"\",\n",
    "    properties={\n",
    "        \"alpha\": True,\n",
    "        \"beta\": True,\n",
    "        \"gamma\": True,\n",
    "        \"is_symbolic_circuit\": True,\n",
    "    }\n",
    ")"
   ]
  },
  {
   "cell_type": "code",
   "execution_count": null,
   "metadata": {},
   "outputs": [],
   "source": [
    "\n",
    "current_s_map = {alpha: 0.3, beta:1.25, gamma:0.2}\n",
    "\n",
    "def vqe_loop():\n",
    "    \n",
    "    iteration_count = 0\n",
    "\n",
    "    vqe_result: dict = {}\n",
    "\n",
    "    while iteration_count > 3:\n",
    "\n",
    "        iteration_count +=1\n",
    "        \n",
    "        # get circuit and update params\n",
    "        active_circ = copy.deepcopy(symbolic_circ)\n",
    "        active_circ.symbol_substitution(current_s_map)\n",
    "\n",
    "        active_circ_ref = circuits.submit(\n",
    "            circuit=active_circ, \n",
    "            project=project_ref,\n",
    "            name=f\"VQE Circuit\",\n",
    "            description=\"A new circuit\",\n",
    "            properties={\n",
    "                \"alpha\": current_s_map[alpha],\n",
    "                \"beta\": current_s_map[beta],\n",
    "                \"gamma\": current_s_map[gamma],\n",
    "            }\n",
    "        )\n",
    "\n",
    "\n",
    "        # compile the circuit\n",
    "        compile_job_ref = jobs.submit_compile_job(\n",
    "            name=f\"VQE_compile_job\",\n",
    "            circuits=active_circ_ref,\n",
    "            optimisation_level=1,\n",
    "            project=project_ref\n",
    "        )\n",
    "\n",
    "        # wait for the job TODO\n",
    "        compiled_circuit_refs = jobs.compilation_results(compile_job_ref)\n",
    "\n",
    "        active_execute_ref =jobs.submit_execute_job(\n",
    "            name=\"My Execute Job\",\n",
    "            circuits=compiled_circuit_refs,\n",
    "            project=project_ref,\n",
    "            n_shots=[10]\n",
    "        )\n",
    "\n",
    "        # wait for the job TODO\n",
    "\n",
    "        my_results = jobs.execution_results(active_execute_ref)\n",
    "        result = my_results[0].get_result()\n",
    "\n",
    "        vqe_result[\"result\"] = result\n",
    "\n",
    "        # use the result to exit or generate new params\n",
    "\n",
    "        current_s_map[alpha] +=0.1\n",
    "        current_s_map[beta] -=0.1\n",
    "        current_s_map[gamma] +=0.3\n",
    "    \n",
    "    return vqe_result\n",
    "\n",
    "\n"
   ]
  },
  {
   "cell_type": "code",
   "execution_count": null,
   "metadata": {},
   "outputs": [],
   "source": []
  },
  {
   "cell_type": "markdown",
   "metadata": {},
   "source": [
    "### If our VQE loop terminates during execution (e.g. laptop runs out of battery) we can resume"
   ]
  },
  {
   "cell_type": "markdown",
   "metadata": {},
   "source": [
    "# TODO"
   ]
  }
 ],
 "metadata": {
  "kernelspec": {
   "display_name": "qnexus-Rou6F43i-py3.10",
   "language": "python",
   "name": "python3"
  },
  "language_info": {
   "codemirror_mode": {
    "name": "ipython",
    "version": 3
   },
   "file_extension": ".py",
   "mimetype": "text/x-python",
   "name": "python",
   "nbconvert_exporter": "python",
   "pygments_lexer": "ipython3",
   "version": "3.10.6"
  }
 },
 "nbformat": 4,
 "nbformat_minor": 2
}
