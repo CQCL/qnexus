{
 "cells": [
  {
   "cell_type": "code",
   "execution_count": 16,
   "metadata": {},
   "outputs": [],
   "source": [
    "from datetime import datetime\n",
    "\n",
    "from pytket import Circuit\n",
    "from pytket.circuit.display import render_circuit_jupyter\n",
    "from pytket.utils.operators import QubitPauliOperator\n",
    "from pytket.partition import measurement_reduction,MeasurementBitMap, MeasurementSetup, PauliPartitionStrat\n",
    "from pytket.backends.backendresult import BackendResult\n",
    "\n",
    "from pytket.utils.operators import QubitPauliOperator\n",
    "from pytket.pauli import Pauli, QubitPauliString\n",
    "from pytket.circuit import Qubit\n",
    "\n",
    "from scipy.optimize import minimize\n",
    "from numpy import ndarray\n",
    "from numpy.random import random_sample\n",
    "from sympy import Symbol\n",
    "\n",
    "from qnexus.client import circuits, projects, jobs\n",
    "from qnexus.references import CircuitRef, ProjectRef\n",
    "\n"
   ]
  },
  {
   "cell_type": "markdown",
   "metadata": {},
   "source": [
    "# Example VQE workflow using Nexus\n",
    "\n",
    "\n",
    "VQE example adapted from https://github.com/CQCL/pytket-quantinuum/blob/develop/examples/Quantinuum_variational_experiment_with_batching.ipynb"
   ]
  },
  {
   "cell_type": "markdown",
   "metadata": {},
   "source": [
    "## Set up the VQE components"
   ]
  },
  {
   "cell_type": "code",
   "execution_count": 17,
   "metadata": {},
   "outputs": [
    {
     "data": {
      "text/plain": [
       "[X q[0]; Ry(p1) q[1]; Ry(p0) q[0]; CX q[0], q[1]; Ry(p2) q[0]; Ry(p3) q[0]; ]"
      ]
     },
     "execution_count": 17,
     "metadata": {},
     "output_type": "execute_result"
    }
   ],
   "source": [
    "# 1. Synthesise Symbolic State-Preparation Circuit (hardware efficient ansatz)\n",
    "\n",
    "symbols = [Symbol(f\"p{i}\") for i in range(4)]\n",
    "symbolic_circuit = Circuit(2)\n",
    "symbolic_circuit.X(0)\n",
    "symbolic_circuit.Ry(symbols[0], 0).Ry(symbols[1], 1)\n",
    "symbolic_circuit.CX(0, 1)\n",
    "symbolic_circuit.Ry(symbols[2], 0).Ry(symbols[3], 0)\n",
    "\n",
    "#render_circuit_jupyter(symbolic_circuit)"
   ]
  },
  {
   "cell_type": "code",
   "execution_count": 18,
   "metadata": {},
   "outputs": [],
   "source": [
    "# 2. Define Hamiltonian \n",
    "# coefficients in the Hamiltonian are obtained from PhysRevX.6.031007\n",
    "\n",
    "coeffs = [-0.4804, 0.3435, -0.4347, 0.5716, 0.0910, 0.0910]\n",
    "term0 = {\n",
    "    QubitPauliString(\n",
    "        {\n",
    "            Qubit(0): Pauli.I,\n",
    "            Qubit(1): Pauli.I,\n",
    "        }\n",
    "    ): coeffs[0]\n",
    "}\n",
    "term1 = {QubitPauliString({Qubit(0): Pauli.Z, Qubit(1): Pauli.I}): coeffs[1]}\n",
    "term2 = {QubitPauliString({Qubit(0): Pauli.I, Qubit(1): Pauli.Z}): coeffs[2]}\n",
    "term3 = {QubitPauliString({Qubit(0): Pauli.Z, Qubit(1): Pauli.Z}): coeffs[3]}\n",
    "term4 = {QubitPauliString({Qubit(0): Pauli.X, Qubit(1): Pauli.X}): coeffs[4]}\n",
    "term5 = {QubitPauliString({Qubit(0): Pauli.Y, Qubit(1): Pauli.Y}): coeffs[5]}\n",
    "term_sum = {}\n",
    "term_sum.update(term0)\n",
    "term_sum.update(term1)\n",
    "term_sum.update(term2)\n",
    "term_sum.update(term3)\n",
    "term_sum.update(term4)\n",
    "term_sum.update(term5)\n",
    "hamiltonian = QubitPauliOperator(term_sum)\n",
    "\n"
   ]
  },
  {
   "cell_type": "code",
   "execution_count": 19,
   "metadata": {},
   "outputs": [],
   "source": [
    "# 3 Computing Expectation Values\n",
    "\n",
    "# Computing Expectation Values for Pauli-Strings\n",
    "def compute_expectation_paulistring(\n",
    "    distribution: dict[tuple[int, ...], float], bitmap: MeasurementBitMap\n",
    ") -> float:\n",
    "    value = 0\n",
    "    for bitstring, probability in distribution.items():\n",
    "        value += probability * (sum(bitstring[i] for i in bitmap.bits) % 2)\n",
    "    return ((-1) ** bitmap.invert) * (-2 * value + 1)\n",
    "\n",
    "\n",
    "\n",
    "# 3.2 Computing Expectation Values for sums of Pauli-strings multiplied by coefficients\n",
    "def compute_expectation_value(\n",
    "    results: list[BackendResult],\n",
    "    measurement_setup: MeasurementSetup,\n",
    "    operator: QubitPauliOperator,\n",
    ") -> float:\n",
    "    energy = 0\n",
    "    for pauli_string, bitmaps in measurement_setup.results.items():\n",
    "        string_coeff = operator.get(pauli_string, 0.0)\n",
    "        if string_coeff > 0:\n",
    "            for bm in bitmaps:\n",
    "                index = bm.circ_index\n",
    "                distribution = results[index].get_distribution()\n",
    "                value = compute_expectation_paulistring(distribution, bm)\n",
    "                energy += complex(value * string_coeff).real\n",
    "    return energy"
   ]
  },
  {
   "cell_type": "code",
   "execution_count": 21,
   "metadata": {},
   "outputs": [],
   "source": [
    "# 4. Building our Objective function\n",
    "\n",
    "class Objective:\n",
    "    def __init__(\n",
    "        self,\n",
    "        nexus_project: ProjectRef,\n",
    "        symbolic_circuit: CircuitRef,\n",
    "        problem_hamiltonian: QubitPauliOperator,\n",
    "        n_shots_per_circuit: int,\n",
    "        iteration_number: int = 0,\n",
    "        n_iterations: int = 10,\n",
    "    ) -> None:\n",
    "        r\"\"\"Returns the objective function needed for a variational\n",
    "        procedure.\n",
    "        \"\"\"\n",
    "        terms = [term for term in problem_hamiltonian._dict.keys()]\n",
    "        self._symbolic_circuit: Circuit = symbolic_circuit.get_circuit()\n",
    "        self._hamiltonian: QubitPauliOperator = problem_hamiltonian\n",
    "        self._nshots: int = n_shots_per_circuit\n",
    "        self._measurement_setup: MeasurementSetup = measurement_reduction(\n",
    "            terms, strat=PauliPartitionStrat.CommutingSets\n",
    "        )\n",
    "        self._nexus_project = nexus_project\n",
    "        self._iteration_number: int = iteration_number\n",
    "        self._niters: int = n_iterations\n",
    "\n",
    "    def __call__(self, parameter: ndarray) -> float:\n",
    "        value = self._objective_function(parameter)\n",
    "        self._iteration_number += 1\n",
    "        if self._iteration_number >= self._niters:\n",
    "            self._iteration_number = 0\n",
    "        return value\n",
    "    \n",
    "    def _objective_function(\n",
    "        self,\n",
    "        parameters: ndarray,\n",
    "    ) -> float:\n",
    "        assert len(parameters) == len(self._symbolic_circuit.free_symbols())\n",
    "        circuit_list = self._build_circuits(parameters)\n",
    "        \n",
    "        # Execute circuits with Nexus\n",
    "        execute_job_ref =jobs.submit_execute_job(\n",
    "            name=f\"execute_job_VQE_{datetime.now()}_{self._iteration_number}\",\n",
    "            circuits=circuit_list,\n",
    "            project=self._nexus_project,\n",
    "            n_shots=[self._nshots]*len(circuit_list)\n",
    "        )\n",
    "        jobs.wait_for(execute_job_ref)\n",
    "        results = [item.get_result() for item in jobs.execution_results(execute_job_ref)]\n",
    "\n",
    "        expval = compute_expectation_value(\n",
    "            results, self._measurement_setup, self._hamiltonian\n",
    "        )\n",
    "        return expval\n",
    "    \n",
    "    def _build_circuits(self, parameters: ndarray) -> list[CircuitRef]:\n",
    "        circuit = self._symbolic_circuit.copy()\n",
    "        symbol_dict = {s: p for s, p in zip(self._symbolic_circuit.free_symbols(), parameters)}\n",
    "        circuit.symbol_substitution(symbol_dict)\n",
    "\n",
    "        properties = {str(sym): val for sym, val in symbol_dict.items()}\n",
    "        properties[\"iteration\"] = self._iteration_number\n",
    "\n",
    "        # Upload the numerical state-prep circuit to Nexus\n",
    "        circuits.submit(\n",
    "            circuit=circuit, \n",
    "            project=self._nexus_project,\n",
    "            name=f\"state prep circuit {self._iteration_number}\",\n",
    "            description=\"A numerical state-prep circuit for my dihydrogen VQE\",\n",
    "            properties=properties\n",
    "        )\n",
    "        circuit_list = []\n",
    "        for mc in self._measurement_setup.measurement_circs:\n",
    "            c = circuit.copy()\n",
    "            c.append(mc)\n",
    "            # Upload each measurement circuit to Nexus with correct params\n",
    "            measurement_circuit_ref = circuits.submit(\n",
    "                circuit=c, \n",
    "                project=self._nexus_project,\n",
    "                name=f\"state prep circuit {self._iteration_number}\",\n",
    "                description=\"A numerical state-prep circuit for my dihydrogen VQE\",\n",
    "                properties=properties\n",
    "            )\n",
    "            circuit_list.append(measurement_circuit_ref)\n",
    "        # Compile circuits with Nexus\n",
    "        compile_job_ref = jobs.submit_compile_job(\n",
    "            name=f\"compile_job_VQE_{datetime.now()}_{self._iteration_number}\",\n",
    "            circuits=circuit_list,\n",
    "            optimisation_level=2,\n",
    "            project=self._nexus_project,\n",
    "        )\n",
    "        jobs.wait_for(compile_job_ref)\n",
    "        compiled_circuit_refs = jobs.compilation_results(compile_job_ref)\n",
    "\n",
    "        for ref in compiled_circuit_refs:\n",
    "            circuits.update(\n",
    "                ref, \n",
    "                name=ref.annotations.name, \n",
    "                description=ref.annotations.description,\n",
    "                properties=properties\n",
    "            )\n",
    "        return compiled_circuit_refs\n",
    "\n"
   ]
  },
  {
   "cell_type": "markdown",
   "metadata": {},
   "source": [
    "## Set up the Nexus Project and run the VQE"
   ]
  },
  {
   "cell_type": "code",
   "execution_count": 22,
   "metadata": {},
   "outputs": [],
   "source": [
    "# set up the project\n",
    "project_ref = projects.submit(\n",
    "    name=f\"VQE_example_{str(datetime.now())}\",\n",
    "    description=\"A VQE done with qnexus\",\n",
    "    properties={}\n",
    ")"
   ]
  },
  {
   "cell_type": "code",
   "execution_count": 23,
   "metadata": {},
   "outputs": [],
   "source": [
    "# Set up the properties\n",
    "projects.add_property(\n",
    "    project_ref, \n",
    "    name=\"iteration\", \n",
    "    property_type=\"int\", \n",
    "    description=f\"The iteration number in my dihydrogen VQE experiment\", \n",
    "    required=False\n",
    ")\n",
    "\n",
    "for sym in symbolic_circuit.free_symbols():\n",
    "    sym_name = str(sym)\n",
    "    projects.add_property(\n",
    "        project_ref, \n",
    "        name=sym_name, \n",
    "        property_type=\"float\", \n",
    "        description=f\"Our VQE {sym_name} parameter\", \n",
    "        required=False\n",
    "    )"
   ]
  },
  {
   "cell_type": "code",
   "execution_count": 24,
   "metadata": {},
   "outputs": [],
   "source": [
    "# Upload our ansatz circuit\n",
    "\n",
    "ansatz_ref = circuits.submit(\n",
    "    circuit=symbolic_circuit,\n",
    "    project=project_ref,\n",
    "    name=\"ansatz_circuit\",\n",
    "    description=\"The ansatz state-prep circuit for my dihydrogen VQE\",\n",
    "    properties={}\n",
    ")"
   ]
  },
  {
   "cell_type": "code",
   "execution_count": 25,
   "metadata": {},
   "outputs": [],
   "source": [
    "objective = Objective(\n",
    "    project_ref,\n",
    "    ansatz_ref,\n",
    "    hamiltonian,\n",
    "    n_shots_per_circuit = 500,\n",
    "    n_iterations= 4,\n",
    ")"
   ]
  },
  {
   "cell_type": "code",
   "execution_count": 26,
   "metadata": {},
   "outputs": [
    {
     "name": "stdout",
     "output_type": "stream",
     "text": [
      "-0.1178357421875\n",
      "\n",
      "[1.64604383 0.80104275 0.93370373 0.53358902]\n",
      "   Return from subroutine COBYLA because the MAXFUN limit has been reached.\n",
      "\n",
      "   NFVALS =    4   F =-1.178357E-01    MAXCV = 0.000000E+00\n",
      "   X = 1.646044E+00   8.010427E-01   9.337037E-01   5.335890E-01\n"
     ]
    }
   ],
   "source": [
    "initial_parameters = random_sample(len(symbolic_circuit.free_symbols()))\n",
    "\n",
    "result = minimize(\n",
    "    objective,\n",
    "    initial_parameters,\n",
    "    method=\"COBYLA\",\n",
    "    options={\"disp\": True, \"maxiter\": objective._niters},\n",
    "    tol=1e-2,\n",
    ")\n",
    "\n",
    "print(result.fun)\n",
    "print(result.x)"
   ]
  },
  {
   "cell_type": "markdown",
   "metadata": {},
   "source": [
    "# Use Nexus to Rescue a VQE workflow\n",
    "\n",
    "For instance, lets say that some failure happened on the 2nd iteration (e.g. laptop ran out of battery) and we want to resume ASAP.\n",
    "\n",
    "In the above we ran for 4 iterations, lets pretend that we actually wanted to run for 7 and it failed on the 4th one."
   ]
  },
  {
   "cell_type": "code",
   "execution_count": 28,
   "metadata": {},
   "outputs": [
    {
     "data": {
      "text/plain": [
       "ProjectRef(id=UUID('f1b00222-d93e-4835-8042-58c886f12b40'), annotations=Annotations(name='VQE_example_2024-01-11 16:44:56.065265', description='A VQE done with qnexus', properties={}))"
      ]
     },
     "execution_count": 28,
     "metadata": {},
     "output_type": "execute_result"
    }
   ],
   "source": [
    "# Get the project\n",
    "project_ref = projects.projects(name=\"VQE_example_2024-01-11 16:44:56.065265\")[-1]\n",
    "\n",
    "project_ref"
   ]
  },
  {
   "cell_type": "code",
   "execution_count": 29,
   "metadata": {},
   "outputs": [],
   "source": [
    "# Get the symbolic circuit\n",
    "\n",
    "from qnexus.client import circuits\n",
    "\n",
    "symb_circuits = circuits.circuits(name=\"ansatz_circuit\", project_id=str(project_ref.id))\n",
    "\n",
    "symbolic_circuit_ref = symb_circuits[0]"
   ]
  },
  {
   "cell_type": "code",
   "execution_count": 34,
   "metadata": {},
   "outputs": [
    {
     "name": "stdout",
     "output_type": "stream",
     "text": [
      "0\n",
      "0\n",
      "1\n",
      "1\n",
      "2\n",
      "2\n",
      "3\n",
      "3\n"
     ]
    }
   ],
   "source": [
    "most_recent_circuits = circuits.circuits(name=\"final\", project_id=project_ref.id)\n",
    "for c in most_recent_circuits:\n",
    "    print(c.annotations.properties[\"iteration\"])"
   ]
  },
  {
   "cell_type": "code",
   "execution_count": 31,
   "metadata": {},
   "outputs": [
    {
     "name": "stdout",
     "output_type": "stream",
     "text": [
      "id=UUID('adb4370b-5f0b-49f3-9185-1400d5d6b7e1') annotations=Annotations(name='state prep circuit 3-AerBackend-final', description=None, properties={'p1': 1.9337037801742554, 'p2': 0.8010427355766296, 'p3': 1.6460437774658203, 'iteration': 3, 'p0': 0.5335890054702759}) project=ProjectRef(id=UUID('f1b00222-d93e-4835-8042-58c886f12b40'), annotations=Annotations(name='VQE_example_2024-01-11 16:44:56.065265', description='A VQE done with qnexus', properties={}))\n",
      "{'p1': 1.9337037801742554, 'p2': 0.8010427355766296, 'p3': 1.6460437774658203, 'iteration': 3, 'p0': 0.5335890054702759}\n"
     ]
    }
   ],
   "source": [
    "# Get the latest circuit to get the 'initial_parameters'\n",
    "latest_circuit: CircuitRef = most_recent_circuits[-1]\n",
    "print(latest_circuit)\n",
    "\n",
    "\n",
    "latest_circuit_properties = latest_circuit.annotations.properties\n",
    "print(latest_circuit_properties)"
   ]
  },
  {
   "cell_type": "code",
   "execution_count": 32,
   "metadata": {},
   "outputs": [
    {
     "name": "stdout",
     "output_type": "stream",
     "text": [
      "3\n"
     ]
    }
   ],
   "source": [
    "# Get what iteration we were on (from the latest circuit)\n",
    "\n",
    "last_iteration_count = latest_circuit_properties.pop(\"iteration\")\n",
    "print(last_iteration_count)\n"
   ]
  },
  {
   "cell_type": "code",
   "execution_count": 12,
   "metadata": {},
   "outputs": [
    {
     "name": "stdout",
     "output_type": "stream",
     "text": [
      "{'p0': 0.2365649938583374, 'p3': 1.436293363571167, 'p2': 0.8855235576629639, 'p1': 0.13932426273822784}\n",
      "[0.2365649938583374, 0.13932426273822784, 0.8855235576629639, 1.436293363571167]\n"
     ]
    }
   ],
   "source": [
    "# Retreive the params and check them\n",
    "\n",
    "print(latest_circuit_properties)\n",
    "\n",
    "sorted_symbols = sorted([str(sym) for sym in symbolic_circuit_ref.get_circuit().free_symbols()])\n",
    "\n",
    "new_starting_params = [latest_circuit_properties[str(symbol)] for symbol in sorted_symbols]\n",
    "\n",
    "print(new_starting_params)\n"
   ]
  },
  {
   "cell_type": "code",
   "execution_count": 13,
   "metadata": {},
   "outputs": [
    {
     "name": "stdout",
     "output_type": "stream",
     "text": [
      "-0.1557009765625\n",
      "   Return from subroutine COBYLA because the MAXFUN limit has been reached.\n",
      "\n",
      "   NFVALS =    3   F =-1.557010E-01    MAXCV = 0.000000E+00\n",
      "   X = 2.365650E-01   1.393243E-01   8.855236E-01   1.436293E+00\n",
      "\n",
      "[0.23656499 0.13932426 0.88552356 1.43629336]\n"
     ]
    }
   ],
   "source": [
    "# Build the Objective and run 'minimize' to continue the experiment\n",
    "objective = Objective(\n",
    "    project_ref,\n",
    "    symbolic_circuit_ref,\n",
    "    hamiltonian,\n",
    "    n_shots_per_circuit = 500,\n",
    "    iteration_number=last_iteration_count, # resume from 3rd iteration of 7\n",
    "    n_iterations = 7,\n",
    ")\n",
    "\n",
    "result = minimize(\n",
    "    objective,\n",
    "    new_starting_params,\n",
    "    method=\"COBYLA\",\n",
    "    options={\"disp\": True, \"maxiter\": objective._niters},\n",
    "    tol=1e-2,\n",
    ")\n",
    "\n",
    "print(result.fun)\n",
    "print(result.x)"
   ]
  },
  {
   "cell_type": "code",
   "execution_count": null,
   "metadata": {},
   "outputs": [],
   "source": [
    "# TODO double check iteration prop is correct"
   ]
  }
 ],
 "metadata": {
  "kernelspec": {
   "display_name": "qnexus-Rou6F43i-py3.10",
   "language": "python",
   "name": "python3"
  },
  "language_info": {
   "codemirror_mode": {
    "name": "ipython",
    "version": 3
   },
   "file_extension": ".py",
   "mimetype": "text/x-python",
   "name": "python",
   "nbconvert_exporter": "python",
   "pygments_lexer": "ipython3",
   "version": "3.10.6"
  }
 },
 "nbformat": 4,
 "nbformat_minor": 2
}
