{
 "cells": [
  {
   "cell_type": "code",
   "execution_count": 88,
   "metadata": {},
   "outputs": [],
   "source": [
    "import copy\n",
    "from datetime import datetime\n",
    "from time import sleep\n",
    "\n",
    "from pytket import Circuit, OpType\n",
    "from pytket.circuit.display import render_circuit_jupyter\n",
    "from pytket.utils.operators import QubitPauliOperator\n",
    "from pytket.partition import measurement_reduction,MeasurementBitMap, MeasurementSetup, PauliPartitionStrat\n",
    "from pytket.backends import Backend\n",
    "from pytket.backends.backendresult import BackendResult\n",
    "from pytket.extensions.qiskit import AerBackend\n",
    "\n",
    "from pytket.utils.operators import QubitPauliOperator\n",
    "from pytket.pauli import Pauli, QubitPauliString\n",
    "from pytket.circuit import Qubit\n",
    "\n",
    "from scipy.optimize import minimize\n",
    "from numpy import ndarray\n",
    "from numpy.random import random_sample\n",
    "from sympy import Symbol\n",
    "\n",
    "from qnexus.client import auth, circuits, projects, jobs\n",
    "from qnexus.references import CircuitRef, ProjectRef\n",
    "\n"
   ]
  },
  {
   "cell_type": "markdown",
   "metadata": {},
   "source": [
    "VQE example adapted from https://github.com/CQCL/pytket-quantinuum/blob/develop/examples/Quantinuum_variational_experiment_with_batching.ipynb"
   ]
  },
  {
   "cell_type": "markdown",
   "metadata": {},
   "source": [
    "### TODO\n",
    "\n",
    "- wait for job completion using websockets\n",
    "- show how we can resume job after a crash by retrieving the correct circuits from the database"
   ]
  },
  {
   "cell_type": "code",
   "execution_count": 66,
   "metadata": {},
   "outputs": [
    {
     "data": {
      "text/plain": [
       "[X q[0]; Ry(p1) q[1]; Ry(p0) q[0]; CX q[0], q[1]; Ry(p2) q[0]; Ry(p3) q[0]; ]"
      ]
     },
     "execution_count": 66,
     "metadata": {},
     "output_type": "execute_result"
    }
   ],
   "source": [
    "# 1. Synthesise Symbolic State-Preparation Circuit (hardware efficient ansatz)\n",
    "\n",
    "symbols = [Symbol(f\"p{i}\") for i in range(4)]\n",
    "symbolic_circuit = Circuit(2)\n",
    "symbolic_circuit.X(0)\n",
    "symbolic_circuit.Ry(symbols[0], 0).Ry(symbols[1], 1)\n",
    "symbolic_circuit.CX(0, 1)\n",
    "symbolic_circuit.Ry(symbols[2], 0).Ry(symbols[3], 0)\n",
    "\n",
    "#render_circuit_jupyter(symbolic_circuit)"
   ]
  },
  {
   "cell_type": "code",
   "execution_count": 68,
   "metadata": {},
   "outputs": [],
   "source": [
    "# 2. Define Hamiltonian \n",
    "# coefficients in the Hamiltonian are obtained from PhysRevX.6.031007\n",
    "\n",
    "coeffs = [-0.4804, 0.3435, -0.4347, 0.5716, 0.0910, 0.0910]\n",
    "term0 = {\n",
    "    QubitPauliString(\n",
    "        {\n",
    "            Qubit(0): Pauli.I,\n",
    "            Qubit(1): Pauli.I,\n",
    "        }\n",
    "    ): coeffs[0]\n",
    "}\n",
    "term1 = {QubitPauliString({Qubit(0): Pauli.Z, Qubit(1): Pauli.I}): coeffs[1]}\n",
    "term2 = {QubitPauliString({Qubit(0): Pauli.I, Qubit(1): Pauli.Z}): coeffs[2]}\n",
    "term3 = {QubitPauliString({Qubit(0): Pauli.Z, Qubit(1): Pauli.Z}): coeffs[3]}\n",
    "term4 = {QubitPauliString({Qubit(0): Pauli.X, Qubit(1): Pauli.X}): coeffs[4]}\n",
    "term5 = {QubitPauliString({Qubit(0): Pauli.Y, Qubit(1): Pauli.Y}): coeffs[5]}\n",
    "term_sum = {}\n",
    "term_sum.update(term0)\n",
    "term_sum.update(term1)\n",
    "term_sum.update(term2)\n",
    "term_sum.update(term3)\n",
    "term_sum.update(term4)\n",
    "term_sum.update(term5)\n",
    "hamiltonian = QubitPauliOperator(term_sum)\n",
    "\n"
   ]
  },
  {
   "cell_type": "code",
   "execution_count": 70,
   "metadata": {},
   "outputs": [],
   "source": [
    "# 3.1 Computing Expectation Values for Pauli-Strings\n",
    "\n",
    "def compute_expectation_paulistring(\n",
    "    distribution: dict[tuple[int, ...], float], bitmap: MeasurementBitMap\n",
    ") -> float:\n",
    "    value = 0\n",
    "    for bitstring, probability in distribution.items():\n",
    "        value += probability * (sum(bitstring[i] for i in bitmap.bits) % 2)\n",
    "    return ((-1) ** bitmap.invert) * (-2 * value + 1)\n",
    "\n",
    "\n",
    "# 3.2 Computing Expectation Values for sums of Pauli-strings multiplied by coefficients\n",
    "\n",
    "def compute_expectation_value(\n",
    "    results: list[BackendResult],\n",
    "    measurement_setup: MeasurementSetup,\n",
    "    operator: QubitPauliOperator,\n",
    ") -> float:\n",
    "    energy = 0\n",
    "    for pauli_string, bitmaps in measurement_setup.results.items():\n",
    "        string_coeff = operator.get(pauli_string, 0.0)\n",
    "        if string_coeff > 0:\n",
    "            for bm in bitmaps:\n",
    "                index = bm.circ_index\n",
    "                distribution = results[index].get_distribution()\n",
    "                value = compute_expectation_paulistring(distribution, bm)\n",
    "                energy += complex(value * string_coeff).real\n",
    "    return energy"
   ]
  },
  {
   "cell_type": "code",
   "execution_count": 90,
   "metadata": {},
   "outputs": [],
   "source": [
    "class Objective:\n",
    "    def __init__(\n",
    "        self,\n",
    "        nexus_project: ProjectRef,\n",
    "        symbolic_circuit: CircuitRef,\n",
    "        problem_hamiltonian: QubitPauliOperator,\n",
    "        n_shots_per_circuit: int,\n",
    "        iteration_number: int = 0,\n",
    "        n_iterations: int = 10,\n",
    "    ) -> None:\n",
    "        r\"\"\"Returns the objective function needed for a variational\n",
    "        procedure.\n",
    "        \"\"\"\n",
    "        terms = [term for term in problem_hamiltonian._dict.keys()]\n",
    "        self._backend=AerBackend()\n",
    "        self._symbolic_circuit: Circuit = symbolic_circuit.get_circuit()\n",
    "        self._hamiltonian: QubitPauliOperator = problem_hamiltonian\n",
    "        self._nshots: int = n_shots_per_circuit\n",
    "        self._measurement_setup: MeasurementSetup = measurement_reduction(\n",
    "            terms, strat=PauliPartitionStrat.CommutingSets\n",
    "        )\n",
    "        self._nexus_project = nexus_project\n",
    "        self._iteration_number: int = iteration_number\n",
    "        self._niters: int = n_iterations\n",
    "\n",
    "    def __call__(self, parameter: ndarray) -> float:\n",
    "        value = self._objective_function(parameter)\n",
    "        self._iteration_number += 1\n",
    "        if self._iteration_number >= self._niters:\n",
    "            self._iteration_number = 0\n",
    "        return value\n",
    "    \n",
    "    def _objective_function(\n",
    "        self,\n",
    "        parameters: ndarray,\n",
    "    ) -> float:\n",
    "        assert len(parameters) == len(self._symbolic_circuit.free_symbols())\n",
    "        circuit_list = self._build_circuits(parameters)\n",
    "\n",
    "        # Execute circuits with Nexus\n",
    "        execute_ref =jobs.submit_execute_job(\n",
    "            name=f\"execute_job_VQE_{datetime.now()}_{self._iteration_number}\",\n",
    "            circuits=circuit_list,\n",
    "            project=self._nexus_project,\n",
    "            n_shots=[self._nshots]*len(circuit_list)\n",
    "        )\n",
    "        # TODO actually wait for the job\n",
    "        sleep(20)\n",
    "        results = [item.get_result() for item in jobs.execution_results(execute_ref)]\n",
    "\n",
    "        expval = compute_expectation_value(\n",
    "            results, self._measurement_setup, self._hamiltonian\n",
    "        )\n",
    "        return expval\n",
    "    \n",
    "    def _build_circuits(self, parameters: ndarray) -> list[CircuitRef]:\n",
    "        circuit = self._symbolic_circuit.copy()\n",
    "        symbol_dict = {s: p for s, p in zip(self._symbolic_circuit.free_symbols(), parameters)}\n",
    "        circuit.symbol_substitution(symbol_dict)\n",
    "\n",
    "        properties = {str(sym): val for sym, val in symbol_dict.items()}\n",
    "        properties[\"iteration\"] = self._iteration_number\n",
    "\n",
    "        # Upload the numerical state-prep circuit to Nexus\n",
    "        circuits.submit(\n",
    "            circuit=circuit, \n",
    "            project=self._nexus_project,\n",
    "            name=f\"state prep circuit {self._iteration_number}\",\n",
    "            description=\"A numerical state-prep circuit for my dihydrogen VQE\",\n",
    "            properties=properties\n",
    "        )\n",
    "        circuit_list = []\n",
    "        for mc in self._measurement_setup.measurement_circs:\n",
    "            c = circuit.copy()\n",
    "            c.append(mc)\n",
    "            # Upload each measurement circuit to Nexus with correct params\n",
    "            measurement_circuit_ref = circuits.submit(\n",
    "                circuit=c, \n",
    "                project=self._nexus_project,\n",
    "                name=f\"state prep circuit {self._iteration_number}\",\n",
    "                description=\"A numerical state-prep circuit for my dihydrogen VQE\",\n",
    "                properties=properties\n",
    "            )\n",
    "            circuit_list.append(measurement_circuit_ref)\n",
    "        # compile circuits with Nexus\n",
    "        compile_job_ref = jobs.submit_compile_job(\n",
    "            name=f\"compile_job_VQE_{datetime.now()}_{self._iteration_number}\",\n",
    "            circuits=circuit_list,\n",
    "            optimisation_level=2,\n",
    "            project=self._nexus_project,\n",
    "        )\n",
    "        # TODO actually wait for the job\n",
    "        sleep(10)\n",
    "        compiled_circuit_refs = jobs.compilation_results(compile_job_ref)\n",
    "        return compiled_circuit_refs\n",
    "\n"
   ]
  },
  {
   "cell_type": "code",
   "execution_count": 91,
   "metadata": {},
   "outputs": [],
   "source": [
    "# set up the project\n",
    "project_ref = projects.submit(\n",
    "    name=f\"VQE_example_{str(datetime.now())}\", \n",
    "    description=\"A VQE done with qexus\", \n",
    "    properties={}\n",
    ")"
   ]
  },
  {
   "cell_type": "code",
   "execution_count": 92,
   "metadata": {},
   "outputs": [],
   "source": [
    "# Set up the properties\n",
    "projects.add_property(\n",
    "    project_ref, \n",
    "    name=\"iteration\", \n",
    "    property_type=\"int\", \n",
    "    description=f\"The iteration number in my dihydrogen VQE experiment\", \n",
    "    required=False\n",
    ")\n",
    "\n",
    "for sym in symbolic_circuit.free_symbols():\n",
    "    sym_name = str(sym)\n",
    "    projects.add_property(\n",
    "        project_ref, \n",
    "        name=sym_name, \n",
    "        property_type=\"float\", \n",
    "        description=f\"Our VQE {sym_name} parameter\", \n",
    "        required=False\n",
    "    )"
   ]
  },
  {
   "cell_type": "code",
   "execution_count": 93,
   "metadata": {},
   "outputs": [],
   "source": [
    "# Upload our ansatz circuit\n",
    "\n",
    "ansatz_ref = circuits.submit(\n",
    "    circuit=symbolic_circuit, \n",
    "    project=project_ref,\n",
    "    name=\"ansatz_circuit\",\n",
    "    description=\"The ansatz state-prep circuit for my dihydrogen VQE\",\n",
    "    properties={}\n",
    ")"
   ]
  },
  {
   "cell_type": "code",
   "execution_count": 94,
   "metadata": {},
   "outputs": [],
   "source": [
    "objective = Objective(\n",
    "    project_ref,\n",
    "    ansatz_ref,\n",
    "    hamiltonian,\n",
    "    n_shots_per_circuit = 500,\n",
    "    n_iterations= 2,\n",
    ")"
   ]
  },
  {
   "cell_type": "code",
   "execution_count": 95,
   "metadata": {},
   "outputs": [
    {
     "name": "stdout",
     "output_type": "stream",
     "text": [
      "\n",
      "   Return from subroutine COBYLA because the MAXFUN limit has been reached.\n",
      "\n",
      "   NFVALS =    2   F =-6.824244E-01    MAXCV = 0.000000E+00\n",
      "   X = 1.093379E+00   3.649019E-01   8.198273E-02   1.485567E-01\n"
     ]
    }
   ],
   "source": [
    "initial_parameters = random_sample(len(symbolic_circuit.free_symbols()))\n",
    "\n",
    "result = minimize(\n",
    "    objective,\n",
    "    initial_parameters,\n",
    "    method=\"COBYLA\",\n",
    "    options={\"disp\": True, \"maxiter\": objective._niters},\n",
    "    tol=1e-2,\n",
    ")"
   ]
  },
  {
   "cell_type": "code",
   "execution_count": 49,
   "metadata": {},
   "outputs": [
    {
     "name": "stdout",
     "output_type": "stream",
     "text": [
      "-0.8685952\n",
      "[1.88844242 1.30241341 0.93346525 0.01860803]\n"
     ]
    }
   ],
   "source": [
    "print(result.fun)\n",
    "print(result.x)"
   ]
  }
 ],
 "metadata": {
  "kernelspec": {
   "display_name": "qnexus-Rou6F43i-py3.10",
   "language": "python",
   "name": "python3"
  },
  "language_info": {
   "codemirror_mode": {
    "name": "ipython",
    "version": 3
   },
   "file_extension": ".py",
   "mimetype": "text/x-python",
   "name": "python",
   "nbconvert_exporter": "python",
   "pygments_lexer": "ipython3",
   "version": "3.10.6"
  }
 },
 "nbformat": 4,
 "nbformat_minor": 2
}
