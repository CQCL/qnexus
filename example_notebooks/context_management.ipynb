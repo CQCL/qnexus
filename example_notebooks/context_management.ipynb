{
 "cells": [
  {
   "cell_type": "code",
   "execution_count": null,
   "metadata": {},
   "outputs": [],
   "source": [
    "from datetime import datetime\n",
    "\n",
    "import qnexus as qnx\n",
    "\n",
    "from pytket import Circuit"
   ]
  },
  {
   "cell_type": "markdown",
   "metadata": {},
   "source": [
    "## Can use projects set in the context"
   ]
  },
  {
   "cell_type": "code",
   "execution_count": null,
   "metadata": {},
   "outputs": [],
   "source": [
    "# Regular python context manager (block-scoped)\n",
    "\n",
    "#project = qnx.projects.create(name=f\"demo-{datetime.now()}\")\n",
    "\n",
    "\n",
    "with qnx.context.using_project(project):\n",
    "\n",
    "    circuits = qnx.circuits.filter(properties=[\"test_prop_1\"])\n",
    "\n",
    "    circuits_data = circuits.summarize()"
   ]
  },
  {
   "cell_type": "code",
   "execution_count": null,
   "metadata": {},
   "outputs": [],
   "source": [
    "circuits_data"
   ]
  },
  {
   "cell_type": "code",
   "execution_count": null,
   "metadata": {},
   "outputs": [],
   "source": [
    "other_project = qnx.projects.get(name=\"VanyaTest\")\n",
    "\n",
    "with qnx.context.using_project(project):\n",
    "\n",
    "    # project passed in kwargs will take precedence\n",
    "    circuits = qnx.circuits.filter(project_ref=other_project)\n",
    "\n",
    "    #circuits_data = circuits.summarize()"
   ]
  },
  {
   "cell_type": "code",
   "execution_count": null,
   "metadata": {},
   "outputs": [],
   "source": [
    "circuits.summarize()"
   ]
  },
  {
   "cell_type": "code",
   "execution_count": null,
   "metadata": {},
   "outputs": [],
   "source": [
    "# Global context\n",
    "\n",
    "\n",
    "token = qnx.context.set_active_project(project)\n",
    "\n",
    "\n",
    "circuits = qnx.circuits.filter()\n",
    "\n",
    "circuits.summarize()"
   ]
  },
  {
   "cell_type": "code",
   "execution_count": null,
   "metadata": {},
   "outputs": [],
   "source": [
    "qnx.context.deactivate_project(token)"
   ]
  },
  {
   "cell_type": "markdown",
   "metadata": {},
   "source": [
    "## Can use properties set in the context"
   ]
  },
  {
   "cell_type": "code",
   "execution_count": null,
   "metadata": {},
   "outputs": [],
   "source": [
    "with qnx.context.using_project(project):\n",
    "\n",
    "    qnx.projects.add_property(\n",
    "        name=\"test_prop_1\", \n",
    "        property_type=\"float\",\n",
    "    )\n",
    "    qnx.projects.add_property(\n",
    "        name=\"test_prop_2\",\n",
    "        property_type=\"float\",\n",
    "        required=True\n",
    "    )"
   ]
  },
  {
   "cell_type": "code",
   "execution_count": null,
   "metadata": {},
   "outputs": [],
   "source": [
    "circuit = Circuit(2,2).H(0).CX(0,1).measure_all()\n",
    "\n",
    "\n",
    "with qnx.context.using_project(project):\n",
    "    with qnx.context.using_properties(test_prop_1 = 2.0, test_prop_2 = 1.5):\n",
    "\n",
    "        # properties dicts will be union'd with the kwargs taking precedence\n",
    "        circuit_ref = qnx.circuits.create(\n",
    "            circuit=circuit,\n",
    "            name=\"test_prop_circuit\",\n",
    "            properties={\"test_prop_1\":100.5}\n",
    "        )"
   ]
  },
  {
   "cell_type": "code",
   "execution_count": null,
   "metadata": {},
   "outputs": [],
   "source": [
    "circuit_ref.summarize()"
   ]
  },
  {
   "cell_type": "code",
   "execution_count": null,
   "metadata": {},
   "outputs": [],
   "source": []
  },
  {
   "cell_type": "code",
   "execution_count": null,
   "metadata": {},
   "outputs": [],
   "source": []
  },
  {
   "cell_type": "code",
   "execution_count": null,
   "metadata": {},
   "outputs": [],
   "source": []
  },
  {
   "cell_type": "code",
   "execution_count": null,
   "metadata": {},
   "outputs": [],
   "source": []
  },
  {
   "cell_type": "code",
   "execution_count": null,
   "metadata": {},
   "outputs": [],
   "source": []
  },
  {
   "cell_type": "code",
   "execution_count": null,
   "metadata": {},
   "outputs": [],
   "source": [
    "# Example function\n",
    "@qnx.context.merge_project_from_context\n",
    "@qnx.context.merge_properties_from_context\n",
    "def test(**kwargs):\n",
    "    print(kwargs)"
   ]
  },
  {
   "cell_type": "code",
   "execution_count": null,
   "metadata": {},
   "outputs": [],
   "source": [
    "project = qnx.projects.get(id=\"6e7fb589-2471-4ea9-85fe-47a8de1daeb7\")\n",
    "other_project = qnx.projects.get(id=\"edfd3da9-c1b9-45c2-af2b-045e5fee569a\")\n",
    "\n",
    "with qnx.context.using_project(project):\n",
    "    with qnx.context.using_properties(yes = 2, new = 12):\n",
    "        \n",
    "        # project passed in kwargs will take precedence\n",
    "        # properties dicts will be union'd with the kwargs taking precedence\n",
    "        test(project_ref=other_project, properties={\"foo\":1, \"new\": \"yes\"})"
   ]
  }
 ],
 "metadata": {
  "kernelspec": {
   "display_name": "qnexus-Rou6F43i-py3.11",
   "language": "python",
   "name": "python3"
  },
  "language_info": {
   "codemirror_mode": {
    "name": "ipython",
    "version": 3
   },
   "file_extension": ".py",
   "mimetype": "text/x-python",
   "name": "python",
   "nbconvert_exporter": "python",
   "pygments_lexer": "ipython3",
   "version": "3.11.6"
  }
 },
 "nbformat": 4,
 "nbformat_minor": 2
}
