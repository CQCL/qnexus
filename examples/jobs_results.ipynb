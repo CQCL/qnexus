{
 "cells": [
  {
   "cell_type": "markdown",
   "metadata": {},
   "source": [
    "# Jobs & Results\n",
    "\n",
    "Quantinuum Nexus offers different types of `Job` that represent a component of your workflow that is running in Nexus, H-series or a third-party.\n",
    "\n",
    "- CompileJobs represent the TKET compilation of circuits for a particular target device.\n",
    "- ExecuteJobs represent the execution of circuits on a quantum computer or simulator.\n",
    "\n",
    "Nexus manages the storage of Job outputs such as BackendResults, BackendInfo or compiled Circuits."
   ]
  },
  {
   "cell_type": "code",
   "execution_count": 1,
   "metadata": {},
   "outputs": [],
   "source": [
    "from datetime import datetime\n",
    "\n",
    "import qnexus as qnx\n",
    "\n",
    "from pytket import Circuit"
   ]
  },
  {
   "cell_type": "code",
   "execution_count": 2,
   "metadata": {},
   "outputs": [],
   "source": [
    "my_job_name_prefix = datetime.now()\n",
    "\n",
    "my_project_ref = qnx.projects.get_or_create(name=\"My Project\")\n",
    "\n",
    "my_circuit_ref = qnx.circuits.upload(\n",
    "    name=f\"My Circuit from {datetime.now()}\",\n",
    "    circuit = Circuit(2).H(0).CX(0,1).measure_all(),\n",
    "    project = my_project_ref,\n",
    ")"
   ]
  },
  {
   "cell_type": "markdown",
   "metadata": {},
   "source": [
    "## Compile Jobs\n",
    "\n",
    "These jobs represent the TKET compilation of one or more circuit(s) in Nexus for a particular target backend.\n",
    "\n",
    "BackendConfigs define the target, in this case we are targetting the `H1-1SC` H-series syntax checker device."
   ]
  },
  {
   "cell_type": "code",
   "execution_count": 4,
   "metadata": {},
   "outputs": [
    {
     "data": {
      "text/html": [
       "<div>\n",
       "<style scoped>\n",
       "    .dataframe tbody tr th:only-of-type {\n",
       "        vertical-align: middle;\n",
       "    }\n",
       "\n",
       "    .dataframe tbody tr th {\n",
       "        vertical-align: top;\n",
       "    }\n",
       "\n",
       "    .dataframe thead th {\n",
       "        text-align: right;\n",
       "    }\n",
       "</style>\n",
       "<table border=\"1\" class=\"dataframe\">\n",
       "  <thead>\n",
       "    <tr style=\"text-align: right;\">\n",
       "      <th></th>\n",
       "      <th>name</th>\n",
       "      <th>description</th>\n",
       "      <th>created</th>\n",
       "      <th>modified</th>\n",
       "      <th>project</th>\n",
       "      <th>id</th>\n",
       "    </tr>\n",
       "  </thead>\n",
       "  <tbody>\n",
       "    <tr>\n",
       "      <th>0</th>\n",
       "      <td>My Circuit from 2024-07-18 18:32:34.164662-Qua...</td>\n",
       "      <td>None</td>\n",
       "      <td>2024-07-18 17:32:59.616512+00:00</td>\n",
       "      <td>2024-07-18 17:32:59.616512+00:00</td>\n",
       "      <td>My Nexus Project</td>\n",
       "      <td>f9168b6b-ca8e-4b68-b624-2c2fb336c7fd</td>\n",
       "    </tr>\n",
       "  </tbody>\n",
       "</table>\n",
       "</div>"
      ],
      "text/plain": [
       "                                                name description  \\\n",
       "0  My Circuit from 2024-07-18 18:32:34.164662-Qua...        None   \n",
       "\n",
       "                           created                         modified  \\\n",
       "0 2024-07-18 17:32:59.616512+00:00 2024-07-18 17:32:59.616512+00:00   \n",
       "\n",
       "            project                                    id  \n",
       "0  My Nexus Project  f9168b6b-ca8e-4b68-b624-2c2fb336c7fd  "
      ]
     },
     "execution_count": 4,
     "metadata": {},
     "output_type": "execute_result"
    }
   ],
   "source": [
    "# Compile the circuit (blocking), to receive a list of compiled CircuitRefs\n",
    "\n",
    "compiled_circuits = qnx.compile(\n",
    "    circuits=[my_circuit_ref],\n",
    "    name=f\"{my_job_name_prefix}_compile\",\n",
    "    optimisation_level=1,\n",
    "    backend_config=qnx.QuantinuumConfig(device_name=\"H1-1SC\"),\n",
    "    project=my_project_ref,\n",
    ")\n",
    "\n",
    "compiled_circuits.df()"
   ]
  },
  {
   "cell_type": "code",
   "execution_count": 6,
   "metadata": {},
   "outputs": [
    {
     "data": {
      "text/html": [
       "<div>\n",
       "<style scoped>\n",
       "    .dataframe tbody tr th:only-of-type {\n",
       "        vertical-align: middle;\n",
       "    }\n",
       "\n",
       "    .dataframe tbody tr th {\n",
       "        vertical-align: top;\n",
       "    }\n",
       "\n",
       "    .dataframe thead th {\n",
       "        text-align: right;\n",
       "    }\n",
       "</style>\n",
       "<table border=\"1\" class=\"dataframe\">\n",
       "  <thead>\n",
       "    <tr style=\"text-align: right;\">\n",
       "      <th></th>\n",
       "      <th>name</th>\n",
       "      <th>description</th>\n",
       "      <th>created</th>\n",
       "      <th>modified</th>\n",
       "      <th>project</th>\n",
       "      <th>id</th>\n",
       "    </tr>\n",
       "  </thead>\n",
       "  <tbody>\n",
       "    <tr>\n",
       "      <th>0</th>\n",
       "      <td>My Circuit from 2024-07-18 18:32:34.164662-com...</td>\n",
       "      <td></td>\n",
       "      <td>2024-07-18 17:33:50.696154+00:00</td>\n",
       "      <td>2024-07-18 17:33:50.696154+00:00</td>\n",
       "      <td>My Nexus Project</td>\n",
       "      <td>7b109e7e-010c-4336-b9f8-e9d37c0f281c</td>\n",
       "    </tr>\n",
       "  </tbody>\n",
       "</table>\n",
       "</div>"
      ],
      "text/plain": [
       "                                                name description  \\\n",
       "0  My Circuit from 2024-07-18 18:32:34.164662-com...               \n",
       "\n",
       "                           created                         modified  \\\n",
       "0 2024-07-18 17:33:50.696154+00:00 2024-07-18 17:33:50.696154+00:00   \n",
       "\n",
       "            project                                    id  \n",
       "0  My Nexus Project  7b109e7e-010c-4336-b9f8-e9d37c0f281c  "
      ]
     },
     "execution_count": 6,
     "metadata": {},
     "output_type": "execute_result"
    }
   ],
   "source": [
    "# Run in an asyncronous manner to receieve a JobRef\n",
    "\n",
    "compile_job_ref = qnx.start_compile_job(\n",
    "    circuits=[my_circuit_ref],\n",
    "    name=f\"{my_job_name_prefix}_compile_async\",\n",
    "    optimisation_level=1,\n",
    "    backend_config=qnx.QuantinuumConfig(device_name=\"H1-1SC\"),\n",
    "    project=my_project_ref\n",
    ")\n",
    "\n",
    "# Block until the job is complete (or perform other tasks while we wait)\n",
    "qnx.jobs.wait_for(compile_job_ref)\n",
    "\n",
    "# Retrieve a CompilationResultRef for every Circuit that was compiled\n",
    "compile_job_result_refs = qnx.jobs.results(compile_job_ref)\n",
    "\n",
    "compile_job_result_refs.df()\n"
   ]
  },
  {
   "cell_type": "code",
   "execution_count": 7,
   "metadata": {},
   "outputs": [
    {
     "data": {
      "text/plain": [
       "CircuitRef(id=UUID('984cdfd1-e78d-4041-aaf3-39131e877531'), annotations=Annotations(name='My Circuit from 2024-07-18 18:32:34.164662-QuantinuumBackend-final', description=None, properties=OrderedDict(), created=datetime.datetime(2024, 7, 18, 17, 33, 50, 504675, tzinfo=TzInfo(UTC)), modified=datetime.datetime(2024, 7, 18, 17, 33, 50, 504675, tzinfo=TzInfo(UTC))), project=ProjectRef(id=UUID('e1e53608-5e73-4b96-b15f-96e727f61e47'), annotations=Annotations(name='My Nexus Project', description=None, properties=OrderedDict(), created=datetime.datetime(2024, 7, 18, 17, 24, 2, 870970, tzinfo=TzInfo(UTC)), modified=datetime.datetime(2024, 7, 18, 17, 24, 2, 870970, tzinfo=TzInfo(UTC))), contents_modified=datetime.datetime(2024, 7, 18, 17, 33, 51, 593300, tzinfo=TzInfo(UTC)), type='ProjectRef'), type='CircuitRef')"
      ]
     },
     "execution_count": 7,
     "metadata": {},
     "output_type": "execute_result"
    }
   ],
   "source": [
    "# Retrieve the compiled CircuitRef for the first Circuit\n",
    "compile_job_result_refs[0].get_output()"
   ]
  },
  {
   "cell_type": "code",
   "execution_count": 8,
   "metadata": {},
   "outputs": [
    {
     "data": {
      "text/html": [
       "<div>\n",
       "<style scoped>\n",
       "    .dataframe tbody tr th:only-of-type {\n",
       "        vertical-align: middle;\n",
       "    }\n",
       "\n",
       "    .dataframe tbody tr th {\n",
       "        vertical-align: top;\n",
       "    }\n",
       "\n",
       "    .dataframe thead th {\n",
       "        text-align: right;\n",
       "    }\n",
       "</style>\n",
       "<table border=\"1\" class=\"dataframe\">\n",
       "  <thead>\n",
       "    <tr style=\"text-align: right;\">\n",
       "      <th></th>\n",
       "      <th>pass name</th>\n",
       "      <th>input</th>\n",
       "      <th>output</th>\n",
       "      <th>id</th>\n",
       "    </tr>\n",
       "  </thead>\n",
       "  <tbody>\n",
       "    <tr>\n",
       "      <th>0</th>\n",
       "      <td>DecomposeBoxes</td>\n",
       "      <td>My Circuit from 2024-07-18 18:32:34.164662</td>\n",
       "      <td>My Circuit from 2024-07-18 18:32:34.164662</td>\n",
       "      <td>668ac4bf-bca3-4ef4-a43d-3c8802fcce00</td>\n",
       "    </tr>\n",
       "    <tr>\n",
       "      <th>1</th>\n",
       "      <td>CustomPass</td>\n",
       "      <td>My Circuit from 2024-07-18 18:32:34.164662</td>\n",
       "      <td>My Circuit from 2024-07-18 18:32:34.164662</td>\n",
       "      <td>bdb7058d-8909-4403-be2e-5ce9050406f9</td>\n",
       "    </tr>\n",
       "    <tr>\n",
       "      <th>2</th>\n",
       "      <td>SynthesiseTK</td>\n",
       "      <td>My Circuit from 2024-07-18 18:32:34.164662</td>\n",
       "      <td>My Circuit from 2024-07-18 18:32:34.164662-Qua...</td>\n",
       "      <td>5b8f907a-2390-423f-8073-a108aa7ad38e</td>\n",
       "    </tr>\n",
       "    <tr>\n",
       "      <th>3</th>\n",
       "      <td>NormaliseTK2</td>\n",
       "      <td>My Circuit from 2024-07-18 18:32:34.164662-Qua...</td>\n",
       "      <td>My Circuit from 2024-07-18 18:32:34.164662-Qua...</td>\n",
       "      <td>45e069bf-467e-466c-824e-4f48fb51d1bd</td>\n",
       "    </tr>\n",
       "    <tr>\n",
       "      <th>4</th>\n",
       "      <td>DecomposeTK2</td>\n",
       "      <td>My Circuit from 2024-07-18 18:32:34.164662-Qua...</td>\n",
       "      <td>My Circuit from 2024-07-18 18:32:34.164662-Qua...</td>\n",
       "      <td>2b9cec89-7fe2-4339-b050-ae0d30b5b37d</td>\n",
       "    </tr>\n",
       "    <tr>\n",
       "      <th>5</th>\n",
       "      <td>AutoRebase</td>\n",
       "      <td>My Circuit from 2024-07-18 18:32:34.164662-Qua...</td>\n",
       "      <td>My Circuit from 2024-07-18 18:32:34.164662-Qua...</td>\n",
       "      <td>fde872fc-5120-4e18-a8f7-71ce00ca9695</td>\n",
       "    </tr>\n",
       "    <tr>\n",
       "      <th>6</th>\n",
       "      <td>ZZPhaseToRz</td>\n",
       "      <td>My Circuit from 2024-07-18 18:32:34.164662-Qua...</td>\n",
       "      <td>My Circuit from 2024-07-18 18:32:34.164662-Qua...</td>\n",
       "      <td>f16c4130-1de1-4e66-9506-6b8354d060ff</td>\n",
       "    </tr>\n",
       "    <tr>\n",
       "      <th>7</th>\n",
       "      <td>RemoveRedundancies</td>\n",
       "      <td>My Circuit from 2024-07-18 18:32:34.164662-Qua...</td>\n",
       "      <td>My Circuit from 2024-07-18 18:32:34.164662-Qua...</td>\n",
       "      <td>11d32f91-e88c-4279-a3d1-c14f4b124875</td>\n",
       "    </tr>\n",
       "    <tr>\n",
       "      <th>8</th>\n",
       "      <td>AutoSquash</td>\n",
       "      <td>My Circuit from 2024-07-18 18:32:34.164662-Qua...</td>\n",
       "      <td>My Circuit from 2024-07-18 18:32:34.164662-Qua...</td>\n",
       "      <td>e71d05dd-31cf-4b40-b5a6-fe885ec1058f</td>\n",
       "    </tr>\n",
       "    <tr>\n",
       "      <th>9</th>\n",
       "      <td>RemoveRedundancies</td>\n",
       "      <td>My Circuit from 2024-07-18 18:32:34.164662-Qua...</td>\n",
       "      <td>My Circuit from 2024-07-18 18:32:34.164662-Qua...</td>\n",
       "      <td>45f6a322-aad8-4d5d-a9d0-ae4f5897fb87</td>\n",
       "    </tr>\n",
       "    <tr>\n",
       "      <th>10</th>\n",
       "      <td>FlattenRelabelRegistersPass</td>\n",
       "      <td>My Circuit from 2024-07-18 18:32:34.164662-Qua...</td>\n",
       "      <td>My Circuit from 2024-07-18 18:32:34.164662-Qua...</td>\n",
       "      <td>0e939356-e5a1-41de-a3cb-4f0594c9fe57</td>\n",
       "    </tr>\n",
       "  </tbody>\n",
       "</table>\n",
       "</div>"
      ],
      "text/plain": [
       "                      pass name  \\\n",
       "0                DecomposeBoxes   \n",
       "1                    CustomPass   \n",
       "2                  SynthesiseTK   \n",
       "3                  NormaliseTK2   \n",
       "4                  DecomposeTK2   \n",
       "5                    AutoRebase   \n",
       "6                   ZZPhaseToRz   \n",
       "7            RemoveRedundancies   \n",
       "8                    AutoSquash   \n",
       "9            RemoveRedundancies   \n",
       "10  FlattenRelabelRegistersPass   \n",
       "\n",
       "                                                input  \\\n",
       "0          My Circuit from 2024-07-18 18:32:34.164662   \n",
       "1          My Circuit from 2024-07-18 18:32:34.164662   \n",
       "2          My Circuit from 2024-07-18 18:32:34.164662   \n",
       "3   My Circuit from 2024-07-18 18:32:34.164662-Qua...   \n",
       "4   My Circuit from 2024-07-18 18:32:34.164662-Qua...   \n",
       "5   My Circuit from 2024-07-18 18:32:34.164662-Qua...   \n",
       "6   My Circuit from 2024-07-18 18:32:34.164662-Qua...   \n",
       "7   My Circuit from 2024-07-18 18:32:34.164662-Qua...   \n",
       "8   My Circuit from 2024-07-18 18:32:34.164662-Qua...   \n",
       "9   My Circuit from 2024-07-18 18:32:34.164662-Qua...   \n",
       "10  My Circuit from 2024-07-18 18:32:34.164662-Qua...   \n",
       "\n",
       "                                               output  \\\n",
       "0          My Circuit from 2024-07-18 18:32:34.164662   \n",
       "1          My Circuit from 2024-07-18 18:32:34.164662   \n",
       "2   My Circuit from 2024-07-18 18:32:34.164662-Qua...   \n",
       "3   My Circuit from 2024-07-18 18:32:34.164662-Qua...   \n",
       "4   My Circuit from 2024-07-18 18:32:34.164662-Qua...   \n",
       "5   My Circuit from 2024-07-18 18:32:34.164662-Qua...   \n",
       "6   My Circuit from 2024-07-18 18:32:34.164662-Qua...   \n",
       "7   My Circuit from 2024-07-18 18:32:34.164662-Qua...   \n",
       "8   My Circuit from 2024-07-18 18:32:34.164662-Qua...   \n",
       "9   My Circuit from 2024-07-18 18:32:34.164662-Qua...   \n",
       "10  My Circuit from 2024-07-18 18:32:34.164662-Qua...   \n",
       "\n",
       "                                      id  \n",
       "0   668ac4bf-bca3-4ef4-a43d-3c8802fcce00  \n",
       "1   bdb7058d-8909-4403-be2e-5ce9050406f9  \n",
       "2   5b8f907a-2390-423f-8073-a108aa7ad38e  \n",
       "3   45e069bf-467e-466c-824e-4f48fb51d1bd  \n",
       "4   2b9cec89-7fe2-4339-b050-ae0d30b5b37d  \n",
       "5   fde872fc-5120-4e18-a8f7-71ce00ca9695  \n",
       "6   f16c4130-1de1-4e66-9506-6b8354d060ff  \n",
       "7   11d32f91-e88c-4279-a3d1-c14f4b124875  \n",
       "8   e71d05dd-31cf-4b40-b5a6-fe885ec1058f  \n",
       "9   45f6a322-aad8-4d5d-a9d0-ae4f5897fb87  \n",
       "10  0e939356-e5a1-41de-a3cb-4f0594c9fe57  "
      ]
     },
     "execution_count": 8,
     "metadata": {},
     "output_type": "execute_result"
    }
   ],
   "source": [
    "# View the compilation passes that we applied when compiling the circuit\n",
    "compile_job_result_refs[0].get_passes().df()"
   ]
  },
  {
   "cell_type": "markdown",
   "metadata": {},
   "source": [
    "## Execute Jobs\n",
    "\n",
    "These jobs represent the execution of one or more circuit(s) on a quantum computer or simulator."
   ]
  },
  {
   "cell_type": "code",
   "execution_count": 13,
   "metadata": {},
   "outputs": [
    {
     "data": {
      "text/plain": [
       "Counter({(0, 0): 100})"
      ]
     },
     "execution_count": 13,
     "metadata": {},
     "output_type": "execute_result"
    }
   ],
   "source": [
    "# Execute the circuit (blocking), to receive a list of pytket BackendResults\n",
    "\n",
    "results = qnx.execute(\n",
    "    circuits=compiled_circuits,\n",
    "    name=f\"{my_job_name_prefix}_execute\",\n",
    "    n_shots=[100]* len(compiled_circuits),\n",
    "    backend_config=qnx.QuantinuumConfig(device_name=\"H1-1SC\"),\n",
    "    project=my_project_ref,\n",
    ")\n",
    "\n",
    "results[0].get_counts()"
   ]
  },
  {
   "cell_type": "code",
   "execution_count": 14,
   "metadata": {},
   "outputs": [
    {
     "data": {
      "text/html": [
       "<div>\n",
       "<style scoped>\n",
       "    .dataframe tbody tr th:only-of-type {\n",
       "        vertical-align: middle;\n",
       "    }\n",
       "\n",
       "    .dataframe tbody tr th {\n",
       "        vertical-align: top;\n",
       "    }\n",
       "\n",
       "    .dataframe thead th {\n",
       "        text-align: right;\n",
       "    }\n",
       "</style>\n",
       "<table border=\"1\" class=\"dataframe\">\n",
       "  <thead>\n",
       "    <tr style=\"text-align: right;\">\n",
       "      <th></th>\n",
       "      <th>name</th>\n",
       "      <th>description</th>\n",
       "      <th>created</th>\n",
       "      <th>modified</th>\n",
       "      <th>project</th>\n",
       "      <th>id</th>\n",
       "    </tr>\n",
       "  </thead>\n",
       "  <tbody>\n",
       "    <tr>\n",
       "      <th>0</th>\n",
       "      <td>2024-07-18 18:35:03.915748_execute_async</td>\n",
       "      <td></td>\n",
       "      <td>2024-07-18 17:35:35.971074+00:00</td>\n",
       "      <td>2024-07-18 17:35:35.971074+00:00</td>\n",
       "      <td>My Nexus Project</td>\n",
       "      <td>08686fa0-087f-465f-a785-7e2ee3864b37</td>\n",
       "    </tr>\n",
       "  </tbody>\n",
       "</table>\n",
       "</div>"
      ],
      "text/plain": [
       "                                       name description  \\\n",
       "0  2024-07-18 18:35:03.915748_execute_async               \n",
       "\n",
       "                           created                         modified  \\\n",
       "0 2024-07-18 17:35:35.971074+00:00 2024-07-18 17:35:35.971074+00:00   \n",
       "\n",
       "            project                                    id  \n",
       "0  My Nexus Project  08686fa0-087f-465f-a785-7e2ee3864b37  "
      ]
     },
     "execution_count": 14,
     "metadata": {},
     "output_type": "execute_result"
    }
   ],
   "source": [
    "# Run in an asyncronous manner to receieve a JobRef\n",
    "\n",
    "execute_job_ref = qnx.start_execute_job(\n",
    "    circuits=compiled_circuits,\n",
    "    name=f\"{my_job_name_prefix}_execute_async\",\n",
    "    n_shots=[100]* len(compiled_circuits),\n",
    "    backend_config=qnx.QuantinuumConfig(device_name=\"H1-1SC\"),\n",
    "    project=my_project_ref,\n",
    ")\n",
    "\n",
    "# Block until the job is complete (or perform other tasks while we wait)\n",
    "qnx.jobs.wait_for(execute_job_ref)\n",
    "\n",
    "# Retrieve a ExecutionResultRef for every Circuit that was run\n",
    "execute_job_result_refs = qnx.jobs.results(execute_job_ref)\n",
    "\n",
    "execute_job_result_refs.df()"
   ]
  },
  {
   "cell_type": "code",
   "execution_count": 15,
   "metadata": {},
   "outputs": [
    {
     "data": {
      "text/plain": [
       "CircuitRef(id=UUID('f9168b6b-ca8e-4b68-b624-2c2fb336c7fd'), annotations=Annotations(name='My Circuit from 2024-07-18 18:32:34.164662-QuantinuumBackend-final', description=None, properties=OrderedDict(), created=datetime.datetime(2024, 7, 18, 17, 32, 59, 616512, tzinfo=TzInfo(UTC)), modified=datetime.datetime(2024, 7, 18, 17, 32, 59, 616512, tzinfo=TzInfo(UTC))), project=ProjectRef(id=UUID('e1e53608-5e73-4b96-b15f-96e727f61e47'), annotations=Annotations(name='My Nexus Project', description=None, properties=OrderedDict(), created=datetime.datetime(2024, 7, 18, 17, 24, 2, 870970, tzinfo=TzInfo(UTC)), modified=datetime.datetime(2024, 7, 18, 17, 24, 2, 870970, tzinfo=TzInfo(UTC))), contents_modified=datetime.datetime(2024, 7, 18, 17, 36, 3, 844973, tzinfo=TzInfo(UTC)), type='ProjectRef'), type='CircuitRef')"
      ]
     },
     "execution_count": 15,
     "metadata": {},
     "output_type": "execute_result"
    }
   ],
   "source": [
    "# Get the input CircuitRef\n",
    "execute_job_result_refs[0].get_input()"
   ]
  },
  {
   "cell_type": "code",
   "execution_count": 16,
   "metadata": {},
   "outputs": [
    {
     "data": {
      "text/plain": [
       "Counter({(0, 0): 100})"
      ]
     },
     "execution_count": 16,
     "metadata": {},
     "output_type": "execute_result"
    }
   ],
   "source": [
    "# Get the results of the execution\n",
    "result = execute_job_result_refs[0].download_result()\n",
    "\n",
    "result.get_counts()"
   ]
  },
  {
   "cell_type": "code",
   "execution_count": 17,
   "metadata": {},
   "outputs": [
    {
     "data": {
      "text/plain": [
       "BackendInfo(name='QuantinuumBackend snapshot', device_name='H1-1SC', version='0.36.0', architecture=<tket::FullyConnected, nodes=20>, gate_set={<OpType.Measure: 66>, <OpType.Reset: 68>, <OpType.Rz: 36>, <OpType.PhasedX: 71>, <OpType.Barrier: 8>, <OpType.ZZMax: 73>, <OpType.ClassicalExpBox: 107>, <OpType.ZZPhase: 76>, <OpType.TK2: 44>, <OpType.WASM: 14>, <OpType.SetBits: 15>, <OpType.CopyBits: 16>, <OpType.RangePredicate: 17>, <OpType.ExplicitPredicate: 18>, <OpType.ExplicitModifier: 19>, <OpType.MultiBit: 20>}, n_cl_reg=0, supports_fast_feedforward=True, supports_reset=True, supports_midcircuit_measurement=True, all_node_gate_errors=None, all_edge_gate_errors=None, all_readout_errors=None, averaged_node_gate_errors=None, averaged_edge_gate_errors=None, averaged_readout_errors=None, misc={'max_n_shots': 10000, 'options': {}, 'system_type': 'syntax checker', 'wasm': True})"
      ]
     },
     "execution_count": 17,
     "metadata": {},
     "output_type": "execute_result"
    }
   ],
   "source": [
    "# Get the pytket BackendInfo to see the state of the device\n",
    "execute_job_result_refs[0].download_backend_info()"
   ]
  },
  {
   "cell_type": "markdown",
   "metadata": {},
   "source": [
    "### Managing Jobs\n",
    "\n",
    "You can use the API to check on jobs, but also perform operations like cancelling or retrying."
   ]
  },
  {
   "cell_type": "code",
   "execution_count": 18,
   "metadata": {},
   "outputs": [
    {
     "data": {
      "text/plain": [
       "<qnexus.client.nexus_iterator.NexusIterator at 0x303b0d1d0>"
      ]
     },
     "execution_count": 18,
     "metadata": {},
     "output_type": "execute_result"
    }
   ],
   "source": [
    "# View your current jobs that are in the SUBMITTED state\n",
    "qnx.jobs.get_all(job_status=[qnx.jobs.JobStatusEnum.SUBMITTED])"
   ]
  },
  {
   "cell_type": "code",
   "execution_count": null,
   "metadata": {},
   "outputs": [],
   "source": [
    "other_execute_job_ref = qnx.start_execute_job(\n",
    "    circuits=compiled_circuits,\n",
    "    name=f\"{my_job_name_prefix}_execute_other\",\n",
    "    n_shots=[100]* len(compiled_circuits),\n",
    "    backend_config=qnx.QuantinuumConfig(device_name=\"H1-1SC\"),\n",
    "    project=my_project_ref,\n",
    ")"
   ]
  },
  {
   "cell_type": "code",
   "execution_count": null,
   "metadata": {},
   "outputs": [],
   "source": [
    "# Cancel the job\n",
    "qnx.jobs.cancel(other_execute_job_ref)"
   ]
  },
  {
   "cell_type": "code",
   "execution_count": null,
   "metadata": {},
   "outputs": [],
   "source": [
    "# Retry the job\n",
    "qnx.jobs.retry_submission(\n",
    "    other_execute_job_ref,\n",
    "    retry_status=[qnx.jobs.StatusEnum.CANCELLED],\n",
    "    remote_retry_strategy=qnx.jobs.RemoteRetryStrategy.FULL_RESTART)"
   ]
  }
 ],
 "metadata": {
  "kernelspec": {
   "display_name": "qnexus-Rou6F43i-py3.11",
   "language": "python",
   "name": "python3"
  },
  "language_info": {
   "codemirror_mode": {
    "name": "ipython",
    "version": 3
   },
   "file_extension": ".py",
   "mimetype": "text/x-python",
   "name": "python",
   "nbconvert_exporter": "python",
   "pygments_lexer": "ipython3",
   "version": "3.11.8"
  }
 },
 "nbformat": 4,
 "nbformat_minor": 2
}
