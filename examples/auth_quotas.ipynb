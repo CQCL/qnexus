{
 "cells": [
  {
   "cell_type": "markdown",
   "metadata": {},
   "source": [
    "# Authentication & Quotas\n",
    "\n",
    "Quantinuum Nexus API usage requires you to have valid authentication tokens. You can obtain these by logging in with `qnexus`. \n",
    "\n",
    "This isn't required in the Nexus Lab, where authentication is automatically taken care of."
   ]
  },
  {
   "cell_type": "code",
   "execution_count": 1,
   "metadata": {},
   "outputs": [],
   "source": [
    "import qnexus as qnx"
   ]
  },
  {
   "cell_type": "markdown",
   "metadata": {},
   "source": [
    "`qnexus` provides the following ways of logging in.\n",
    "\n",
    "\n",
    "```python\n",
    "# Login with the browser\n",
    "qnx.login()\n",
    "```\n",
    "\n",
    "```python\n",
    "# Login by passing your credentials\n",
    "qnx.login_with_credentials()\n",
    "```"
   ]
  },
  {
   "cell_type": "markdown",
   "metadata": {},
   "source": [
    "You'll now be authenticated and can use `qnexus`. \n",
    "\n",
    "Please note that in order to collaborate on Projects with others, you'll also need to have appropriate Role assignments set, see [Teams & Roles](./teams_roles.ipynb)\n",
    "\n",
    "\n",
    "```python\n",
    "# Logout\n",
    "qnx.logout()\n",
    "```\n"
   ]
  },
  {
   "cell_type": "markdown",
   "metadata": {},
   "source": [
    "## Quotas\n",
    "\n",
    "In addition to being authenticated, some operations in Nexus require you to have an appropriate `Quota`. These operations include:\n",
    "\n",
    "- using the Nexus Lab\n",
    "- compiling `Circuit`s on Nexus\n",
    "- simulating `Circuit` execution on Nexus\n",
    "- storage of Project data in the Nexus Database\n",
    "\n",
    "Your simulation, compilation and Nexus Lab quota will renew each month, but your database usage quota will not renew.\n",
    "\n",
    "In addition, if you have access to Quantinuum H-series devices you'll need to have HQC."
   ]
  },
  {
   "cell_type": "code",
   "execution_count": 2,
   "metadata": {},
   "outputs": [
    {
     "data": {
      "text/html": [
       "<div>\n",
       "<style scoped>\n",
       "    .dataframe tbody tr th:only-of-type {\n",
       "        vertical-align: middle;\n",
       "    }\n",
       "\n",
       "    .dataframe tbody tr th {\n",
       "        vertical-align: top;\n",
       "    }\n",
       "\n",
       "    .dataframe thead th {\n",
       "        text-align: right;\n",
       "    }\n",
       "</style>\n",
       "<table border=\"1\" class=\"dataframe\">\n",
       "  <thead>\n",
       "    <tr style=\"text-align: right;\">\n",
       "      <th></th>\n",
       "      <th>name</th>\n",
       "      <th>description</th>\n",
       "      <th>usage</th>\n",
       "      <th>quota</th>\n",
       "    </tr>\n",
       "  </thead>\n",
       "  <tbody>\n",
       "    <tr>\n",
       "      <th>0</th>\n",
       "      <td>simulation</td>\n",
       "      <td>Total CPU running time, in seconds.</td>\n",
       "      <td>24727.132807</td>\n",
       "      <td>No quota set for user</td>\n",
       "    </tr>\n",
       "    <tr>\n",
       "      <th>1</th>\n",
       "      <td>database_usage</td>\n",
       "      <td>Total megabytes used to store scientific data.</td>\n",
       "      <td>765.075839</td>\n",
       "      <td>No quota set for user</td>\n",
       "    </tr>\n",
       "    <tr>\n",
       "      <th>2</th>\n",
       "      <td>jupyterhub</td>\n",
       "      <td>Total Jupyterhub notebook server running time,...</td>\n",
       "      <td>0.000000</td>\n",
       "      <td>No quota set for user</td>\n",
       "    </tr>\n",
       "    <tr>\n",
       "      <th>3</th>\n",
       "      <td>compilation</td>\n",
       "      <td>Total CPU running time, in seconds.</td>\n",
       "      <td>112.141179</td>\n",
       "      <td>No quota set for user</td>\n",
       "    </tr>\n",
       "  </tbody>\n",
       "</table>\n",
       "</div>"
      ],
      "text/plain": [
       "             name                                        description  \\\n",
       "0      simulation                Total CPU running time, in seconds.   \n",
       "1  database_usage     Total megabytes used to store scientific data.   \n",
       "2      jupyterhub  Total Jupyterhub notebook server running time,...   \n",
       "3     compilation                Total CPU running time, in seconds.   \n",
       "\n",
       "          usage                  quota  \n",
       "0  24727.132807  No quota set for user  \n",
       "1    765.075839  No quota set for user  \n",
       "2      0.000000  No quota set for user  \n",
       "3    112.141179  No quota set for user  "
      ]
     },
     "execution_count": 2,
     "metadata": {},
     "output_type": "execute_result"
    }
   ],
   "source": [
    "# See your available quotas (including your usage)\n",
    "qnx.quotas.get_all().df()\n"
   ]
  },
  {
   "cell_type": "code",
   "execution_count": 3,
   "metadata": {},
   "outputs": [
    {
     "name": "stdout",
     "output_type": "stream",
     "text": [
      "Compilation quota OK!\n"
     ]
    }
   ],
   "source": [
    "# Check if you have required quota or not\n",
    "if qnx.quotas.check_quota(name=\"compilation\"):\n",
    "    print(\"Compilation quota OK!\")\n",
    "else:\n",
    "    print(\"No more compilation quota!\")\n"
   ]
  }
 ],
 "metadata": {
  "kernelspec": {
   "display_name": "qnexus-Rou6F43i-py3.11",
   "language": "python",
   "name": "python3"
  },
  "language_info": {
   "codemirror_mode": {
    "name": "ipython",
    "version": 3
   },
   "file_extension": ".py",
   "mimetype": "text/x-python",
   "name": "python",
   "nbconvert_exporter": "python",
   "pygments_lexer": "ipython3",
   "version": "3.11.8"
  }
 },
 "nbformat": 4,
 "nbformat_minor": 2
}
