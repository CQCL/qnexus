{
 "cells": [
  {
   "cell_type": "markdown",
   "metadata": {},
   "source": [
    "# Projects & Properties & Context Management\n",
    "\n",
    "Nexus provides several ways to organize your data, store custom parameters and integrate these easily into your workflows.\n",
    "\n",
    "- Projects can be thought of as a 'virtual container' for your workflows and data.\n",
    "\n",
    "- Properties are a place to store additional custom metadata or scientific parameters. Properties are defined on a Project, and given values for data within that project.\n"
   ]
  },
  {
   "cell_type": "code",
   "execution_count": 1,
   "metadata": {},
   "outputs": [],
   "source": [
    "from datetime import datetime\n",
    "import qnexus as qnx\n",
    "\n",
    "from pytket import Circuit"
   ]
  },
  {
   "cell_type": "code",
   "execution_count": 2,
   "metadata": {},
   "outputs": [
    {
     "data": {
      "text/html": [
       "<div>\n",
       "<style scoped>\n",
       "    .dataframe tbody tr th:only-of-type {\n",
       "        vertical-align: middle;\n",
       "    }\n",
       "\n",
       "    .dataframe tbody tr th {\n",
       "        vertical-align: top;\n",
       "    }\n",
       "\n",
       "    .dataframe thead th {\n",
       "        text-align: right;\n",
       "    }\n",
       "</style>\n",
       "<table border=\"1\" class=\"dataframe\">\n",
       "  <thead>\n",
       "    <tr style=\"text-align: right;\">\n",
       "      <th></th>\n",
       "      <th>name</th>\n",
       "      <th>description</th>\n",
       "      <th>created</th>\n",
       "      <th>modified</th>\n",
       "      <th>contents_modified</th>\n",
       "      <th>id</th>\n",
       "    </tr>\n",
       "  </thead>\n",
       "  <tbody>\n",
       "    <tr>\n",
       "      <th>0</th>\n",
       "      <td>My Nexus Project from 2024-07-18 18:39:04.851887</td>\n",
       "      <td>None</td>\n",
       "      <td>2024-07-18 17:39:06.042915+00:00</td>\n",
       "      <td>2024-07-18 17:39:06.042915+00:00</td>\n",
       "      <td>2024-07-18 17:39:06.045780+00:00</td>\n",
       "      <td>51c3d3a0-9540-460a-819b-3e7c489cae56</td>\n",
       "    </tr>\n",
       "  </tbody>\n",
       "</table>\n",
       "</div>"
      ],
      "text/plain": [
       "                                               name description  \\\n",
       "0  My Nexus Project from 2024-07-18 18:39:04.851887        None   \n",
       "\n",
       "                           created                         modified  \\\n",
       "0 2024-07-18 17:39:06.042915+00:00 2024-07-18 17:39:06.042915+00:00   \n",
       "\n",
       "                 contents_modified                                    id  \n",
       "0 2024-07-18 17:39:06.045780+00:00  51c3d3a0-9540-460a-819b-3e7c489cae56  "
      ]
     },
     "execution_count": 2,
     "metadata": {},
     "output_type": "execute_result"
    }
   ],
   "source": [
    "# Get a ProjectRef \n",
    "my_project_ref = qnx.projects.create(name=f\"My Project from {datetime.now()}\")\n",
    "\n",
    "# Show basic information about the project\n",
    "my_project_ref.df()"
   ]
  },
  {
   "cell_type": "code",
   "execution_count": 3,
   "metadata": {},
   "outputs": [
    {
     "data": {
      "text/html": [
       "<div>\n",
       "<style scoped>\n",
       "    .dataframe tbody tr th:only-of-type {\n",
       "        vertical-align: middle;\n",
       "    }\n",
       "\n",
       "    .dataframe tbody tr th {\n",
       "        vertical-align: top;\n",
       "    }\n",
       "\n",
       "    .dataframe thead th {\n",
       "        text-align: right;\n",
       "    }\n",
       "</style>\n",
       "<table border=\"1\" class=\"dataframe\">\n",
       "  <thead>\n",
       "    <tr style=\"text-align: right;\">\n",
       "      <th></th>\n",
       "      <th>project</th>\n",
       "      <th>total_jobs</th>\n",
       "      <th>pending_jobs</th>\n",
       "      <th>cancelled_jobs</th>\n",
       "      <th>errored_jobs</th>\n",
       "      <th>completed_jobs</th>\n",
       "    </tr>\n",
       "  </thead>\n",
       "  <tbody>\n",
       "    <tr>\n",
       "      <th>0</th>\n",
       "      <td>My Nexus Project from 2024-07-18 18:39:04.851887</td>\n",
       "      <td>0</td>\n",
       "      <td>0</td>\n",
       "      <td>0</td>\n",
       "      <td>0</td>\n",
       "      <td>0</td>\n",
       "    </tr>\n",
       "  </tbody>\n",
       "</table>\n",
       "</div>"
      ],
      "text/plain": [
       "                                            project  total_jobs  pending_jobs  \\\n",
       "0  My Nexus Project from 2024-07-18 18:39:04.851887           0             0   \n",
       "\n",
       "   cancelled_jobs  errored_jobs  completed_jobs  \n",
       "0               0             0               0  "
      ]
     },
     "execution_count": 3,
     "metadata": {},
     "output_type": "execute_result"
    }
   ],
   "source": [
    "# Get a summary of the project as a DataFrame (shows Job statuses)\n",
    "qnx.projects.summarize(my_project_ref)"
   ]
  },
  {
   "cell_type": "code",
   "execution_count": 4,
   "metadata": {},
   "outputs": [],
   "source": [
    "# Lets add a custom property \n",
    "\n",
    "qnx.projects.add_property(\n",
    "    name=\"molecule_type\",\n",
    "    property_type=\"string\",\n",
    "    project=my_project_ref,\n",
    "    description=\"The type of molecule being studied\",\n",
    ")\n",
    "\n",
    "qnx.projects.add_property(\n",
    "    name=\"iteration\",\n",
    "    property_type=\"int\",\n",
    "    project=my_project_ref,\n",
    "    description=\"The iteration number of the experiment\",\n",
    ")"
   ]
  },
  {
   "cell_type": "code",
   "execution_count": 5,
   "metadata": {},
   "outputs": [
    {
     "data": {
      "text/html": [
       "<div>\n",
       "<style scoped>\n",
       "    .dataframe tbody tr th:only-of-type {\n",
       "        vertical-align: middle;\n",
       "    }\n",
       "\n",
       "    .dataframe tbody tr th {\n",
       "        vertical-align: top;\n",
       "    }\n",
       "\n",
       "    .dataframe thead th {\n",
       "        text-align: right;\n",
       "    }\n",
       "</style>\n",
       "<table border=\"1\" class=\"dataframe\">\n",
       "  <thead>\n",
       "    <tr style=\"text-align: right;\">\n",
       "      <th></th>\n",
       "      <th>name</th>\n",
       "      <th>description</th>\n",
       "      <th>created</th>\n",
       "      <th>modified</th>\n",
       "      <th>property_type</th>\n",
       "      <th>required</th>\n",
       "      <th>color</th>\n",
       "    </tr>\n",
       "  </thead>\n",
       "  <tbody>\n",
       "    <tr>\n",
       "      <th>0</th>\n",
       "      <td>molecule_type</td>\n",
       "      <td>The type of molecule being studied</td>\n",
       "      <td>2024-07-18 17:39:06.570100+00:00</td>\n",
       "      <td>2024-07-18 17:39:06.570100+00:00</td>\n",
       "      <td>string</td>\n",
       "      <td>False</td>\n",
       "      <td>#d55e00</td>\n",
       "    </tr>\n",
       "    <tr>\n",
       "      <th>1</th>\n",
       "      <td>iteration</td>\n",
       "      <td>The iteration number of the experiment</td>\n",
       "      <td>2024-07-18 17:39:06.757608+00:00</td>\n",
       "      <td>2024-07-18 17:39:06.757608+00:00</td>\n",
       "      <td>int</td>\n",
       "      <td>False</td>\n",
       "      <td>#cc79a7</td>\n",
       "    </tr>\n",
       "  </tbody>\n",
       "</table>\n",
       "</div>"
      ],
      "text/plain": [
       "            name                             description  \\\n",
       "0  molecule_type      The type of molecule being studied   \n",
       "1      iteration  The iteration number of the experiment   \n",
       "\n",
       "                           created                         modified  \\\n",
       "0 2024-07-18 17:39:06.570100+00:00 2024-07-18 17:39:06.570100+00:00   \n",
       "1 2024-07-18 17:39:06.757608+00:00 2024-07-18 17:39:06.757608+00:00   \n",
       "\n",
       "  property_type  required    color  \n",
       "0        string     False  #d55e00  \n",
       "1           int     False  #cc79a7  "
      ]
     },
     "execution_count": 5,
     "metadata": {},
     "output_type": "execute_result"
    }
   ],
   "source": [
    "# View the properties defined on the project as a DataFrame\n",
    "\n",
    "qnx.projects.get_properties(project=my_project_ref).df()"
   ]
  },
  {
   "cell_type": "code",
   "execution_count": 6,
   "metadata": {},
   "outputs": [
    {
     "data": {
      "text/html": [
       "<div>\n",
       "<style scoped>\n",
       "    .dataframe tbody tr th:only-of-type {\n",
       "        vertical-align: middle;\n",
       "    }\n",
       "\n",
       "    .dataframe tbody tr th {\n",
       "        vertical-align: top;\n",
       "    }\n",
       "\n",
       "    .dataframe thead th {\n",
       "        text-align: right;\n",
       "    }\n",
       "</style>\n",
       "<table border=\"1\" class=\"dataframe\">\n",
       "  <thead>\n",
       "    <tr style=\"text-align: right;\">\n",
       "      <th></th>\n",
       "      <th>name</th>\n",
       "      <th>description</th>\n",
       "      <th>created</th>\n",
       "      <th>modified</th>\n",
       "      <th>molecule_type</th>\n",
       "      <th>project</th>\n",
       "      <th>id</th>\n",
       "    </tr>\n",
       "  </thead>\n",
       "  <tbody>\n",
       "    <tr>\n",
       "      <th>0</th>\n",
       "      <td>My Circuit from 2024-07-18 18:39:07.851679</td>\n",
       "      <td>None</td>\n",
       "      <td>2024-07-18 17:39:08.040672+00:00</td>\n",
       "      <td>2024-07-18 17:39:08.040672+00:00</td>\n",
       "      <td>H2</td>\n",
       "      <td>My Nexus Project from 2024-07-18 18:39:04.851887</td>\n",
       "      <td>b1587e3d-f522-4145-89eb-11013ef970e8</td>\n",
       "    </tr>\n",
       "  </tbody>\n",
       "</table>\n",
       "</div>"
      ],
      "text/plain": [
       "                                         name description  \\\n",
       "0  My Circuit from 2024-07-18 18:39:07.851679        None   \n",
       "\n",
       "                           created                         modified  \\\n",
       "0 2024-07-18 17:39:08.040672+00:00 2024-07-18 17:39:08.040672+00:00   \n",
       "\n",
       "  molecule_type                                           project  \\\n",
       "0            H2  My Nexus Project from 2024-07-18 18:39:04.851887   \n",
       "\n",
       "                                     id  \n",
       "0  b1587e3d-f522-4145-89eb-11013ef970e8  "
      ]
     },
     "execution_count": 6,
     "metadata": {},
     "output_type": "execute_result"
    }
   ],
   "source": [
    "# We can then define property values on data we create within the project\n",
    "\n",
    "my_circuit_ref = qnx.circuits.upload(\n",
    "    name=f\"My Circuit from {datetime.now()}\",\n",
    "    circuit = Circuit(2).ZZPhase(0.5, 0, 1).measure_all(),\n",
    "    project = my_project_ref,\n",
    "    properties={\"molecule_type\": \"H2\"},\n",
    ")\n",
    "\n",
    "my_circuit_ref.df()"
   ]
  },
  {
   "cell_type": "markdown",
   "metadata": {},
   "source": [
    "If you submit a Job to Nexus with defined property values, these values will be propogated to the outputs of the Job."
   ]
  },
  {
   "cell_type": "markdown",
   "metadata": {},
   "source": [
    "## Context Management\n",
    "\n",
    "If we know we'll be working within a project or with a set of defined property values we can provide these in a system of context management."
   ]
  },
  {
   "cell_type": "code",
   "execution_count": 8,
   "metadata": {},
   "outputs": [],
   "source": [
    "# Via a typical context manager\n",
    "with qnx.context.using_project(my_project_ref):\n",
    "    # Show all circuits  in the project\n",
    "    qnx.circuits.get_all().df()\n",
    "\n",
    "    # These values can be overridden, with parameters taking precedence over context\n",
    "    my_circuit_ref = qnx.circuits.upload(\n",
    "        name=f\"My Circuit from {datetime.now()}\",\n",
    "        circuit = Circuit(2).ZZPhase(0.5, 0, 1).measure_all(),\n",
    "        project=qnx.projects.create(name=f\"My other Nexus Project from {datetime.now()}\")\n",
    "    )\n",
    "\n",
    "    with qnx.context.using_properties(molecule_type = \"H2\", iteration = 0):\n",
    "\n",
    "        # Create a circuit within the project and with defined property values\n",
    "        my_circuit_ref = qnx.circuits.upload(\n",
    "            name=f\"My Circuit from {datetime.now()}\",\n",
    "            circuit = Circuit(2).ZZPhase(0.5, 0, 1).measure_all(),\n",
    "        )\n",
    "\n",
    "        # Property parameters will be the union of the parameters and context (parameters take precedence)\n",
    "        my_circuit_ref = qnx.circuits.upload(\n",
    "            name=f\"My Circuit from {datetime.now()}\",\n",
    "            circuit = Circuit(2).ZZPhase(0.5, 0, 1).measure_all(),\n",
    "            properties={\"iteration\": 1},\n",
    "        )\n"
   ]
  },
  {
   "cell_type": "code",
   "execution_count": 9,
   "metadata": {},
   "outputs": [],
   "source": [
    "# Values can also be set in the global context\n",
    "\n",
    "current_project_context = qnx.context.set_active_project_token(my_project_ref)\n",
    "\n",
    "# Deactivate the project context\n",
    "\n",
    "qnx.context.deactivate_project(current_project_context)\n"
   ]
  }
 ],
 "metadata": {
  "kernelspec": {
   "display_name": "qnexus-Rou6F43i-py3.11",
   "language": "python",
   "name": "python3"
  },
  "language_info": {
   "codemirror_mode": {
    "name": "ipython",
    "version": 3
   },
   "file_extension": ".py",
   "mimetype": "text/x-python",
   "name": "python",
   "nbconvert_exporter": "python",
   "pygments_lexer": "ipython3",
   "version": "3.11.8"
  }
 },
 "nbformat": 4,
 "nbformat_minor": 2
}
