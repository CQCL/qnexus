{
 "cells": [
  {
   "cell_type": "markdown",
   "metadata": {},
   "source": [
    "# Refs & Nexus Database\n",
    "\n",
    "\n",
    "One of the core features of Quantinuum Nexus is a database for usefully structuring your scientific data.\n",
    "\n",
    "`qnexus` aims to provide a useful way of interacting with this database through:\n",
    "\n",
    "- `Ref` objects that can be used as a proxy object to 'reference' data like Circuits or Projects.\n",
    "\n",
    "- `get` functions that take filters and try to return a single matching `Ref` \n",
    "\n",
    "- `get_all` functions that take filters and return `NexusIterator` objects for more than one matching`Ref`.  "
   ]
  },
  {
   "cell_type": "code",
   "execution_count": 2,
   "metadata": {},
   "outputs": [],
   "source": [
    "from datetime import datetime, timedelta\n",
    "\n",
    "import qnexus as qnx\n",
    "\n",
    "from pytket import Circuit"
   ]
  },
  {
   "cell_type": "code",
   "execution_count": 4,
   "metadata": {},
   "outputs": [],
   "source": [
    "# Get a 'ProjectRef' to a Project in Nexus, creating it if it doesn't exist\n",
    "my_project_ref = qnx.projects.get_or_create(name=\"My Project\")"
   ]
  },
  {
   "cell_type": "code",
   "execution_count": 5,
   "metadata": {},
   "outputs": [
    {
     "data": {
      "text/html": [
       "<div>\n",
       "<style scoped>\n",
       "    .dataframe tbody tr th:only-of-type {\n",
       "        vertical-align: middle;\n",
       "    }\n",
       "\n",
       "    .dataframe tbody tr th {\n",
       "        vertical-align: top;\n",
       "    }\n",
       "\n",
       "    .dataframe thead th {\n",
       "        text-align: right;\n",
       "    }\n",
       "</style>\n",
       "<table border=\"1\" class=\"dataframe\">\n",
       "  <thead>\n",
       "    <tr style=\"text-align: right;\">\n",
       "      <th></th>\n",
       "      <th>name</th>\n",
       "      <th>description</th>\n",
       "      <th>created</th>\n",
       "      <th>modified</th>\n",
       "      <th>contents_modified</th>\n",
       "      <th>id</th>\n",
       "    </tr>\n",
       "  </thead>\n",
       "  <tbody>\n",
       "    <tr>\n",
       "      <th>0</th>\n",
       "      <td>My Project</td>\n",
       "      <td>None</td>\n",
       "      <td>2024-07-18 17:41:39.914467+00:00</td>\n",
       "      <td>2024-07-18 17:41:39.914467+00:00</td>\n",
       "      <td>2024-07-18 17:41:39.917983+00:00</td>\n",
       "      <td>7425c855-a865-40db-aadf-b4d5f907e0f6</td>\n",
       "    </tr>\n",
       "  </tbody>\n",
       "</table>\n",
       "</div>"
      ],
      "text/plain": [
       "         name description                          created  \\\n",
       "0  My Project        None 2024-07-18 17:41:39.914467+00:00   \n",
       "\n",
       "                          modified                contents_modified  \\\n",
       "0 2024-07-18 17:41:39.914467+00:00 2024-07-18 17:41:39.917983+00:00   \n",
       "\n",
       "                                     id  \n",
       "0  7425c855-a865-40db-aadf-b4d5f907e0f6  "
      ]
     },
     "execution_count": 5,
     "metadata": {},
     "output_type": "execute_result"
    }
   ],
   "source": [
    "# Refs have a pandas DataFrame representation\n",
    "my_project_ref.df()"
   ]
  },
  {
   "cell_type": "code",
   "execution_count": 6,
   "metadata": {},
   "outputs": [
    {
     "data": {
      "text/html": [
       "<div>\n",
       "<style scoped>\n",
       "    .dataframe tbody tr th:only-of-type {\n",
       "        vertical-align: middle;\n",
       "    }\n",
       "\n",
       "    .dataframe tbody tr th {\n",
       "        vertical-align: top;\n",
       "    }\n",
       "\n",
       "    .dataframe thead th {\n",
       "        text-align: right;\n",
       "    }\n",
       "</style>\n",
       "<table border=\"1\" class=\"dataframe\">\n",
       "  <thead>\n",
       "    <tr style=\"text-align: right;\">\n",
       "      <th></th>\n",
       "      <th>name</th>\n",
       "      <th>description</th>\n",
       "      <th>created</th>\n",
       "      <th>modified</th>\n",
       "      <th>project</th>\n",
       "      <th>id</th>\n",
       "    </tr>\n",
       "  </thead>\n",
       "  <tbody>\n",
       "    <tr>\n",
       "      <th>0</th>\n",
       "      <td>My Circuit from 2024-07-18 18:41:51.500787</td>\n",
       "      <td>None</td>\n",
       "      <td>2024-07-18 17:41:52.016706+00:00</td>\n",
       "      <td>2024-07-18 17:41:52.016706+00:00</td>\n",
       "      <td>My Project</td>\n",
       "      <td>416c7574-9630-43a7-a989-6b0b8244aa17</td>\n",
       "    </tr>\n",
       "  </tbody>\n",
       "</table>\n",
       "</div>"
      ],
      "text/plain": [
       "                                         name description  \\\n",
       "0  My Circuit from 2024-07-18 18:41:51.500787        None   \n",
       "\n",
       "                           created                         modified  \\\n",
       "0 2024-07-18 17:41:52.016706+00:00 2024-07-18 17:41:52.016706+00:00   \n",
       "\n",
       "      project                                    id  \n",
       "0  My Project  416c7574-9630-43a7-a989-6b0b8244aa17  "
      ]
     },
     "execution_count": 6,
     "metadata": {},
     "output_type": "execute_result"
    }
   ],
   "source": [
    "# Upload a circuit to Nexus, getting a CircuitRef in return\n",
    "my_circuit_ref = qnx.circuits.upload(\n",
    "    name=f\"My Circuit from {datetime.now()}\",\n",
    "    circuit = Circuit(2).H(0).CX(0,1).measure_all(),\n",
    "    project = my_project_ref,\n",
    ")\n",
    "\n",
    "my_circuit_ref.df()"
   ]
  },
  {
   "cell_type": "markdown",
   "metadata": {},
   "source": [
    "Refs point to underlying scientific data, in this case a pytket Circuit. We need to call a function to 'dereference' the CircuitRef and obtain the underlying circuit."
   ]
  },
  {
   "cell_type": "code",
   "execution_count": 7,
   "metadata": {},
   "outputs": [
    {
     "data": {
      "text/plain": [
       "[H q[0]; CX q[0], q[1]; Measure q[0] --> c[0]; Measure q[1] --> c[1]; ]"
      ]
     },
     "execution_count": 7,
     "metadata": {},
     "output_type": "execute_result"
    }
   ],
   "source": [
    "my_circuit_ref.download_circuit()"
   ]
  },
  {
   "cell_type": "markdown",
   "metadata": {},
   "source": [
    "We can perform queries to Nexus to retrieve all matching references."
   ]
  },
  {
   "cell_type": "code",
   "execution_count": 8,
   "metadata": {},
   "outputs": [],
   "source": [
    "last_months_projects = qnx.projects.get_all(created_after=datetime.now() - timedelta(days=30))"
   ]
  },
  {
   "cell_type": "markdown",
   "metadata": {},
   "source": [
    "This will return a NexusIterator, a Python object that represents our query. It behaves like a Python Iterator but with some additional functionality."
   ]
  },
  {
   "cell_type": "code",
   "execution_count": 9,
   "metadata": {},
   "outputs": [
    {
     "data": {
      "text/plain": [
       "501"
      ]
     },
     "execution_count": 9,
     "metadata": {},
     "output_type": "execute_result"
    }
   ],
   "source": [
    "# See how many projects match my query\n",
    "last_months_projects.count()"
   ]
  },
  {
   "cell_type": "code",
   "execution_count": 10,
   "metadata": {},
   "outputs": [
    {
     "data": {
      "text/plain": [
       "ProjectRef(id=UUID('0723e0d8-6583-4818-be31-577142fcf588'), annotations=Annotations(name='qnexus_integration_test_project_2024-06-19 12:03:35.275984', description='This can be safely deleted. Test Run: 2024-06-19 12:03:36.153727', properties=OrderedDict(), created=datetime.datetime(2024, 6, 19, 12, 3, 36, 926667, tzinfo=TzInfo(UTC)), modified=datetime.datetime(2024, 6, 19, 12, 3, 36, 926667, tzinfo=TzInfo(UTC))), contents_modified=datetime.datetime(2024, 6, 19, 12, 18, 14, 367073, tzinfo=TzInfo(UTC)), type='ProjectRef')"
      ]
     },
     "execution_count": 10,
     "metadata": {},
     "output_type": "execute_result"
    }
   ],
   "source": [
    "# Get the first ProjectRef\n",
    "next(last_months_projects)"
   ]
  },
  {
   "cell_type": "markdown",
   "metadata": {},
   "source": [
    "You can use other methods on the NexusIterator to get the ProjectRefs.\n",
    "\n",
    "```python\n",
    "# Get all the projects as a list\n",
    "last_months_projects.list()\n",
    "\n",
    "# Get all the projects as a DataFrame\n",
    "last_months_projects.df()\n",
    "```"
   ]
  },
  {
   "cell_type": "markdown",
   "metadata": {},
   "source": [
    "If we think we can identify a single matching Ref to our query, we can use `get`. Bear in mind this will error if there is not exactly one matching Ref."
   ]
  },
  {
   "cell_type": "code",
   "execution_count": 4,
   "metadata": {},
   "outputs": [
    {
     "data": {
      "text/html": [
       "<div>\n",
       "<style scoped>\n",
       "    .dataframe tbody tr th:only-of-type {\n",
       "        vertical-align: middle;\n",
       "    }\n",
       "\n",
       "    .dataframe tbody tr th {\n",
       "        vertical-align: top;\n",
       "    }\n",
       "\n",
       "    .dataframe thead th {\n",
       "        text-align: right;\n",
       "    }\n",
       "</style>\n",
       "<table border=\"1\" class=\"dataframe\">\n",
       "  <thead>\n",
       "    <tr style=\"text-align: right;\">\n",
       "      <th></th>\n",
       "      <th>name</th>\n",
       "      <th>description</th>\n",
       "      <th>created</th>\n",
       "      <th>modified</th>\n",
       "      <th>contents_modified</th>\n",
       "      <th>id</th>\n",
       "    </tr>\n",
       "  </thead>\n",
       "  <tbody>\n",
       "    <tr>\n",
       "      <th>0</th>\n",
       "      <td>My Project</td>\n",
       "      <td>None</td>\n",
       "      <td>2024-07-18 17:41:39.914467+00:00</td>\n",
       "      <td>2024-07-18 17:41:39.914467+00:00</td>\n",
       "      <td>2024-07-18 17:41:52.025227+00:00</td>\n",
       "      <td>7425c855-a865-40db-aadf-b4d5f907e0f6</td>\n",
       "    </tr>\n",
       "  </tbody>\n",
       "</table>\n",
       "</div>"
      ],
      "text/plain": [
       "         name description                          created  \\\n",
       "0  My Project        None 2024-07-18 17:41:39.914467+00:00   \n",
       "\n",
       "                          modified                contents_modified  \\\n",
       "0 2024-07-18 17:41:39.914467+00:00 2024-07-18 17:41:52.025227+00:00   \n",
       "\n",
       "                                     id  \n",
       "0  7425c855-a865-40db-aadf-b4d5f907e0f6  "
      ]
     },
     "execution_count": 4,
     "metadata": {},
     "output_type": "execute_result"
    }
   ],
   "source": [
    "qnx.projects.get(name_like=\"My Project\").df()"
   ]
  }
 ],
 "metadata": {
  "kernelspec": {
   "display_name": "qnexus-Rou6F43i-py3.11",
   "language": "python",
   "name": "python3"
  },
  "language_info": {
   "codemirror_mode": {
    "name": "ipython",
    "version": 3
   },
   "file_extension": ".py",
   "mimetype": "text/x-python",
   "name": "python",
   "nbconvert_exporter": "python",
   "pygments_lexer": "ipython3",
   "version": "3.11.8"
  }
 },
 "nbformat": 4,
 "nbformat_minor": 2
}
