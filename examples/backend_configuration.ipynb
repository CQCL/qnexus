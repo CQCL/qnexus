{
 "cells": [
  {
   "cell_type": "markdown",
   "metadata": {},
   "source": [
    "# Backend Configuration\n",
    "\n",
    "A Backend is a loose term for a provider of a quantum computer or simulator.\n",
    "\n",
    "Currently in Nexus these are specified by a `BackendConfig`, of which we offer the following types:\n",
    "\n",
    "- `AerConfig`: targets Qiskit Aer simulator\n",
    "\n",
    "- `AerStateConfig`: targets Qiskit Aer statevector simulator\n",
    "\n",
    "- `AerUnitaryConfig`: targets Qiskit Aer unitary simulator\n",
    "\n",
    "- `BraketConfig`: targets devices available through Amazon Braket\n",
    "\n",
    "- `QuantinuumConfig`: targets Quantinuum devices and emulators\n",
    "\n",
    "- `IBMQConfig`: targets devices available through IBMQ\n",
    "\n",
    "- `IBMQEmulatorConfig`: targets emulated devices available through IBMQ (uses a noise model for simulation)\n",
    "\n",
    "- `ProjectQConfig`: targets the ProjectQ simulator\n",
    "\n",
    "- `QulacsConfig`: targets the Qulacs simulator"
   ]
  },
  {
   "cell_type": "code",
   "execution_count": 1,
   "metadata": {},
   "outputs": [],
   "source": [
    "import qnexus as qnx\n",
    "\n",
    "from datetime import datetime\n",
    "from pytket import Circuit"
   ]
  },
  {
   "cell_type": "code",
   "execution_count": 2,
   "metadata": {},
   "outputs": [],
   "source": [
    "# Create a configuration to target the H1-1 Syntax Checker device\n",
    "my_quantinuum_config = qnx.QuantinuumConfig(\n",
    "    device_name=\"H1-1SC\",\n",
    ")"
   ]
  },
  {
   "cell_type": "code",
   "execution_count": 6,
   "metadata": {},
   "outputs": [],
   "source": [
    "# Create a configuration to target the IBMQ Algiers device through the open plan\n",
    "my_ibmq_config = qnx.IBMQConfig(\n",
    "    backend_name=\"ibm_kyiv\",\n",
    "    hub=\"ibm-q\",\n",
    "    group=\"open\",\n",
    "    project=\"main\",\n",
    ")"
   ]
  },
  {
   "cell_type": "markdown",
   "metadata": {},
   "source": [
    "BackendConfigs are a required parameter when running Jobs in Nexus."
   ]
  },
  {
   "cell_type": "code",
   "execution_count": 4,
   "metadata": {},
   "outputs": [],
   "source": [
    "my_project_ref = qnx.projects.get_or_create(name=\"My Nexus Project\")\n",
    "\n",
    "my_circuit_ref = qnx.circuits.upload(\n",
    "    name=f\"My Circuit\",\n",
    "    circuit = Circuit(2).H(0).CX(0,1).measure_all(),\n",
    "    project = my_project_ref,\n",
    ")"
   ]
  },
  {
   "cell_type": "code",
   "execution_count": 7,
   "metadata": {},
   "outputs": [
    {
     "data": {
      "text/html": [
       "<div>\n",
       "<style scoped>\n",
       "    .dataframe tbody tr th:only-of-type {\n",
       "        vertical-align: middle;\n",
       "    }\n",
       "\n",
       "    .dataframe tbody tr th {\n",
       "        vertical-align: top;\n",
       "    }\n",
       "\n",
       "    .dataframe thead th {\n",
       "        text-align: right;\n",
       "    }\n",
       "</style>\n",
       "<table border=\"1\" class=\"dataframe\">\n",
       "  <thead>\n",
       "    <tr style=\"text-align: right;\">\n",
       "      <th></th>\n",
       "      <th>name</th>\n",
       "      <th>description</th>\n",
       "      <th>created</th>\n",
       "      <th>modified</th>\n",
       "      <th>job_type</th>\n",
       "      <th>last_status</th>\n",
       "      <th>project</th>\n",
       "      <th>id</th>\n",
       "    </tr>\n",
       "  </thead>\n",
       "  <tbody>\n",
       "    <tr>\n",
       "      <th>0</th>\n",
       "      <td>My IBMQ compilation job from 2024-07-18 18:26:...</td>\n",
       "      <td></td>\n",
       "      <td>2024-07-18 17:26:07.031111+00:00</td>\n",
       "      <td>2024-07-18 17:26:07.031111+00:00</td>\n",
       "      <td>JobType.COMPILE</td>\n",
       "      <td>StatusEnum.SUBMITTED</td>\n",
       "      <td>My Nexus Project</td>\n",
       "      <td>db0c7c89-2c21-4541-afdb-db5c485dd00d</td>\n",
       "    </tr>\n",
       "  </tbody>\n",
       "</table>\n",
       "</div>"
      ],
      "text/plain": [
       "                                                name description  \\\n",
       "0  My IBMQ compilation job from 2024-07-18 18:26:...               \n",
       "\n",
       "                           created                         modified  \\\n",
       "0 2024-07-18 17:26:07.031111+00:00 2024-07-18 17:26:07.031111+00:00   \n",
       "\n",
       "          job_type           last_status           project  \\\n",
       "0  JobType.COMPILE  StatusEnum.SUBMITTED  My Nexus Project   \n",
       "\n",
       "                                     id  \n",
       "0  db0c7c89-2c21-4541-afdb-db5c485dd00d  "
      ]
     },
     "execution_count": 7,
     "metadata": {},
     "output_type": "execute_result"
    }
   ],
   "source": [
    "# Run a CompileJob targeting an IBMQ device\n",
    "\n",
    "compile_job_IBMQ = qnx.start_compile_job(\n",
    "    name=f\"My IBMQ compilation job from {datetime.now()}\",\n",
    "    circuits=[my_circuit_ref],\n",
    "    backend_config=my_ibmq_config,\n",
    "    project=my_project_ref,\n",
    ")\n",
    "\n",
    "compile_job_IBMQ.df()"
   ]
  },
  {
   "cell_type": "code",
   "execution_count": 8,
   "metadata": {},
   "outputs": [
    {
     "data": {
      "text/html": [
       "<div>\n",
       "<style scoped>\n",
       "    .dataframe tbody tr th:only-of-type {\n",
       "        vertical-align: middle;\n",
       "    }\n",
       "\n",
       "    .dataframe tbody tr th {\n",
       "        vertical-align: top;\n",
       "    }\n",
       "\n",
       "    .dataframe thead th {\n",
       "        text-align: right;\n",
       "    }\n",
       "</style>\n",
       "<table border=\"1\" class=\"dataframe\">\n",
       "  <thead>\n",
       "    <tr style=\"text-align: right;\">\n",
       "      <th></th>\n",
       "      <th>name</th>\n",
       "      <th>description</th>\n",
       "      <th>created</th>\n",
       "      <th>modified</th>\n",
       "      <th>job_type</th>\n",
       "      <th>last_status</th>\n",
       "      <th>project</th>\n",
       "      <th>id</th>\n",
       "    </tr>\n",
       "  </thead>\n",
       "  <tbody>\n",
       "    <tr>\n",
       "      <th>0</th>\n",
       "      <td>My H1-1SC compilation job from 2024-07-18 18:2...</td>\n",
       "      <td></td>\n",
       "      <td>2024-07-18 17:26:39.090771+00:00</td>\n",
       "      <td>2024-07-18 17:26:39.090771+00:00</td>\n",
       "      <td>JobType.EXECUTE</td>\n",
       "      <td>StatusEnum.SUBMITTED</td>\n",
       "      <td>My Nexus Project</td>\n",
       "      <td>eba95fb5-f37c-44d3-a05f-07c61f675297</td>\n",
       "    </tr>\n",
       "  </tbody>\n",
       "</table>\n",
       "</div>"
      ],
      "text/plain": [
       "                                                name description  \\\n",
       "0  My H1-1SC compilation job from 2024-07-18 18:2...               \n",
       "\n",
       "                           created                         modified  \\\n",
       "0 2024-07-18 17:26:39.090771+00:00 2024-07-18 17:26:39.090771+00:00   \n",
       "\n",
       "          job_type           last_status           project  \\\n",
       "0  JobType.EXECUTE  StatusEnum.SUBMITTED  My Nexus Project   \n",
       "\n",
       "                                     id  \n",
       "0  eba95fb5-f37c-44d3-a05f-07c61f675297  "
      ]
     },
     "execution_count": 8,
     "metadata": {},
     "output_type": "execute_result"
    }
   ],
   "source": [
    "# Run an ExecuteJob targeting the H1-1 Syntax Checker device\n",
    "\n",
    "execute_job_H1_1SC = qnx.start_execute_job(\n",
    "    name=f\"My H1-1SC compilation job from {datetime.now()}\",\n",
    "    circuits=[my_circuit_ref],\n",
    "    n_shots=[1000],\n",
    "    backend_config=my_quantinuum_config,\n",
    "    project=my_project_ref,\n",
    ")\n",
    "\n",
    "execute_job_H1_1SC.df()"
   ]
  }
 ],
 "metadata": {
  "kernelspec": {
   "display_name": "qnexus-Rou6F43i-py3.11",
   "language": "python",
   "name": "python3"
  },
  "language_info": {
   "codemirror_mode": {
    "name": "ipython",
    "version": 3
   },
   "file_extension": ".py",
   "mimetype": "text/x-python",
   "name": "python",
   "nbconvert_exporter": "python",
   "pygments_lexer": "ipython3",
   "version": "3.11.8"
  }
 },
 "nbformat": 4,
 "nbformat_minor": 2
}
