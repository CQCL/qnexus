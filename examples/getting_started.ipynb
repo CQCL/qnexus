{
 "cells": [
  {
   "cell_type": "markdown",
   "metadata": {},
   "source": [
    "# Getting Started with `qnexus`\n",
    "\n",
    "Here is an example notebook outlining core usage of qnexus, the client Python package for Quantinuum Nexus."
   ]
  },
  {
   "cell_type": "code",
   "execution_count": 1,
   "metadata": {},
   "outputs": [],
   "source": [
    "from datetime import datetime\n",
    "from pytket import Circuit\n",
    "import qnexus as qnx"
   ]
  },
  {
   "cell_type": "markdown",
   "metadata": {},
   "source": [
    "First we'll call `login()` to authenticate the client using your web browser.\n",
    "\n",
    "**NB**: this step doesn't need to be done in the Nexus Lab, where authentication is automatic."
   ]
  },
  {
   "cell_type": "code",
   "execution_count": 2,
   "metadata": {},
   "outputs": [
    {
     "name": "stdout",
     "output_type": "stream",
     "text": [
      "🌐 Browser log in initiated.\n"
     ]
    },
    {
     "data": {
      "text/html": [
       "<pre style=\"white-space:pre;overflow-x:auto;line-height:normal;font-family:Menlo,'DejaVu Sans Mono',consolas,'Courier New',monospace\">╭────────────────────────────────────────────────────────────────────────────────────────╮\n",
       "│                                                                                        │\n",
       "│         Confirm that the browser shows the following code and click 'allow device':    │\n",
       "│                                                                                        │\n",
       "│                                      s9RFzV                                            │\n",
       "│                                                                                        │\n",
       "╰────────────────────────────────────────────────────────────────────────────────────────╯\n",
       "</pre>\n"
      ],
      "text/plain": [
       "╭────────────────────────────────────────────────────────────────────────────────────────╮\n",
       "│                                                                                        │\n",
       "│         Confirm that the browser shows the following code and click 'allow device':    │\n",
       "│                                                                                        │\n",
       "│                                      s9RFzV                                            │\n",
       "│                                                                                        │\n",
       "╰────────────────────────────────────────────────────────────────────────────────────────╯\n"
      ]
     },
     "metadata": {},
     "output_type": "display_data"
    },
    {
     "name": "stdout",
     "output_type": "stream",
     "text": [
      "Browser didn't open automatically? Use this link: \u001b[34mhttps://nexus.quantinuum.com/auth/device/browser?otp=s9RFzVYV7lwAXDnIK6lE4rzImpxdhV4moiRHeHaIJCQpMsRoZDQ7pBNbVSSKzVxARdlurB3_VoV4spKhJ4Coyw\n",
      "✅ Successfully logged in as vanya.eccles@quantinuum.com using the browser.\n"
     ]
    }
   ],
   "source": [
    "qnx.login()"
   ]
  },
  {
   "cell_type": "markdown",
   "metadata": {},
   "source": [
    "Nexus uses Projects to organise data and jobs. Here we'll get a project in Nexus, or create it if it doesn't exist.  We can also use 'properties' to annotate our jobs and data with labels or scientific parameters.\n",
    "\n",
    "[Learn more about Projects and properties in qnexus.](projects_properties_context.ipynb)"
   ]
  },
  {
   "cell_type": "code",
   "execution_count": 6,
   "metadata": {},
   "outputs": [
    {
     "data": {
      "text/html": [
       "<div>\n",
       "<style scoped>\n",
       "    .dataframe tbody tr th:only-of-type {\n",
       "        vertical-align: middle;\n",
       "    }\n",
       "\n",
       "    .dataframe tbody tr th {\n",
       "        vertical-align: top;\n",
       "    }\n",
       "\n",
       "    .dataframe thead th {\n",
       "        text-align: right;\n",
       "    }\n",
       "</style>\n",
       "<table border=\"1\" class=\"dataframe\">\n",
       "  <thead>\n",
       "    <tr style=\"text-align: right;\">\n",
       "      <th></th>\n",
       "      <th>name</th>\n",
       "      <th>description</th>\n",
       "      <th>created</th>\n",
       "      <th>modified</th>\n",
       "      <th>contents_modified</th>\n",
       "      <th>id</th>\n",
       "    </tr>\n",
       "  </thead>\n",
       "  <tbody>\n",
       "    <tr>\n",
       "      <th>0</th>\n",
       "      <td>My Project</td>\n",
       "      <td>None</td>\n",
       "      <td>2024-07-19 12:50:29.125138+00:00</td>\n",
       "      <td>2024-07-19 12:50:29.125138+00:00</td>\n",
       "      <td>2024-08-15 12:38:35.654071+00:00</td>\n",
       "      <td>49e380d5-d300-4803-be0d-20585b9b5676</td>\n",
       "    </tr>\n",
       "  </tbody>\n",
       "</table>\n",
       "</div>"
      ],
      "text/plain": [
       "         name description                          created  \\\n",
       "0  My Project        None 2024-07-19 12:50:29.125138+00:00   \n",
       "\n",
       "                          modified                contents_modified  \\\n",
       "0 2024-07-19 12:50:29.125138+00:00 2024-08-15 12:38:35.654071+00:00   \n",
       "\n",
       "                                     id  \n",
       "0  49e380d5-d300-4803-be0d-20585b9b5676  "
      ]
     },
     "execution_count": 6,
     "metadata": {},
     "output_type": "execute_result"
    }
   ],
   "source": [
    "my_project_ref = qnx.projects.get_or_create(name=\"My Project\")\n",
    "\n",
    "my_project_ref.df()"
   ]
  },
  {
   "cell_type": "markdown",
   "metadata": {},
   "source": [
    "The thing we get back is a `ProjectRef`; `qnexus` uses `Ref`s as 'references' to data in the Quantinuum Nexus database.\n",
    "\n",
    "Next we'll create a Pytket circuit and upload it to the Nexus database, getting back a `CircuitRef` for the uploaded circuit. We'll need to also pass the ProjectRef from earlier to upload the circuit as part of the Project."
   ]
  },
  {
   "cell_type": "code",
   "execution_count": 4,
   "metadata": {},
   "outputs": [],
   "source": [
    "circuit = Circuit(2).H(0).CX(0,1).measure_all()\n",
    "\n",
    "my_circuit_ref = qnx.circuits.upload(\n",
    "    name=f\"My Circuit from {datetime.now()}\",\n",
    "    circuit = circuit,\n",
    "    project = my_project_ref,\n",
    ")"
   ]
  },
  {
   "cell_type": "markdown",
   "metadata": {},
   "source": [
    "We can then get Nexus to compile the circuit (using Quantinuum's TKET compiler), optimizing and rebasing it for a particular device. This will create a Nexus compile Job, wait for it to complete and fetch the compiled circuit.\n",
    "\n",
    "[Learn more about Jobs in qnexus.](jobs_results.ipynb)\n",
    "\n",
    "We'll get back a list containing a single `CircuitRef` pointing to the compiled circuit stored in Nexus."
   ]
  },
  {
   "cell_type": "code",
   "execution_count": 5,
   "metadata": {},
   "outputs": [
    {
     "data": {
      "text/html": [
       "<div>\n",
       "<style scoped>\n",
       "    .dataframe tbody tr th:only-of-type {\n",
       "        vertical-align: middle;\n",
       "    }\n",
       "\n",
       "    .dataframe tbody tr th {\n",
       "        vertical-align: top;\n",
       "    }\n",
       "\n",
       "    .dataframe thead th {\n",
       "        text-align: right;\n",
       "    }\n",
       "</style>\n",
       "<table border=\"1\" class=\"dataframe\">\n",
       "  <thead>\n",
       "    <tr style=\"text-align: right;\">\n",
       "      <th></th>\n",
       "      <th>name</th>\n",
       "      <th>description</th>\n",
       "      <th>created</th>\n",
       "      <th>modified</th>\n",
       "      <th>project</th>\n",
       "      <th>id</th>\n",
       "    </tr>\n",
       "  </thead>\n",
       "  <tbody>\n",
       "    <tr>\n",
       "      <th>0</th>\n",
       "      <td>My Circuit from 2024-08-15 13:38:27.663816-Qua...</td>\n",
       "      <td>None</td>\n",
       "      <td>2024-08-15 12:38:35.125723+00:00</td>\n",
       "      <td>2024-08-15 12:38:35.125723+00:00</td>\n",
       "      <td>My Project</td>\n",
       "      <td>e6c0ae89-59ca-43db-99fb-cf37d81f8191</td>\n",
       "    </tr>\n",
       "  </tbody>\n",
       "</table>\n",
       "</div>"
      ],
      "text/plain": [
       "                                                name description  \\\n",
       "0  My Circuit from 2024-08-15 13:38:27.663816-Qua...        None   \n",
       "\n",
       "                           created                         modified  \\\n",
       "0 2024-08-15 12:38:35.125723+00:00 2024-08-15 12:38:35.125723+00:00   \n",
       "\n",
       "      project                                    id  \n",
       "0  My Project  e6c0ae89-59ca-43db-99fb-cf37d81f8191  "
      ]
     },
     "execution_count": 5,
     "metadata": {},
     "output_type": "execute_result"
    }
   ],
   "source": [
    "compiled_circuits = qnx.compile(\n",
    "    circuits=[my_circuit_ref],\n",
    "    name=f\"My Compile Job from {datetime.now()}\",\n",
    "    optimisation_level=1,\n",
    "    backend_config=qnx.QuantinuumConfig(device_name=\"H1-1LE\"),\n",
    "    project=my_project_ref,\n",
    ")\n",
    "\n",
    "compiled_circuits.df()"
   ]
  },
  {
   "cell_type": "markdown",
   "metadata": {},
   "source": [
    "This particular job compiled the circuit for Quantinuum's H1-1LE device, a noiseless simulator for Quantinuum's `H1-1`.\n",
    "\n",
    "[Learn more about how to configure jobs to target specific devices in qnexus.](backend_configuration.ipynb)\n",
    "\n",
    "[Learn more about checking the devices you have access to in qnexus.](devices_credentials.ipynb)\n",
    "\n",
    "Next, we'll submit a request for Nexus to execute this circuit on `H1-1LE`.\n"
   ]
  },
  {
   "cell_type": "code",
   "execution_count": 8,
   "metadata": {},
   "outputs": [
    {
     "data": {
      "text/html": [
       "<div>\n",
       "<style scoped>\n",
       "    .dataframe tbody tr th:only-of-type {\n",
       "        vertical-align: middle;\n",
       "    }\n",
       "\n",
       "    .dataframe tbody tr th {\n",
       "        vertical-align: top;\n",
       "    }\n",
       "\n",
       "    .dataframe thead th {\n",
       "        text-align: right;\n",
       "    }\n",
       "</style>\n",
       "<table border=\"1\" class=\"dataframe\">\n",
       "  <thead>\n",
       "    <tr style=\"text-align: right;\">\n",
       "      <th></th>\n",
       "      <th>name</th>\n",
       "      <th>description</th>\n",
       "      <th>created</th>\n",
       "      <th>modified</th>\n",
       "      <th>job_type</th>\n",
       "      <th>last_status</th>\n",
       "      <th>project</th>\n",
       "      <th>id</th>\n",
       "    </tr>\n",
       "  </thead>\n",
       "  <tbody>\n",
       "    <tr>\n",
       "      <th>0</th>\n",
       "      <td>My Execute Job from 2024-08-15 13:39:07.938797</td>\n",
       "      <td></td>\n",
       "      <td>2024-08-15 12:39:08.444907+00:00</td>\n",
       "      <td>2024-08-15 12:39:08.444907+00:00</td>\n",
       "      <td>JobType.EXECUTE</td>\n",
       "      <td>StatusEnum.SUBMITTED</td>\n",
       "      <td>My Project</td>\n",
       "      <td>51146948-681a-4826-befc-e76a8c5df12c</td>\n",
       "    </tr>\n",
       "  </tbody>\n",
       "</table>\n",
       "</div>"
      ],
      "text/plain": [
       "                                             name description  \\\n",
       "0  My Execute Job from 2024-08-15 13:39:07.938797               \n",
       "\n",
       "                           created                         modified  \\\n",
       "0 2024-08-15 12:39:08.444907+00:00 2024-08-15 12:39:08.444907+00:00   \n",
       "\n",
       "          job_type           last_status     project  \\\n",
       "0  JobType.EXECUTE  StatusEnum.SUBMITTED  My Project   \n",
       "\n",
       "                                     id  \n",
       "0  51146948-681a-4826-befc-e76a8c5df12c  "
      ]
     },
     "execution_count": 8,
     "metadata": {},
     "output_type": "execute_result"
    }
   ],
   "source": [
    "execute_job_ref = qnx.start_execute_job(\n",
    "    circuits=compiled_circuits,\n",
    "    name=f\"My Execute Job from {datetime.now()}\",\n",
    "    n_shots=[100]* len(compiled_circuits),\n",
    "    backend_config=qnx.QuantinuumConfig(device_name=\"H1-1LE\"),\n",
    "    project=my_project_ref,\n",
    ")\n",
    "\n",
    "execute_job_ref.df()"
   ]
  },
  {
   "cell_type": "markdown",
   "metadata": {},
   "source": [
    "This will return an `ExecuteJobRef` as a reference to the running job in Nexus. If we believe the job will take a long time (hours or days), we can come back to this later either by retrieving the `ExecuteJobRef` using the API or by saving/loading it to the local filesystem.\n",
    "\n",
    "\n",
    "[Learn more about querying your data/jobs in qnexus.](refs_nexus_iterator.ipynb)\n",
    "\n",
    "[Learn more about saving and loading Ref objects in qnexus.](saving_refs.ipynb)\n",
    "\n",
    "We can check the status or wait for completion before retrieving the results."
   ]
  },
  {
   "cell_type": "code",
   "execution_count": 9,
   "metadata": {},
   "outputs": [
    {
     "name": "stdout",
     "output_type": "stream",
     "text": [
      "JobStatus(status=<StatusEnum.SUBMITTED: 'Circuit has been submitted.'>, message='Job has been submitted to Nexus.', error_detail=None, completed_time=None, queued_time=None, submitted_time=datetime.datetime(2024, 8, 15, 12, 39, 8, 448783, tzinfo=datetime.timezone.utc), running_time=None, cancelled_time=None, error_time=None, queue_position=None)\n"
     ]
    },
    {
     "data": {
      "text/plain": [
       "Counter({(0, 0): 53, (1, 1): 47})"
      ]
     },
     "execution_count": 9,
     "metadata": {},
     "output_type": "execute_result"
    }
   ],
   "source": [
    "print(qnx.jobs.status(execute_job_ref))\n",
    "\n",
    "# Block until the job is complete\n",
    "qnx.jobs.wait_for(execute_job_ref)\n",
    "\n",
    "# Retrieve a ExecutionResultRef for every Circuit that was executed\n",
    "execute_job_result_refs = qnx.jobs.results(execute_job_ref)\n",
    "\n",
    "# Get a pytket BackendResult for the execution\n",
    "result = execute_job_result_refs[0].download_result()\n",
    "\n",
    "result.get_counts()"
   ]
  },
  {
   "cell_type": "markdown",
   "metadata": {},
   "source": [
    "If we'd like to share our work, we can grant access to team members using collaboration and role-based access control features.\n",
    "\n",
    "[Learn more about Access and Collaboration features in qnexus.](teams_roles.ipynb)\n"
   ]
  },
  {
   "cell_type": "markdown",
   "metadata": {},
   "source": [
    "To put all of this together in a real-world example, please see our example of a variational quantum eigensolver workflow in qnexus.\n",
    "\n",
    "[VQE example in qnexus](vqe_example.ipynb)"
   ]
  }
 ],
 "metadata": {
  "kernelspec": {
   "display_name": "qnexus-Rou6F43i-py3.11",
   "language": "python",
   "name": "python3"
  },
  "language_info": {
   "codemirror_mode": {
    "name": "ipython",
    "version": 3
   },
   "file_extension": ".py",
   "mimetype": "text/x-python",
   "name": "python",
   "nbconvert_exporter": "python",
   "pygments_lexer": "ipython3",
   "version": "3.11.8"
  }
 },
 "nbformat": 4,
 "nbformat_minor": 2
}
