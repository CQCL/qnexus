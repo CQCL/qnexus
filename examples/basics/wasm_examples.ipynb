{
 "cells": [
  {
   "cell_type": "markdown",
   "metadata": {},
   "source": [
    "# Wasm Submission\n",
    "\n",
    "\n",
    "Quantinuum offers real-time hybrid compute capability for your workflows. This capability executes Web Assembly (Wasm) in the Quantinuum stack (or Nexus-hosted emulators) and enables use of libraries (e.g. linear algebra and graph algorithms) and complex datastructures (e.g. vectors and graphs) during real-time execution of a quantum circuit.\n",
    "\n",
    "This notebook uses Nexus to submit a circuit with a very simple Wasm example.\n",
    "\n",
    "To see real-world examples, please view the QEC Decoder Toolkit documentation available at https://docs.quantinuum.com\n",
    "\n"
   ]
  },
  {
   "cell_type": "code",
   "execution_count": 1,
   "metadata": {},
   "outputs": [],
   "source": [
    "from datetime import datetime\n",
    "\n",
    "from pytket.circuit import Circuit\n",
    "from pytket.wasm import WasmFileHandler\n",
    "\n",
    "import qnexus as qnx"
   ]
  },
  {
   "cell_type": "code",
   "execution_count": null,
   "metadata": {},
   "outputs": [],
   "source": [
    "qnx.login()"
   ]
  },
  {
   "cell_type": "code",
   "execution_count": 3,
   "metadata": {},
   "outputs": [],
   "source": [
    "my_project_ref = qnx.projects.get_or_create(name=\"My Wasm Example Project\")\n",
    "\n",
    "qnx.context.set_active_project(my_project_ref)"
   ]
  },
  {
   "cell_type": "markdown",
   "metadata": {},
   "source": [
    "Load our Wasm file and upload it to Nexus."
   ]
  },
  {
   "cell_type": "code",
   "execution_count": null,
   "metadata": {},
   "outputs": [],
   "source": [
    "wfh = WasmFileHandler(filepath=\"data/add_one.wasm\")\n",
    "\n",
    "print(repr(wfh))\n",
    "\n",
    "wasm_module_ref = qnx.wasm_modules.upload(wasm_module_handler=wfh, name=\"Add One Wasm\")\n",
    "\n",
    "wasm_module_ref.df()"
   ]
  },
  {
   "cell_type": "code",
   "execution_count": null,
   "metadata": {},
   "outputs": [],
   "source": [
    "circuit = Circuit(1)\n",
    "# Very minimal WASM example\n",
    "a = circuit.add_c_register(\"a\", 8)\n",
    "circuit.add_wasm_to_reg(\"add_one\", wfh, [a], [a])"
   ]
  },
  {
   "cell_type": "markdown",
   "metadata": {},
   "source": [
    "Upload our circuit to Nexus and compile it for our target Quantinuum emulator."
   ]
  },
  {
   "cell_type": "code",
   "execution_count": null,
   "metadata": {},
   "outputs": [],
   "source": [
    "my_circuit_ref = qnx.circuits.upload(\n",
    "    name=\"My example Add One WASM circuit\",\n",
    "    circuit=circuit,\n",
    ")"
   ]
  },
  {
   "cell_type": "code",
   "execution_count": 7,
   "metadata": {},
   "outputs": [],
   "source": [
    "backend_config = qnx.QuantinuumConfig(\n",
    "    device_name=\"H1-Emulator\",\n",
    ")"
   ]
  },
  {
   "cell_type": "code",
   "execution_count": null,
   "metadata": {},
   "outputs": [],
   "source": [
    "compile_job = qnx.start_compile_job(\n",
    "    circuits=[my_circuit_ref],\n",
    "    name=f\"My Compile Job from {datetime.now()}\",\n",
    "    optimisation_level=1,\n",
    "    backend_config=backend_config,\n",
    ")\n",
    "\n",
    "qnx.jobs.wait_for(compile_job)\n",
    "\n",
    "compiled_circuits = [item.get_output() for item in qnx.jobs.results(compile_job)]"
   ]
  },
  {
   "cell_type": "markdown",
   "metadata": {},
   "source": [
    "After compilation, we can submit the circuit to execute on the chosen device. The Wasm binary is stored seperately to the Circuit in Nexus, so we must submit the `WasmModuleRef` along with the circuit as part of the job."
   ]
  },
  {
   "cell_type": "code",
   "execution_count": null,
   "metadata": {},
   "outputs": [],
   "source": [
    "execute_job_ref = qnx.start_execute_job(\n",
    "    circuits=[my_circuit_ref],\n",
    "    name=f\"My Execute Job from {datetime.now()}\",\n",
    "    n_shots=[100],\n",
    "    backend_config=backend_config,\n",
    "    wasm_module=wasm_module_ref,\n",
    ")\n",
    "\n",
    "execute_job_ref.df()"
   ]
  },
  {
   "cell_type": "code",
   "execution_count": null,
   "metadata": {},
   "outputs": [],
   "source": [
    "qnx.jobs.wait_for(execute_job_ref)"
   ]
  },
  {
   "cell_type": "markdown",
   "metadata": {},
   "source": [
    "Once the job result is complete we can download and analyse the data."
   ]
  },
  {
   "cell_type": "code",
   "execution_count": 12,
   "metadata": {},
   "outputs": [],
   "source": [
    "result_refs = qnx.jobs.results(execute_job_ref)\n",
    "result = result_refs[0].download_result()"
   ]
  },
  {
   "cell_type": "code",
   "execution_count": null,
   "metadata": {},
   "outputs": [],
   "source": [
    "result.get_counts()"
   ]
  }
 ],
 "metadata": {
  "kernelspec": {
   "display_name": "qnexus-Rou6F43i-py3.12",
   "language": "python",
   "name": "python3"
  },
  "language_info": {
   "codemirror_mode": {
    "name": "ipython",
    "version": 3
   },
   "file_extension": ".py",
   "mimetype": "text/x-python",
   "name": "python",
   "nbconvert_exporter": "python",
   "pygments_lexer": "ipython3",
   "version": "3.12.5"
  }
 },
 "nbformat": 4,
 "nbformat_minor": 2
}
