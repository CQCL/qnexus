{
 "cells": [
  {
   "cell_type": "code",
   "execution_count": null,
   "id": "88deb2b7",
   "metadata": {},
   "outputs": [
    {
     "ename": "NameError",
     "evalue": "name 'qir_bytes' is not defined",
     "output_type": "error",
     "traceback": [
      "\u001b[31m---------------------------------------------------------------------------\u001b[39m",
      "\u001b[31mNameError\u001b[39m                                 Traceback (most recent call last)",
      "\u001b[36mCell\u001b[39m\u001b[36m \u001b[39m\u001b[32mIn[1]\u001b[39m\u001b[32m, line 16\u001b[39m\n\u001b[32m     11\u001b[39m circuit.measure_all()\n\u001b[32m     13\u001b[39m qir_buytes = pytket_to_qir(circuit, name=\u001b[33m'\u001b[39m\u001b[33mqir\u001b[39m\u001b[33m'\u001b[39m)\n\u001b[32m     15\u001b[39m qir_ref = qnx.qir.upload(\n\u001b[32m---> \u001b[39m\u001b[32m16\u001b[39m     qir=\u001b[43mqir_bytes\u001b[49m, name=\u001b[33m\"\u001b[39m\u001b[33mqir_program\u001b[39m\u001b[33m\"\u001b[39m, project=my_proj\n\u001b[32m     17\u001b[39m )\n",
      "\u001b[31mNameError\u001b[39m: name 'qir_bytes' is not defined"
     ]
    }
   ],
   "source": [
    "import qnexus as qnx\n",
    "from pytket.circuit import Circuit\n",
    "from pytket.qir.conversion.api import QIRFormat, pytket_to_qir\n",
    "from qnexus.models.language import Language\n",
    "\n",
    "my_proj = qnx.projects.get_or_create(name=\"my qir project\")\n",
    "\n",
    "circuit = Circuit(2)\n",
    "circuit.H(0)\n",
    "circuit.CX(0, 1)\n",
    "circuit.measure_all()\n",
    "\n",
    "qir_bytes = pytket_to_qir(circuit, name='qir')\n",
    "\n",
    "qir_ref = qnx.qir.upload(\n",
    "    qir=qir_bytes, name=\"qir_program\", project=my_proj\n",
    ")"
   ]
  },
  {
   "cell_type": "code",
   "execution_count": null,
   "id": "c27c7bf4",
   "metadata": {},
   "outputs": [],
   "source": []
  }
 ],
 "metadata": {
  "kernelspec": {
   "display_name": ".venv",
   "language": "python",
   "name": "python3"
  },
  "language_info": {
   "codemirror_mode": {
    "name": "ipython",
    "version": 3
   },
   "file_extension": ".py",
   "mimetype": "text/x-python",
   "name": "python",
   "nbconvert_exporter": "python",
   "pygments_lexer": "ipython3",
   "version": "3.12.7"
  }
 },
 "nbformat": 4,
 "nbformat_minor": 5
}
