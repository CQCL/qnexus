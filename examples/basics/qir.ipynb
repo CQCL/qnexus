{
 "cells": [
  {
   "cell_type": "code",
   "execution_count": null,
   "id": "88deb2b7",
   "metadata": {},
   "outputs": [
    {
     "name": "stdout",
     "output_type": "stream",
     "text": [
      "<class 'str'>\n"
     ]
    }
   ],
   "source": [
    "from pytket.circuit import Circuit\n",
    "from pytket.qir.conversion.api import QIRFormat, pytket_to_qir\n",
    "\n",
    "import qnexus as qnx\n",
    "\n",
    "my_proj = qnx.projects.get_or_create(name=\"my qir project\")\n",
    "\n",
    "circuit = Circuit(2)\n",
    "circuit.H(0)\n",
    "circuit.CX(0, 1)\n",
    "circuit.measure_all()\n",
    "\n",
    "qir_bytes = pytket_to_qir(circuit, name=\"qir\", qir_format=QIRFormat.STRING)\n",
    "\n",
    "qir_ref = qnx.qir.upload(qir=qir_bytes, name=\"qir_program\", project=my_proj)"
   ]
  },
  {
   "cell_type": "code",
   "execution_count": null,
   "id": "c27c7bf4",
   "metadata": {},
   "outputs": [],
   "source": []
  }
 ],
 "metadata": {
  "kernelspec": {
   "display_name": ".venv",
   "language": "python",
   "name": "python3"
  },
  "language_info": {
   "codemirror_mode": {
    "name": "ipython",
    "version": 3
   },
   "file_extension": ".py",
   "mimetype": "text/x-python",
   "name": "python",
   "nbconvert_exporter": "python",
   "pygments_lexer": "ipython3",
   "version": "3.12.7"
  }
 },
 "nbformat": 4,
 "nbformat_minor": 5
}
