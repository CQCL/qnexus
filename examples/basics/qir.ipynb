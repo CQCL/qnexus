{
 "cells": [
  {
   "cell_type": "code",
   "execution_count": 3,
   "id": "88deb2b7",
   "metadata": {},
   "outputs": [
    {
     "ename": "AttributeError",
     "evalue": "'QIRRef' object has no attribute 'download_qir'",
     "output_type": "error",
     "traceback": [
      "\u001b[31m---------------------------------------------------------------------------\u001b[39m",
      "\u001b[31mAttributeError\u001b[39m                            Traceback (most recent call last)",
      "\u001b[36mCell\u001b[39m\u001b[36m \u001b[39m\u001b[32mIn[3]\u001b[39m\u001b[32m, line 18\u001b[39m\n\u001b[32m     13\u001b[39m qir_bytes = pytket_to_qir(circuit, name=\u001b[33m'\u001b[39m\u001b[33mqir\u001b[39m\u001b[33m'\u001b[39m)\n\u001b[32m     15\u001b[39m qir_ref = qnx.qir.upload(\n\u001b[32m     16\u001b[39m     qir=qir_bytes, name=\u001b[33m\"\u001b[39m\u001b[33mqir_program\u001b[39m\u001b[33m\"\u001b[39m, project=my_proj\n\u001b[32m     17\u001b[39m )\n\u001b[32m---> \u001b[39m\u001b[32m18\u001b[39m \u001b[43mqir_ref\u001b[49m\u001b[43m.\u001b[49m\u001b[43mdownload_qir\u001b[49m()\n",
      "\u001b[36mFile \u001b[39m\u001b[32m~/Documents/qnexus/.venv/lib/python3.12/site-packages/pydantic/main.py:891\u001b[39m, in \u001b[36mBaseModel.__getattr__\u001b[39m\u001b[34m(self, item)\u001b[39m\n\u001b[32m    888\u001b[39m     \u001b[38;5;28;01mreturn\u001b[39;00m \u001b[38;5;28msuper\u001b[39m().\u001b[34m__getattribute__\u001b[39m(item)  \u001b[38;5;66;03m# Raises AttributeError if appropriate\u001b[39;00m\n\u001b[32m    889\u001b[39m \u001b[38;5;28;01melse\u001b[39;00m:\n\u001b[32m    890\u001b[39m     \u001b[38;5;66;03m# this is the current error\u001b[39;00m\n\u001b[32m--> \u001b[39m\u001b[32m891\u001b[39m     \u001b[38;5;28;01mraise\u001b[39;00m \u001b[38;5;167;01mAttributeError\u001b[39;00m(\u001b[33mf\u001b[39m\u001b[33m'\u001b[39m\u001b[38;5;132;01m{\u001b[39;00m\u001b[38;5;28mtype\u001b[39m(\u001b[38;5;28mself\u001b[39m).\u001b[34m__name__\u001b[39m\u001b[38;5;132;01m!r}\u001b[39;00m\u001b[33m object has no attribute \u001b[39m\u001b[38;5;132;01m{\u001b[39;00mitem\u001b[38;5;132;01m!r}\u001b[39;00m\u001b[33m'\u001b[39m)\n",
      "\u001b[31mAttributeError\u001b[39m: 'QIRRef' object has no attribute 'download_qir'"
     ]
    }
   ],
   "source": [
    "import qnexus as qnx\n",
    "from pytket.circuit import Circuit\n",
    "from pytket.qir.conversion.api import QIRFormat, pytket_to_qir\n",
    "from qnexus.models.language import Language\n",
    "\n",
    "my_proj = qnx.projects.get_or_create(name=\"my qir project\")\n",
    "\n",
    "circuit = Circuit(2)\n",
    "circuit.H(0)\n",
    "circuit.CX(0, 1)\n",
    "circuit.measure_all()\n",
    "\n",
    "qir_bytes = pytket_to_qir(circuit, name='qir')\n",
    "\n",
    "qir_ref = qnx.qir.upload(\n",
    "    qir=qir_bytes, name=\"qir_program\", project=my_proj\n",
    ")\n",
    "qir_ref.download_qir()"
   ]
  },
  {
   "cell_type": "code",
   "execution_count": null,
   "id": "c27c7bf4",
   "metadata": {},
   "outputs": [],
   "source": []
  }
 ],
 "metadata": {
  "kernelspec": {
   "display_name": ".venv",
   "language": "python",
   "name": "python3"
  },
  "language_info": {
   "codemirror_mode": {
    "name": "ipython",
    "version": 3
   },
   "file_extension": ".py",
   "mimetype": "text/x-python",
   "name": "python",
   "nbconvert_exporter": "python",
   "pygments_lexer": "ipython3",
   "version": "3.12.7"
  }
 },
 "nbformat": 4,
 "nbformat_minor": 5
}
