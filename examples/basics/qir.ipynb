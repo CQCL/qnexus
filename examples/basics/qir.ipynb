{
 "cells": [
  {
   "cell_type": "code",
   "execution_count": 2,
   "id": "88deb2b7",
   "metadata": {},
   "outputs": [],
   "source": [
    "import qnexus as qnx\n",
    "from pytket.circuit import Circuit\n",
    "from pytket.qir.conversion.api import QIRFormat, pytket_to_qir\n",
    "from qnexus.models.language import Language\n",
    "\n",
    "my_proj = qnx.projects.get_or_create(name=\"my qir project\")\n",
    "\n",
    "circuit = Circuit(2)\n",
    "circuit.H(0)\n",
    "circuit.CX(0, 1)\n",
    "circuit.measure_all()\n",
    "\n",
    "qir_bytes = pytket_to_qir(circuit, name='qir')\n",
    "\n",
    "qir_ref = qnx.qir.upload(\n",
    "    qir=qir_bytes, name=\"qir_program\", project=my_proj\n",
    ")"
   ]
  },
  {
   "cell_type": "code",
   "execution_count": null,
   "id": "c27c7bf4",
   "metadata": {},
   "outputs": [],
   "source": []
  }
 ],
 "metadata": {
  "kernelspec": {
   "display_name": ".venv",
   "language": "python",
   "name": "python3"
  },
  "language_info": {
   "codemirror_mode": {
    "name": "ipython",
    "version": 3
   },
   "file_extension": ".py",
   "mimetype": "text/x-python",
   "name": "python",
   "nbconvert_exporter": "python",
   "pygments_lexer": "ipython3",
   "version": "3.12.7"
  }
 },
 "nbformat": 4,
 "nbformat_minor": 5
}
